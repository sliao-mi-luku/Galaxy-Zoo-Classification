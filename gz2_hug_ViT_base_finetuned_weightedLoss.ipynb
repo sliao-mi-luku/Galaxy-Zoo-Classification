{
  "cells": [
    {
      "cell_type": "markdown",
      "metadata": {
        "id": "TUO9qXMa17F-"
      },
      "source": [
        "# Galaxy Classification with Efficient Vision Transformer (Pytorch)"
      ]
    },
    {
      "cell_type": "markdown",
      "metadata": {
        "id": "S1y8Ta0p2BUj"
      },
      "source": [
        "**Vision Transformer implementation by HuggingFace**:\n",
        "\n",
        "1. https://huggingface.co/docs/transformers/model_doc/vit#transformers.ViTForImageClassification\n",
        "\n",
        "2. https://huggingface.co/google/vit-base-patch16-224\n",
        "\n",
        "3. https://aclanthology.org/2020.emnlp-demos.6/\n",
        "\n",
        "\n",
        "Data:\n",
        "\n",
        "https://www.kaggle.com/c/galaxy-zoo-the-galaxy-challenge\n",
        "\n",
        "\n"
      ]
    },
    {
      "cell_type": "markdown",
      "metadata": {
        "id": "xbvsPMIF2NM-"
      },
      "source": [
        "## Check GPU"
      ]
    },
    {
      "cell_type": "code",
      "execution_count": null,
      "metadata": {
        "colab": {
          "base_uri": "https://localhost:8080/"
        },
        "id": "cR4qPHGPzlQZ",
        "outputId": "cf2d56b3-abd9-4d01-8167-689b95c4de1a"
      },
      "outputs": [
        {
          "name": "stdout",
          "output_type": "stream",
          "text": [
            "GPU 0: Tesla V100-SXM2-16GB (UUID: GPU-7595e4d1-fd61-1016-08f5-9bc4bca3772c)\n"
          ]
        }
      ],
      "source": [
        "!nvidia-smi -L"
      ]
    },
    {
      "cell_type": "markdown",
      "metadata": {
        "id": "ApYE1Fx_2HWq"
      },
      "source": [
        "## Install Vision Transformer (ViT)"
      ]
    },
    {
      "cell_type": "code",
      "execution_count": null,
      "metadata": {
        "id": "re2zMtrMzhMF"
      },
      "outputs": [],
      "source": [
        "!pip install transformers"
      ]
    },
    {
      "cell_type": "markdown",
      "metadata": {
        "id": "j_WcSZnp2PRl"
      },
      "source": [
        "## Import Libraries"
      ]
    },
    {
      "cell_type": "code",
      "execution_count": null,
      "metadata": {
        "colab": {
          "base_uri": "https://localhost:8080/"
        },
        "id": "hB7gGvfa0IIn",
        "outputId": "6922ab49-b4d6-4576-9031-79f87c0d6772"
      },
      "outputs": [
        {
          "name": "stdout",
          "output_type": "stream",
          "text": [
            "cuda:0\n"
          ]
        }
      ],
      "source": [
        "import numpy as np\n",
        "import pandas as pd\n",
        "import matplotlib.pyplot as plt\n",
        "\n",
        "from PIL import Image\n",
        "from sklearn.model_selection import train_test_split\n",
        "from sklearn.metrics import confusion_matrix, accuracy_score, recall_score, f1_score\n",
        "import seaborn as sns\n",
        "\n",
        "import torch\n",
        "import torch.nn as nn\n",
        "from torch.utils.data import Dataset, DataLoader\n",
        "from torchvision import models, transforms, utils\n",
        "import torch.optim as optim\n",
        "from torch.optim import lr_scheduler\n",
        "\n",
        "import time\n",
        "import os\n",
        "import zipfile\n",
        "from copy import deepcopy\n",
        "\n",
        "%matplotlib inline\n",
        "\n",
        "device = torch.device(\"cuda:0\" if torch.cuda.is_available() else \"cpu\")\n",
        "print(device)\n",
        "\n",
        "# vision transformer\n",
        "from transformers import ViTModel, ViTConfig, ViTFeatureExtractor, ViTForImageClassification"
      ]
    },
    {
      "cell_type": "code",
      "execution_count": null,
      "metadata": {
        "colab": {
          "base_uri": "https://localhost:8080/"
        },
        "id": "0rDIIJkIxQc9",
        "outputId": "8f65ba28-4248-4a7e-d100-327f70134717"
      },
      "outputs": [
        {
          "data": {
            "text/plain": [
              "<torch._C.Generator at 0x7fed7d80cc10>"
            ]
          },
          "execution_count": 4,
          "metadata": {},
          "output_type": "execute_result"
        }
      ],
      "source": [
        "torch.manual_seed(0)"
      ]
    },
    {
      "cell_type": "markdown",
      "metadata": {
        "id": "4t4jV38S2VLk"
      },
      "source": [
        "## Unzip images\n"
      ]
    },
    {
      "cell_type": "code",
      "execution_count": null,
      "metadata": {
        "id": "Drc6IgZJ0JQ1"
      },
      "outputs": [],
      "source": [
        "## The unzipping function\n",
        "def unzipping(zip_file_name, dest_dir):\n",
        "    \"\"\"\n",
        "    Arguments\n",
        "        zip_file_name: (str) the file name of the zip file\n",
        "        dest_dir: (str) the name of the destination folder\n",
        "    \"\"\"\n",
        "    # check if the destination folder exists. Create one if not.\n",
        "    #if not os.path.exists(dest_dir):\n",
        "    #    os.makedirs(dest_dir)\n",
        "    \n",
        "    # unzipping\n",
        "    zip_f = zipfile.ZipFile(zip_file_name, 'r')\n",
        "    zip_f.extractall(path=dest_dir)\n",
        "    zip_f.close()"
      ]
    },
    {
      "cell_type": "markdown",
      "metadata": {
        "id": "3RobhNj3l_UR"
      },
      "source": [
        "#### Unzip from Google Drive"
      ]
    },
    {
      "cell_type": "code",
      "execution_count": null,
      "metadata": {
        "id": "mTPNOjVOmEYN"
      },
      "outputs": [],
      "source": [
        "## directory on Google Drive\n",
        "datasets_dir = 'drive/MyDrive/gz2_datasets'\n",
        "\n",
        "## Unzip training, validation, and test images\n",
        "unzipping(os.path.join(datasets_dir, 'images_train.zip'), './')\n",
        "unzipping(os.path.join(datasets_dir, 'images_valid.zip'), './')\n",
        "unzipping(os.path.join(datasets_dir, 'images_test.zip'), './')"
      ]
    },
    {
      "cell_type": "markdown",
      "metadata": {
        "id": "P_oRGGTk2aUM"
      },
      "source": [
        "## Custom Datasets"
      ]
    },
    {
      "cell_type": "code",
      "execution_count": null,
      "metadata": {
        "id": "Kw-QIg3w0NNZ"
      },
      "outputs": [],
      "source": [
        "## Custom Galaxy Zoo 2 Dataset\n",
        "class GalaxyZooDataset(Dataset):\n",
        "    \"\"\"Galaxy Zoo Dataset\"\"\"\n",
        "\n",
        "    def __init__(self, csv_file, images_dir, transform=None):\n",
        "        \"\"\"\n",
        "        Args:\n",
        "            csv_file (string): path to the label csv\n",
        "            images_dir (string): path to the dir containing all images\n",
        "            transform (callable, optional): transform to apply\n",
        "        \"\"\"\n",
        "        self.labels_df = pd.read_csv(csv_file)\n",
        "        self.labels_df = self.labels_df[['galaxyID', 'label1']].copy()\n",
        "\n",
        "        self.images_dir = images_dir\n",
        "        self.transform = transform\n",
        "    \n",
        "    def __len__(self):\n",
        "        \"\"\"\n",
        "        Returns the size of the dataset\n",
        "        \"\"\"\n",
        "        return len(self.labels_df)\n",
        "\n",
        "    def __getitem__(self, idx):\n",
        "        \"\"\"\n",
        "        Get the idx-th sample.\n",
        "\t\tOutputs the image (channel first) and the true label\n",
        "        \"\"\"\n",
        "        if torch.is_tensor(idx):\n",
        "            idx = idx.tolist()\n",
        "        \n",
        "        # galaxy ID\n",
        "        galaxyid = self.labels_df.iloc[idx, 0].astype(str)\n",
        "\t\t# path of the image\n",
        "        image_path = os.path.join(self.images_dir, galaxyid + '.jpg')\n",
        "\t\t# read the image\n",
        "        image = Image.open(image_path)\n",
        "\t\t# apply transform (optional)\n",
        "        if self.transform is not None:\n",
        "            image = self.transform(image)\n",
        "\t\t# read the true label\n",
        "        label = int(self.labels_df.iloc[idx, 1])\n",
        "\n",
        "        return image, label, int(galaxyid)"
      ]
    },
    {
      "cell_type": "markdown",
      "metadata": {
        "id": "buWKR4As2dQb"
      },
      "source": [
        "## Custom Transforms"
      ]
    },
    {
      "cell_type": "code",
      "execution_count": null,
      "metadata": {
        "id": "IqShZSWU0Npi"
      },
      "outputs": [],
      "source": [
        "def create_data_transforms(is_for_inception=False):\n",
        "    \"\"\"\n",
        "    Create Pytorch data transforms for the GalaxyZoo datasets.\n",
        "    Args:\n",
        "        is_for_inception (bool): True for inception neural networks\n",
        "    Outputs:\n",
        "        train_transform: transform for the training data\n",
        "        test_transform: transform for the testing data\n",
        "    \"\"\"\n",
        "    if is_for_inception:\n",
        "        input_size = 299\n",
        "    else:\n",
        "        input_size = 224\n",
        "\n",
        "    # transforms for training data\n",
        "    train_transform = transforms.Compose([transforms.CenterCrop(input_size),\n",
        "                                          transforms.RandomRotation(90),\n",
        "                                          transforms.RandomHorizontalFlip(),\n",
        "                                          transforms.RandomVerticalFlip(),\n",
        "                                          transforms.RandomResizedCrop(input_size, scale=(0.8, 1.0), ratio=(0.99, 1.01)),\n",
        "                                          transforms.ToTensor(),\n",
        "                                          transforms.Normalize([0.5, 0.5, 0.5], [0.5, 0.5, 0.5])])\n",
        "\n",
        "    # transforms for validation data\n",
        "    valid_transform = transforms.Compose([transforms.CenterCrop(input_size),\n",
        "                                          transforms.ToTensor(),\n",
        "                                          transforms.Normalize([0.5, 0.5, 0.5], [0.5, 0.5, 0.5])])\n",
        "\n",
        "    # transforms for test data\n",
        "    test_transform = transforms.Compose([transforms.CenterCrop(input_size),\n",
        "                                         transforms.ToTensor(),\n",
        "                                         transforms.Normalize([0.5, 0.5, 0.5], [0.5, 0.5, 0.5])])\n",
        "\n",
        "    \n",
        "    return train_transform, valid_transform, test_transform"
      ]
    },
    {
      "cell_type": "markdown",
      "metadata": {
        "id": "6RoYRv692wSk"
      },
      "source": [
        "## Create dataloaders"
      ]
    },
    {
      "cell_type": "code",
      "execution_count": null,
      "metadata": {
        "colab": {
          "base_uri": "https://localhost:8080/"
        },
        "id": "tX-8evCxvDPP",
        "outputId": "0d405fa4-13cc-449c-a693-f11cfddce46b"
      },
      "outputs": [
        {
          "name": "stdout",
          "output_type": "stream",
          "text": [
            "**Dataloaders**\n",
            "Number of training data: 99808 (1560 batches)\n",
            "Number of validation data: 24952 (390 batches)\n",
            "Number of test data: 31191 (488 batches)\n",
            "===============================\n"
          ]
        }
      ],
      "source": [
        "\"\"\"\n",
        "Data Loader\n",
        "\"\"\"\n",
        "# the batch size\n",
        "BATCH_SIZE = 64\n",
        "\n",
        "# create transforms\n",
        "train_transform, valid_transform, test_transform = create_data_transforms(is_for_inception=False)\n",
        "\n",
        "# create datasets\n",
        "data_train = GalaxyZooDataset('gz2_train.csv', 'images_train', train_transform)\n",
        "data_valid = GalaxyZooDataset('gz2_valid.csv', 'images_valid', valid_transform)\n",
        "data_test = GalaxyZooDataset('gz2_test.csv', 'images_test', test_transform)\n",
        "\n",
        "# dataloaders\n",
        "train_loader = DataLoader(data_train, batch_size=BATCH_SIZE, shuffle=True)\n",
        "valid_loader = DataLoader(data_valid, batch_size=BATCH_SIZE, shuffle=True)\n",
        "test_loader = DataLoader(data_test, batch_size=BATCH_SIZE, shuffle=True)\n",
        "\n",
        "# check the sizes\n",
        "print(\"**Dataloaders**\")\n",
        "print(\"Number of training data: {} ({} batches)\".format(len(data_train), len(train_loader)))\n",
        "print(\"Number of validation data: {} ({} batches)\".format(len(data_valid), len(valid_loader)))\n",
        "print(\"Number of test data: {} ({} batches)\".format(len(data_test), len(test_loader)))\n",
        "print(\"===============================\")"
      ]
    },
    {
      "cell_type": "markdown",
      "metadata": {
        "id": "nvqLzCpDmKsa"
      },
      "source": [
        "## Create ViT model"
      ]
    },
    {
      "cell_type": "code",
      "execution_count": null,
      "metadata": {
        "colab": {
          "base_uri": "https://localhost:8080/",
          "height": 148,
          "referenced_widgets": [
            "419b4eb1b10c4ebe8831f1ff6825d34c",
            "48ca90b836644f26b850e91a5124214c",
            "1c5aa0a4558d432c844ea66136bef7fe",
            "bedda0d7054949a286eac913cd7815c8",
            "08ae7e2ae6764dd69598e8ac7e110123",
            "3f3414923fea4c16ad78544a664f5041",
            "95eeac1a7e614fbb9cca6cce10d61a0b",
            "59b2312915b6413bb9a6d956361f216c",
            "30c8c5a5f94b46f5a45a3e2b7535d38d",
            "3351dae6444743088e4441a0f27da68a",
            "0d44239db64944cc927120b6ebc33e38",
            "da8c2e9f49d9435091b3f52349f04227",
            "4c53f5d34d5c4b4cbb3e9aa0bd009961",
            "d4957ae75b60445ea7f3b4b2f389eed9",
            "a6a5d229da8a4d43864e59e4223b5a32",
            "16290acd9e964c2ab61f98ceda6efd69",
            "d10e14fa0116431c8e1166f2569a2277",
            "2b2af1597c504cb38448f5835b141760",
            "de509f62509e4840871407db1bdf127a",
            "715f0e035d9446ae88df423f8ddc1c4e",
            "762205123b5c43f8a4edd0388f43d07f",
            "2fd8595ab5114a9d9190b6e59557d765",
            "92a6fe0498dd45af9ee825350b1193d8",
            "807cdbe308974376964ccf49f3baac22",
            "90607afcf7424c5bb491d05ae25d82f0",
            "aac8207950ad46b1ad59b3ce140cfc34",
            "2ac2882d989e45c28db6fff6142f6210",
            "936bdc58816842239d26be4ada3c234a",
            "d8c04a6057674986a847b5818af76d7b",
            "26374672b8ed41b8b92a1c179292f9e8",
            "b6b99e0109314f148c48662881c62721",
            "6400ac2798c2400bb4f894283df165ef",
            "603f7d01cef54d43b9d8fd96e0bdd2dc"
          ]
        },
        "id": "pyM3bV4zmHRw",
        "outputId": "a41682a7-a5aa-4a4e-b63a-90d14e60b004"
      },
      "outputs": [
        {
          "data": {
            "application/vnd.jupyter.widget-view+json": {
              "model_id": "419b4eb1b10c4ebe8831f1ff6825d34c",
              "version_major": 2,
              "version_minor": 0
            },
            "text/plain": [
              "Downloading:   0%|          | 0.00/160 [00:00<?, ?B/s]"
            ]
          },
          "metadata": {},
          "output_type": "display_data"
        },
        {
          "data": {
            "application/vnd.jupyter.widget-view+json": {
              "model_id": "da8c2e9f49d9435091b3f52349f04227",
              "version_major": 2,
              "version_minor": 0
            },
            "text/plain": [
              "Downloading:   0%|          | 0.00/68.0k [00:00<?, ?B/s]"
            ]
          },
          "metadata": {},
          "output_type": "display_data"
        },
        {
          "data": {
            "application/vnd.jupyter.widget-view+json": {
              "model_id": "92a6fe0498dd45af9ee825350b1193d8",
              "version_major": 2,
              "version_minor": 0
            },
            "text/plain": [
              "Downloading:   0%|          | 0.00/330M [00:00<?, ?B/s]"
            ]
          },
          "metadata": {},
          "output_type": "display_data"
        },
        {
          "name": "stdout",
          "output_type": "stream",
          "text": [
            "Number of trainable parameters: 86567656\n",
            "Number of trainable parameters: 85804808\n"
          ]
        }
      ],
      "source": [
        "## hyperparameter\n",
        "LR = 5e-5\n",
        "STEP_SIZE = 5\n",
        "GAMMA = 0.1\n",
        "MAX_EPOCH = 200\n",
        "class_weights = torch.FloatTensor([0.19, 0.21, 0.98, 0.38, 0.53, 0.66, 1.81, 3.23]).to(device)\n",
        "\n",
        "## file name\n",
        "model_name = \"gz2_hug_vit_012322_weighted\"\n",
        "\n",
        "## Vision Transformer\n",
        "feature_extractor = ViTFeatureExtractor.from_pretrained('google/vit-base-patch16-224')\n",
        "model = ViTForImageClassification.from_pretrained('google/vit-base-patch16-224')\n",
        "\n",
        "print(\"Number of trainable parameters: {}\".format(sum(param.numel() for param in model.parameters() if param.requires_grad)))\n",
        "\n",
        "# freeze the weights\n",
        "#for param in model.parameters():\n",
        "#    param.requires_grad = False\n",
        "\n",
        "# change the last layer\n",
        "model.classifier = nn.Linear(in_features=768, out_features=8, bias=True)\n",
        "\n",
        "print(\"Number of trainable parameters: {}\".format(sum(param.numel() for param in model.parameters() if param.requires_grad)))"
      ]
    },
    {
      "cell_type": "markdown",
      "metadata": {
        "id": "hAigxq7N2i-i"
      },
      "source": [
        "## Training Function"
      ]
    },
    {
      "cell_type": "code",
      "execution_count": null,
      "metadata": {
        "id": "z_7lA_8q0Qwi"
      },
      "outputs": [],
      "source": [
        "def train_model(model, num_epochs, criterion, optimizer, scheduler, print_every=1, early_stop_epochs=10):\n",
        "    \"\"\"\n",
        "    Train the model\n",
        "    Args:\n",
        "        model: Pytorch neural model\n",
        "        num_epochs: number of epochs to train\n",
        "        criterion: the loss function object\n",
        "        optimizer: the optimizer\n",
        "        scheduler: the learning rate decay scheduler\n",
        "        print_every: print the information every X epochs\n",
        "        early_stop_epochs: early stopping if the model doesn't improve after X epochs\n",
        "    \"\"\"\n",
        "    # cache the best model\n",
        "    best_model_weights = deepcopy(model.state_dict())\n",
        "    # best train acc\n",
        "    best_train_acc = 0.0\n",
        "    # best valid acc\n",
        "    best_valid_acc = 0.0\n",
        "    # best epoch\n",
        "    best_epoch = -1    \n",
        "\n",
        "    # intiate dict to records the history of loss and acc\n",
        "    history_dic = dict()\n",
        "    history_dic['train_loss'] = []\n",
        "    history_dic['train_acc'] = []\n",
        "    history_dic['valid_loss'] = []\n",
        "    history_dic['valid_acc'] = []\n",
        "    history_dic['lr'] = []\n",
        "\n",
        "    for epoch in range(num_epochs):\n",
        "        # time of start\n",
        "        epoch_start_time = time.time()\n",
        "\n",
        "        \"\"\"\n",
        "        Train\n",
        "        \"\"\"\n",
        "        model.train()\n",
        "\n",
        "        epoch_train_cum_loss = 0.0\n",
        "        epoch_train_cum_corrects = 0\n",
        "        \n",
        "        for images, labels, _ in train_loader:\n",
        "            images = images.to(device)\n",
        "            labels = labels.long().to(device)\n",
        "\n",
        "            optimizer.zero_grad()\n",
        "            \n",
        "            outputs = model(images)\n",
        "            pred_logits = outputs.logits\n",
        "            loss = criterion(pred_logits, labels)\n",
        "\n",
        "            _, pred_classes = torch.max(pred_logits.detach(), dim=1)\n",
        "            pred_classes = pred_classes.long()\n",
        "\n",
        "            epoch_train_cum_loss += loss.item() * images.size(0)\n",
        "            epoch_train_cum_corrects += torch.sum(pred_classes==labels.data).detach().to('cpu').item()\n",
        "\n",
        "            loss.backward()\n",
        "            optimizer.step()\n",
        "            \n",
        "        \"\"\"\n",
        "        Eval\n",
        "        \"\"\"\n",
        "        model.eval()\n",
        "\n",
        "        epoch_valid_cum_loss = 0.0\n",
        "        epoch_valid_cum_corrects = 0\n",
        "\n",
        "        for images, labels, _ in valid_loader:\n",
        "            images = images.to(device)\n",
        "            labels = labels.long().to(device)\n",
        "\n",
        "            with torch.no_grad():\n",
        "                outputs = model(images)\n",
        "                pred_logits = outputs.logits\n",
        "                _, pred_classes = torch.max(pred_logits.detach(), dim=1)\n",
        "                loss = criterion(pred_logits, labels)\n",
        "\n",
        "                epoch_valid_cum_loss += loss.item() * images.size(0)\n",
        "                epoch_valid_cum_corrects += torch.sum(pred_classes==labels.data).detach().to('cpu').item()\n",
        "\n",
        "        ## Calculate metrics\n",
        "        train_loss = epoch_train_cum_loss / len(data_train)\n",
        "        train_acc = epoch_train_cum_corrects / len(data_train)\n",
        "        valid_loss = epoch_valid_cum_loss / len(data_valid)\n",
        "        valid_acc = epoch_valid_cum_corrects / len(data_valid)\n",
        "\n",
        "        # update history_dic\n",
        "        history_dic['train_loss'].append(train_loss)\n",
        "        history_dic['train_acc'].append(train_acc)\n",
        "        history_dic['valid_loss'].append(valid_loss)\n",
        "        history_dic['valid_acc'].append(valid_acc)\n",
        "        history_dic['lr'].append(scheduler.get_last_lr()[0])\n",
        "\n",
        "        # check if is the best acc ever\n",
        "        if valid_acc > best_valid_acc:\n",
        "            best_train_acc = train_acc\n",
        "            best_valid_acc = valid_acc\n",
        "            best_epoch = epoch + 1\n",
        "            # update the best model weights\n",
        "            best_model_weights = deepcopy(model.state_dict())\n",
        "            # save the best model weights to Google drive\n",
        "            torch.save(model.state_dict(), os.path.join('drive/MyDrive/gz2_datasets', model_name + \"_cache.pth\"))\n",
        "\n",
        "        epoch_end_time = time.time()\n",
        "        epoch_time_used = epoch_end_time - epoch_start_time\n",
        "        # convert epoch_time_used into mm:ss\n",
        "        mm = epoch_time_used // 60\n",
        "        ss = epoch_time_used % 60\n",
        "\n",
        "        ## Print metrics\n",
        "        if (epoch+1) % print_every == 0:\n",
        "\n",
        "            # if is best valid acc\n",
        "            if epoch == (best_epoch - 1):\n",
        "                print(\"Epoch {}/{}\\tTrain loss: {:.4f}\\tTrain acc: {:.4f}\\tValid loss: {:.4f}\\tValid acc: {:.4f}\\tTime: {:.0f}m {:.0f}s\\t<--\".format(\n",
        "                    epoch+1, num_epochs, train_loss, train_acc, valid_loss, valid_acc, mm, ss))\n",
        "            # not a better model\n",
        "            else:\n",
        "                print(\"Epoch {}/{}\\tTrain loss: {:.4f}\\tTrain acc: {:.4f}\\tValid loss: {:.4f}\\tValid acc: {:.4f}\\tTime: {:.0f}m {:.0f}s\".format(\n",
        "                    epoch+1, num_epochs, train_loss, train_acc, valid_loss, valid_acc, mm, ss))\n",
        "            \n",
        "        ## Early stopping\n",
        "        if (epoch+1) - best_epoch >= early_stop_epochs:\n",
        "            print(\"Early stopping... (Model did not improve after {} epochs)\".format(early_stop_epochs))\n",
        "            break\n",
        "        \n",
        "        scheduler.step()\n",
        "    \n",
        "    # load the best weights into the model\n",
        "    model.load_state_dict(best_model_weights)\n",
        "    # print the best epoch\n",
        "    print(\"Best epoch = {}, with training accuracy = {:.4f} and validation accuracy = {:.4f}\".format(best_epoch, best_train_acc, best_valid_acc))\n",
        "\n",
        "    # return the best model\n",
        "    return model, history_dic"
      ]
    },
    {
      "cell_type": "markdown",
      "metadata": {
        "id": "Zkn_bVLJloPn"
      },
      "source": [
        "## Train the model"
      ]
    },
    {
      "cell_type": "code",
      "execution_count": null,
      "metadata": {
        "colab": {
          "background_save": true
        },
        "id": "DMKMFnZllpkj",
        "outputId": "ad4f56db-be9f-408e-d9a7-562aa85364d1"
      },
      "outputs": [
        {
          "name": "stdout",
          "output_type": "stream",
          "text": [
            "Epoch 1/200\tTrain loss: 0.7663\tTrain acc: 0.7294\tValid loss: 0.6358\tValid acc: 0.7596\tTime: 29m 57s\t<--\n",
            "Epoch 2/200\tTrain loss: 0.6169\tTrain acc: 0.7763\tValid loss: 0.6004\tValid acc: 0.7825\tTime: 29m 31s\t<--\n",
            "Epoch 3/200\tTrain loss: 0.5727\tTrain acc: 0.7886\tValid loss: 0.5863\tValid acc: 0.7573\tTime: 29m 25s\n",
            "Epoch 4/200\tTrain loss: 0.5410\tTrain acc: 0.7955\tValid loss: 0.5718\tValid acc: 0.7712\tTime: 29m 17s\n",
            "Epoch 5/200\tTrain loss: 0.5144\tTrain acc: 0.8027\tValid loss: 0.5782\tValid acc: 0.8024\tTime: 29m 17s\t<--\n",
            "Epoch 6/200\tTrain loss: 0.4248\tTrain acc: 0.8305\tValid loss: 0.5314\tValid acc: 0.8181\tTime: 29m 29s\t<--\n",
            "Epoch 7/200\tTrain loss: 0.3989\tTrain acc: 0.8389\tValid loss: 0.5329\tValid acc: 0.8171\tTime: 29m 22s\n",
            "Epoch 8/200\tTrain loss: 0.3867\tTrain acc: 0.8425\tValid loss: 0.5299\tValid acc: 0.8214\tTime: 29m 26s\t<--\n",
            "Epoch 9/200\tTrain loss: 0.3763\tTrain acc: 0.8455\tValid loss: 0.5409\tValid acc: 0.8164\tTime: 29m 28s\n",
            "Epoch 10/200\tTrain loss: 0.3660\tTrain acc: 0.8467\tValid loss: 0.5416\tValid acc: 0.8218\tTime: 29m 10s\t<--\n",
            "Epoch 11/200\tTrain loss: 0.3502\tTrain acc: 0.8524\tValid loss: 0.5386\tValid acc: 0.8230\tTime: 27m 46s\t<--\n",
            "Epoch 12/200\tTrain loss: 0.3459\tTrain acc: 0.8538\tValid loss: 0.5363\tValid acc: 0.8228\tTime: 27m 51s\n",
            "Epoch 13/200\tTrain loss: 0.3475\tTrain acc: 0.8543\tValid loss: 0.5368\tValid acc: 0.8240\tTime: 27m 53s\t<--\n",
            "Epoch 14/200\tTrain loss: 0.3440\tTrain acc: 0.8544\tValid loss: 0.5392\tValid acc: 0.8240\tTime: 27m 51s\n",
            "Epoch 15/200\tTrain loss: 0.3445\tTrain acc: 0.8543\tValid loss: 0.5360\tValid acc: 0.8242\tTime: 27m 52s\t<--\n",
            "Epoch 16/200\tTrain loss: 0.3415\tTrain acc: 0.8562\tValid loss: 0.5385\tValid acc: 0.8239\tTime: 27m 42s\n",
            "Epoch 17/200\tTrain loss: 0.3412\tTrain acc: 0.8549\tValid loss: 0.5413\tValid acc: 0.8240\tTime: 27m 48s\n",
            "Epoch 18/200\tTrain loss: 0.3397\tTrain acc: 0.8564\tValid loss: 0.5416\tValid acc: 0.8239\tTime: 27m 40s\n",
            "Epoch 19/200\tTrain loss: 0.3424\tTrain acc: 0.8560\tValid loss: 0.5403\tValid acc: 0.8237\tTime: 27m 34s\n",
            "Epoch 20/200\tTrain loss: 0.3402\tTrain acc: 0.8554\tValid loss: 0.5414\tValid acc: 0.8241\tTime: 27m 35s\n",
            "Epoch 21/200\tTrain loss: 0.3423\tTrain acc: 0.8554\tValid loss: 0.5409\tValid acc: 0.8241\tTime: 27m 20s\n",
            "Epoch 22/200\tTrain loss: 0.3399\tTrain acc: 0.8552\tValid loss: 0.5400\tValid acc: 0.8241\tTime: 27m 19s\n",
            "Epoch 23/200\tTrain loss: 0.3425\tTrain acc: 0.8555\tValid loss: 0.5382\tValid acc: 0.8241\tTime: 27m 20s\n",
            "Epoch 24/200\tTrain loss: 0.3405\tTrain acc: 0.8553\tValid loss: 0.5398\tValid acc: 0.8241\tTime: 27m 10s\n",
            "Epoch 25/200\tTrain loss: 0.3406\tTrain acc: 0.8551\tValid loss: 0.5395\tValid acc: 0.8242\tTime: 28m 23s\n",
            "Early stopping... (Model did not improve after 10 epochs)\n",
            "Best epoch = 15, with training accuracy = 0.8543 and validation accuracy = 0.8242\n"
          ]
        }
      ],
      "source": [
        "# move to gpu\n",
        "model = model.to(device)\n",
        "\n",
        "# loss function\n",
        "criterion = nn.CrossEntropyLoss(weight=class_weights)\n",
        "\n",
        "# optimizer\n",
        "optimizer = optim.Adam(model.parameters(), lr=LR)\n",
        "\n",
        "# scheduler\n",
        "scheduler = lr_scheduler.StepLR(optimizer, step_size=STEP_SIZE, gamma=GAMMA)\n",
        "\n",
        "## train and return the best model\n",
        "model, history_dic = train_model(model, MAX_EPOCH, criterion, optimizer, scheduler, print_every=1, early_stop_epochs=10)\n",
        "\n",
        "## Save the best weights\n",
        "torch.save(model.state_dict(), model_name + '.pth')\n",
        "torch.save(model.state_dict(), os.path.join('drive/MyDrive/gz2_datasets', model_name + '.pth'))\n",
        "\n",
        "## Convert history to dataframe\n",
        "history_df = pd.DataFrame(history_dic)\n",
        "\n",
        "## Save the history\n",
        "history_df.to_csv(model_name + '_history.csv', index=False)\n",
        "history_df.to_csv(os.path.join('drive/MyDrive/gz2_datasets', model_name + '_history.csv'), index=False)"
      ]
    },
    {
      "cell_type": "markdown",
      "metadata": {
        "id": "FLS4yjP4iiGy"
      },
      "source": [
        "## Predict test data"
      ]
    },
    {
      "cell_type": "code",
      "execution_count": null,
      "metadata": {
        "colab": {
          "background_save": true
        },
        "id": "71XJYQoYify8"
      },
      "outputs": [],
      "source": [
        "def predict_model(model):\n",
        "    \"\"\"\n",
        "    Predict test data\n",
        "    \"\"\"\n",
        "    # evaluation\n",
        "    model.eval()\n",
        "\n",
        "    # empty lists for results\n",
        "    y_true = []\n",
        "    y_pred = []\n",
        "    y_label = []\n",
        "\n",
        "    for images, labels, galaxy_id in test_loader:\n",
        "        images = images.to(device)\n",
        "        labels = labels.long().to(device)\n",
        "\n",
        "        with torch.no_grad():\n",
        "            outputs = model(images)\n",
        "            pred_logits = outputs.logits\n",
        "            _, pred_classes = torch.max(pred_logits.detach(), dim=1)\n",
        "\n",
        "            y_true += torch.squeeze(labels.cpu()).tolist()\n",
        "            y_pred += torch.squeeze(pred_classes).tolist()\n",
        "            y_label += torch.squeeze(galaxy_id.cpu()).tolist()\n",
        "    \n",
        "    # create a DataFrame with columns 'GalaxyID', 'class', 'predicted labels'\n",
        "    predict_df = pd.DataFrame(data={'GalaxyID': y_label, 'class': y_true, 'pred': y_pred})\n",
        "\n",
        "    return y_true, y_pred, predict_df"
      ]
    },
    {
      "cell_type": "code",
      "execution_count": null,
      "metadata": {
        "colab": {
          "background_save": true
        },
        "id": "IWQgOZwZi_zA"
      },
      "outputs": [],
      "source": [
        "# move to gpu\n",
        "model = model.to(device)\n",
        "\n",
        "# model evaluation\n",
        "y_true, y_pred, predict_df = predict_model(model)\n",
        "\n",
        "# save predict_df\n",
        "predict_df.to_csv(model_name + '_predictions.csv', index=False)\n",
        "predict_df.to_csv(os.path.join('drive/MyDrive/gz2_datasets', model_name + '_predictions.csv'), index=False)"
      ]
    },
    {
      "cell_type": "code",
      "execution_count": null,
      "metadata": {
        "colab": {
          "background_save": true
        },
        "id": "MmXm1ErYjN3R",
        "outputId": "a8ebcd0f-698d-460d-8f8b-69b9d58c74a6"
      },
      "outputs": [
        {
          "data": {
            "text/html": [
              "\n",
              "  <div id=\"df-9eac4fa3-1e13-419e-8d11-12e22c3afe65\">\n",
              "    <div class=\"colab-df-container\">\n",
              "      <div>\n",
              "<style scoped>\n",
              "    .dataframe tbody tr th:only-of-type {\n",
              "        vertical-align: middle;\n",
              "    }\n",
              "\n",
              "    .dataframe tbody tr th {\n",
              "        vertical-align: top;\n",
              "    }\n",
              "\n",
              "    .dataframe thead th {\n",
              "        text-align: right;\n",
              "    }\n",
              "</style>\n",
              "<table border=\"1\" class=\"dataframe\">\n",
              "  <thead>\n",
              "    <tr style=\"text-align: right;\">\n",
              "      <th></th>\n",
              "      <th>GalaxyID</th>\n",
              "      <th>class</th>\n",
              "      <th>pred</th>\n",
              "    </tr>\n",
              "  </thead>\n",
              "  <tbody>\n",
              "    <tr>\n",
              "      <th>0</th>\n",
              "      <td>143913</td>\n",
              "      <td>1</td>\n",
              "      <td>1</td>\n",
              "    </tr>\n",
              "    <tr>\n",
              "      <th>1</th>\n",
              "      <td>163557</td>\n",
              "      <td>5</td>\n",
              "      <td>0</td>\n",
              "    </tr>\n",
              "    <tr>\n",
              "      <th>2</th>\n",
              "      <td>30960</td>\n",
              "      <td>1</td>\n",
              "      <td>1</td>\n",
              "    </tr>\n",
              "    <tr>\n",
              "      <th>3</th>\n",
              "      <td>269806</td>\n",
              "      <td>5</td>\n",
              "      <td>5</td>\n",
              "    </tr>\n",
              "    <tr>\n",
              "      <th>4</th>\n",
              "      <td>274023</td>\n",
              "      <td>1</td>\n",
              "      <td>1</td>\n",
              "    </tr>\n",
              "  </tbody>\n",
              "</table>\n",
              "</div>\n",
              "      <button class=\"colab-df-convert\" onclick=\"convertToInteractive('df-9eac4fa3-1e13-419e-8d11-12e22c3afe65')\"\n",
              "              title=\"Convert this dataframe to an interactive table.\"\n",
              "              style=\"display:none;\">\n",
              "        \n",
              "  <svg xmlns=\"http://www.w3.org/2000/svg\" height=\"24px\"viewBox=\"0 0 24 24\"\n",
              "       width=\"24px\">\n",
              "    <path d=\"M0 0h24v24H0V0z\" fill=\"none\"/>\n",
              "    <path d=\"M18.56 5.44l.94 2.06.94-2.06 2.06-.94-2.06-.94-.94-2.06-.94 2.06-2.06.94zm-11 1L8.5 8.5l.94-2.06 2.06-.94-2.06-.94L8.5 2.5l-.94 2.06-2.06.94zm10 10l.94 2.06.94-2.06 2.06-.94-2.06-.94-.94-2.06-.94 2.06-2.06.94z\"/><path d=\"M17.41 7.96l-1.37-1.37c-.4-.4-.92-.59-1.43-.59-.52 0-1.04.2-1.43.59L10.3 9.45l-7.72 7.72c-.78.78-.78 2.05 0 2.83L4 21.41c.39.39.9.59 1.41.59.51 0 1.02-.2 1.41-.59l7.78-7.78 2.81-2.81c.8-.78.8-2.07 0-2.86zM5.41 20L4 18.59l7.72-7.72 1.47 1.35L5.41 20z\"/>\n",
              "  </svg>\n",
              "      </button>\n",
              "      \n",
              "  <style>\n",
              "    .colab-df-container {\n",
              "      display:flex;\n",
              "      flex-wrap:wrap;\n",
              "      gap: 12px;\n",
              "    }\n",
              "\n",
              "    .colab-df-convert {\n",
              "      background-color: #E8F0FE;\n",
              "      border: none;\n",
              "      border-radius: 50%;\n",
              "      cursor: pointer;\n",
              "      display: none;\n",
              "      fill: #1967D2;\n",
              "      height: 32px;\n",
              "      padding: 0 0 0 0;\n",
              "      width: 32px;\n",
              "    }\n",
              "\n",
              "    .colab-df-convert:hover {\n",
              "      background-color: #E2EBFA;\n",
              "      box-shadow: 0px 1px 2px rgba(60, 64, 67, 0.3), 0px 1px 3px 1px rgba(60, 64, 67, 0.15);\n",
              "      fill: #174EA6;\n",
              "    }\n",
              "\n",
              "    [theme=dark] .colab-df-convert {\n",
              "      background-color: #3B4455;\n",
              "      fill: #D2E3FC;\n",
              "    }\n",
              "\n",
              "    [theme=dark] .colab-df-convert:hover {\n",
              "      background-color: #434B5C;\n",
              "      box-shadow: 0px 1px 3px 1px rgba(0, 0, 0, 0.15);\n",
              "      filter: drop-shadow(0px 1px 2px rgba(0, 0, 0, 0.3));\n",
              "      fill: #FFFFFF;\n",
              "    }\n",
              "  </style>\n",
              "\n",
              "      <script>\n",
              "        const buttonEl =\n",
              "          document.querySelector('#df-9eac4fa3-1e13-419e-8d11-12e22c3afe65 button.colab-df-convert');\n",
              "        buttonEl.style.display =\n",
              "          google.colab.kernel.accessAllowed ? 'block' : 'none';\n",
              "\n",
              "        async function convertToInteractive(key) {\n",
              "          const element = document.querySelector('#df-9eac4fa3-1e13-419e-8d11-12e22c3afe65');\n",
              "          const dataTable =\n",
              "            await google.colab.kernel.invokeFunction('convertToInteractive',\n",
              "                                                     [key], {});\n",
              "          if (!dataTable) return;\n",
              "\n",
              "          const docLinkHtml = 'Like what you see? Visit the ' +\n",
              "            '<a target=\"_blank\" href=https://colab.research.google.com/notebooks/data_table.ipynb>data table notebook</a>'\n",
              "            + ' to learn more about interactive tables.';\n",
              "          element.innerHTML = '';\n",
              "          dataTable['output_type'] = 'display_data';\n",
              "          await google.colab.output.renderOutput(dataTable, element);\n",
              "          const docLink = document.createElement('div');\n",
              "          docLink.innerHTML = docLinkHtml;\n",
              "          element.appendChild(docLink);\n",
              "        }\n",
              "      </script>\n",
              "    </div>\n",
              "  </div>\n",
              "  "
            ],
            "text/plain": [
              "   GalaxyID  class  pred\n",
              "0    143913      1     1\n",
              "1    163557      5     0\n",
              "2     30960      1     1\n",
              "3    269806      5     5\n",
              "4    274023      1     1"
            ]
          },
          "execution_count": null,
          "metadata": {},
          "output_type": "execute_result"
        }
      ],
      "source": [
        "predict_df.head()"
      ]
    },
    {
      "cell_type": "markdown",
      "metadata": {
        "id": "0q19rCq1Lzob"
      },
      "source": [
        "## Evaluation metrics\n"
      ]
    },
    {
      "cell_type": "code",
      "execution_count": null,
      "metadata": {
        "colab": {
          "background_save": true
        },
        "id": "JBFME7_ELxxX",
        "outputId": "51ccf592-d52e-47ae-df84-40e5b7b9de9c"
      },
      "outputs": [
        {
          "name": "stdout",
          "output_type": "stream",
          "text": [
            "Class 0: accuracy = 0.8580 (Round Elliptical)\n",
            "Class 1: accuracy = 0.8083 (In-between Elliptical)\n",
            "Class 2: accuracy = 0.8552 (Cigar-shaped Elliptical)\n",
            "Class 3: accuracy = 0.8446 (Edge-on Spiral)\n",
            "Class 4: accuracy = 0.8257 (Barred Spiral)\n",
            "Class 5: accuracy = 0.8267 (Unbarred Spiral)\n",
            "Class 6: accuracy = 0.7253 (Irregular)\n",
            "Class 7: accuracy = 0.7740 (Merger)\n",
            "================\n",
            "Total Accuracy = 0.8275\n",
            "\n",
            "Recall = 0.8147\n",
            "\n",
            "F1 score = 0.7836\n",
            "\n"
          ]
        },
        {
          "data": {
            "image/png": "[encoded data removed]",
            "text/plain": [
              "<Figure size 720x720 with 1 Axes>"
            ]
          },
          "metadata": {},
          "output_type": "display_data"
        }
      ],
      "source": [
        "# galaxy classes\n",
        "gxy_labels = ['Round Elliptical',\n",
        "              'In-between Elliptical',\n",
        "              'Cigar-shaped Elliptical',\n",
        "              'Edge-on Spiral',\n",
        "              'Barred Spiral',\n",
        "              'Unbarred Spiral',\n",
        "              'Irregular',\n",
        "              'Merger']\n",
        "\n",
        "# confusion matrix\n",
        "cm = confusion_matrix(y_true, y_pred, normalize='true')\n",
        "cm_df = pd.DataFrame(cm, index=gxy_labels, columns=gxy_labels)\n",
        "\n",
        "# accuracy of each class\n",
        "for c in range(8):\n",
        "    print(\"Class {}: accuracy = {:.4f} ({})\".format(c, cm[c,c]/sum(cm[c,:]), gxy_labels[c]))\n",
        "print(\"================\")\n",
        "\n",
        "# accuracy\n",
        "acc = accuracy_score(y_true, y_pred)\n",
        "print(\"Total Accuracy = {:.4f}\\n\".format(acc))\n",
        "\n",
        "# recall\n",
        "recall = recall_score(y_true, y_pred, average='macro')\n",
        "print(\"Recall = {:.4f}\\n\".format(recall))\n",
        "\n",
        "# f1 score\n",
        "F1 = f1_score(y_true, y_pred, average='macro')\n",
        "print(\"F1 score = {:.4f}\\n\".format(F1))\n",
        "\n",
        "# plot confusion matrix\n",
        "sns.set(font_scale=1.6)\n",
        "fig = plt.figure(figsize=(10, 10))\n",
        "sns.heatmap(cm_df, annot=True, fmt=\".1%\", cmap=\"YlGnBu\", cbar=False, annot_kws={\"size\": 16})\n",
        "plt.show()"
      ]
    },
    {
      "cell_type": "code",
      "execution_count": null,
      "metadata": {
        "colab": {
          "background_save": true
        },
        "id": "PGhofCjk3J7W"
      },
      "outputs": [],
      "source": [
        ""
      ]
    }
  ],
  "metadata": {
    "accelerator": "GPU",
    "colab": {
      "collapsed_sections": [],
      "name": "gz2_hug_ViT_base_finetuned_weightedLoss.ipynb",
      "provenance": []
    },
    "kernelspec": {
      "display_name": "Python 3",
      "name": "python3"
    },
    "language_info": {
      "name": "python"
    },
    "widgets": {
      "application/vnd.jupyter.widget-state+json": {
        "08ae7e2ae6764dd69598e8ac7e110123": {
          "model_module": "@jupyter-widgets/base",
          "model_module_version": "1.2.0",
          "model_name": "LayoutModel",
          "state": {
            "_model_module": "@jupyter-widgets/base",
            "_model_module_version": "1.2.0",
            "_model_name": "LayoutModel",
            "_view_count": null,
            "_view_module": "@jupyter-widgets/base",
            "_view_module_version": "1.2.0",
            "_view_name": "LayoutView",
            "align_content": null,
            "align_items": null,
            "align_self": null,
            "border": null,
            "bottom": null,
            "display": null,
            "flex": null,
            "flex_flow": null,
            "grid_area": null,
            "grid_auto_columns": null,
            "grid_auto_flow": null,
            "grid_auto_rows": null,
            "grid_column": null,
            "grid_gap": null,
            "grid_row": null,
            "grid_template_areas": null,
            "grid_template_columns": null,
            "grid_template_rows": null,
            "height": null,
            "justify_content": null,
            "justify_items": null,
            "left": null,
            "margin": null,
            "max_height": null,
            "max_width": null,
            "min_height": null,
            "min_width": null,
            "object_fit": null,
            "object_position": null,
            "order": null,
            "overflow": null,
            "overflow_x": null,
            "overflow_y": null,
            "padding": null,
            "right": null,
            "top": null,
            "visibility": null,
            "width": null
          }
        },
        "0d44239db64944cc927120b6ebc33e38": {
          "model_module": "@jupyter-widgets/controls",
          "model_module_version": "1.5.0",
          "model_name": "DescriptionStyleModel",
          "state": {
            "_model_module": "@jupyter-widgets/controls",
            "_model_module_version": "1.5.0",
            "_model_name": "DescriptionStyleModel",
            "_view_count": null,
            "_view_module": "@jupyter-widgets/base",
            "_view_module_version": "1.2.0",
            "_view_name": "StyleView",
            "description_width": ""
          }
        },
        "16290acd9e964c2ab61f98ceda6efd69": {
          "model_module": "@jupyter-widgets/base",
          "model_module_version": "1.2.0",
          "model_name": "LayoutModel",
          "state": {
            "_model_module": "@jupyter-widgets/base",
            "_model_module_version": "1.2.0",
            "_model_name": "LayoutModel",
            "_view_count": null,
            "_view_module": "@jupyter-widgets/base",
            "_view_module_version": "1.2.0",
            "_view_name": "LayoutView",
            "align_content": null,
            "align_items": null,
            "align_self": null,
            "border": null,
            "bottom": null,
            "display": null,
            "flex": null,
            "flex_flow": null,
            "grid_area": null,
            "grid_auto_columns": null,
            "grid_auto_flow": null,
            "grid_auto_rows": null,
            "grid_column": null,
            "grid_gap": null,
            "grid_row": null,
            "grid_template_areas": null,
            "grid_template_columns": null,
            "grid_template_rows": null,
            "height": null,
            "justify_content": null,
            "justify_items": null,
            "left": null,
            "margin": null,
            "max_height": null,
            "max_width": null,
            "min_height": null,
            "min_width": null,
            "object_fit": null,
            "object_position": null,
            "order": null,
            "overflow": null,
            "overflow_x": null,
            "overflow_y": null,
            "padding": null,
            "right": null,
            "top": null,
            "visibility": null,
            "width": null
          }
        },
        "1c5aa0a4558d432c844ea66136bef7fe": {
          "model_module": "@jupyter-widgets/controls",
          "model_module_version": "1.5.0",
          "model_name": "FloatProgressModel",
          "state": {
            "_dom_classes": [],
            "_model_module": "@jupyter-widgets/controls",
            "_model_module_version": "1.5.0",
            "_model_name": "FloatProgressModel",
            "_view_count": null,
            "_view_module": "@jupyter-widgets/controls",
            "_view_module_version": "1.5.0",
            "_view_name": "ProgressView",
            "bar_style": "success",
            "description": "",
            "description_tooltip": null,
            "layout": "IPY_MODEL_59b2312915b6413bb9a6d956361f216c",
            "max": 160,
            "min": 0,
            "orientation": "horizontal",
            "style": "IPY_MODEL_30c8c5a5f94b46f5a45a3e2b7535d38d",
            "value": 160
          }
        },
        "26374672b8ed41b8b92a1c179292f9e8": {
          "model_module": "@jupyter-widgets/base",
          "model_module_version": "1.2.0",
          "model_name": "LayoutModel",
          "state": {
            "_model_module": "@jupyter-widgets/base",
            "_model_module_version": "1.2.0",
            "_model_name": "LayoutModel",
            "_view_count": null,
            "_view_module": "@jupyter-widgets/base",
            "_view_module_version": "1.2.0",
            "_view_name": "LayoutView",
            "align_content": null,
            "align_items": null,
            "align_self": null,
            "border": null,
            "bottom": null,
            "display": null,
            "flex": null,
            "flex_flow": null,
            "grid_area": null,
            "grid_auto_columns": null,
            "grid_auto_flow": null,
            "grid_auto_rows": null,
            "grid_column": null,
            "grid_gap": null,
            "grid_row": null,
            "grid_template_areas": null,
            "grid_template_columns": null,
            "grid_template_rows": null,
            "height": null,
            "justify_content": null,
            "justify_items": null,
            "left": null,
            "margin": null,
            "max_height": null,
            "max_width": null,
            "min_height": null,
            "min_width": null,
            "object_fit": null,
            "object_position": null,
            "order": null,
            "overflow": null,
            "overflow_x": null,
            "overflow_y": null,
            "padding": null,
            "right": null,
            "top": null,
            "visibility": null,
            "width": null
          }
        },
        "2ac2882d989e45c28db6fff6142f6210": {
          "model_module": "@jupyter-widgets/base",
          "model_module_version": "1.2.0",
          "model_name": "LayoutModel",
          "state": {
            "_model_module": "@jupyter-widgets/base",
            "_model_module_version": "1.2.0",
            "_model_name": "LayoutModel",
            "_view_count": null,
            "_view_module": "@jupyter-widgets/base",
            "_view_module_version": "1.2.0",
            "_view_name": "LayoutView",
            "align_content": null,
            "align_items": null,
            "align_self": null,
            "border": null,
            "bottom": null,
            "display": null,
            "flex": null,
            "flex_flow": null,
            "grid_area": null,
            "grid_auto_columns": null,
            "grid_auto_flow": null,
            "grid_auto_rows": null,
            "grid_column": null,
            "grid_gap": null,
            "grid_row": null,
            "grid_template_areas": null,
            "grid_template_columns": null,
            "grid_template_rows": null,
            "height": null,
            "justify_content": null,
            "justify_items": null,
            "left": null,
            "margin": null,
            "max_height": null,
            "max_width": null,
            "min_height": null,
            "min_width": null,
            "object_fit": null,
            "object_position": null,
            "order": null,
            "overflow": null,
            "overflow_x": null,
            "overflow_y": null,
            "padding": null,
            "right": null,
            "top": null,
            "visibility": null,
            "width": null
          }
        },
        "2b2af1597c504cb38448f5835b141760": {
          "model_module": "@jupyter-widgets/controls",
          "model_module_version": "1.5.0",
          "model_name": "DescriptionStyleModel",
          "state": {
            "_model_module": "@jupyter-widgets/controls",
            "_model_module_version": "1.5.0",
            "_model_name": "DescriptionStyleModel",
            "_view_count": null,
            "_view_module": "@jupyter-widgets/base",
            "_view_module_version": "1.2.0",
            "_view_name": "StyleView",
            "description_width": ""
          }
        },
        "2fd8595ab5114a9d9190b6e59557d765": {
          "model_module": "@jupyter-widgets/controls",
          "model_module_version": "1.5.0",
          "model_name": "DescriptionStyleModel",
          "state": {
            "_model_module": "@jupyter-widgets/controls",
            "_model_module_version": "1.5.0",
            "_model_name": "DescriptionStyleModel",
            "_view_count": null,
            "_view_module": "@jupyter-widgets/base",
            "_view_module_version": "1.2.0",
            "_view_name": "StyleView",
            "description_width": ""
          }
        },
        "30c8c5a5f94b46f5a45a3e2b7535d38d": {
          "model_module": "@jupyter-widgets/controls",
          "model_module_version": "1.5.0",
          "model_name": "ProgressStyleModel",
          "state": {
            "_model_module": "@jupyter-widgets/controls",
            "_model_module_version": "1.5.0",
            "_model_name": "ProgressStyleModel",
            "_view_count": null,
            "_view_module": "@jupyter-widgets/base",
            "_view_module_version": "1.2.0",
            "_view_name": "StyleView",
            "bar_color": null,
            "description_width": ""
          }
        },
        "3351dae6444743088e4441a0f27da68a": {
          "model_module": "@jupyter-widgets/base",
          "model_module_version": "1.2.0",
          "model_name": "LayoutModel",
          "state": {
            "_model_module": "@jupyter-widgets/base",
            "_model_module_version": "1.2.0",
            "_model_name": "LayoutModel",
            "_view_count": null,
            "_view_module": "@jupyter-widgets/base",
            "_view_module_version": "1.2.0",
            "_view_name": "LayoutView",
            "align_content": null,
            "align_items": null,
            "align_self": null,
            "border": null,
            "bottom": null,
            "display": null,
            "flex": null,
            "flex_flow": null,
            "grid_area": null,
            "grid_auto_columns": null,
            "grid_auto_flow": null,
            "grid_auto_rows": null,
            "grid_column": null,
            "grid_gap": null,
            "grid_row": null,
            "grid_template_areas": null,
            "grid_template_columns": null,
            "grid_template_rows": null,
            "height": null,
            "justify_content": null,
            "justify_items": null,
            "left": null,
            "margin": null,
            "max_height": null,
            "max_width": null,
            "min_height": null,
            "min_width": null,
            "object_fit": null,
            "object_position": null,
            "order": null,
            "overflow": null,
            "overflow_x": null,
            "overflow_y": null,
            "padding": null,
            "right": null,
            "top": null,
            "visibility": null,
            "width": null
          }
        },
        "3f3414923fea4c16ad78544a664f5041": {
          "model_module": "@jupyter-widgets/base",
          "model_module_version": "1.2.0",
          "model_name": "LayoutModel",
          "state": {
            "_model_module": "@jupyter-widgets/base",
            "_model_module_version": "1.2.0",
            "_model_name": "LayoutModel",
            "_view_count": null,
            "_view_module": "@jupyter-widgets/base",
            "_view_module_version": "1.2.0",
            "_view_name": "LayoutView",
            "align_content": null,
            "align_items": null,
            "align_self": null,
            "border": null,
            "bottom": null,
            "display": null,
            "flex": null,
            "flex_flow": null,
            "grid_area": null,
            "grid_auto_columns": null,
            "grid_auto_flow": null,
            "grid_auto_rows": null,
            "grid_column": null,
            "grid_gap": null,
            "grid_row": null,
            "grid_template_areas": null,
            "grid_template_columns": null,
            "grid_template_rows": null,
            "height": null,
            "justify_content": null,
            "justify_items": null,
            "left": null,
            "margin": null,
            "max_height": null,
            "max_width": null,
            "min_height": null,
            "min_width": null,
            "object_fit": null,
            "object_position": null,
            "order": null,
            "overflow": null,
            "overflow_x": null,
            "overflow_y": null,
            "padding": null,
            "right": null,
            "top": null,
            "visibility": null,
            "width": null
          }
        },
        "419b4eb1b10c4ebe8831f1ff6825d34c": {
          "model_module": "@jupyter-widgets/controls",
          "model_module_version": "1.5.0",
          "model_name": "HBoxModel",
          "state": {
            "_dom_classes": [],
            "_model_module": "@jupyter-widgets/controls",
            "_model_module_version": "1.5.0",
            "_model_name": "HBoxModel",
            "_view_count": null,
            "_view_module": "@jupyter-widgets/controls",
            "_view_module_version": "1.5.0",
            "_view_name": "HBoxView",
            "box_style": "",
            "children": [
              "IPY_MODEL_48ca90b836644f26b850e91a5124214c",
              "IPY_MODEL_1c5aa0a4558d432c844ea66136bef7fe",
              "IPY_MODEL_bedda0d7054949a286eac913cd7815c8"
            ],
            "layout": "IPY_MODEL_08ae7e2ae6764dd69598e8ac7e110123"
          }
        },
        "48ca90b836644f26b850e91a5124214c": {
          "model_module": "@jupyter-widgets/controls",
          "model_module_version": "1.5.0",
          "model_name": "HTMLModel",
          "state": {
            "_dom_classes": [],
            "_model_module": "@jupyter-widgets/controls",
            "_model_module_version": "1.5.0",
            "_model_name": "HTMLModel",
            "_view_count": null,
            "_view_module": "@jupyter-widgets/controls",
            "_view_module_version": "1.5.0",
            "_view_name": "HTMLView",
            "description": "",
            "description_tooltip": null,
            "layout": "IPY_MODEL_3f3414923fea4c16ad78544a664f5041",
            "placeholder": "​",
            "style": "IPY_MODEL_95eeac1a7e614fbb9cca6cce10d61a0b",
            "value": "Downloading: 100%"
          }
        },
        "4c53f5d34d5c4b4cbb3e9aa0bd009961": {
          "model_module": "@jupyter-widgets/controls",
          "model_module_version": "1.5.0",
          "model_name": "HTMLModel",
          "state": {
            "_dom_classes": [],
            "_model_module": "@jupyter-widgets/controls",
            "_model_module_version": "1.5.0",
            "_model_name": "HTMLModel",
            "_view_count": null,
            "_view_module": "@jupyter-widgets/controls",
            "_view_module_version": "1.5.0",
            "_view_name": "HTMLView",
            "description": "",
            "description_tooltip": null,
            "layout": "IPY_MODEL_d10e14fa0116431c8e1166f2569a2277",
            "placeholder": "​",
            "style": "IPY_MODEL_2b2af1597c504cb38448f5835b141760",
            "value": "Downloading: 100%"
          }
        },
        "59b2312915b6413bb9a6d956361f216c": {
          "model_module": "@jupyter-widgets/base",
          "model_module_version": "1.2.0",
          "model_name": "LayoutModel",
          "state": {
            "_model_module": "@jupyter-widgets/base",
            "_model_module_version": "1.2.0",
            "_model_name": "LayoutModel",
            "_view_count": null,
            "_view_module": "@jupyter-widgets/base",
            "_view_module_version": "1.2.0",
            "_view_name": "LayoutView",
            "align_content": null,
            "align_items": null,
            "align_self": null,
            "border": null,
            "bottom": null,
            "display": null,
            "flex": null,
            "flex_flow": null,
            "grid_area": null,
            "grid_auto_columns": null,
            "grid_auto_flow": null,
            "grid_auto_rows": null,
            "grid_column": null,
            "grid_gap": null,
            "grid_row": null,
            "grid_template_areas": null,
            "grid_template_columns": null,
            "grid_template_rows": null,
            "height": null,
            "justify_content": null,
            "justify_items": null,
            "left": null,
            "margin": null,
            "max_height": null,
            "max_width": null,
            "min_height": null,
            "min_width": null,
            "object_fit": null,
            "object_position": null,
            "order": null,
            "overflow": null,
            "overflow_x": null,
            "overflow_y": null,
            "padding": null,
            "right": null,
            "top": null,
            "visibility": null,
            "width": null
          }
        },
        "603f7d01cef54d43b9d8fd96e0bdd2dc": {
          "model_module": "@jupyter-widgets/controls",
          "model_module_version": "1.5.0",
          "model_name": "DescriptionStyleModel",
          "state": {
            "_model_module": "@jupyter-widgets/controls",
            "_model_module_version": "1.5.0",
            "_model_name": "DescriptionStyleModel",
            "_view_count": null,
            "_view_module": "@jupyter-widgets/base",
            "_view_module_version": "1.2.0",
            "_view_name": "StyleView",
            "description_width": ""
          }
        },
        "6400ac2798c2400bb4f894283df165ef": {
          "model_module": "@jupyter-widgets/base",
          "model_module_version": "1.2.0",
          "model_name": "LayoutModel",
          "state": {
            "_model_module": "@jupyter-widgets/base",
            "_model_module_version": "1.2.0",
            "_model_name": "LayoutModel",
            "_view_count": null,
            "_view_module": "@jupyter-widgets/base",
            "_view_module_version": "1.2.0",
            "_view_name": "LayoutView",
            "align_content": null,
            "align_items": null,
            "align_self": null,
            "border": null,
            "bottom": null,
            "display": null,
            "flex": null,
            "flex_flow": null,
            "grid_area": null,
            "grid_auto_columns": null,
            "grid_auto_flow": null,
            "grid_auto_rows": null,
            "grid_column": null,
            "grid_gap": null,
            "grid_row": null,
            "grid_template_areas": null,
            "grid_template_columns": null,
            "grid_template_rows": null,
            "height": null,
            "justify_content": null,
            "justify_items": null,
            "left": null,
            "margin": null,
            "max_height": null,
            "max_width": null,
            "min_height": null,
            "min_width": null,
            "object_fit": null,
            "object_position": null,
            "order": null,
            "overflow": null,
            "overflow_x": null,
            "overflow_y": null,
            "padding": null,
            "right": null,
            "top": null,
            "visibility": null,
            "width": null
          }
        },
        "715f0e035d9446ae88df423f8ddc1c4e": {
          "model_module": "@jupyter-widgets/controls",
          "model_module_version": "1.5.0",
          "model_name": "ProgressStyleModel",
          "state": {
            "_model_module": "@jupyter-widgets/controls",
            "_model_module_version": "1.5.0",
            "_model_name": "ProgressStyleModel",
            "_view_count": null,
            "_view_module": "@jupyter-widgets/base",
            "_view_module_version": "1.2.0",
            "_view_name": "StyleView",
            "bar_color": null,
            "description_width": ""
          }
        },
        "762205123b5c43f8a4edd0388f43d07f": {
          "model_module": "@jupyter-widgets/base",
          "model_module_version": "1.2.0",
          "model_name": "LayoutModel",
          "state": {
            "_model_module": "@jupyter-widgets/base",
            "_model_module_version": "1.2.0",
            "_model_name": "LayoutModel",
            "_view_count": null,
            "_view_module": "@jupyter-widgets/base",
            "_view_module_version": "1.2.0",
            "_view_name": "LayoutView",
            "align_content": null,
            "align_items": null,
            "align_self": null,
            "border": null,
            "bottom": null,
            "display": null,
            "flex": null,
            "flex_flow": null,
            "grid_area": null,
            "grid_auto_columns": null,
            "grid_auto_flow": null,
            "grid_auto_rows": null,
            "grid_column": null,
            "grid_gap": null,
            "grid_row": null,
            "grid_template_areas": null,
            "grid_template_columns": null,
            "grid_template_rows": null,
            "height": null,
            "justify_content": null,
            "justify_items": null,
            "left": null,
            "margin": null,
            "max_height": null,
            "max_width": null,
            "min_height": null,
            "min_width": null,
            "object_fit": null,
            "object_position": null,
            "order": null,
            "overflow": null,
            "overflow_x": null,
            "overflow_y": null,
            "padding": null,
            "right": null,
            "top": null,
            "visibility": null,
            "width": null
          }
        },
        "807cdbe308974376964ccf49f3baac22": {
          "model_module": "@jupyter-widgets/controls",
          "model_module_version": "1.5.0",
          "model_name": "HTMLModel",
          "state": {
            "_dom_classes": [],
            "_model_module": "@jupyter-widgets/controls",
            "_model_module_version": "1.5.0",
            "_model_name": "HTMLModel",
            "_view_count": null,
            "_view_module": "@jupyter-widgets/controls",
            "_view_module_version": "1.5.0",
            "_view_name": "HTMLView",
            "description": "",
            "description_tooltip": null,
            "layout": "IPY_MODEL_936bdc58816842239d26be4ada3c234a",
            "placeholder": "​",
            "style": "IPY_MODEL_d8c04a6057674986a847b5818af76d7b",
            "value": "Downloading: 100%"
          }
        },
        "90607afcf7424c5bb491d05ae25d82f0": {
          "model_module": "@jupyter-widgets/controls",
          "model_module_version": "1.5.0",
          "model_name": "FloatProgressModel",
          "state": {
            "_dom_classes": [],
            "_model_module": "@jupyter-widgets/controls",
            "_model_module_version": "1.5.0",
            "_model_name": "FloatProgressModel",
            "_view_count": null,
            "_view_module": "@jupyter-widgets/controls",
            "_view_module_version": "1.5.0",
            "_view_name": "ProgressView",
            "bar_style": "success",
            "description": "",
            "description_tooltip": null,
            "layout": "IPY_MODEL_26374672b8ed41b8b92a1c179292f9e8",
            "max": 346351599,
            "min": 0,
            "orientation": "horizontal",
            "style": "IPY_MODEL_b6b99e0109314f148c48662881c62721",
            "value": 346351599
          }
        },
        "92a6fe0498dd45af9ee825350b1193d8": {
          "model_module": "@jupyter-widgets/controls",
          "model_module_version": "1.5.0",
          "model_name": "HBoxModel",
          "state": {
            "_dom_classes": [],
            "_model_module": "@jupyter-widgets/controls",
            "_model_module_version": "1.5.0",
            "_model_name": "HBoxModel",
            "_view_count": null,
            "_view_module": "@jupyter-widgets/controls",
            "_view_module_version": "1.5.0",
            "_view_name": "HBoxView",
            "box_style": "",
            "children": [
              "IPY_MODEL_807cdbe308974376964ccf49f3baac22",
              "IPY_MODEL_90607afcf7424c5bb491d05ae25d82f0",
              "IPY_MODEL_aac8207950ad46b1ad59b3ce140cfc34"
            ],
            "layout": "IPY_MODEL_2ac2882d989e45c28db6fff6142f6210"
          }
        },
        "936bdc58816842239d26be4ada3c234a": {
          "model_module": "@jupyter-widgets/base",
          "model_module_version": "1.2.0",
          "model_name": "LayoutModel",
          "state": {
            "_model_module": "@jupyter-widgets/base",
            "_model_module_version": "1.2.0",
            "_model_name": "LayoutModel",
            "_view_count": null,
            "_view_module": "@jupyter-widgets/base",
            "_view_module_version": "1.2.0",
            "_view_name": "LayoutView",
            "align_content": null,
            "align_items": null,
            "align_self": null,
            "border": null,
            "bottom": null,
            "display": null,
            "flex": null,
            "flex_flow": null,
            "grid_area": null,
            "grid_auto_columns": null,
            "grid_auto_flow": null,
            "grid_auto_rows": null,
            "grid_column": null,
            "grid_gap": null,
            "grid_row": null,
            "grid_template_areas": null,
            "grid_template_columns": null,
            "grid_template_rows": null,
            "height": null,
            "justify_content": null,
            "justify_items": null,
            "left": null,
            "margin": null,
            "max_height": null,
            "max_width": null,
            "min_height": null,
            "min_width": null,
            "object_fit": null,
            "object_position": null,
            "order": null,
            "overflow": null,
            "overflow_x": null,
            "overflow_y": null,
            "padding": null,
            "right": null,
            "top": null,
            "visibility": null,
            "width": null
          }
        },
        "95eeac1a7e614fbb9cca6cce10d61a0b": {
          "model_module": "@jupyter-widgets/controls",
          "model_module_version": "1.5.0",
          "model_name": "DescriptionStyleModel",
          "state": {
            "_model_module": "@jupyter-widgets/controls",
            "_model_module_version": "1.5.0",
            "_model_name": "DescriptionStyleModel",
            "_view_count": null,
            "_view_module": "@jupyter-widgets/base",
            "_view_module_version": "1.2.0",
            "_view_name": "StyleView",
            "description_width": ""
          }
        },
        "a6a5d229da8a4d43864e59e4223b5a32": {
          "model_module": "@jupyter-widgets/controls",
          "model_module_version": "1.5.0",
          "model_name": "HTMLModel",
          "state": {
            "_dom_classes": [],
            "_model_module": "@jupyter-widgets/controls",
            "_model_module_version": "1.5.0",
            "_model_name": "HTMLModel",
            "_view_count": null,
            "_view_module": "@jupyter-widgets/controls",
            "_view_module_version": "1.5.0",
            "_view_name": "HTMLView",
            "description": "",
            "description_tooltip": null,
            "layout": "IPY_MODEL_762205123b5c43f8a4edd0388f43d07f",
            "placeholder": "​",
            "style": "IPY_MODEL_2fd8595ab5114a9d9190b6e59557d765",
            "value": " 68.0k/68.0k [00:00&lt;00:00, 221kB/s]"
          }
        },
        "aac8207950ad46b1ad59b3ce140cfc34": {
          "model_module": "@jupyter-widgets/controls",
          "model_module_version": "1.5.0",
          "model_name": "HTMLModel",
          "state": {
            "_dom_classes": [],
            "_model_module": "@jupyter-widgets/controls",
            "_model_module_version": "1.5.0",
            "_model_name": "HTMLModel",
            "_view_count": null,
            "_view_module": "@jupyter-widgets/controls",
            "_view_module_version": "1.5.0",
            "_view_name": "HTMLView",
            "description": "",
            "description_tooltip": null,
            "layout": "IPY_MODEL_6400ac2798c2400bb4f894283df165ef",
            "placeholder": "​",
            "style": "IPY_MODEL_603f7d01cef54d43b9d8fd96e0bdd2dc",
            "value": " 330M/330M [00:06&lt;00:00, 54.2MB/s]"
          }
        },
        "b6b99e0109314f148c48662881c62721": {
          "model_module": "@jupyter-widgets/controls",
          "model_module_version": "1.5.0",
          "model_name": "ProgressStyleModel",
          "state": {
            "_model_module": "@jupyter-widgets/controls",
            "_model_module_version": "1.5.0",
            "_model_name": "ProgressStyleModel",
            "_view_count": null,
            "_view_module": "@jupyter-widgets/base",
            "_view_module_version": "1.2.0",
            "_view_name": "StyleView",
            "bar_color": null,
            "description_width": ""
          }
        },
        "bedda0d7054949a286eac913cd7815c8": {
          "model_module": "@jupyter-widgets/controls",
          "model_module_version": "1.5.0",
          "model_name": "HTMLModel",
          "state": {
            "_dom_classes": [],
            "_model_module": "@jupyter-widgets/controls",
            "_model_module_version": "1.5.0",
            "_model_name": "HTMLModel",
            "_view_count": null,
            "_view_module": "@jupyter-widgets/controls",
            "_view_module_version": "1.5.0",
            "_view_name": "HTMLView",
            "description": "",
            "description_tooltip": null,
            "layout": "IPY_MODEL_3351dae6444743088e4441a0f27da68a",
            "placeholder": "​",
            "style": "IPY_MODEL_0d44239db64944cc927120b6ebc33e38",
            "value": " 160/160 [00:00&lt;00:00, 3.42kB/s]"
          }
        },
        "d10e14fa0116431c8e1166f2569a2277": {
          "model_module": "@jupyter-widgets/base",
          "model_module_version": "1.2.0",
          "model_name": "LayoutModel",
          "state": {
            "_model_module": "@jupyter-widgets/base",
            "_model_module_version": "1.2.0",
            "_model_name": "LayoutModel",
            "_view_count": null,
            "_view_module": "@jupyter-widgets/base",
            "_view_module_version": "1.2.0",
            "_view_name": "LayoutView",
            "align_content": null,
            "align_items": null,
            "align_self": null,
            "border": null,
            "bottom": null,
            "display": null,
            "flex": null,
            "flex_flow": null,
            "grid_area": null,
            "grid_auto_columns": null,
            "grid_auto_flow": null,
            "grid_auto_rows": null,
            "grid_column": null,
            "grid_gap": null,
            "grid_row": null,
            "grid_template_areas": null,
            "grid_template_columns": null,
            "grid_template_rows": null,
            "height": null,
            "justify_content": null,
            "justify_items": null,
            "left": null,
            "margin": null,
            "max_height": null,
            "max_width": null,
            "min_height": null,
            "min_width": null,
            "object_fit": null,
            "object_position": null,
            "order": null,
            "overflow": null,
            "overflow_x": null,
            "overflow_y": null,
            "padding": null,
            "right": null,
            "top": null,
            "visibility": null,
            "width": null
          }
        },
        "d4957ae75b60445ea7f3b4b2f389eed9": {
          "model_module": "@jupyter-widgets/controls",
          "model_module_version": "1.5.0",
          "model_name": "FloatProgressModel",
          "state": {
            "_dom_classes": [],
            "_model_module": "@jupyter-widgets/controls",
            "_model_module_version": "1.5.0",
            "_model_name": "FloatProgressModel",
            "_view_count": null,
            "_view_module": "@jupyter-widgets/controls",
            "_view_module_version": "1.5.0",
            "_view_name": "ProgressView",
            "bar_style": "success",
            "description": "",
            "description_tooltip": null,
            "layout": "IPY_MODEL_de509f62509e4840871407db1bdf127a",
            "max": 69665,
            "min": 0,
            "orientation": "horizontal",
            "style": "IPY_MODEL_715f0e035d9446ae88df423f8ddc1c4e",
            "value": 69665
          }
        },
        "d8c04a6057674986a847b5818af76d7b": {
          "model_module": "@jupyter-widgets/controls",
          "model_module_version": "1.5.0",
          "model_name": "DescriptionStyleModel",
          "state": {
            "_model_module": "@jupyter-widgets/controls",
            "_model_module_version": "1.5.0",
            "_model_name": "DescriptionStyleModel",
            "_view_count": null,
            "_view_module": "@jupyter-widgets/base",
            "_view_module_version": "1.2.0",
            "_view_name": "StyleView",
            "description_width": ""
          }
        },
        "da8c2e9f49d9435091b3f52349f04227": {
          "model_module": "@jupyter-widgets/controls",
          "model_module_version": "1.5.0",
          "model_name": "HBoxModel",
          "state": {
            "_dom_classes": [],
            "_model_module": "@jupyter-widgets/controls",
            "_model_module_version": "1.5.0",
            "_model_name": "HBoxModel",
            "_view_count": null,
            "_view_module": "@jupyter-widgets/controls",
            "_view_module_version": "1.5.0",
            "_view_name": "HBoxView",
            "box_style": "",
            "children": [
              "IPY_MODEL_4c53f5d34d5c4b4cbb3e9aa0bd009961",
              "IPY_MODEL_d4957ae75b60445ea7f3b4b2f389eed9",
              "IPY_MODEL_a6a5d229da8a4d43864e59e4223b5a32"
            ],
            "layout": "IPY_MODEL_16290acd9e964c2ab61f98ceda6efd69"
          }
        },
        "de509f62509e4840871407db1bdf127a": {
          "model_module": "@jupyter-widgets/base",
          "model_module_version": "1.2.0",
          "model_name": "LayoutModel",
          "state": {
            "_model_module": "@jupyter-widgets/base",
            "_model_module_version": "1.2.0",
            "_model_name": "LayoutModel",
            "_view_count": null,
            "_view_module": "@jupyter-widgets/base",
            "_view_module_version": "1.2.0",
            "_view_name": "LayoutView",
            "align_content": null,
            "align_items": null,
            "align_self": null,
            "border": null,
            "bottom": null,
            "display": null,
            "flex": null,
            "flex_flow": null,
            "grid_area": null,
            "grid_auto_columns": null,
            "grid_auto_flow": null,
            "grid_auto_rows": null,
            "grid_column": null,
            "grid_gap": null,
            "grid_row": null,
            "grid_template_areas": null,
            "grid_template_columns": null,
            "grid_template_rows": null,
            "height": null,
            "justify_content": null,
            "justify_items": null,
            "left": null,
            "margin": null,
            "max_height": null,
            "max_width": null,
            "min_height": null,
            "min_width": null,
            "object_fit": null,
            "object_position": null,
            "order": null,
            "overflow": null,
            "overflow_x": null,
            "overflow_y": null,
            "padding": null,
            "right": null,
            "top": null,
            "visibility": null,
            "width": null
          }
        }
      }
    }
  },
  "nbformat": 4,
  "nbformat_minor": 0
}