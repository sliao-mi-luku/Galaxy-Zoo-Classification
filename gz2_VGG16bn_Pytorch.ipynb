{
  "nbformat": 4,
  "nbformat_minor": 0,
  "metadata": {
    "colab": {
      "name": "gz2_VGG16bn_Pytorch.ipynb",
      "provenance": [],
      "collapsed_sections": []
    },
    "kernelspec": {
      "name": "python3",
      "display_name": "Python 3"
    },
    "language_info": {
      "name": "python"
    },
    "accelerator": "GPU",
    "widgets": {
      "application/vnd.jupyter.widget-state+json": {
        "54c3dfeecf2c48c78835554ce31fa0d4": {
          "model_module": "@jupyter-widgets/controls",
          "model_name": "HBoxModel",
          "model_module_version": "1.5.0",
          "state": {
            "_view_name": "HBoxView",
            "_dom_classes": [],
            "_model_name": "HBoxModel",
            "_view_module": "@jupyter-widgets/controls",
            "_model_module_version": "1.5.0",
            "_view_count": null,
            "_view_module_version": "1.5.0",
            "box_style": "",
            "layout": "IPY_MODEL_590d7a8525f04a068580f32a1053b5d5",
            "_model_module": "@jupyter-widgets/controls",
            "children": [
              "IPY_MODEL_9a2577aca3514c02bce33c2745403916",
              "IPY_MODEL_8c486ec39c994c52a22e11d4baf58bb4",
              "IPY_MODEL_8bab94ae98ae4169a3d4f6000335859f"
            ]
          }
        },
        "590d7a8525f04a068580f32a1053b5d5": {
          "model_module": "@jupyter-widgets/base",
          "model_name": "LayoutModel",
          "model_module_version": "1.2.0",
          "state": {
            "_view_name": "LayoutView",
            "grid_template_rows": null,
            "right": null,
            "justify_content": null,
            "_view_module": "@jupyter-widgets/base",
            "overflow": null,
            "_model_module_version": "1.2.0",
            "_view_count": null,
            "flex_flow": null,
            "width": null,
            "min_width": null,
            "border": null,
            "align_items": null,
            "bottom": null,
            "_model_module": "@jupyter-widgets/base",
            "top": null,
            "grid_column": null,
            "overflow_y": null,
            "overflow_x": null,
            "grid_auto_flow": null,
            "grid_area": null,
            "grid_template_columns": null,
            "flex": null,
            "_model_name": "LayoutModel",
            "justify_items": null,
            "grid_row": null,
            "max_height": null,
            "align_content": null,
            "visibility": null,
            "align_self": null,
            "height": null,
            "min_height": null,
            "padding": null,
            "grid_auto_rows": null,
            "grid_gap": null,
            "max_width": null,
            "order": null,
            "_view_module_version": "1.2.0",
            "grid_template_areas": null,
            "object_position": null,
            "object_fit": null,
            "grid_auto_columns": null,
            "margin": null,
            "display": null,
            "left": null
          }
        },
        "9a2577aca3514c02bce33c2745403916": {
          "model_module": "@jupyter-widgets/controls",
          "model_name": "HTMLModel",
          "model_module_version": "1.5.0",
          "state": {
            "_view_name": "HTMLView",
            "style": "IPY_MODEL_07144731b8df47de81f0e6ee04710b1b",
            "_dom_classes": [],
            "description": "",
            "_model_name": "HTMLModel",
            "placeholder": "​",
            "_view_module": "@jupyter-widgets/controls",
            "_model_module_version": "1.5.0",
            "value": "100%",
            "_view_count": null,
            "_view_module_version": "1.5.0",
            "description_tooltip": null,
            "_model_module": "@jupyter-widgets/controls",
            "layout": "IPY_MODEL_935a526eaa894be2bbd8746b07195fcd"
          }
        },
        "8c486ec39c994c52a22e11d4baf58bb4": {
          "model_module": "@jupyter-widgets/controls",
          "model_name": "FloatProgressModel",
          "model_module_version": "1.5.0",
          "state": {
            "_view_name": "ProgressView",
            "style": "IPY_MODEL_1f6c05a9ea5a49beb2fb51ef1bec41b6",
            "_dom_classes": [],
            "description": "",
            "_model_name": "FloatProgressModel",
            "bar_style": "success",
            "max": 553507836,
            "_view_module": "@jupyter-widgets/controls",
            "_model_module_version": "1.5.0",
            "value": 553507836,
            "_view_count": null,
            "_view_module_version": "1.5.0",
            "orientation": "horizontal",
            "min": 0,
            "description_tooltip": null,
            "_model_module": "@jupyter-widgets/controls",
            "layout": "IPY_MODEL_c13ad50ded5f496f923a47a0f936b0b4"
          }
        },
        "8bab94ae98ae4169a3d4f6000335859f": {
          "model_module": "@jupyter-widgets/controls",
          "model_name": "HTMLModel",
          "model_module_version": "1.5.0",
          "state": {
            "_view_name": "HTMLView",
            "style": "IPY_MODEL_b2a635a0a770443d978b284a1b4ee446",
            "_dom_classes": [],
            "description": "",
            "_model_name": "HTMLModel",
            "placeholder": "​",
            "_view_module": "@jupyter-widgets/controls",
            "_model_module_version": "1.5.0",
            "value": " 528M/528M [00:03&lt;00:00, 158MB/s]",
            "_view_count": null,
            "_view_module_version": "1.5.0",
            "description_tooltip": null,
            "_model_module": "@jupyter-widgets/controls",
            "layout": "IPY_MODEL_df26c16d199449ee8ff20e00cf25b7fe"
          }
        },
        "07144731b8df47de81f0e6ee04710b1b": {
          "model_module": "@jupyter-widgets/controls",
          "model_name": "DescriptionStyleModel",
          "model_module_version": "1.5.0",
          "state": {
            "_view_name": "StyleView",
            "_model_name": "DescriptionStyleModel",
            "description_width": "",
            "_view_module": "@jupyter-widgets/base",
            "_model_module_version": "1.5.0",
            "_view_count": null,
            "_view_module_version": "1.2.0",
            "_model_module": "@jupyter-widgets/controls"
          }
        },
        "935a526eaa894be2bbd8746b07195fcd": {
          "model_module": "@jupyter-widgets/base",
          "model_name": "LayoutModel",
          "model_module_version": "1.2.0",
          "state": {
            "_view_name": "LayoutView",
            "grid_template_rows": null,
            "right": null,
            "justify_content": null,
            "_view_module": "@jupyter-widgets/base",
            "overflow": null,
            "_model_module_version": "1.2.0",
            "_view_count": null,
            "flex_flow": null,
            "width": null,
            "min_width": null,
            "border": null,
            "align_items": null,
            "bottom": null,
            "_model_module": "@jupyter-widgets/base",
            "top": null,
            "grid_column": null,
            "overflow_y": null,
            "overflow_x": null,
            "grid_auto_flow": null,
            "grid_area": null,
            "grid_template_columns": null,
            "flex": null,
            "_model_name": "LayoutModel",
            "justify_items": null,
            "grid_row": null,
            "max_height": null,
            "align_content": null,
            "visibility": null,
            "align_self": null,
            "height": null,
            "min_height": null,
            "padding": null,
            "grid_auto_rows": null,
            "grid_gap": null,
            "max_width": null,
            "order": null,
            "_view_module_version": "1.2.0",
            "grid_template_areas": null,
            "object_position": null,
            "object_fit": null,
            "grid_auto_columns": null,
            "margin": null,
            "display": null,
            "left": null
          }
        },
        "1f6c05a9ea5a49beb2fb51ef1bec41b6": {
          "model_module": "@jupyter-widgets/controls",
          "model_name": "ProgressStyleModel",
          "model_module_version": "1.5.0",
          "state": {
            "_view_name": "StyleView",
            "_model_name": "ProgressStyleModel",
            "description_width": "",
            "_view_module": "@jupyter-widgets/base",
            "_model_module_version": "1.5.0",
            "_view_count": null,
            "_view_module_version": "1.2.0",
            "bar_color": null,
            "_model_module": "@jupyter-widgets/controls"
          }
        },
        "c13ad50ded5f496f923a47a0f936b0b4": {
          "model_module": "@jupyter-widgets/base",
          "model_name": "LayoutModel",
          "model_module_version": "1.2.0",
          "state": {
            "_view_name": "LayoutView",
            "grid_template_rows": null,
            "right": null,
            "justify_content": null,
            "_view_module": "@jupyter-widgets/base",
            "overflow": null,
            "_model_module_version": "1.2.0",
            "_view_count": null,
            "flex_flow": null,
            "width": null,
            "min_width": null,
            "border": null,
            "align_items": null,
            "bottom": null,
            "_model_module": "@jupyter-widgets/base",
            "top": null,
            "grid_column": null,
            "overflow_y": null,
            "overflow_x": null,
            "grid_auto_flow": null,
            "grid_area": null,
            "grid_template_columns": null,
            "flex": null,
            "_model_name": "LayoutModel",
            "justify_items": null,
            "grid_row": null,
            "max_height": null,
            "align_content": null,
            "visibility": null,
            "align_self": null,
            "height": null,
            "min_height": null,
            "padding": null,
            "grid_auto_rows": null,
            "grid_gap": null,
            "max_width": null,
            "order": null,
            "_view_module_version": "1.2.0",
            "grid_template_areas": null,
            "object_position": null,
            "object_fit": null,
            "grid_auto_columns": null,
            "margin": null,
            "display": null,
            "left": null
          }
        },
        "b2a635a0a770443d978b284a1b4ee446": {
          "model_module": "@jupyter-widgets/controls",
          "model_name": "DescriptionStyleModel",
          "model_module_version": "1.5.0",
          "state": {
            "_view_name": "StyleView",
            "_model_name": "DescriptionStyleModel",
            "description_width": "",
            "_view_module": "@jupyter-widgets/base",
            "_model_module_version": "1.5.0",
            "_view_count": null,
            "_view_module_version": "1.2.0",
            "_model_module": "@jupyter-widgets/controls"
          }
        },
        "df26c16d199449ee8ff20e00cf25b7fe": {
          "model_module": "@jupyter-widgets/base",
          "model_name": "LayoutModel",
          "model_module_version": "1.2.0",
          "state": {
            "_view_name": "LayoutView",
            "grid_template_rows": null,
            "right": null,
            "justify_content": null,
            "_view_module": "@jupyter-widgets/base",
            "overflow": null,
            "_model_module_version": "1.2.0",
            "_view_count": null,
            "flex_flow": null,
            "width": null,
            "min_width": null,
            "border": null,
            "align_items": null,
            "bottom": null,
            "_model_module": "@jupyter-widgets/base",
            "top": null,
            "grid_column": null,
            "overflow_y": null,
            "overflow_x": null,
            "grid_auto_flow": null,
            "grid_area": null,
            "grid_template_columns": null,
            "flex": null,
            "_model_name": "LayoutModel",
            "justify_items": null,
            "grid_row": null,
            "max_height": null,
            "align_content": null,
            "visibility": null,
            "align_self": null,
            "height": null,
            "min_height": null,
            "padding": null,
            "grid_auto_rows": null,
            "grid_gap": null,
            "max_width": null,
            "order": null,
            "_view_module_version": "1.2.0",
            "grid_template_areas": null,
            "object_position": null,
            "object_fit": null,
            "grid_auto_columns": null,
            "margin": null,
            "display": null,
            "left": null
          }
        },
        "0b6f8e684b8c429dacc63269a5b22b50": {
          "model_module": "@jupyter-widgets/controls",
          "model_name": "HBoxModel",
          "model_module_version": "1.5.0",
          "state": {
            "_view_name": "HBoxView",
            "_dom_classes": [],
            "_model_name": "HBoxModel",
            "_view_module": "@jupyter-widgets/controls",
            "_model_module_version": "1.5.0",
            "_view_count": null,
            "_view_module_version": "1.5.0",
            "box_style": "",
            "layout": "IPY_MODEL_4251f0f5194c4b7c81c0998d719cc838",
            "_model_module": "@jupyter-widgets/controls",
            "children": [
              "IPY_MODEL_0f8d760d723e456eb448fd150e000701",
              "IPY_MODEL_b913a6cb06ff4d8f8920964635c82f3f",
              "IPY_MODEL_050b186a8af0493e89bb7686f469166e"
            ]
          }
        },
        "4251f0f5194c4b7c81c0998d719cc838": {
          "model_module": "@jupyter-widgets/base",
          "model_name": "LayoutModel",
          "model_module_version": "1.2.0",
          "state": {
            "_view_name": "LayoutView",
            "grid_template_rows": null,
            "right": null,
            "justify_content": null,
            "_view_module": "@jupyter-widgets/base",
            "overflow": null,
            "_model_module_version": "1.2.0",
            "_view_count": null,
            "flex_flow": null,
            "width": null,
            "min_width": null,
            "border": null,
            "align_items": null,
            "bottom": null,
            "_model_module": "@jupyter-widgets/base",
            "top": null,
            "grid_column": null,
            "overflow_y": null,
            "overflow_x": null,
            "grid_auto_flow": null,
            "grid_area": null,
            "grid_template_columns": null,
            "flex": null,
            "_model_name": "LayoutModel",
            "justify_items": null,
            "grid_row": null,
            "max_height": null,
            "align_content": null,
            "visibility": null,
            "align_self": null,
            "height": null,
            "min_height": null,
            "padding": null,
            "grid_auto_rows": null,
            "grid_gap": null,
            "max_width": null,
            "order": null,
            "_view_module_version": "1.2.0",
            "grid_template_areas": null,
            "object_position": null,
            "object_fit": null,
            "grid_auto_columns": null,
            "margin": null,
            "display": null,
            "left": null
          }
        },
        "0f8d760d723e456eb448fd150e000701": {
          "model_module": "@jupyter-widgets/controls",
          "model_name": "HTMLModel",
          "model_module_version": "1.5.0",
          "state": {
            "_view_name": "HTMLView",
            "style": "IPY_MODEL_bda35decaba4468f9086304f2e29e8b9",
            "_dom_classes": [],
            "description": "",
            "_model_name": "HTMLModel",
            "placeholder": "​",
            "_view_module": "@jupyter-widgets/controls",
            "_model_module_version": "1.5.0",
            "value": "100%",
            "_view_count": null,
            "_view_module_version": "1.5.0",
            "description_tooltip": null,
            "_model_module": "@jupyter-widgets/controls",
            "layout": "IPY_MODEL_9fb3ba2c0d2b4640aa2e065390a70573"
          }
        },
        "b913a6cb06ff4d8f8920964635c82f3f": {
          "model_module": "@jupyter-widgets/controls",
          "model_name": "FloatProgressModel",
          "model_module_version": "1.5.0",
          "state": {
            "_view_name": "ProgressView",
            "style": "IPY_MODEL_de2f9dda70634aac8a6ef0a3d82da9f5",
            "_dom_classes": [],
            "description": "",
            "_model_name": "FloatProgressModel",
            "bar_style": "success",
            "max": 553507836,
            "_view_module": "@jupyter-widgets/controls",
            "_model_module_version": "1.5.0",
            "value": 553507836,
            "_view_count": null,
            "_view_module_version": "1.5.0",
            "orientation": "horizontal",
            "min": 0,
            "description_tooltip": null,
            "_model_module": "@jupyter-widgets/controls",
            "layout": "IPY_MODEL_07b00a62584d4c27bb8e09ce9fea39a8"
          }
        },
        "050b186a8af0493e89bb7686f469166e": {
          "model_module": "@jupyter-widgets/controls",
          "model_name": "HTMLModel",
          "model_module_version": "1.5.0",
          "state": {
            "_view_name": "HTMLView",
            "style": "IPY_MODEL_be68f68a1e2b4c2089da17c2b9f63359",
            "_dom_classes": [],
            "description": "",
            "_model_name": "HTMLModel",
            "placeholder": "​",
            "_view_module": "@jupyter-widgets/controls",
            "_model_module_version": "1.5.0",
            "value": " 528M/528M [00:06&lt;00:00, 95.7MB/s]",
            "_view_count": null,
            "_view_module_version": "1.5.0",
            "description_tooltip": null,
            "_model_module": "@jupyter-widgets/controls",
            "layout": "IPY_MODEL_6ab694de9b564bbabeba06b6f46b5e12"
          }
        },
        "bda35decaba4468f9086304f2e29e8b9": {
          "model_module": "@jupyter-widgets/controls",
          "model_name": "DescriptionStyleModel",
          "model_module_version": "1.5.0",
          "state": {
            "_view_name": "StyleView",
            "_model_name": "DescriptionStyleModel",
            "description_width": "",
            "_view_module": "@jupyter-widgets/base",
            "_model_module_version": "1.5.0",
            "_view_count": null,
            "_view_module_version": "1.2.0",
            "_model_module": "@jupyter-widgets/controls"
          }
        },
        "9fb3ba2c0d2b4640aa2e065390a70573": {
          "model_module": "@jupyter-widgets/base",
          "model_name": "LayoutModel",
          "model_module_version": "1.2.0",
          "state": {
            "_view_name": "LayoutView",
            "grid_template_rows": null,
            "right": null,
            "justify_content": null,
            "_view_module": "@jupyter-widgets/base",
            "overflow": null,
            "_model_module_version": "1.2.0",
            "_view_count": null,
            "flex_flow": null,
            "width": null,
            "min_width": null,
            "border": null,
            "align_items": null,
            "bottom": null,
            "_model_module": "@jupyter-widgets/base",
            "top": null,
            "grid_column": null,
            "overflow_y": null,
            "overflow_x": null,
            "grid_auto_flow": null,
            "grid_area": null,
            "grid_template_columns": null,
            "flex": null,
            "_model_name": "LayoutModel",
            "justify_items": null,
            "grid_row": null,
            "max_height": null,
            "align_content": null,
            "visibility": null,
            "align_self": null,
            "height": null,
            "min_height": null,
            "padding": null,
            "grid_auto_rows": null,
            "grid_gap": null,
            "max_width": null,
            "order": null,
            "_view_module_version": "1.2.0",
            "grid_template_areas": null,
            "object_position": null,
            "object_fit": null,
            "grid_auto_columns": null,
            "margin": null,
            "display": null,
            "left": null
          }
        },
        "de2f9dda70634aac8a6ef0a3d82da9f5": {
          "model_module": "@jupyter-widgets/controls",
          "model_name": "ProgressStyleModel",
          "model_module_version": "1.5.0",
          "state": {
            "_view_name": "StyleView",
            "_model_name": "ProgressStyleModel",
            "description_width": "",
            "_view_module": "@jupyter-widgets/base",
            "_model_module_version": "1.5.0",
            "_view_count": null,
            "_view_module_version": "1.2.0",
            "bar_color": null,
            "_model_module": "@jupyter-widgets/controls"
          }
        },
        "07b00a62584d4c27bb8e09ce9fea39a8": {
          "model_module": "@jupyter-widgets/base",
          "model_name": "LayoutModel",
          "model_module_version": "1.2.0",
          "state": {
            "_view_name": "LayoutView",
            "grid_template_rows": null,
            "right": null,
            "justify_content": null,
            "_view_module": "@jupyter-widgets/base",
            "overflow": null,
            "_model_module_version": "1.2.0",
            "_view_count": null,
            "flex_flow": null,
            "width": null,
            "min_width": null,
            "border": null,
            "align_items": null,
            "bottom": null,
            "_model_module": "@jupyter-widgets/base",
            "top": null,
            "grid_column": null,
            "overflow_y": null,
            "overflow_x": null,
            "grid_auto_flow": null,
            "grid_area": null,
            "grid_template_columns": null,
            "flex": null,
            "_model_name": "LayoutModel",
            "justify_items": null,
            "grid_row": null,
            "max_height": null,
            "align_content": null,
            "visibility": null,
            "align_self": null,
            "height": null,
            "min_height": null,
            "padding": null,
            "grid_auto_rows": null,
            "grid_gap": null,
            "max_width": null,
            "order": null,
            "_view_module_version": "1.2.0",
            "grid_template_areas": null,
            "object_position": null,
            "object_fit": null,
            "grid_auto_columns": null,
            "margin": null,
            "display": null,
            "left": null
          }
        },
        "be68f68a1e2b4c2089da17c2b9f63359": {
          "model_module": "@jupyter-widgets/controls",
          "model_name": "DescriptionStyleModel",
          "model_module_version": "1.5.0",
          "state": {
            "_view_name": "StyleView",
            "_model_name": "DescriptionStyleModel",
            "description_width": "",
            "_view_module": "@jupyter-widgets/base",
            "_model_module_version": "1.5.0",
            "_view_count": null,
            "_view_module_version": "1.2.0",
            "_model_module": "@jupyter-widgets/controls"
          }
        },
        "6ab694de9b564bbabeba06b6f46b5e12": {
          "model_module": "@jupyter-widgets/base",
          "model_name": "LayoutModel",
          "model_module_version": "1.2.0",
          "state": {
            "_view_name": "LayoutView",
            "grid_template_rows": null,
            "right": null,
            "justify_content": null,
            "_view_module": "@jupyter-widgets/base",
            "overflow": null,
            "_model_module_version": "1.2.0",
            "_view_count": null,
            "flex_flow": null,
            "width": null,
            "min_width": null,
            "border": null,
            "align_items": null,
            "bottom": null,
            "_model_module": "@jupyter-widgets/base",
            "top": null,
            "grid_column": null,
            "overflow_y": null,
            "overflow_x": null,
            "grid_auto_flow": null,
            "grid_area": null,
            "grid_template_columns": null,
            "flex": null,
            "_model_name": "LayoutModel",
            "justify_items": null,
            "grid_row": null,
            "max_height": null,
            "align_content": null,
            "visibility": null,
            "align_self": null,
            "height": null,
            "min_height": null,
            "padding": null,
            "grid_auto_rows": null,
            "grid_gap": null,
            "max_width": null,
            "order": null,
            "_view_module_version": "1.2.0",
            "grid_template_areas": null,
            "object_position": null,
            "object_fit": null,
            "grid_auto_columns": null,
            "margin": null,
            "display": null,
            "left": null
          }
        }
      }
    }
  },
  "cells": [
    {
      "cell_type": "markdown",
      "metadata": {
        "id": "Yifo65KNoWXT"
      },
      "source": [
        "# Galaxy Classification with CNN (Pytorch)"
      ]
    },
    {
      "cell_type": "markdown",
      "metadata": {
        "id": "o5S56vHLe3c3"
      },
      "source": [
        "Data:\n",
        "\n",
        "https://www.kaggle.com/c/galaxy-zoo-the-galaxy-challenge\n",
        "\n",
        "\n",
        "\n",
        "References:\n",
        "\n",
        "1. https://pytorch.org/tutorials/beginner/transfer_learning_tutorial.html\n",
        "\n",
        "2. https://pytorch.org/vision/stable/models.html\n",
        "\n",
        "3. https://pytorch.org/tutorials/beginner/data_loading_tutorial.html\n",
        "\n",
        "4. https://pytorch.org/tutorials/beginner/finetuning_torchvision_models_tutorial.html\n",
        "\n",
        "5. https://cs231n.github.io/transfer-learning/\n",
        "\n"
      ]
    },
    {
      "cell_type": "markdown",
      "metadata": {
        "id": "Fwc85DENonBC"
      },
      "source": [
        "## Check GPU"
      ]
    },
    {
      "cell_type": "code",
      "metadata": {
        "colab": {
          "base_uri": "https://localhost:8080/"
        },
        "id": "YZrBahOJopJ0",
        "outputId": "73efceed-a972-4e7a-934c-eee04f65d72a"
      },
      "source": [
        "!nvidia-smi -L"
      ],
      "execution_count": 1,
      "outputs": [
        {
          "output_type": "stream",
          "name": "stdout",
          "text": [
            "GPU 0: Tesla T4 (UUID: GPU-279ef151-ac8f-baf8-0759-b6698cbd4eb7)\n"
          ]
        }
      ]
    },
    {
      "cell_type": "markdown",
      "metadata": {
        "id": "jlrwVfr4RKQY"
      },
      "source": [
        "## Import libraries"
      ]
    },
    {
      "cell_type": "code",
      "metadata": {
        "id": "Q8fsV8Q4qFzZ",
        "colab": {
          "base_uri": "https://localhost:8080/"
        },
        "outputId": "182adb12-e274-4eec-a3bd-90a9eb7752a3"
      },
      "source": [
        "import numpy as np\n",
        "import pandas as pd\n",
        "import matplotlib.pyplot as plt\n",
        "\n",
        "from PIL import Image\n",
        "from sklearn.model_selection import train_test_split\n",
        "from sklearn.metrics import confusion_matrix, accuracy_score, recall_score, f1_score\n",
        "import seaborn as sns\n",
        "\n",
        "import torch\n",
        "import torch.nn as nn\n",
        "from torch.utils.data import Dataset, DataLoader\n",
        "from torchvision import models, transforms, utils\n",
        "import torch.optim as optim\n",
        "from torch.optim import lr_scheduler\n",
        "\n",
        "import time\n",
        "import os\n",
        "import zipfile\n",
        "from copy import deepcopy\n",
        "\n",
        "%matplotlib inline\n",
        "\n",
        "device = torch.device(\"cuda:0\" if torch.cuda.is_available() else \"cpu\")\n",
        "print(device)"
      ],
      "execution_count": 2,
      "outputs": [
        {
          "output_type": "stream",
          "name": "stdout",
          "text": [
            "cuda:0\n"
          ]
        }
      ]
    },
    {
      "cell_type": "code",
      "metadata": {
        "colab": {
          "base_uri": "https://localhost:8080/"
        },
        "id": "-JVwOFNBXcQo",
        "outputId": "5caf088f-39b1-4c3c-d391-4f0be1383b17"
      },
      "source": [
        "torch.manual_seed(0)"
      ],
      "execution_count": 3,
      "outputs": [
        {
          "output_type": "execute_result",
          "data": {
            "text/plain": [
              "<torch._C.Generator at 0x7f5d303e0a30>"
            ]
          },
          "metadata": {},
          "execution_count": 3
        }
      ]
    },
    {
      "cell_type": "markdown",
      "metadata": {
        "id": "5P4GHgJl3e4F"
      },
      "source": [
        "## Unzip images\n",
        "\n",
        "Before running the code, please upload `images_train.zip`, `images_valid.zip` and `images_test.zip` to the workspace.\n",
        "\n",
        "We upzip these 3 files:\n",
        "\n",
        "- training images (n=99,808) in folder `images_train`\n",
        "- validation images (n=24,952) in folder `images_valid`, and\n",
        "- test images (n=31,191) in folder `images_test`."
      ]
    },
    {
      "cell_type": "code",
      "metadata": {
        "id": "Y1EQFLSE26yI"
      },
      "source": [
        "## The unzipping function\n",
        "def unzipping(zip_file_name, dest_dir):\n",
        "    \"\"\"\n",
        "    Arguments\n",
        "        zip_file_name: (str) the file name of the zip file\n",
        "        dest_dir: (str) the name of the destination folder\n",
        "    \"\"\"\n",
        "    # check if the destination folder exists. Create one if not.\n",
        "    #if not os.path.exists(dest_dir):\n",
        "    #    os.makedirs(dest_dir)\n",
        "    \n",
        "    # unzipping\n",
        "    zip_f = zipfile.ZipFile(zip_file_name, 'r')\n",
        "    zip_f.extractall(path=dest_dir)\n",
        "    zip_f.close()"
      ],
      "execution_count": 3,
      "outputs": []
    },
    {
      "cell_type": "markdown",
      "metadata": {
        "id": "eZMBKN3y_3dg"
      },
      "source": [
        "#### Unzip from Google Drive"
      ]
    },
    {
      "cell_type": "code",
      "metadata": {
        "id": "aMOozhpa_2gZ"
      },
      "source": [
        "## directory on Google Drive\n",
        "datasets_dir = 'drive/MyDrive/gz2_datasets'\n",
        "\n",
        "## Unzip training, validation, and test images\n",
        "unzipping(os.path.join(datasets_dir, 'images_train.zip'), './')\n",
        "unzipping(os.path.join(datasets_dir, 'images_valid.zip'), './')\n",
        "unzipping(os.path.join(datasets_dir, 'images_test.zip'), './')"
      ],
      "execution_count": 4,
      "outputs": []
    },
    {
      "cell_type": "markdown",
      "metadata": {
        "id": "tvmwPMJJ_6Co"
      },
      "source": [
        "#### Unzip from Google Colab workspace"
      ]
    },
    {
      "cell_type": "code",
      "metadata": {
        "id": "a9Wyot693kja"
      },
      "source": [
        "## Unzip training, validation, and test images\n",
        "unzipping('images_train.zip', 'images_train')\n",
        "unzipping('images_valid.zip', 'images_valid')\n",
        "unzipping('images_test.zip', 'images_test')"
      ],
      "execution_count": null,
      "outputs": []
    },
    {
      "cell_type": "markdown",
      "metadata": {
        "id": "esHistF0xurq"
      },
      "source": [
        "## Import custom datasets"
      ]
    },
    {
      "cell_type": "code",
      "metadata": {
        "id": "EEri0qqsKZO7"
      },
      "source": [
        "## Custom Galaxy Zoo 2 Dataset\n",
        "class GalaxyZooDataset(Dataset):\n",
        "    \"\"\"Galaxy Zoo Dataset\"\"\"\n",
        "\n",
        "    def __init__(self, csv_file, images_dir, transform=None):\n",
        "        \"\"\"\n",
        "        Args:\n",
        "            csv_file (string): path to the label csv\n",
        "            images_dir (string): path to the dir containing all images\n",
        "            transform (callable, optional): transform to apply\n",
        "        \"\"\"\n",
        "        self.labels_df = pd.read_csv(csv_file)\n",
        "        self.labels_df = self.labels_df[['galaxyID', 'label1']].copy()\n",
        "\n",
        "        self.images_dir = images_dir\n",
        "        self.transform = transform\n",
        "    \n",
        "    def __len__(self):\n",
        "        \"\"\"\n",
        "        Returns the size of the dataset\n",
        "        \"\"\"\n",
        "        return len(self.labels_df)\n",
        "\n",
        "    def __getitem__(self, idx):\n",
        "        \"\"\"\n",
        "        Get the idx-th sample.\n",
        "\t\tOutputs the image (channel first) and the true label\n",
        "        \"\"\"\n",
        "        if torch.is_tensor(idx):\n",
        "            idx = idx.tolist()\n",
        "        \n",
        "        # galaxy ID\n",
        "        galaxyid = self.labels_df.iloc[idx, 0].astype(str)\n",
        "\t\t# path of the image\n",
        "        image_path = os.path.join(self.images_dir, galaxyid + '.jpg')\n",
        "\t\t# read the image\n",
        "        image = Image.open(image_path)\n",
        "\t\t# apply transform (optional)\n",
        "        if self.transform is not None:\n",
        "            image = self.transform(image)\n",
        "\t\t# read the true label\n",
        "        label = int(self.labels_df.iloc[idx, 1])\n",
        "\n",
        "        return image, label, int(galaxyid)"
      ],
      "execution_count": 5,
      "outputs": []
    },
    {
      "cell_type": "markdown",
      "metadata": {
        "id": "Y08fY_k5qTAw"
      },
      "source": [
        "## Data Augmentation Transforms"
      ]
    },
    {
      "cell_type": "code",
      "metadata": {
        "id": "Xe6kpSYMAfHX"
      },
      "source": [
        "def create_data_transforms(is_for_inception=False):\n",
        "    \"\"\"\n",
        "    Create Pytorch data transforms for the GalaxyZoo datasets.\n",
        "    Args:\n",
        "        is_for_inception (bool): True for inception neural networks\n",
        "    Outputs:\n",
        "        train_transform: transform for the training data\n",
        "        test_transform: transform for the testing data\n",
        "    \"\"\"\n",
        "    if is_for_inception:\n",
        "        input_size = 299\n",
        "    else:\n",
        "        input_size = 224\n",
        "\n",
        "    # transforms for training data\n",
        "    train_transform = transforms.Compose([transforms.CenterCrop(input_size),\n",
        "                                          transforms.RandomRotation(90),\n",
        "                                          transforms.RandomHorizontalFlip(),\n",
        "                                          transforms.RandomVerticalFlip(),\n",
        "                                          transforms.RandomResizedCrop(input_size, scale=(0.8, 1.0), ratio=(0.99, 1.01)),\n",
        "                                          transforms.ToTensor(),\n",
        "                                          transforms.Normalize([0.485, 0.456, 0.406], [0.229, 0.224, 0.225])])\n",
        "\n",
        "    # transforms for validation data\n",
        "    valid_transform = transforms.Compose([transforms.CenterCrop(input_size),\n",
        "                                          transforms.ToTensor(),\n",
        "                                          transforms.Normalize([0.485, 0.456, 0.406], [0.229, 0.224, 0.225])])  \n",
        "\n",
        "    # transforms for test data\n",
        "    test_transform = transforms.Compose([transforms.CenterCrop(input_size),\n",
        "                                         transforms.ToTensor(),\n",
        "                                         transforms.Normalize([0.485, 0.456, 0.406], [0.229, 0.224, 0.225])])\n",
        "\n",
        "    \n",
        "    return train_transform, valid_transform, test_transform"
      ],
      "execution_count": 6,
      "outputs": []
    },
    {
      "cell_type": "markdown",
      "metadata": {
        "id": "-CkHW-whSm1k"
      },
      "source": [
        "## Parameters"
      ]
    },
    {
      "cell_type": "code",
      "metadata": {
        "id": "Pno9P9QXSoQk"
      },
      "source": [
        "NUM_OF_CLASSES = 8  # there are 8 classes in total\n",
        "BATCH_SIZE = 64     # batch zize"
      ],
      "execution_count": 7,
      "outputs": []
    },
    {
      "cell_type": "markdown",
      "metadata": {
        "id": "Cz6M8LmPepyX"
      },
      "source": [
        "## Training function"
      ]
    },
    {
      "cell_type": "code",
      "metadata": {
        "id": "DMu7cVh1bEtO"
      },
      "source": [
        "def train_model(model, num_epochs, criterion, optimizer, scheduler, print_every=1, early_stop_epochs=10, is_for_inception=False):\n",
        "    \"\"\"\n",
        "    Train the model\n",
        "    Args:\n",
        "        model: Pytorch neural model\n",
        "        num_epochs: number of epochs to train\n",
        "        criterion: the loss function object\n",
        "        optimizer: the optimizer\n",
        "        scheduler: the learning rate decay scheduler\n",
        "        print_every: print the information every X epochs\n",
        "        early_stop_epochs: early stopping if the model doesn't improve after X epochs\n",
        "        is_for_inception: True if the model is an inception model\n",
        "    \"\"\"\n",
        "    # cache the best model\n",
        "    best_model_weights = deepcopy(model.state_dict())\n",
        "    # best train acc\n",
        "    best_train_acc = 0.0\n",
        "    # best valid acc\n",
        "    best_valid_acc = 0.0\n",
        "    # best epoch\n",
        "    best_epoch = -1    \n",
        "\n",
        "    # intiate dict to records the history of loss and acc\n",
        "    history_dic = dict()\n",
        "    history_dic['train_loss'] = []\n",
        "    history_dic['train_acc'] = []\n",
        "    history_dic['valid_loss'] = []\n",
        "    history_dic['valid_acc'] = []\n",
        "    history_dic['lr'] = []\n",
        "\n",
        "    for epoch in range(num_epochs):\n",
        "        # time of start\n",
        "        epoch_start_time = time.time()\n",
        "\n",
        "        \"\"\"\n",
        "        Train\n",
        "        \"\"\"\n",
        "        model.train()\n",
        "\n",
        "        epoch_train_cum_loss = 0.0\n",
        "        epoch_train_cum_corrects = 0\n",
        "        \n",
        "        for images, labels, _ in train_loader:\n",
        "            images = images.to(device)\n",
        "            labels = labels.long().to(device)\n",
        "\n",
        "            optimizer.zero_grad()\n",
        "            \n",
        "            if is_for_inception:\n",
        "                pred_logits, aux_outputs = model(images)\n",
        "                loss = criterion(pred_logits, labels) + 0.4*criterion(aux_outputs, labels)\n",
        "            else:\n",
        "                pred_logits = model(images)\n",
        "                loss = criterion(pred_logits, labels)\n",
        "\n",
        "            _, pred_classes = torch.max(pred_logits.detach(), dim=1)\n",
        "            pred_classes = pred_classes.long()\n",
        "\n",
        "            epoch_train_cum_loss += loss.item() * images.size(0)\n",
        "            epoch_train_cum_corrects += torch.sum(pred_classes==labels.data).detach().to('cpu').item()\n",
        "\n",
        "            loss.backward()\n",
        "            optimizer.step()\n",
        "            \n",
        "        \"\"\"\n",
        "        Eval\n",
        "        \"\"\"\n",
        "        model.eval()\n",
        "\n",
        "        epoch_valid_cum_loss = 0.0\n",
        "        epoch_valid_cum_corrects = 0\n",
        "\n",
        "        for images, labels, _ in valid_loader:\n",
        "            images = images.to(device)\n",
        "            labels = labels.long().to(device)\n",
        "\n",
        "            with torch.no_grad():\n",
        "                pred_logits = model(images)\n",
        "                _, pred_classes = torch.max(pred_logits.detach(), dim=1)\n",
        "                loss = criterion(pred_logits, labels)\n",
        "\n",
        "                epoch_valid_cum_loss += loss.item() * images.size(0)\n",
        "                epoch_valid_cum_corrects += torch.sum(pred_classes==labels.data).detach().to('cpu').item()\n",
        "\n",
        "        ## Calculate metrics\n",
        "        train_loss = epoch_train_cum_loss / len(data_train)\n",
        "        train_acc = epoch_train_cum_corrects / len(data_train)\n",
        "        valid_loss = epoch_valid_cum_loss / len(data_valid)\n",
        "        valid_acc = epoch_valid_cum_corrects / len(data_valid)\n",
        "\n",
        "        # update history_dic\n",
        "        history_dic['train_loss'].append(train_loss)\n",
        "        history_dic['train_acc'].append(train_acc)\n",
        "        history_dic['valid_loss'].append(valid_loss)\n",
        "        history_dic['valid_acc'].append(valid_acc)\n",
        "        history_dic['lr'].append(scheduler.get_last_lr()[0])\n",
        "\n",
        "        # check if is the best acc ever\n",
        "        if valid_acc > best_valid_acc:\n",
        "            best_train_acc = train_acc\n",
        "            best_valid_acc = valid_acc\n",
        "            best_epoch = epoch + 1\n",
        "            # update the best model weights\n",
        "            best_model_weights = deepcopy(model.state_dict())\n",
        "            # save the best model weights to Google drive\n",
        "            torch.save(model.state_dict(), os.path.join('drive/MyDrive/gz2_datasets', model_name + \"_cache.pth\"))\n",
        "\n",
        "        epoch_end_time = time.time()\n",
        "        epoch_time_used = epoch_end_time - epoch_start_time\n",
        "        # convert epoch_time_used into mm:ss\n",
        "        mm = epoch_time_used // 60\n",
        "        ss = epoch_time_used % 60\n",
        "\n",
        "        ## Print metrics\n",
        "        if (epoch+1) % print_every == 0:\n",
        "\n",
        "            # if is best valid acc\n",
        "            if epoch == (best_epoch - 1):\n",
        "                print(\"Epoch {}/{}\\tTrain loss: {:.4f}\\tTrain acc: {:.4f}\\tValid loss: {:.4f}\\tValid acc: {:.4f}\\tTime: {:.0f}m {:.0f}s\\t<--\".format(\n",
        "                    epoch+1, num_epochs, train_loss, train_acc, valid_loss, valid_acc, mm, ss))\n",
        "            # not a better model\n",
        "            else:\n",
        "                print(\"Epoch {}/{}\\tTrain loss: {:.4f}\\tTrain acc: {:.4f}\\tValid loss: {:.4f}\\tValid acc: {:.4f}\\tTime: {:.0f}m {:.0f}s\".format(\n",
        "                    epoch+1, num_epochs, train_loss, train_acc, valid_loss, valid_acc, mm, ss))\n",
        "            \n",
        "        ## Early stopping\n",
        "        if (epoch+1) - best_epoch >= early_stop_epochs:\n",
        "            print(\"Early stopping... (Model did not improve after {} epochs)\".format(early_stop_epochs))\n",
        "            break\n",
        "        \n",
        "        scheduler.step()\n",
        "    \n",
        "    # load the best weights into the model\n",
        "    model.load_state_dict(best_model_weights)\n",
        "    # print the best epoch\n",
        "    print(\"Best epoch = {}, with training accuracy = {:.4f} and validation accuracy = {:.4f}\".format(best_epoch, best_train_acc, best_valid_acc))\n",
        "\n",
        "    # return the best model\n",
        "    return model, history_dic"
      ],
      "execution_count": 8,
      "outputs": []
    },
    {
      "cell_type": "markdown",
      "metadata": {
        "id": "Old_Wbz6OAO8"
      },
      "source": [
        "## VGG-16(bn) Model"
      ]
    },
    {
      "cell_type": "markdown",
      "metadata": {
        "id": "4oY7PN4p2SiI"
      },
      "source": [
        "### Create transforms and dataloaders\n",
        "\n",
        "We set `is_for_inception` to `False`"
      ]
    },
    {
      "cell_type": "code",
      "metadata": {
        "colab": {
          "base_uri": "https://localhost:8080/"
        },
        "id": "u7U4-obC2MZl",
        "outputId": "9b1001a3-b710-48fc-d2b9-288b3b16f9ff"
      },
      "source": [
        "# create transforms\n",
        "train_transform, valid_transform, test_transform = create_data_transforms(is_for_inception=False)\n",
        "\n",
        "# create datasets\n",
        "data_train = GalaxyZooDataset('gz2_train.csv', 'images_train', train_transform)\n",
        "data_valid = GalaxyZooDataset('gz2_valid.csv', 'images_valid', valid_transform)\n",
        "data_test = GalaxyZooDataset('gz2_test.csv', 'images_test', test_transform)\n",
        "\n",
        "# dataloaders\n",
        "train_loader = DataLoader(data_train, batch_size=BATCH_SIZE, shuffle=True)\n",
        "valid_loader = DataLoader(data_valid, batch_size=BATCH_SIZE, shuffle=True)\n",
        "test_loader = DataLoader(data_test, batch_size=BATCH_SIZE, shuffle=True)\n",
        "\n",
        "# check the sizes\n",
        "print(\"Number of training data: {} ({} batches)\".format(len(data_train), len(train_loader)))\n",
        "print(\"Number of validation data: {} ({} batches)\".format(len(data_valid), len(valid_loader)))\n",
        "print(\"Number of test data: {} ({} batches)\".format(len(data_test), len(test_loader)))"
      ],
      "execution_count": 9,
      "outputs": [
        {
          "output_type": "stream",
          "name": "stdout",
          "text": [
            "Number of training data: 99808 (1560 batches)\n",
            "Number of validation data: 24952 (390 batches)\n",
            "Number of test data: 31191 (488 batches)\n"
          ]
        }
      ]
    },
    {
      "cell_type": "markdown",
      "metadata": {
        "id": "kkfVGAy12eU5"
      },
      "source": [
        "### Train"
      ]
    },
    {
      "cell_type": "code",
      "metadata": {
        "colab": {
          "base_uri": "https://localhost:8080/",
          "height": 834,
          "referenced_widgets": [
            "54c3dfeecf2c48c78835554ce31fa0d4",
            "590d7a8525f04a068580f32a1053b5d5",
            "9a2577aca3514c02bce33c2745403916",
            "8c486ec39c994c52a22e11d4baf58bb4",
            "8bab94ae98ae4169a3d4f6000335859f",
            "07144731b8df47de81f0e6ee04710b1b",
            "935a526eaa894be2bbd8746b07195fcd",
            "1f6c05a9ea5a49beb2fb51ef1bec41b6",
            "c13ad50ded5f496f923a47a0f936b0b4",
            "b2a635a0a770443d978b284a1b4ee446",
            "df26c16d199449ee8ff20e00cf25b7fe"
          ]
        },
        "id": "O6wMO6dX2fsZ",
        "outputId": "d82fd493-a003-41ea-ff9b-db1b1fc0ad8e"
      },
      "source": [
        "# filename to save\n",
        "model_name = \"gz2_vgg16bn_A\"\n",
        "\n",
        "## Download the pre-trained VGG-16(bn) model\n",
        "model = models.vgg16_bn(pretrained=True)\n",
        "\n",
        "# change the last fc layer\n",
        "model.classifier[6] = nn.Linear(4096, NUM_OF_CLASSES)\n",
        "print(model.classifier[6]) # print the modified last layer\n",
        "\n",
        "print(\"============\")\n",
        "print(\"Training\")\n",
        "print(\"Number of trainable parameters: {}\".format(sum(param.numel() for param in model.parameters() if param.requires_grad)))\n",
        "print(\"============\")\n",
        "\n",
        "# move to gpu\n",
        "model = model.to(device)\n",
        "# loss function\n",
        "criterion = nn.CrossEntropyLoss()\n",
        "# optimizer\n",
        "optimizer = optim.Adam(model.parameters(), lr=5e-5)\n",
        "# scheduler\n",
        "scheduler = lr_scheduler.StepLR(optimizer, step_size=10, gamma=0.1)\n",
        "\n",
        "## train and return the best model\n",
        "model, history_dic = train_model(model, 200, criterion, optimizer, scheduler, print_every=1, early_stop_epochs=10, is_for_inception=False)\n",
        "\n",
        "## Save the best weights\n",
        "torch.save(model.state_dict(), model_name + '.pth')\n",
        "torch.save(model.state_dict(), os.path.join('drive/MyDrive/gz2_datasets', model_name + '.pth'))\n",
        "\n",
        "## Convert history to dataframe\n",
        "history_df = pd.DataFrame(history_dic)\n",
        "\n",
        "## Save the history\n",
        "history_df.to_csv(model_name + '_history.csv')\n",
        "history_df.to_csv(os.path.join('drive/MyDrive/gz2_datasets', model_name + '_history.csv'))"
      ],
      "execution_count": 11,
      "outputs": [
        {
          "output_type": "stream",
          "name": "stderr",
          "text": [
            "Downloading: \"https://download.pytorch.org/models/vgg16_bn-6c64b313.pth\" to /root/.cache/torch/hub/checkpoints/vgg16_bn-6c64b313.pth\n"
          ]
        },
        {
          "output_type": "display_data",
          "data": {
            "application/vnd.jupyter.widget-view+json": {
              "model_id": "54c3dfeecf2c48c78835554ce31fa0d4",
              "version_minor": 0,
              "version_major": 2
            },
            "text/plain": [
              "  0%|          | 0.00/528M [00:00<?, ?B/s]"
            ]
          },
          "metadata": {}
        },
        {
          "output_type": "stream",
          "name": "stdout",
          "text": [
            "Linear(in_features=4096, out_features=8, bias=True)\n",
            "============\n",
            "Training\n",
            "Number of trainable parameters: 134301768\n",
            "============\n"
          ]
        },
        {
          "output_type": "stream",
          "name": "stderr",
          "text": [
            "/usr/local/lib/python3.7/dist-packages/torch/nn/functional.py:718: UserWarning: Named tensors and all their associated APIs are an experimental feature and subject to change. Please do not use them for anything important until they are released as stable. (Triggered internally at  /pytorch/c10/core/TensorImpl.h:1156.)\n",
            "  return torch.max_pool2d(input, kernel_size, stride, padding, dilation, ceil_mode)\n"
          ]
        },
        {
          "output_type": "stream",
          "name": "stdout",
          "text": [
            "Epoch 1/200\tTrain loss: 0.7307\tTrain acc: 0.7338\tValid loss: 0.5775\tValid acc: 0.7908\tTime: 30m 56s\t<--\n",
            "Epoch 2/200\tTrain loss: 0.5712\tTrain acc: 0.7931\tValid loss: 0.5803\tValid acc: 0.7858\tTime: 30m 46s\n",
            "Epoch 3/200\tTrain loss: 0.5335\tTrain acc: 0.8059\tValid loss: 0.5606\tValid acc: 0.7908\tTime: 30m 47s\n",
            "Epoch 4/200\tTrain loss: 0.5097\tTrain acc: 0.8138\tValid loss: 0.4910\tValid acc: 0.8178\tTime: 30m 49s\t<--\n",
            "Epoch 5/200\tTrain loss: 0.4953\tTrain acc: 0.8183\tValid loss: 0.4898\tValid acc: 0.8209\tTime: 30m 52s\t<--\n",
            "Epoch 6/200\tTrain loss: 0.4814\tTrain acc: 0.8221\tValid loss: 0.4677\tValid acc: 0.8298\tTime: 30m 51s\t<--\n",
            "Epoch 7/200\tTrain loss: 0.4718\tTrain acc: 0.8259\tValid loss: 0.4705\tValid acc: 0.8264\tTime: 30m 49s\n",
            "Epoch 8/200\tTrain loss: 0.4630\tTrain acc: 0.8300\tValid loss: 0.4727\tValid acc: 0.8258\tTime: 30m 50s\n",
            "Epoch 9/200\tTrain loss: 0.4548\tTrain acc: 0.8318\tValid loss: 0.4582\tValid acc: 0.8309\tTime: 30m 54s\t<--\n",
            "Epoch 10/200\tTrain loss: 0.4494\tTrain acc: 0.8331\tValid loss: 0.4763\tValid acc: 0.8221\tTime: 30m 52s\n",
            "Epoch 11/200\tTrain loss: 0.4023\tTrain acc: 0.8507\tValid loss: 0.4268\tValid acc: 0.8421\tTime: 30m 54s\t<--\n",
            "Epoch 12/200\tTrain loss: 0.3904\tTrain acc: 0.8549\tValid loss: 0.4194\tValid acc: 0.8453\tTime: 30m 56s\t<--\n",
            "Epoch 13/200\tTrain loss: 0.3871\tTrain acc: 0.8555\tValid loss: 0.4188\tValid acc: 0.8449\tTime: 30m 54s\n",
            "Epoch 14/200\tTrain loss: 0.3818\tTrain acc: 0.8577\tValid loss: 0.4187\tValid acc: 0.8437\tTime: 30m 54s\n",
            "Epoch 15/200\tTrain loss: 0.3802\tTrain acc: 0.8574\tValid loss: 0.4213\tValid acc: 0.8439\tTime: 30m 55s\n",
            "Epoch 16/200\tTrain loss: 0.3766\tTrain acc: 0.8592\tValid loss: 0.4172\tValid acc: 0.8442\tTime: 30m 55s\n",
            "Epoch 17/200\tTrain loss: 0.3758\tTrain acc: 0.8606\tValid loss: 0.4226\tValid acc: 0.8443\tTime: 30m 58s\n",
            "Epoch 18/200\tTrain loss: 0.3736\tTrain acc: 0.8593\tValid loss: 0.4137\tValid acc: 0.8473\tTime: 30m 60s\t<--\n",
            "Epoch 19/200\tTrain loss: 0.3708\tTrain acc: 0.8612\tValid loss: 0.4175\tValid acc: 0.8454\tTime: 31m 0s\n",
            "Epoch 20/200\tTrain loss: 0.3680\tTrain acc: 0.8619\tValid loss: 0.4188\tValid acc: 0.8461\tTime: 30m 60s\n",
            "Epoch 21/200\tTrain loss: 0.3633\tTrain acc: 0.8633\tValid loss: 0.4141\tValid acc: 0.8461\tTime: 31m 0s\n",
            "Epoch 22/200\tTrain loss: 0.3628\tTrain acc: 0.8641\tValid loss: 0.4120\tValid acc: 0.8470\tTime: 30m 57s\n",
            "Epoch 23/200\tTrain loss: 0.3610\tTrain acc: 0.8644\tValid loss: 0.4149\tValid acc: 0.8463\tTime: 30m 56s\n",
            "Epoch 24/200\tTrain loss: 0.3610\tTrain acc: 0.8638\tValid loss: 0.4156\tValid acc: 0.8463\tTime: 30m 54s\n",
            "Epoch 25/200\tTrain loss: 0.3587\tTrain acc: 0.8653\tValid loss: 0.4123\tValid acc: 0.8477\tTime: 30m 57s\t<--\n",
            "Epoch 26/200\tTrain loss: 0.3608\tTrain acc: 0.8647\tValid loss: 0.4146\tValid acc: 0.8468\tTime: 30m 57s\n",
            "Epoch 27/200\tTrain loss: 0.3605\tTrain acc: 0.8638\tValid loss: 0.4129\tValid acc: 0.8476\tTime: 30m 57s\n",
            "Epoch 28/200\tTrain loss: 0.3597\tTrain acc: 0.8654\tValid loss: 0.4124\tValid acc: 0.8473\tTime: 30m 59s\n",
            "Epoch 29/200\tTrain loss: 0.3588\tTrain acc: 0.8651\tValid loss: 0.4128\tValid acc: 0.8466\tTime: 30m 58s\n",
            "Epoch 30/200\tTrain loss: 0.3585\tTrain acc: 0.8661\tValid loss: 0.4143\tValid acc: 0.8457\tTime: 30m 57s\n",
            "Epoch 31/200\tTrain loss: 0.3595\tTrain acc: 0.8659\tValid loss: 0.4119\tValid acc: 0.8470\tTime: 30m 34s\n",
            "Epoch 32/200\tTrain loss: 0.3572\tTrain acc: 0.8658\tValid loss: 0.4140\tValid acc: 0.8463\tTime: 30m 32s\n",
            "Epoch 33/200\tTrain loss: 0.3572\tTrain acc: 0.8644\tValid loss: 0.4132\tValid acc: 0.8462\tTime: 30m 35s\n",
            "Epoch 34/200\tTrain loss: 0.3575\tTrain acc: 0.8650\tValid loss: 0.4122\tValid acc: 0.8473\tTime: 30m 33s\n",
            "Epoch 35/200\tTrain loss: 0.3574\tTrain acc: 0.8658\tValid loss: 0.4158\tValid acc: 0.8462\tTime: 30m 36s\n",
            "Early stopping... (Model did not improve after 10 epochs)\n",
            "Best epoch = 25, with training accuracy = 0.8653 and validation accuracy = 0.8477\n"
          ]
        }
      ]
    },
    {
      "cell_type": "markdown",
      "metadata": {
        "id": "yyhU3HVu3O7v"
      },
      "source": [
        "## Plot loss and accuracy history\n"
      ]
    },
    {
      "cell_type": "code",
      "metadata": {
        "colab": {
          "base_uri": "https://localhost:8080/",
          "height": 100,
          "referenced_widgets": [
            "0b6f8e684b8c429dacc63269a5b22b50",
            "4251f0f5194c4b7c81c0998d719cc838",
            "0f8d760d723e456eb448fd150e000701",
            "b913a6cb06ff4d8f8920964635c82f3f",
            "050b186a8af0493e89bb7686f469166e",
            "bda35decaba4468f9086304f2e29e8b9",
            "9fb3ba2c0d2b4640aa2e065390a70573",
            "de2f9dda70634aac8a6ef0a3d82da9f5",
            "07b00a62584d4c27bb8e09ce9fea39a8",
            "be68f68a1e2b4c2089da17c2b9f63359",
            "6ab694de9b564bbabeba06b6f46b5e12"
          ]
        },
        "id": "6d2VoX4e51sj",
        "outputId": "54875035-55dc-4fe9-ad69-d12614597fab"
      },
      "source": [
        "# filename to save\n",
        "model_name = \"gz2_vgg16bn_A\"\n",
        "\n",
        "## Download the pre-trained VGG-16(bn) model\n",
        "model = models.vgg16_bn(pretrained=True)\n",
        "\n",
        "# change the last fc layer\n",
        "model.classifier[6] = nn.Linear(4096, NUM_OF_CLASSES)\n",
        "print(model.classifier[6]) # print the modified last layer\n",
        "\n",
        "# load weights\n",
        "model.load_state_dict(torch.load(os.path.join('drive/MyDrive/gz2_datasets', model_name + '.pth')))"
      ],
      "execution_count": 10,
      "outputs": [
        {
          "output_type": "stream",
          "name": "stderr",
          "text": [
            "Downloading: \"https://download.pytorch.org/models/vgg16_bn-6c64b313.pth\" to /root/.cache/torch/hub/checkpoints/vgg16_bn-6c64b313.pth\n"
          ]
        },
        {
          "output_type": "display_data",
          "data": {
            "application/vnd.jupyter.widget-view+json": {
              "model_id": "0b6f8e684b8c429dacc63269a5b22b50",
              "version_minor": 0,
              "version_major": 2
            },
            "text/plain": [
              "  0%|          | 0.00/528M [00:00<?, ?B/s]"
            ]
          },
          "metadata": {}
        },
        {
          "output_type": "stream",
          "name": "stdout",
          "text": [
            "Linear(in_features=4096, out_features=8, bias=True)\n"
          ]
        },
        {
          "output_type": "execute_result",
          "data": {
            "text/plain": [
              "<All keys matched successfully>"
            ]
          },
          "metadata": {},
          "execution_count": 10
        }
      ]
    },
    {
      "cell_type": "code",
      "metadata": {
        "colab": {
          "base_uri": "https://localhost:8080/",
          "height": 350
        },
        "id": "Us7q4YUK3Ohr",
        "outputId": "5511d93c-2153-4033-8df7-5aef6399ab15"
      },
      "source": [
        "# read csv\n",
        "history_df = pd.read_csv(os.path.join('drive/MyDrive/gz2_datasets', model_name + '_history.csv'))\n",
        "\n",
        "# number of epochs\n",
        "epochs = len(history_df['valid_acc'])\n",
        "\n",
        "fig, (ax1, ax2) = plt.subplots(1, 2, figsize=(15, 5))\n",
        "\n",
        "ax1.plot(range(epochs), history_df['train_loss'], 'b', label='train')\n",
        "ax1.plot(range(epochs), history_df['valid_loss'], 'r', label='val')\n",
        "ax1.set_title(\"Loss\")\n",
        "ax1.set_xlabel(\"Epochs\")\n",
        "ax1.set_ylabel(\"Loss\")\n",
        "ax1.legend()\n",
        "\n",
        "ax2.plot(range(epochs), history_df['train_acc'], 'b', label='train')\n",
        "ax2.plot(range(epochs), history_df['valid_acc'], 'r', label='val')\n",
        "ax2.set_title(\"Accuracy\")\n",
        "ax2.set_xlabel(\"Epochs\")\n",
        "ax2.set_ylabel(\"Acc\")\n",
        "ax2.legend()\n",
        "plt.show()"
      ],
      "execution_count": 11,
      "outputs": [
        {
          "output_type": "display_data",
          "data": {
            "image/png": "[encoded data removed]",
            "text/plain": [
              "<Figure size 1080x360 with 2 Axes>"
            ]
          },
          "metadata": {
            "needs_background": "light"
          }
        }
      ]
    },
    {
      "cell_type": "markdown",
      "metadata": {
        "id": "leROP5PmmY8E"
      },
      "source": [
        "## Predict test data"
      ]
    },
    {
      "cell_type": "code",
      "metadata": {
        "id": "tzmX8GlLbT-0"
      },
      "source": [
        "def predict_model(model):\n",
        "    \"\"\"\n",
        "    Predict test data\n",
        "    \"\"\"\n",
        "    # evaluation\n",
        "    model.eval()\n",
        "\n",
        "    # empty lists for results\n",
        "    y_true = []\n",
        "    y_pred = []\n",
        "    y_label = []\n",
        "\n",
        "    for images, labels, galaxy_id in test_loader:\n",
        "        images = images.to(device)\n",
        "        labels = labels.long().to(device)\n",
        "\n",
        "        with torch.no_grad():\n",
        "            pred_logits = model(images)\n",
        "            _, pred_classes = torch.max(pred_logits.detach(), dim=1)\n",
        "\n",
        "            y_true += torch.squeeze(labels.cpu()).tolist()\n",
        "            y_pred += torch.squeeze(pred_classes).tolist()\n",
        "            y_label += torch.squeeze(galaxy_id.cpu()).tolist()\n",
        "    \n",
        "    # create a DataFrame with columns 'GalaxyID', 'class', 'predicted labels'\n",
        "    predict_df = pd.DataFrame(data={'GalaxyID': y_label, 'class': y_true, 'pred': y_pred})\n",
        "\n",
        "    return y_true, y_pred, predict_df"
      ],
      "execution_count": 14,
      "outputs": []
    },
    {
      "cell_type": "code",
      "metadata": {
        "id": "zNtQHg4N0PD8",
        "colab": {
          "base_uri": "https://localhost:8080/"
        },
        "outputId": "748f2095-44f3-4f3c-9051-3f446c9eeb50"
      },
      "source": [
        "# weights filename\n",
        "weights_filename = model_name + \".pth\"\n",
        "print(\"weights_filename = {}\".format(weights_filename))\n",
        "\n",
        "# move to gpu\n",
        "model = model.to(device)\n",
        "\n",
        "# model evaluation\n",
        "y_true, y_pred, predict_df = predict_model(model)\n",
        "\n",
        "# save predict_df\n",
        "predict_df.to_csv(model_name + '_predictions.csv')\n",
        "predict_df.to_csv(os.path.join('drive/MyDrive/gz2_datasets', model_name + '_predictions.csv'))"
      ],
      "execution_count": 15,
      "outputs": [
        {
          "output_type": "stream",
          "name": "stdout",
          "text": [
            "weights_filename = gz2_vgg16bn_A.pth\n"
          ]
        }
      ]
    },
    {
      "cell_type": "code",
      "metadata": {
        "colab": {
          "base_uri": "https://localhost:8080/",
          "height": 204
        },
        "id": "-ZgBgOLhhWnO",
        "outputId": "d682465c-23ea-4b7c-cc4b-409801ae2930"
      },
      "source": [
        "predict_df.head()"
      ],
      "execution_count": 16,
      "outputs": [
        {
          "output_type": "execute_result",
          "data": {
            "text/html": [
              "<div>\n",
              "<style scoped>\n",
              "    .dataframe tbody tr th:only-of-type {\n",
              "        vertical-align: middle;\n",
              "    }\n",
              "\n",
              "    .dataframe tbody tr th {\n",
              "        vertical-align: top;\n",
              "    }\n",
              "\n",
              "    .dataframe thead th {\n",
              "        text-align: right;\n",
              "    }\n",
              "</style>\n",
              "<table border=\"1\" class=\"dataframe\">\n",
              "  <thead>\n",
              "    <tr style=\"text-align: right;\">\n",
              "      <th></th>\n",
              "      <th>GalaxyID</th>\n",
              "      <th>class</th>\n",
              "      <th>pred</th>\n",
              "    </tr>\n",
              "  </thead>\n",
              "  <tbody>\n",
              "    <tr>\n",
              "      <th>0</th>\n",
              "      <td>216255</td>\n",
              "      <td>0</td>\n",
              "      <td>0</td>\n",
              "    </tr>\n",
              "    <tr>\n",
              "      <th>1</th>\n",
              "      <td>161897</td>\n",
              "      <td>1</td>\n",
              "      <td>1</td>\n",
              "    </tr>\n",
              "    <tr>\n",
              "      <th>2</th>\n",
              "      <td>142357</td>\n",
              "      <td>0</td>\n",
              "      <td>0</td>\n",
              "    </tr>\n",
              "    <tr>\n",
              "      <th>3</th>\n",
              "      <td>218373</td>\n",
              "      <td>4</td>\n",
              "      <td>4</td>\n",
              "    </tr>\n",
              "    <tr>\n",
              "      <th>4</th>\n",
              "      <td>252047</td>\n",
              "      <td>4</td>\n",
              "      <td>4</td>\n",
              "    </tr>\n",
              "  </tbody>\n",
              "</table>\n",
              "</div>"
            ],
            "text/plain": [
              "   GalaxyID  class  pred\n",
              "0    216255      0     0\n",
              "1    161897      1     1\n",
              "2    142357      0     0\n",
              "3    218373      4     4\n",
              "4    252047      4     4"
            ]
          },
          "metadata": {},
          "execution_count": 16
        }
      ]
    },
    {
      "cell_type": "markdown",
      "metadata": {
        "id": "XBo_nApVbBjD"
      },
      "source": [
        "## Evaluation metrics"
      ]
    },
    {
      "cell_type": "code",
      "metadata": {
        "id": "P23-6ALPjElv",
        "colab": {
          "base_uri": "https://localhost:8080/",
          "height": 1000
        },
        "outputId": "d35a5b02-cd83-4921-8541-a0e87ccd6fbc"
      },
      "source": [
        "# galaxy classes\n",
        "gxy_labels = ['Round Elliptical',\n",
        "              'In-between Elliptical',\n",
        "              'Cigar-shaped Elliptical',\n",
        "              'Edge-on Spiral',\n",
        "              'Barred Spiral',\n",
        "              'Unbarred Spiral',\n",
        "              'Irregular',\n",
        "              'Merger']\n",
        "\n",
        "# confusion matrix\n",
        "cm = confusion_matrix(y_true, y_pred, normalize='true')\n",
        "cm_df = pd.DataFrame(cm, index=gxy_labels, columns=gxy_labels)\n",
        "\n",
        "# accuracy of each class\n",
        "for c in range(8):\n",
        "    print(\"Class {}: accuracy = {:.4f} ({})\".format(c, cm[c,c]/sum(cm[c,:]), gxy_labels[c]))\n",
        "print(\"================\")\n",
        "\n",
        "# accuracy\n",
        "acc = accuracy_score(y_true, y_pred)\n",
        "print(\"Total Accuracy = {:.4f}\\n\".format(acc))\n",
        "\n",
        "# recall\n",
        "recall = recall_score(y_true, y_pred, average='macro')\n",
        "print(\"Recall = {:.4f}\\n\".format(recall))\n",
        "\n",
        "# f1 score\n",
        "F1 = f1_score(y_true, y_pred, average='macro')\n",
        "print(\"F1 score = {:.4f}\\n\".format(F1))\n",
        "\n",
        "# plot confusion matrix\n",
        "sns.set(font_scale=1.6)\n",
        "fig = plt.figure(figsize=(10, 10))\n",
        "sns.heatmap(cm_df, annot=True, fmt=\".1%\", cmap=\"YlGnBu\", cbar=False, annot_kws={\"size\": 16})\n",
        "plt.show()"
      ],
      "execution_count": 17,
      "outputs": [
        {
          "output_type": "stream",
          "name": "stdout",
          "text": [
            "Class 0: accuracy = 0.9313 (Round Elliptical)\n",
            "Class 1: accuracy = 0.8877 (In-between Elliptical)\n",
            "Class 2: accuracy = 0.7451 (Cigar-shaped Elliptical)\n",
            "Class 3: accuracy = 0.9105 (Edge-on Spiral)\n",
            "Class 4: accuracy = 0.8546 (Barred Spiral)\n",
            "Class 5: accuracy = 0.7877 (Unbarred Spiral)\n",
            "Class 6: accuracy = 0.5077 (Irregular)\n",
            "Class 7: accuracy = 0.7052 (Merger)\n",
            "================\n",
            "Total Accuracy = 0.8522\n",
            "\n",
            "Recall = 0.7912\n",
            "\n",
            "F1 score = 0.7979\n",
            "\n"
          ]
        },
        {
          "output_type": "display_data",
          "data": {
            "image/png": "[encoded data removed]",
            "text/plain": [
              "<Figure size 720x720 with 1 Axes>"
            ]
          },
          "metadata": {}
        }
      ]
    },
    {
      "cell_type": "code",
      "metadata": {
        "id": "pInMK91rhU_n"
      },
      "source": [
        ""
      ],
      "execution_count": null,
      "outputs": []
    }
  ]
}