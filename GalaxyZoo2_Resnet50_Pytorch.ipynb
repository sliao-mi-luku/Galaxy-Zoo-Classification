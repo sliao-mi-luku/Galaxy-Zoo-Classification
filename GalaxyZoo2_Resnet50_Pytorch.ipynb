{
  "nbformat": 4,
  "nbformat_minor": 0,
  "metadata": {
    "colab": {
      "name": "GalaxyZoo2_Resnet50_Pytorch.ipynb",
      "provenance": [],
      "collapsed_sections": []
    },
    "kernelspec": {
      "name": "python3",
      "display_name": "Python 3"
    },
    "language_info": {
      "name": "python"
    },
    "accelerator": "GPU",
    "widgets": {
      "application/vnd.jupyter.widget-state+json": {
        "4c1fed851aa04176a33ae131f1dc467a": {
          "model_module": "@jupyter-widgets/controls",
          "model_name": "HBoxModel",
          "model_module_version": "1.5.0",
          "state": {
            "_view_name": "HBoxView",
            "_dom_classes": [],
            "_model_name": "HBoxModel",
            "_view_module": "@jupyter-widgets/controls",
            "_model_module_version": "1.5.0",
            "_view_count": null,
            "_view_module_version": "1.5.0",
            "box_style": "",
            "layout": "IPY_MODEL_f1c2e8edec294fea87567a6018cc124c",
            "_model_module": "@jupyter-widgets/controls",
            "children": [
              "IPY_MODEL_9899c2df5c9a4448bde42a6a443acb76",
              "IPY_MODEL_cc9c8c7234204125870eca5c2b6550ff",
              "IPY_MODEL_cf219081aa3a4ad8a1e84dda35713a8d"
            ]
          }
        },
        "f1c2e8edec294fea87567a6018cc124c": {
          "model_module": "@jupyter-widgets/base",
          "model_name": "LayoutModel",
          "model_module_version": "1.2.0",
          "state": {
            "_view_name": "LayoutView",
            "grid_template_rows": null,
            "right": null,
            "justify_content": null,
            "_view_module": "@jupyter-widgets/base",
            "overflow": null,
            "_model_module_version": "1.2.0",
            "_view_count": null,
            "flex_flow": null,
            "width": null,
            "min_width": null,
            "border": null,
            "align_items": null,
            "bottom": null,
            "_model_module": "@jupyter-widgets/base",
            "top": null,
            "grid_column": null,
            "overflow_y": null,
            "overflow_x": null,
            "grid_auto_flow": null,
            "grid_area": null,
            "grid_template_columns": null,
            "flex": null,
            "_model_name": "LayoutModel",
            "justify_items": null,
            "grid_row": null,
            "max_height": null,
            "align_content": null,
            "visibility": null,
            "align_self": null,
            "height": null,
            "min_height": null,
            "padding": null,
            "grid_auto_rows": null,
            "grid_gap": null,
            "max_width": null,
            "order": null,
            "_view_module_version": "1.2.0",
            "grid_template_areas": null,
            "object_position": null,
            "object_fit": null,
            "grid_auto_columns": null,
            "margin": null,
            "display": null,
            "left": null
          }
        },
        "9899c2df5c9a4448bde42a6a443acb76": {
          "model_module": "@jupyter-widgets/controls",
          "model_name": "HTMLModel",
          "model_module_version": "1.5.0",
          "state": {
            "_view_name": "HTMLView",
            "style": "IPY_MODEL_5f20d46812434511b6383921a750656d",
            "_dom_classes": [],
            "description": "",
            "_model_name": "HTMLModel",
            "placeholder": "​",
            "_view_module": "@jupyter-widgets/controls",
            "_model_module_version": "1.5.0",
            "value": "100%",
            "_view_count": null,
            "_view_module_version": "1.5.0",
            "description_tooltip": null,
            "_model_module": "@jupyter-widgets/controls",
            "layout": "IPY_MODEL_414a21770be44cf8b698fb26c48c9e0d"
          }
        },
        "cc9c8c7234204125870eca5c2b6550ff": {
          "model_module": "@jupyter-widgets/controls",
          "model_name": "FloatProgressModel",
          "model_module_version": "1.5.0",
          "state": {
            "_view_name": "ProgressView",
            "style": "IPY_MODEL_b1f5cc78e34247949bc9c8a3be872221",
            "_dom_classes": [],
            "description": "",
            "_model_name": "FloatProgressModel",
            "bar_style": "success",
            "max": 102530333,
            "_view_module": "@jupyter-widgets/controls",
            "_model_module_version": "1.5.0",
            "value": 102530333,
            "_view_count": null,
            "_view_module_version": "1.5.0",
            "orientation": "horizontal",
            "min": 0,
            "description_tooltip": null,
            "_model_module": "@jupyter-widgets/controls",
            "layout": "IPY_MODEL_273556cd1a324b048a4d879ad17ea59c"
          }
        },
        "cf219081aa3a4ad8a1e84dda35713a8d": {
          "model_module": "@jupyter-widgets/controls",
          "model_name": "HTMLModel",
          "model_module_version": "1.5.0",
          "state": {
            "_view_name": "HTMLView",
            "style": "IPY_MODEL_dbdce3a4ede2415ab223df8b0368a7fc",
            "_dom_classes": [],
            "description": "",
            "_model_name": "HTMLModel",
            "placeholder": "​",
            "_view_module": "@jupyter-widgets/controls",
            "_model_module_version": "1.5.0",
            "value": " 97.8M/97.8M [00:01&lt;00:00, 69.6MB/s]",
            "_view_count": null,
            "_view_module_version": "1.5.0",
            "description_tooltip": null,
            "_model_module": "@jupyter-widgets/controls",
            "layout": "IPY_MODEL_e16fa5c685ff4e6baaa0b8f57b9cf080"
          }
        },
        "5f20d46812434511b6383921a750656d": {
          "model_module": "@jupyter-widgets/controls",
          "model_name": "DescriptionStyleModel",
          "model_module_version": "1.5.0",
          "state": {
            "_view_name": "StyleView",
            "_model_name": "DescriptionStyleModel",
            "description_width": "",
            "_view_module": "@jupyter-widgets/base",
            "_model_module_version": "1.5.0",
            "_view_count": null,
            "_view_module_version": "1.2.0",
            "_model_module": "@jupyter-widgets/controls"
          }
        },
        "414a21770be44cf8b698fb26c48c9e0d": {
          "model_module": "@jupyter-widgets/base",
          "model_name": "LayoutModel",
          "model_module_version": "1.2.0",
          "state": {
            "_view_name": "LayoutView",
            "grid_template_rows": null,
            "right": null,
            "justify_content": null,
            "_view_module": "@jupyter-widgets/base",
            "overflow": null,
            "_model_module_version": "1.2.0",
            "_view_count": null,
            "flex_flow": null,
            "width": null,
            "min_width": null,
            "border": null,
            "align_items": null,
            "bottom": null,
            "_model_module": "@jupyter-widgets/base",
            "top": null,
            "grid_column": null,
            "overflow_y": null,
            "overflow_x": null,
            "grid_auto_flow": null,
            "grid_area": null,
            "grid_template_columns": null,
            "flex": null,
            "_model_name": "LayoutModel",
            "justify_items": null,
            "grid_row": null,
            "max_height": null,
            "align_content": null,
            "visibility": null,
            "align_self": null,
            "height": null,
            "min_height": null,
            "padding": null,
            "grid_auto_rows": null,
            "grid_gap": null,
            "max_width": null,
            "order": null,
            "_view_module_version": "1.2.0",
            "grid_template_areas": null,
            "object_position": null,
            "object_fit": null,
            "grid_auto_columns": null,
            "margin": null,
            "display": null,
            "left": null
          }
        },
        "b1f5cc78e34247949bc9c8a3be872221": {
          "model_module": "@jupyter-widgets/controls",
          "model_name": "ProgressStyleModel",
          "model_module_version": "1.5.0",
          "state": {
            "_view_name": "StyleView",
            "_model_name": "ProgressStyleModel",
            "description_width": "",
            "_view_module": "@jupyter-widgets/base",
            "_model_module_version": "1.5.0",
            "_view_count": null,
            "_view_module_version": "1.2.0",
            "bar_color": null,
            "_model_module": "@jupyter-widgets/controls"
          }
        },
        "273556cd1a324b048a4d879ad17ea59c": {
          "model_module": "@jupyter-widgets/base",
          "model_name": "LayoutModel",
          "model_module_version": "1.2.0",
          "state": {
            "_view_name": "LayoutView",
            "grid_template_rows": null,
            "right": null,
            "justify_content": null,
            "_view_module": "@jupyter-widgets/base",
            "overflow": null,
            "_model_module_version": "1.2.0",
            "_view_count": null,
            "flex_flow": null,
            "width": null,
            "min_width": null,
            "border": null,
            "align_items": null,
            "bottom": null,
            "_model_module": "@jupyter-widgets/base",
            "top": null,
            "grid_column": null,
            "overflow_y": null,
            "overflow_x": null,
            "grid_auto_flow": null,
            "grid_area": null,
            "grid_template_columns": null,
            "flex": null,
            "_model_name": "LayoutModel",
            "justify_items": null,
            "grid_row": null,
            "max_height": null,
            "align_content": null,
            "visibility": null,
            "align_self": null,
            "height": null,
            "min_height": null,
            "padding": null,
            "grid_auto_rows": null,
            "grid_gap": null,
            "max_width": null,
            "order": null,
            "_view_module_version": "1.2.0",
            "grid_template_areas": null,
            "object_position": null,
            "object_fit": null,
            "grid_auto_columns": null,
            "margin": null,
            "display": null,
            "left": null
          }
        },
        "dbdce3a4ede2415ab223df8b0368a7fc": {
          "model_module": "@jupyter-widgets/controls",
          "model_name": "DescriptionStyleModel",
          "model_module_version": "1.5.0",
          "state": {
            "_view_name": "StyleView",
            "_model_name": "DescriptionStyleModel",
            "description_width": "",
            "_view_module": "@jupyter-widgets/base",
            "_model_module_version": "1.5.0",
            "_view_count": null,
            "_view_module_version": "1.2.0",
            "_model_module": "@jupyter-widgets/controls"
          }
        },
        "e16fa5c685ff4e6baaa0b8f57b9cf080": {
          "model_module": "@jupyter-widgets/base",
          "model_name": "LayoutModel",
          "model_module_version": "1.2.0",
          "state": {
            "_view_name": "LayoutView",
            "grid_template_rows": null,
            "right": null,
            "justify_content": null,
            "_view_module": "@jupyter-widgets/base",
            "overflow": null,
            "_model_module_version": "1.2.0",
            "_view_count": null,
            "flex_flow": null,
            "width": null,
            "min_width": null,
            "border": null,
            "align_items": null,
            "bottom": null,
            "_model_module": "@jupyter-widgets/base",
            "top": null,
            "grid_column": null,
            "overflow_y": null,
            "overflow_x": null,
            "grid_auto_flow": null,
            "grid_area": null,
            "grid_template_columns": null,
            "flex": null,
            "_model_name": "LayoutModel",
            "justify_items": null,
            "grid_row": null,
            "max_height": null,
            "align_content": null,
            "visibility": null,
            "align_self": null,
            "height": null,
            "min_height": null,
            "padding": null,
            "grid_auto_rows": null,
            "grid_gap": null,
            "max_width": null,
            "order": null,
            "_view_module_version": "1.2.0",
            "grid_template_areas": null,
            "object_position": null,
            "object_fit": null,
            "grid_auto_columns": null,
            "margin": null,
            "display": null,
            "left": null
          }
        }
      }
    }
  },
  "cells": [
    {
      "cell_type": "markdown",
      "metadata": {
        "id": "Yifo65KNoWXT"
      },
      "source": [
        "# Galaxy Classification with CNN (Pytorch)"
      ]
    },
    {
      "cell_type": "markdown",
      "metadata": {
        "id": "o5S56vHLe3c3"
      },
      "source": [
        "Data:\n",
        "\n",
        "https://www.kaggle.com/c/galaxy-zoo-the-galaxy-challenge\n",
        "\n",
        "\n",
        "\n",
        "References:\n",
        "\n",
        "1. https://pytorch.org/tutorials/beginner/transfer_learning_tutorial.html\n",
        "\n",
        "2. https://pytorch.org/vision/stable/models.html\n",
        "\n",
        "3. https://pytorch.org/tutorials/beginner/data_loading_tutorial.html\n",
        "\n",
        "4. https://pytorch.org/tutorials/beginner/finetuning_torchvision_models_tutorial.html\n",
        "\n",
        "5. https://cs231n.github.io/transfer-learning/\n",
        "\n"
      ]
    },
    {
      "cell_type": "markdown",
      "metadata": {
        "id": "Fwc85DENonBC"
      },
      "source": [
        "## Check GPU"
      ]
    },
    {
      "cell_type": "code",
      "metadata": {
        "colab": {
          "base_uri": "https://localhost:8080/"
        },
        "id": "YZrBahOJopJ0",
        "outputId": "7f7a026b-3718-4e8b-87a4-d5ec7bce5a36"
      },
      "source": [
        "!nvidia-smi -L"
      ],
      "execution_count": 1,
      "outputs": [
        {
          "output_type": "stream",
          "name": "stdout",
          "text": [
            "GPU 0: Tesla T4 (UUID: GPU-b72a2b2d-edf2-847b-4356-e292dd44fb9e)\n"
          ]
        }
      ]
    },
    {
      "cell_type": "markdown",
      "metadata": {
        "id": "jlrwVfr4RKQY"
      },
      "source": [
        "## Import libraries"
      ]
    },
    {
      "cell_type": "code",
      "metadata": {
        "id": "Q8fsV8Q4qFzZ",
        "colab": {
          "base_uri": "https://localhost:8080/"
        },
        "outputId": "aae36e1d-6ecc-4c45-9470-d126d6067103"
      },
      "source": [
        "import numpy as np\n",
        "import pandas as pd\n",
        "import matplotlib.pyplot as plt\n",
        "\n",
        "from PIL import Image\n",
        "from sklearn.model_selection import train_test_split\n",
        "\n",
        "import torch\n",
        "import torch.nn as nn\n",
        "from torch.utils.data import Dataset, DataLoader\n",
        "from torchvision import models, transforms, utils\n",
        "import torch.optim as optim\n",
        "from torch.optim import lr_scheduler\n",
        "\n",
        "import time\n",
        "import os\n",
        "import zipfile\n",
        "from copy import deepcopy\n",
        "\n",
        "%matplotlib inline\n",
        "\n",
        "device = torch.device(\"cuda:0\" if torch.cuda.is_available() else \"cpu\")\n",
        "print(device)"
      ],
      "execution_count": 2,
      "outputs": [
        {
          "output_type": "stream",
          "name": "stdout",
          "text": [
            "cuda:0\n"
          ]
        }
      ]
    },
    {
      "cell_type": "markdown",
      "metadata": {
        "id": "5P4GHgJl3e4F"
      },
      "source": [
        "## Unzip images\n",
        "\n",
        "Before running the code, please upload `images_train.zip`, `images_valid.zip` and `images_test.zip` to the workspace.\n",
        "\n",
        "We upzip these 3 files:\n",
        "\n",
        "- training images (n=99,808) in folder `images_train`\n",
        "- validation images (n=24,952) in folder `images_valid`, and\n",
        "- test images (n=31,191) in folder `images_test`."
      ]
    },
    {
      "cell_type": "code",
      "metadata": {
        "id": "Y1EQFLSE26yI"
      },
      "source": [
        "## The unzipping function\n",
        "def unzipping(zip_file_name, dest_dir):\n",
        "    \"\"\"\n",
        "    Arguments\n",
        "        zip_file_name: (str) the file name of the zip file\n",
        "        dest_dir: (str) the name of the destination folder\n",
        "    \"\"\"\n",
        "    # check if the destination folder exists. Create one if not.\n",
        "    #if not os.path.exists(dest_dir):\n",
        "    #    os.makedirs(dest_dir)\n",
        "    \n",
        "    # unzipping\n",
        "    zip_f = zipfile.ZipFile(zip_file_name, 'r')\n",
        "    zip_f.extractall(path=dest_dir)\n",
        "    zip_f.close()"
      ],
      "execution_count": 3,
      "outputs": []
    },
    {
      "cell_type": "markdown",
      "metadata": {
        "id": "eZMBKN3y_3dg"
      },
      "source": [
        "#### Unzip from Google Drive"
      ]
    },
    {
      "cell_type": "code",
      "metadata": {
        "id": "aMOozhpa_2gZ"
      },
      "source": [
        "## directory on Google Drive\n",
        "datasets_dir = 'drive/MyDrive/gz2_datasets'\n",
        "\n",
        "## Unzip training, validation, and test images\n",
        "unzipping(os.path.join(datasets_dir, 'images_train.zip'), './')\n",
        "unzipping(os.path.join(datasets_dir, 'images_valid.zip'), './')\n",
        "unzipping(os.path.join(datasets_dir, 'images_test.zip'), './')"
      ],
      "execution_count": 4,
      "outputs": []
    },
    {
      "cell_type": "markdown",
      "metadata": {
        "id": "tvmwPMJJ_6Co"
      },
      "source": [
        "#### Unzip from Google Colab workspace"
      ]
    },
    {
      "cell_type": "code",
      "metadata": {
        "id": "a9Wyot693kja"
      },
      "source": [
        "## Unzip training, validation, and test images\n",
        "unzipping('images_train.zip', 'images_train')\n",
        "unzipping('images_valid.zip', 'images_valid')\n",
        "unzipping('images_test.zip', 'images_test')"
      ],
      "execution_count": null,
      "outputs": []
    },
    {
      "cell_type": "markdown",
      "metadata": {
        "id": "esHistF0xurq"
      },
      "source": [
        "## Import custom datasets"
      ]
    },
    {
      "cell_type": "code",
      "metadata": {
        "id": "EEri0qqsKZO7"
      },
      "source": [
        "## Custom Galaxy Zoo 2 Dataset\n",
        "class GalaxyZooDataset(Dataset):\n",
        "    \"\"\"Galaxy Zoo Dataset\"\"\"\n",
        "\n",
        "    def __init__(self, csv_file, images_dir, transform=None):\n",
        "        \"\"\"\n",
        "        Args:\n",
        "            csv_file (string): path to the label csv\n",
        "            images_dir (string): path to the dir containing all images\n",
        "            transform (callable, optional): transform to apply\n",
        "        \"\"\"\n",
        "        self.labels_df = pd.read_csv(csv_file)\n",
        "        self.labels_df = self.labels_df[['galaxyID', 'label1']].copy()\n",
        "\n",
        "        self.images_dir = images_dir\n",
        "        self.transform = transform\n",
        "    \n",
        "    def __len__(self):\n",
        "        \"\"\"\n",
        "        Returns the size of the dataset\n",
        "        \"\"\"\n",
        "        return len(self.labels_df)\n",
        "\n",
        "    def __getitem__(self, idx):\n",
        "        \"\"\"\n",
        "        Get the idx-th sample.\n",
        "\t\tOutputs the image (channel first) and the true label\n",
        "        \"\"\"\n",
        "        if torch.is_tensor(idx):\n",
        "            idx = idx.tolist()\n",
        "        \n",
        "        # galaxy ID\n",
        "        galaxyid = self.labels_df.iloc[idx, 0].astype(str)\n",
        "\t\t# path of the image\n",
        "        image_path = os.path.join(self.images_dir, galaxyid + '.jpg')\n",
        "\t\t# read the image\n",
        "        image = Image.open(image_path)\n",
        "\t\t# apply transform (optional)\n",
        "        if self.transform is not None:\n",
        "            image = self.transform(image)\n",
        "\t\t# read the true label\n",
        "        label = int(self.labels_df.iloc[idx, 1])\n",
        "\n",
        "        return image, label"
      ],
      "execution_count": 5,
      "outputs": []
    },
    {
      "cell_type": "markdown",
      "metadata": {
        "id": "Y08fY_k5qTAw"
      },
      "source": [
        "## Data Augmentation Transforms"
      ]
    },
    {
      "cell_type": "code",
      "metadata": {
        "id": "Xe6kpSYMAfHX"
      },
      "source": [
        "def create_data_transforms(is_for_inception=False):\n",
        "    \"\"\"\n",
        "    Create Pytorch data transforms for the GalaxyZoo datasets.\n",
        "    Args:\n",
        "        is_for_inception (bool): True for inception neural networks\n",
        "    Outputs:\n",
        "        train_transform: transform for the training data\n",
        "        test_transform: transform for the testing data\n",
        "    \"\"\"\n",
        "    if is_for_inception:\n",
        "        input_size = 299\n",
        "    else:\n",
        "        input_size = 224\n",
        "\n",
        "    # transforms for training data\n",
        "    train_transform = transforms.Compose([transforms.CenterCrop(input_size),\n",
        "                                          transforms.RandomRotation(90),\n",
        "                                          transforms.RandomHorizontalFlip(),\n",
        "                                          transforms.RandomVerticalFlip(),\n",
        "                                          transforms.RandomResizedCrop(input_size, scale=(0.8, 1.0), ratio=(0.99, 1.01)),\n",
        "                                          transforms.ToTensor(),\n",
        "                                          transforms.Normalize([0, 0, 0], [255, 255, 255]),\n",
        "                                          transforms.Normalize([0.485, 0.456, 0.406], [0.229, 0.224, 0.225])])\n",
        "\n",
        "    # transforms for validation data\n",
        "    valid_transform = transforms.Compose([transforms.CenterCrop(input_size),\n",
        "                                          transforms.RandomRotation(90),\n",
        "                                          transforms.RandomHorizontalFlip(),\n",
        "                                          transforms.RandomVerticalFlip(),\n",
        "                                          transforms.RandomResizedCrop(input_size, scale=(0.8, 1.0), ratio=(0.99, 1.01)),\n",
        "                                          transforms.ToTensor(),\n",
        "                                          transforms.Normalize([0, 0, 0], [255, 255, 255]),\n",
        "                                          transforms.Normalize([0.485, 0.456, 0.406], [0.229, 0.224, 0.225])])  \n",
        "\n",
        "    # transforms for test data\n",
        "    test_transform = transforms.Compose([transforms.CenterCrop(input_size),\n",
        "                                         transforms.ToTensor(),\n",
        "                                         transforms.Normalize([0, 0, 0], [255, 255, 255]),\n",
        "                                         transforms.Normalize([0.485, 0.456, 0.406], [0.229, 0.224, 0.225])])\n",
        "\n",
        "    \n",
        "    return train_transform, valid_transform, test_transform"
      ],
      "execution_count": 6,
      "outputs": []
    },
    {
      "cell_type": "markdown",
      "metadata": {
        "id": "-CkHW-whSm1k"
      },
      "source": [
        "## Parameters"
      ]
    },
    {
      "cell_type": "code",
      "metadata": {
        "id": "Pno9P9QXSoQk"
      },
      "source": [
        "NUM_OF_CLASSES = 8  # there are 8 classes in total\n",
        "BATCH_SIZE = 64     # batch zize"
      ],
      "execution_count": 7,
      "outputs": []
    },
    {
      "cell_type": "markdown",
      "metadata": {
        "id": "Cz6M8LmPepyX"
      },
      "source": [
        "## Training function"
      ]
    },
    {
      "cell_type": "code",
      "metadata": {
        "id": "DMu7cVh1bEtO"
      },
      "source": [
        "def train_model(model, num_epochs, criterion, optimizer, scheduler, print_every=1, early_stop_epochs=10, is_for_inception=False):\n",
        "    \"\"\"\n",
        "    Train the model\n",
        "    Args:\n",
        "        model: Pytorch neural model\n",
        "        num_epochs: number of epochs to train\n",
        "        criterion: the loss function object\n",
        "        optimizer: the optimizer\n",
        "        scheduler: the learning rate decay scheduler\n",
        "        print_every: print the information every X epochs\n",
        "        early_stop_epochs: early stopping if the model doesn't improve after X epochs\n",
        "        is_for_inception: True if the model is an inception model\n",
        "    \"\"\"\n",
        "    # cache the best model\n",
        "    best_model_weights = deepcopy(model.state_dict())\n",
        "    # best train acc\n",
        "    best_train_acc = 0.0\n",
        "    # best valid acc\n",
        "    best_valid_acc = 0.0\n",
        "    # best epoch\n",
        "    best_epoch = -1    \n",
        "\n",
        "    # intiate dict to records the history of loss and acc\n",
        "    history_dic = dict()\n",
        "    history_dic['train_loss'] = []\n",
        "    history_dic['train_acc'] = []\n",
        "    history_dic['valid_loss'] = []\n",
        "    history_dic['valid_acc'] = []\n",
        "    history_dic['lr'] = []\n",
        "\n",
        "    for epoch in range(num_epochs):\n",
        "        # time of start\n",
        "        epoch_start_time = time.time()\n",
        "\n",
        "        \"\"\"\n",
        "        Train\n",
        "        \"\"\"\n",
        "        model.train()\n",
        "\n",
        "        epoch_train_cum_loss = 0.0\n",
        "        epoch_train_cum_corrects = 0\n",
        "        \n",
        "        for images, labels in train_loader:\n",
        "            images = images.to(device)\n",
        "            labels = labels.long().to(device)\n",
        "\n",
        "            optimizer.zero_grad()\n",
        "            \n",
        "            if is_for_inception:\n",
        "                pred_logits, aux_outputs = model(images)\n",
        "                loss = criterion(pred_logits, labels) + 0.4*criterion(aux_outputs, labels)\n",
        "            else:\n",
        "                pred_logits = model(images)\n",
        "                loss = criterion(pred_logits, labels)\n",
        "\n",
        "            _, pred_classes = torch.max(pred_logits.detach(), dim=1)\n",
        "            pred_classes = pred_classes.long()\n",
        "\n",
        "            epoch_train_cum_loss += loss.item() * images.size(0)\n",
        "            epoch_train_cum_corrects += torch.sum(pred_classes==labels.data).detach().to('cpu')\n",
        "\n",
        "            loss.backward()\n",
        "            optimizer.step()\n",
        "            \n",
        "        \"\"\"\n",
        "        Eval\n",
        "        \"\"\"\n",
        "        model.eval()\n",
        "\n",
        "        epoch_valid_cum_loss = 0.0\n",
        "        epoch_valid_cum_corrects = 0\n",
        "\n",
        "        for images, labels in valid_loader:\n",
        "            images = images.to(device)\n",
        "            labels = labels.long().to(device)\n",
        "\n",
        "            with torch.no_grad():\n",
        "                pred_logits = model(images)\n",
        "                _, pred_classes = torch.max(pred_logits.detach(), dim=1)\n",
        "                loss = criterion(pred_logits, labels)\n",
        "\n",
        "                epoch_valid_cum_loss += loss.item() * images.size(0)\n",
        "                epoch_valid_cum_corrects += torch.sum(pred_classes==labels.data).detach().to('cpu')\n",
        "\n",
        "        ## Calculate metrics\n",
        "        train_loss = epoch_train_cum_loss / len(data_train)\n",
        "        train_acc = epoch_train_cum_corrects / len(data_train)\n",
        "        valid_loss = epoch_valid_cum_loss / len(data_valid)\n",
        "        valid_acc = epoch_valid_cum_corrects / len(data_valid)\n",
        "\n",
        "        # update history_dic\n",
        "        history_dic['train_loss'].append(train_loss)\n",
        "        history_dic['train_acc'].append(train_acc)\n",
        "        history_dic['valid_loss'].append(valid_loss)\n",
        "        history_dic['valid_acc'].append(valid_acc)\n",
        "        history_dic['lr'].append(scheduler.get_last_lr()[0])\n",
        "\n",
        "        # check if is the best acc ever\n",
        "        if valid_acc > best_valid_acc:\n",
        "            best_train_acc = train_acc\n",
        "            best_valid_acc = valid_acc\n",
        "            best_epoch = epoch + 1\n",
        "            # update the best model weights\n",
        "            best_model_weights = deepcopy(model.state_dict())\n",
        "\n",
        "        epoch_end_time = time.time()\n",
        "        epoch_time_used = epoch_end_time - epoch_start_time\n",
        "        # convert epoch_time_used into mm:ss\n",
        "        mm = epoch_time_used // 60\n",
        "        ss = epoch_time_used % 60\n",
        "\n",
        "        ## Print metrics\n",
        "        if (epoch+1) % print_every == 0:\n",
        "\n",
        "            # if is best valid acc\n",
        "            if epoch == (best_epoch - 1):\n",
        "                print(\"Epoch {}/{}\\tTrain loss: {:.4f}\\tTrain acc: {:.4f}\\tValid loss: {:.4f}\\tValid acc: {:.4f}\\tTime: {:.0f}m {:.0f}s\\t<--\".format(\n",
        "                    epoch+1, num_epochs, train_loss, train_acc, valid_loss, valid_acc, mm, ss))\n",
        "            # not a better model\n",
        "            else:\n",
        "                print(\"Epoch {}/{}\\tTrain loss: {:.4f}\\tTrain acc: {:.4f}\\tValid loss: {:.4f}\\tValid acc: {:.4f}\\tTime: {:.0f}m {:.0f}s\".format(\n",
        "                    epoch+1, num_epochs, train_loss, train_acc, valid_loss, valid_acc, mm, ss))\n",
        "            \n",
        "        ## Early stopping\n",
        "        if (epoch+1) - best_epoch >= early_stop_epochs:\n",
        "            print(\"Early stopping... (Model did not improve after {} epochs)\".format(early_stop_epochs))\n",
        "            break\n",
        "        \n",
        "        scheduler.step()\n",
        "    \n",
        "    # load the best weights into the model\n",
        "    model.load_state_dict(best_model_weights)\n",
        "    # print the best epoch\n",
        "    print(\"Best epoch = {}, with training accuracy = {:.4f} and validation accuracy = {:.4f}\".format(best_epoch, best_train_acc, best_valid_acc))\n",
        "    # return the best model\n",
        "    return model, history_dic"
      ],
      "execution_count": 8,
      "outputs": []
    },
    {
      "cell_type": "markdown",
      "metadata": {
        "id": "Old_Wbz6OAO8"
      },
      "source": [
        "## ResNet50 Model"
      ]
    },
    {
      "cell_type": "markdown",
      "metadata": {
        "id": "QtooFp-SOW9r"
      },
      "source": [
        "### Model architecture"
      ]
    },
    {
      "cell_type": "code",
      "metadata": {
        "colab": {
          "base_uri": "https://localhost:8080/",
          "height": 1000,
          "referenced_widgets": [
            "4c1fed851aa04176a33ae131f1dc467a",
            "f1c2e8edec294fea87567a6018cc124c",
            "9899c2df5c9a4448bde42a6a443acb76",
            "cc9c8c7234204125870eca5c2b6550ff",
            "cf219081aa3a4ad8a1e84dda35713a8d",
            "5f20d46812434511b6383921a750656d",
            "414a21770be44cf8b698fb26c48c9e0d",
            "b1f5cc78e34247949bc9c8a3be872221",
            "273556cd1a324b048a4d879ad17ea59c",
            "dbdce3a4ede2415ab223df8b0368a7fc",
            "e16fa5c685ff4e6baaa0b8f57b9cf080"
          ]
        },
        "id": "CfrvERMWOCrF",
        "outputId": "a4122afe-5b73-4c71-b794-d229c4cf1f6d"
      },
      "source": [
        "## Resnet50 architecture\n",
        "model = models.resnet50(pretrained=True)\n",
        "print(model)\n",
        "# count trainable parameters\n",
        "print(\"==========\")\n",
        "print(\"Number of trainable parameters:\")\n",
        "print(\"layer1: {}\".format(sum(param.numel() for param in model.layer1.parameters() if param.requires_grad)))\n",
        "print(\"layer2: {}\".format(sum(param.numel() for param in model.layer2.parameters() if param.requires_grad)))\n",
        "print(\"layer3: {}\".format(sum(param.numel() for param in model.layer3.parameters() if param.requires_grad)))\n",
        "print(\"layer4: {}\".format(sum(param.numel() for param in model.layer4.parameters() if param.requires_grad)))\n",
        "print(\"fc: {}\".format(sum(param.numel() for param in model.fc.parameters() if param.requires_grad)))\n",
        "print(\"TOTAL: {}\".format(sum(param.numel() for param in model.parameters() if param.requires_grad)))\n",
        "print(\"==========\")\n",
        "# free the space\n",
        "del model"
      ],
      "execution_count": 9,
      "outputs": [
        {
          "output_type": "stream",
          "name": "stderr",
          "text": [
            "Downloading: \"https://download.pytorch.org/models/resnet50-0676ba61.pth\" to /root/.cache/torch/hub/checkpoints/resnet50-0676ba61.pth\n"
          ]
        },
        {
          "output_type": "display_data",
          "data": {
            "application/vnd.jupyter.widget-view+json": {
              "model_id": "4c1fed851aa04176a33ae131f1dc467a",
              "version_minor": 0,
              "version_major": 2
            },
            "text/plain": [
              "  0%|          | 0.00/97.8M [00:00<?, ?B/s]"
            ]
          },
          "metadata": {}
        },
        {
          "output_type": "stream",
          "name": "stdout",
          "text": [
            "ResNet(\n",
            "  (conv1): Conv2d(3, 64, kernel_size=(7, 7), stride=(2, 2), padding=(3, 3), bias=False)\n",
            "  (bn1): BatchNorm2d(64, eps=1e-05, momentum=0.1, affine=True, track_running_stats=True)\n",
            "  (relu): ReLU(inplace=True)\n",
            "  (maxpool): MaxPool2d(kernel_size=3, stride=2, padding=1, dilation=1, ceil_mode=False)\n",
            "  (layer1): Sequential(\n",
            "    (0): Bottleneck(\n",
            "      (conv1): Conv2d(64, 64, kernel_size=(1, 1), stride=(1, 1), bias=False)\n",
            "      (bn1): BatchNorm2d(64, eps=1e-05, momentum=0.1, affine=True, track_running_stats=True)\n",
            "      (conv2): Conv2d(64, 64, kernel_size=(3, 3), stride=(1, 1), padding=(1, 1), bias=False)\n",
            "      (bn2): BatchNorm2d(64, eps=1e-05, momentum=0.1, affine=True, track_running_stats=True)\n",
            "      (conv3): Conv2d(64, 256, kernel_size=(1, 1), stride=(1, 1), bias=False)\n",
            "      (bn3): BatchNorm2d(256, eps=1e-05, momentum=0.1, affine=True, track_running_stats=True)\n",
            "      (relu): ReLU(inplace=True)\n",
            "      (downsample): Sequential(\n",
            "        (0): Conv2d(64, 256, kernel_size=(1, 1), stride=(1, 1), bias=False)\n",
            "        (1): BatchNorm2d(256, eps=1e-05, momentum=0.1, affine=True, track_running_stats=True)\n",
            "      )\n",
            "    )\n",
            "    (1): Bottleneck(\n",
            "      (conv1): Conv2d(256, 64, kernel_size=(1, 1), stride=(1, 1), bias=False)\n",
            "      (bn1): BatchNorm2d(64, eps=1e-05, momentum=0.1, affine=True, track_running_stats=True)\n",
            "      (conv2): Conv2d(64, 64, kernel_size=(3, 3), stride=(1, 1), padding=(1, 1), bias=False)\n",
            "      (bn2): BatchNorm2d(64, eps=1e-05, momentum=0.1, affine=True, track_running_stats=True)\n",
            "      (conv3): Conv2d(64, 256, kernel_size=(1, 1), stride=(1, 1), bias=False)\n",
            "      (bn3): BatchNorm2d(256, eps=1e-05, momentum=0.1, affine=True, track_running_stats=True)\n",
            "      (relu): ReLU(inplace=True)\n",
            "    )\n",
            "    (2): Bottleneck(\n",
            "      (conv1): Conv2d(256, 64, kernel_size=(1, 1), stride=(1, 1), bias=False)\n",
            "      (bn1): BatchNorm2d(64, eps=1e-05, momentum=0.1, affine=True, track_running_stats=True)\n",
            "      (conv2): Conv2d(64, 64, kernel_size=(3, 3), stride=(1, 1), padding=(1, 1), bias=False)\n",
            "      (bn2): BatchNorm2d(64, eps=1e-05, momentum=0.1, affine=True, track_running_stats=True)\n",
            "      (conv3): Conv2d(64, 256, kernel_size=(1, 1), stride=(1, 1), bias=False)\n",
            "      (bn3): BatchNorm2d(256, eps=1e-05, momentum=0.1, affine=True, track_running_stats=True)\n",
            "      (relu): ReLU(inplace=True)\n",
            "    )\n",
            "  )\n",
            "  (layer2): Sequential(\n",
            "    (0): Bottleneck(\n",
            "      (conv1): Conv2d(256, 128, kernel_size=(1, 1), stride=(1, 1), bias=False)\n",
            "      (bn1): BatchNorm2d(128, eps=1e-05, momentum=0.1, affine=True, track_running_stats=True)\n",
            "      (conv2): Conv2d(128, 128, kernel_size=(3, 3), stride=(2, 2), padding=(1, 1), bias=False)\n",
            "      (bn2): BatchNorm2d(128, eps=1e-05, momentum=0.1, affine=True, track_running_stats=True)\n",
            "      (conv3): Conv2d(128, 512, kernel_size=(1, 1), stride=(1, 1), bias=False)\n",
            "      (bn3): BatchNorm2d(512, eps=1e-05, momentum=0.1, affine=True, track_running_stats=True)\n",
            "      (relu): ReLU(inplace=True)\n",
            "      (downsample): Sequential(\n",
            "        (0): Conv2d(256, 512, kernel_size=(1, 1), stride=(2, 2), bias=False)\n",
            "        (1): BatchNorm2d(512, eps=1e-05, momentum=0.1, affine=True, track_running_stats=True)\n",
            "      )\n",
            "    )\n",
            "    (1): Bottleneck(\n",
            "      (conv1): Conv2d(512, 128, kernel_size=(1, 1), stride=(1, 1), bias=False)\n",
            "      (bn1): BatchNorm2d(128, eps=1e-05, momentum=0.1, affine=True, track_running_stats=True)\n",
            "      (conv2): Conv2d(128, 128, kernel_size=(3, 3), stride=(1, 1), padding=(1, 1), bias=False)\n",
            "      (bn2): BatchNorm2d(128, eps=1e-05, momentum=0.1, affine=True, track_running_stats=True)\n",
            "      (conv3): Conv2d(128, 512, kernel_size=(1, 1), stride=(1, 1), bias=False)\n",
            "      (bn3): BatchNorm2d(512, eps=1e-05, momentum=0.1, affine=True, track_running_stats=True)\n",
            "      (relu): ReLU(inplace=True)\n",
            "    )\n",
            "    (2): Bottleneck(\n",
            "      (conv1): Conv2d(512, 128, kernel_size=(1, 1), stride=(1, 1), bias=False)\n",
            "      (bn1): BatchNorm2d(128, eps=1e-05, momentum=0.1, affine=True, track_running_stats=True)\n",
            "      (conv2): Conv2d(128, 128, kernel_size=(3, 3), stride=(1, 1), padding=(1, 1), bias=False)\n",
            "      (bn2): BatchNorm2d(128, eps=1e-05, momentum=0.1, affine=True, track_running_stats=True)\n",
            "      (conv3): Conv2d(128, 512, kernel_size=(1, 1), stride=(1, 1), bias=False)\n",
            "      (bn3): BatchNorm2d(512, eps=1e-05, momentum=0.1, affine=True, track_running_stats=True)\n",
            "      (relu): ReLU(inplace=True)\n",
            "    )\n",
            "    (3): Bottleneck(\n",
            "      (conv1): Conv2d(512, 128, kernel_size=(1, 1), stride=(1, 1), bias=False)\n",
            "      (bn1): BatchNorm2d(128, eps=1e-05, momentum=0.1, affine=True, track_running_stats=True)\n",
            "      (conv2): Conv2d(128, 128, kernel_size=(3, 3), stride=(1, 1), padding=(1, 1), bias=False)\n",
            "      (bn2): BatchNorm2d(128, eps=1e-05, momentum=0.1, affine=True, track_running_stats=True)\n",
            "      (conv3): Conv2d(128, 512, kernel_size=(1, 1), stride=(1, 1), bias=False)\n",
            "      (bn3): BatchNorm2d(512, eps=1e-05, momentum=0.1, affine=True, track_running_stats=True)\n",
            "      (relu): ReLU(inplace=True)\n",
            "    )\n",
            "  )\n",
            "  (layer3): Sequential(\n",
            "    (0): Bottleneck(\n",
            "      (conv1): Conv2d(512, 256, kernel_size=(1, 1), stride=(1, 1), bias=False)\n",
            "      (bn1): BatchNorm2d(256, eps=1e-05, momentum=0.1, affine=True, track_running_stats=True)\n",
            "      (conv2): Conv2d(256, 256, kernel_size=(3, 3), stride=(2, 2), padding=(1, 1), bias=False)\n",
            "      (bn2): BatchNorm2d(256, eps=1e-05, momentum=0.1, affine=True, track_running_stats=True)\n",
            "      (conv3): Conv2d(256, 1024, kernel_size=(1, 1), stride=(1, 1), bias=False)\n",
            "      (bn3): BatchNorm2d(1024, eps=1e-05, momentum=0.1, affine=True, track_running_stats=True)\n",
            "      (relu): ReLU(inplace=True)\n",
            "      (downsample): Sequential(\n",
            "        (0): Conv2d(512, 1024, kernel_size=(1, 1), stride=(2, 2), bias=False)\n",
            "        (1): BatchNorm2d(1024, eps=1e-05, momentum=0.1, affine=True, track_running_stats=True)\n",
            "      )\n",
            "    )\n",
            "    (1): Bottleneck(\n",
            "      (conv1): Conv2d(1024, 256, kernel_size=(1, 1), stride=(1, 1), bias=False)\n",
            "      (bn1): BatchNorm2d(256, eps=1e-05, momentum=0.1, affine=True, track_running_stats=True)\n",
            "      (conv2): Conv2d(256, 256, kernel_size=(3, 3), stride=(1, 1), padding=(1, 1), bias=False)\n",
            "      (bn2): BatchNorm2d(256, eps=1e-05, momentum=0.1, affine=True, track_running_stats=True)\n",
            "      (conv3): Conv2d(256, 1024, kernel_size=(1, 1), stride=(1, 1), bias=False)\n",
            "      (bn3): BatchNorm2d(1024, eps=1e-05, momentum=0.1, affine=True, track_running_stats=True)\n",
            "      (relu): ReLU(inplace=True)\n",
            "    )\n",
            "    (2): Bottleneck(\n",
            "      (conv1): Conv2d(1024, 256, kernel_size=(1, 1), stride=(1, 1), bias=False)\n",
            "      (bn1): BatchNorm2d(256, eps=1e-05, momentum=0.1, affine=True, track_running_stats=True)\n",
            "      (conv2): Conv2d(256, 256, kernel_size=(3, 3), stride=(1, 1), padding=(1, 1), bias=False)\n",
            "      (bn2): BatchNorm2d(256, eps=1e-05, momentum=0.1, affine=True, track_running_stats=True)\n",
            "      (conv3): Conv2d(256, 1024, kernel_size=(1, 1), stride=(1, 1), bias=False)\n",
            "      (bn3): BatchNorm2d(1024, eps=1e-05, momentum=0.1, affine=True, track_running_stats=True)\n",
            "      (relu): ReLU(inplace=True)\n",
            "    )\n",
            "    (3): Bottleneck(\n",
            "      (conv1): Conv2d(1024, 256, kernel_size=(1, 1), stride=(1, 1), bias=False)\n",
            "      (bn1): BatchNorm2d(256, eps=1e-05, momentum=0.1, affine=True, track_running_stats=True)\n",
            "      (conv2): Conv2d(256, 256, kernel_size=(3, 3), stride=(1, 1), padding=(1, 1), bias=False)\n",
            "      (bn2): BatchNorm2d(256, eps=1e-05, momentum=0.1, affine=True, track_running_stats=True)\n",
            "      (conv3): Conv2d(256, 1024, kernel_size=(1, 1), stride=(1, 1), bias=False)\n",
            "      (bn3): BatchNorm2d(1024, eps=1e-05, momentum=0.1, affine=True, track_running_stats=True)\n",
            "      (relu): ReLU(inplace=True)\n",
            "    )\n",
            "    (4): Bottleneck(\n",
            "      (conv1): Conv2d(1024, 256, kernel_size=(1, 1), stride=(1, 1), bias=False)\n",
            "      (bn1): BatchNorm2d(256, eps=1e-05, momentum=0.1, affine=True, track_running_stats=True)\n",
            "      (conv2): Conv2d(256, 256, kernel_size=(3, 3), stride=(1, 1), padding=(1, 1), bias=False)\n",
            "      (bn2): BatchNorm2d(256, eps=1e-05, momentum=0.1, affine=True, track_running_stats=True)\n",
            "      (conv3): Conv2d(256, 1024, kernel_size=(1, 1), stride=(1, 1), bias=False)\n",
            "      (bn3): BatchNorm2d(1024, eps=1e-05, momentum=0.1, affine=True, track_running_stats=True)\n",
            "      (relu): ReLU(inplace=True)\n",
            "    )\n",
            "    (5): Bottleneck(\n",
            "      (conv1): Conv2d(1024, 256, kernel_size=(1, 1), stride=(1, 1), bias=False)\n",
            "      (bn1): BatchNorm2d(256, eps=1e-05, momentum=0.1, affine=True, track_running_stats=True)\n",
            "      (conv2): Conv2d(256, 256, kernel_size=(3, 3), stride=(1, 1), padding=(1, 1), bias=False)\n",
            "      (bn2): BatchNorm2d(256, eps=1e-05, momentum=0.1, affine=True, track_running_stats=True)\n",
            "      (conv3): Conv2d(256, 1024, kernel_size=(1, 1), stride=(1, 1), bias=False)\n",
            "      (bn3): BatchNorm2d(1024, eps=1e-05, momentum=0.1, affine=True, track_running_stats=True)\n",
            "      (relu): ReLU(inplace=True)\n",
            "    )\n",
            "  )\n",
            "  (layer4): Sequential(\n",
            "    (0): Bottleneck(\n",
            "      (conv1): Conv2d(1024, 512, kernel_size=(1, 1), stride=(1, 1), bias=False)\n",
            "      (bn1): BatchNorm2d(512, eps=1e-05, momentum=0.1, affine=True, track_running_stats=True)\n",
            "      (conv2): Conv2d(512, 512, kernel_size=(3, 3), stride=(2, 2), padding=(1, 1), bias=False)\n",
            "      (bn2): BatchNorm2d(512, eps=1e-05, momentum=0.1, affine=True, track_running_stats=True)\n",
            "      (conv3): Conv2d(512, 2048, kernel_size=(1, 1), stride=(1, 1), bias=False)\n",
            "      (bn3): BatchNorm2d(2048, eps=1e-05, momentum=0.1, affine=True, track_running_stats=True)\n",
            "      (relu): ReLU(inplace=True)\n",
            "      (downsample): Sequential(\n",
            "        (0): Conv2d(1024, 2048, kernel_size=(1, 1), stride=(2, 2), bias=False)\n",
            "        (1): BatchNorm2d(2048, eps=1e-05, momentum=0.1, affine=True, track_running_stats=True)\n",
            "      )\n",
            "    )\n",
            "    (1): Bottleneck(\n",
            "      (conv1): Conv2d(2048, 512, kernel_size=(1, 1), stride=(1, 1), bias=False)\n",
            "      (bn1): BatchNorm2d(512, eps=1e-05, momentum=0.1, affine=True, track_running_stats=True)\n",
            "      (conv2): Conv2d(512, 512, kernel_size=(3, 3), stride=(1, 1), padding=(1, 1), bias=False)\n",
            "      (bn2): BatchNorm2d(512, eps=1e-05, momentum=0.1, affine=True, track_running_stats=True)\n",
            "      (conv3): Conv2d(512, 2048, kernel_size=(1, 1), stride=(1, 1), bias=False)\n",
            "      (bn3): BatchNorm2d(2048, eps=1e-05, momentum=0.1, affine=True, track_running_stats=True)\n",
            "      (relu): ReLU(inplace=True)\n",
            "    )\n",
            "    (2): Bottleneck(\n",
            "      (conv1): Conv2d(2048, 512, kernel_size=(1, 1), stride=(1, 1), bias=False)\n",
            "      (bn1): BatchNorm2d(512, eps=1e-05, momentum=0.1, affine=True, track_running_stats=True)\n",
            "      (conv2): Conv2d(512, 512, kernel_size=(3, 3), stride=(1, 1), padding=(1, 1), bias=False)\n",
            "      (bn2): BatchNorm2d(512, eps=1e-05, momentum=0.1, affine=True, track_running_stats=True)\n",
            "      (conv3): Conv2d(512, 2048, kernel_size=(1, 1), stride=(1, 1), bias=False)\n",
            "      (bn3): BatchNorm2d(2048, eps=1e-05, momentum=0.1, affine=True, track_running_stats=True)\n",
            "      (relu): ReLU(inplace=True)\n",
            "    )\n",
            "  )\n",
            "  (avgpool): AdaptiveAvgPool2d(output_size=(1, 1))\n",
            "  (fc): Linear(in_features=2048, out_features=1000, bias=True)\n",
            ")\n",
            "==========\n",
            "Number of trainable parameters:\n",
            "layer1: 215808\n",
            "layer2: 1219584\n",
            "layer3: 7098368\n",
            "layer4: 14964736\n",
            "fc: 2049000\n",
            "TOTAL: 25557032\n",
            "==========\n"
          ]
        }
      ]
    },
    {
      "cell_type": "markdown",
      "metadata": {
        "id": "4oY7PN4p2SiI"
      },
      "source": [
        "### Create transforms and dataloaders\n",
        "\n",
        "We set `is_for_inception` to `False`"
      ]
    },
    {
      "cell_type": "code",
      "metadata": {
        "colab": {
          "base_uri": "https://localhost:8080/"
        },
        "id": "u7U4-obC2MZl",
        "outputId": "e9db5ea0-f233-4e96-daf8-0d7ed8fe576c"
      },
      "source": [
        "# create transforms\n",
        "train_transform, valid_transform, test_transform = create_data_transforms(is_for_inception=False)\n",
        "\n",
        "# create datasets\n",
        "data_train = GalaxyZooDataset('gz2_train.csv', 'images_train', train_transform)\n",
        "data_valid = GalaxyZooDataset('gz2_valid.csv', 'images_valid', valid_transform)\n",
        "data_test = GalaxyZooDataset('gz2_test.csv', 'images_test', test_transform)\n",
        "\n",
        "# dataloaders\n",
        "train_loader = DataLoader(data_train, batch_size=BATCH_SIZE, shuffle=True)\n",
        "valid_loader = DataLoader(data_valid, batch_size=BATCH_SIZE, shuffle=True)\n",
        "test_loader = DataLoader(data_test, batch_size=BATCH_SIZE, shuffle=True)\n",
        "\n",
        "# check the sizes\n",
        "print(\"Number of training data: {} ({} batches)\".format(len(data_train), len(train_loader)))\n",
        "print(\"Number of validation data: {} ({} batches)\".format(len(data_valid), len(valid_loader)))\n",
        "print(\"Number of test data: {} ({} batches)\".format(len(data_test), len(test_loader)))"
      ],
      "execution_count": 11,
      "outputs": [
        {
          "output_type": "stream",
          "name": "stdout",
          "text": [
            "Number of training data: 99808 (1560 batches)\n",
            "Number of validation data: 24952 (390 batches)\n",
            "Number of test data: 31191 (488 batches)\n"
          ]
        }
      ]
    },
    {
      "cell_type": "markdown",
      "metadata": {
        "id": "kkfVGAy12eU5"
      },
      "source": [
        "### Train"
      ]
    },
    {
      "cell_type": "code",
      "metadata": {
        "colab": {
          "base_uri": "https://localhost:8080/"
        },
        "id": "O6wMO6dX2fsZ",
        "outputId": "e4512233-4b39-4315-f600-41142d3ae98d"
      },
      "source": [
        "## Download the pre-trained resnet50 model\n",
        "model = models.resnet50(pretrained=True)\n",
        "\n",
        "# change the last fc layer\n",
        "model.fc = nn.Linear(2048, NUM_OF_CLASSES)\n",
        "print(model.fc) # print the modified last layer\n",
        "\n",
        "print(\"============\")\n",
        "print(\"Training\")\n",
        "print(\"Number of trainable parameters: {}\".format(sum(param.numel() for param in model.parameters() if param.requires_grad)))\n",
        "print(\"============\")\n",
        "\n",
        "# move to gpu\n",
        "model = model.to(device)\n",
        "# loss function\n",
        "criterion = nn.CrossEntropyLoss()\n",
        "# optimizer\n",
        "optimizer = optim.Adam(model.parameters(), lr=5e-5)\n",
        "# scheduler\n",
        "scheduler = lr_scheduler.StepLR(optimizer, step_size=10, gamma=0.1)\n",
        "\n",
        "## train and return the best model\n",
        "model, history_dic = train_model(model, 200, criterion, optimizer, scheduler, print_every=1, early_stop_epochs=10, is_for_inception=False)\n",
        "\n",
        "# filename to save\n",
        "filename_prefix = \"gz2_resnet50_b64_lr000005_ss10_gamma01_E200_e{}\".format(len(history_dic['valid_acc']))\n",
        "\n",
        "## Save the best weights\n",
        "torch.save(model.state_dict(), filename_prefix + \".pth\")\n",
        "\n",
        "## Convert history to dataframe\n",
        "df = pd.DataFrame(history_dic)\n",
        "\n",
        "## Save the history\n",
        "df.to_csv(filename_prefix + \".csv\")"
      ],
      "execution_count": 12,
      "outputs": [
        {
          "output_type": "stream",
          "name": "stdout",
          "text": [
            "Linear(in_features=2048, out_features=8, bias=True)\n",
            "============\n",
            "Training\n",
            "Number of trainable parameters: 23524424\n",
            "============\n"
          ]
        },
        {
          "output_type": "stream",
          "name": "stderr",
          "text": [
            "/usr/local/lib/python3.7/dist-packages/torch/nn/functional.py:718: UserWarning: Named tensors and all their associated APIs are an experimental feature and subject to change. Please do not use them for anything important until they are released as stable. (Triggered internally at  /pytorch/c10/core/TensorImpl.h:1156.)\n",
            "  return torch.max_pool2d(input, kernel_size, stride, padding, dilation, ceil_mode)\n"
          ]
        },
        {
          "output_type": "stream",
          "name": "stdout",
          "text": [
            "Epoch 1/200\tTrain loss: 0.7134\tTrain acc: 0.7391\tValid loss: 2.0386\tValid acc: 0.3053\tTime: 27m 24s\t<--\n",
            "Epoch 2/200\tTrain loss: 0.5720\tTrain acc: 0.7921\tValid loss: 2.6842\tValid acc: 0.1119\tTime: 26m 48s\n",
            "Epoch 3/200\tTrain loss: 0.5385\tTrain acc: 0.8033\tValid loss: 3.7042\tValid acc: 0.1121\tTime: 26m 40s\n",
            "Epoch 4/200\tTrain loss: 0.5163\tTrain acc: 0.8100\tValid loss: 2.2730\tValid acc: 0.3599\tTime: 26m 40s\t<--\n",
            "Epoch 5/200\tTrain loss: 0.4979\tTrain acc: 0.8165\tValid loss: 1.1808\tValid acc: 0.5545\tTime: 26m 36s\t<--\n",
            "Epoch 6/200\tTrain loss: 0.4867\tTrain acc: 0.8223\tValid loss: 3.9514\tValid acc: 0.1158\tTime: 26m 33s\n",
            "Epoch 7/200\tTrain loss: 0.4750\tTrain acc: 0.8251\tValid loss: 4.7627\tValid acc: 0.0941\tTime: 26m 31s\n",
            "Epoch 8/200\tTrain loss: 0.4657\tTrain acc: 0.8278\tValid loss: 3.5408\tValid acc: 0.1189\tTime: 26m 32s\n",
            "Epoch 9/200\tTrain loss: 0.4573\tTrain acc: 0.8308\tValid loss: 0.7012\tValid acc: 0.7500\tTime: 26m 32s\t<--\n",
            "Epoch 10/200\tTrain loss: 0.4506\tTrain acc: 0.8334\tValid loss: 3.8113\tValid acc: 0.0848\tTime: 26m 35s\n",
            "Epoch 11/200\tTrain loss: 0.4002\tTrain acc: 0.8513\tValid loss: 0.4431\tValid acc: 0.8387\tTime: 26m 36s\t<--\n",
            "Epoch 12/200\tTrain loss: 0.3874\tTrain acc: 0.8565\tValid loss: 0.4521\tValid acc: 0.8335\tTime: 26m 35s\n",
            "Epoch 13/200\tTrain loss: 0.3826\tTrain acc: 0.8574\tValid loss: 0.4683\tValid acc: 0.8310\tTime: 26m 34s\n",
            "Epoch 14/200\tTrain loss: 0.3792\tTrain acc: 0.8570\tValid loss: 0.4158\tValid acc: 0.8477\tTime: 26m 35s\t<--\n",
            "Epoch 15/200\tTrain loss: 0.3755\tTrain acc: 0.8592\tValid loss: 0.5405\tValid acc: 0.8108\tTime: 26m 38s\n",
            "Epoch 16/200\tTrain loss: 0.3715\tTrain acc: 0.8604\tValid loss: 0.4335\tValid acc: 0.8431\tTime: 26m 36s\n",
            "Epoch 17/200\tTrain loss: 0.3703\tTrain acc: 0.8607\tValid loss: 0.5429\tValid acc: 0.8066\tTime: 26m 37s\n",
            "Epoch 18/200\tTrain loss: 0.3679\tTrain acc: 0.8626\tValid loss: 0.6924\tValid acc: 0.7604\tTime: 26m 36s\n",
            "Epoch 19/200\tTrain loss: 0.3655\tTrain acc: 0.8630\tValid loss: 0.4413\tValid acc: 0.8397\tTime: 26m 37s\n",
            "Epoch 20/200\tTrain loss: 0.3632\tTrain acc: 0.8640\tValid loss: 0.4545\tValid acc: 0.8347\tTime: 26m 41s\n",
            "Epoch 21/200\tTrain loss: 0.3567\tTrain acc: 0.8656\tValid loss: 0.4127\tValid acc: 0.8504\tTime: 26m 49s\t<--\n",
            "Epoch 22/200\tTrain loss: 0.3545\tTrain acc: 0.8670\tValid loss: 0.4108\tValid acc: 0.8493\tTime: 26m 55s\n",
            "Epoch 23/200\tTrain loss: 0.3547\tTrain acc: 0.8666\tValid loss: 0.4137\tValid acc: 0.8476\tTime: 26m 55s\n",
            "Epoch 24/200\tTrain loss: 0.3528\tTrain acc: 0.8676\tValid loss: 0.4116\tValid acc: 0.8506\tTime: 26m 58s\t<--\n",
            "Epoch 25/200\tTrain loss: 0.3524\tTrain acc: 0.8671\tValid loss: 0.4166\tValid acc: 0.8463\tTime: 26m 58s\n",
            "Epoch 26/200\tTrain loss: 0.3532\tTrain acc: 0.8677\tValid loss: 0.4111\tValid acc: 0.8508\tTime: 26m 25s\t<--\n",
            "Epoch 27/200\tTrain loss: 0.3523\tTrain acc: 0.8676\tValid loss: 0.4130\tValid acc: 0.8491\tTime: 26m 14s\n",
            "Epoch 28/200\tTrain loss: 0.3520\tTrain acc: 0.8684\tValid loss: 0.4106\tValid acc: 0.8500\tTime: 26m 19s\n",
            "Epoch 29/200\tTrain loss: 0.3513\tTrain acc: 0.8685\tValid loss: 0.4108\tValid acc: 0.8477\tTime: 26m 21s\n",
            "Epoch 30/200\tTrain loss: 0.3507\tTrain acc: 0.8685\tValid loss: 0.4168\tValid acc: 0.8495\tTime: 26m 19s\n",
            "Epoch 31/200\tTrain loss: 0.3505\tTrain acc: 0.8683\tValid loss: 0.4112\tValid acc: 0.8477\tTime: 26m 19s\n",
            "Epoch 32/200\tTrain loss: 0.3515\tTrain acc: 0.8670\tValid loss: 0.4111\tValid acc: 0.8477\tTime: 26m 21s\n",
            "Epoch 33/200\tTrain loss: 0.3498\tTrain acc: 0.8678\tValid loss: 0.4132\tValid acc: 0.8496\tTime: 26m 22s\n",
            "Epoch 34/200\tTrain loss: 0.3510\tTrain acc: 0.8679\tValid loss: 0.4091\tValid acc: 0.8503\tTime: 26m 20s\n",
            "Epoch 35/200\tTrain loss: 0.3498\tTrain acc: 0.8685\tValid loss: 0.4125\tValid acc: 0.8494\tTime: 26m 19s\n",
            "Epoch 36/200\tTrain loss: 0.3501\tTrain acc: 0.8687\tValid loss: 0.4114\tValid acc: 0.8493\tTime: 26m 18s\n",
            "Early stopping... (Model did not improve after 10 epochs)\n",
            "Best epoch = 26, with training accuracy = 0.8677 and validation accuracy = 0.8508\n"
          ]
        }
      ]
    },
    {
      "cell_type": "markdown",
      "metadata": {
        "id": "yyhU3HVu3O7v"
      },
      "source": [
        "## Plot History"
      ]
    },
    {
      "cell_type": "code",
      "metadata": {
        "colab": {
          "base_uri": "https://localhost:8080/",
          "height": 367
        },
        "id": "Us7q4YUK3Ohr",
        "outputId": "ec2dd672-f69f-4aba-e770-860c51e38956"
      },
      "source": [
        "# history filename\n",
        "history_filename = filename_prefix + \".csv\"\n",
        "print(\"history_filename: {}\".format(history_filename))\n",
        "\n",
        "# read csv\n",
        "df = pd.read_csv(history_filename)\n",
        "\n",
        "# number of epochs\n",
        "epochs = len(history_dic['valid_acc'])\n",
        "\n",
        "fig, (ax1, ax2) = plt.subplots(1, 2, figsize=(15, 5))\n",
        "\n",
        "ax1.plot(range(epochs), history_dic['train_loss'], 'b', label='train')\n",
        "ax1.plot(range(epochs), history_dic['valid_loss'], 'r', label='val')\n",
        "ax1.set_title(\"Loss\")\n",
        "ax1.set_xlabel(\"Epochs\")\n",
        "ax1.set_ylabel(\"Loss\")\n",
        "ax1.legend()\n",
        "\n",
        "ax2.plot(range(epochs), history_dic['train_acc'], 'b', label='train')\n",
        "ax2.plot(range(epochs), history_dic['valid_acc'], 'r', label='val')\n",
        "ax2.set_title(\"Accuracy\")\n",
        "ax2.set_xlabel(\"Epochs\")\n",
        "ax2.set_ylabel(\"Acc\")\n",
        "ax2.legend()\n",
        "plt.show()"
      ],
      "execution_count": 13,
      "outputs": [
        {
          "output_type": "stream",
          "name": "stdout",
          "text": [
            "history_filename: gz2_resnet50_b64_lr000005_ss10_gamma01_E200_e36.csv\n"
          ]
        },
        {
          "output_type": "display_data",
          "data": {
            "image/png": "[encoded data removed]",
            "text/plain": [
              "<Figure size 1080x360 with 2 Axes>"
            ]
          },
          "metadata": {
            "needs_background": "light"
          }
        }
      ]
    },
    {
      "cell_type": "markdown",
      "metadata": {
        "id": "leROP5PmmY8E"
      },
      "source": [
        "## Predict Test Data"
      ]
    },
    {
      "cell_type": "code",
      "metadata": {
        "id": "zNtQHg4N0PD8",
        "colab": {
          "base_uri": "https://localhost:8080/"
        },
        "outputId": "4468618b-4d46-46d2-9d3f-aec787114f15"
      },
      "source": [
        "# weights filename\n",
        "weights_filename = filename_prefix + \".pth\"\n",
        "print(\"weights_filename = {}\".format(weights_filename))\n",
        "\n",
        "# download the pre-trained resnet50 model\n",
        "model = models.resnet50(pretrained=True)\n",
        "\n",
        "# change the last fc layer\n",
        "model.fc = nn.Linear(2048, NUM_OF_CLASSES)\n",
        "\n",
        "# load the weights\n",
        "model.load_state_dict(torch.load(weights_filename))\n",
        "\n",
        "# move to gpu\n",
        "model = model.to(device)\n",
        "\n",
        "# evaluation\n",
        "model.eval()\n",
        "\n",
        "# loss and accuracy\n",
        "epoch_test_cum_loss = 0.0\n",
        "epoch_test_cum_corrects = 0\n",
        "\n",
        "for images, labels in test_loader:\n",
        "    images = images.to(device)\n",
        "    labels = labels.long().to(device)\n",
        "\n",
        "    with torch.no_grad():\n",
        "        pred_logits = model(images)\n",
        "        _, pred_classes = torch.max(pred_logits.detach(), dim=1)\n",
        "        loss = criterion(pred_logits, labels)\n",
        "\n",
        "        epoch_test_cum_loss += loss.item() * images.size(0)\n",
        "        epoch_test_cum_corrects += torch.sum(pred_classes==labels.data).detach().cpu()\n",
        "\n",
        "# calculate final loss and accuracy\n",
        "test_loss = epoch_test_cum_loss / len(data_test)\n",
        "test_acc = epoch_test_cum_corrects / len(data_test)\n",
        "\n",
        "# display\n",
        "print(\"Test loss: {:.4f}\".format(test_loss))\n",
        "print(\"Test accuracy: {:.4f}\".format(test_acc))"
      ],
      "execution_count": 14,
      "outputs": [
        {
          "output_type": "stream",
          "name": "stdout",
          "text": [
            "weights_filename = gz2_resnet50_b64_lr000005_ss10_gamma01_E200_e36.pth\n",
            "Test loss: 0.4108\n",
            "Test accuracy: 0.8512\n"
          ]
        }
      ]
    },
    {
      "cell_type": "code",
      "metadata": {
        "colab": {
          "base_uri": "https://localhost:8080/",
          "height": 35
        },
        "id": "5mMyHB11rMp3",
        "outputId": "5d0b51b3-9cea-44f6-9ba6-c0a56ef80ed2"
      },
      "source": [
        "import shutil\n",
        "\n",
        "shutil.move(weights_filename, 'drive/MyDrive/gz2_datasets')\n",
        "shutil.move(history_filename, 'drive/MyDrive/gz2_datasets')"
      ],
      "execution_count": 15,
      "outputs": [
        {
          "output_type": "execute_result",
          "data": {
            "application/vnd.google.colaboratory.intrinsic+json": {
              "type": "string"
            },
            "text/plain": [
              "'drive/MyDrive/gz2_datasets/gz2_resnet50_b64_lr000005_ss10_gamma01_E200_e36.csv'"
            ]
          },
          "metadata": {},
          "execution_count": 15
        }
      ]
    }
  ]
}