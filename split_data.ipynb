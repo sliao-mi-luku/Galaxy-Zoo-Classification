{
 "cells": [
  {
   "cell_type": "markdown",
   "metadata": {},
   "source": [
    "# Data Preprocessing"
   ]
  },
  {
   "cell_type": "markdown",
   "metadata": {},
   "source": [
    "This notebook splits the complete Kaggle `images_training_rev1` images into training, validation, and testing datasets\n",
    "\n",
    "[Galaxy Zoo datasets (Kaggle)](https://www.kaggle.com/c/galaxy-zoo-the-galaxy-challenge/data)"
   ]
  },
  {
   "cell_type": "markdown",
   "metadata": {},
   "source": [
    "## Import library"
   ]
  },
  {
   "cell_type": "code",
   "execution_count": 24,
   "metadata": {},
   "outputs": [],
   "source": [
    "import pandas as pd\n",
    "import numpy as np"
   ]
  },
  {
   "cell_type": "markdown",
   "metadata": {},
   "source": [
    "## DataFrame pre-processing"
   ]
  },
  {
   "cell_type": "code",
   "execution_count": 4,
   "metadata": {},
   "outputs": [
    {
     "name": "stdout",
     "output_type": "stream",
     "text": [
      "df.shape = (61578, 2)\n"
     ]
    },
    {
     "data": {
      "text/html": [
       "<div>\n",
       "<style scoped>\n",
       "    .dataframe tbody tr th:only-of-type {\n",
       "        vertical-align: middle;\n",
       "    }\n",
       "\n",
       "    .dataframe tbody tr th {\n",
       "        vertical-align: top;\n",
       "    }\n",
       "\n",
       "    .dataframe thead th {\n",
       "        text-align: right;\n",
       "    }\n",
       "</style>\n",
       "<table border=\"1\" class=\"dataframe\">\n",
       "  <thead>\n",
       "    <tr style=\"text-align: right;\">\n",
       "      <th></th>\n",
       "      <th>GalaxyID</th>\n",
       "      <th>label</th>\n",
       "    </tr>\n",
       "  </thead>\n",
       "  <tbody>\n",
       "    <tr>\n",
       "      <th>0</th>\n",
       "      <td>100008</td>\n",
       "      <td>14</td>\n",
       "    </tr>\n",
       "    <tr>\n",
       "      <th>1</th>\n",
       "      <td>100023</td>\n",
       "      <td>14</td>\n",
       "    </tr>\n",
       "    <tr>\n",
       "      <th>2</th>\n",
       "      <td>100053</td>\n",
       "      <td>14</td>\n",
       "    </tr>\n",
       "    <tr>\n",
       "      <th>3</th>\n",
       "      <td>100078</td>\n",
       "      <td>0</td>\n",
       "    </tr>\n",
       "    <tr>\n",
       "      <th>4</th>\n",
       "      <td>100090</td>\n",
       "      <td>14</td>\n",
       "    </tr>\n",
       "  </tbody>\n",
       "</table>\n",
       "</div>"
      ],
      "text/plain": [
       "   GalaxyID  label\n",
       "0    100008     14\n",
       "1    100023     14\n",
       "2    100053     14\n",
       "3    100078      0\n",
       "4    100090     14"
      ]
     },
     "execution_count": 4,
     "metadata": {},
     "output_type": "execute_result"
    }
   ],
   "source": [
    "## Load the csv file\n",
    "df = pd.read_csv('class_labels.csv')\n",
    "print(\"df.shape = {}\".format(df.shape))\n",
    "df.head()"
   ]
  },
  {
   "cell_type": "code",
   "execution_count": 7,
   "metadata": {},
   "outputs": [
    {
     "data": {
      "text/plain": [
       "14    36706\n",
       "1     15940\n",
       "0      5449\n",
       "13     3470\n",
       "2        13\n",
       "Name: label, dtype: int64"
      ]
     },
     "execution_count": 7,
     "metadata": {},
     "output_type": "execute_result"
    }
   ],
   "source": [
    "## Unique labels\n",
    "df['label'].value_counts()"
   ]
  },
  {
   "cell_type": "markdown",
   "metadata": {},
   "source": [
    "## Renaming labels\n",
    "\n",
    "The labels can only be 0, 1, 2, 13, 14\n",
    "\n",
    "We rename 13 to 3, and rename 14 to 4"
   ]
  },
  {
   "cell_type": "code",
   "execution_count": 9,
   "metadata": {},
   "outputs": [
    {
     "data": {
      "text/html": [
       "<div>\n",
       "<style scoped>\n",
       "    .dataframe tbody tr th:only-of-type {\n",
       "        vertical-align: middle;\n",
       "    }\n",
       "\n",
       "    .dataframe tbody tr th {\n",
       "        vertical-align: top;\n",
       "    }\n",
       "\n",
       "    .dataframe thead th {\n",
       "        text-align: right;\n",
       "    }\n",
       "</style>\n",
       "<table border=\"1\" class=\"dataframe\">\n",
       "  <thead>\n",
       "    <tr style=\"text-align: right;\">\n",
       "      <th></th>\n",
       "      <th>GalaxyID</th>\n",
       "      <th>label</th>\n",
       "    </tr>\n",
       "  </thead>\n",
       "  <tbody>\n",
       "    <tr>\n",
       "      <th>0</th>\n",
       "      <td>100008</td>\n",
       "      <td>4</td>\n",
       "    </tr>\n",
       "    <tr>\n",
       "      <th>1</th>\n",
       "      <td>100023</td>\n",
       "      <td>4</td>\n",
       "    </tr>\n",
       "    <tr>\n",
       "      <th>2</th>\n",
       "      <td>100053</td>\n",
       "      <td>4</td>\n",
       "    </tr>\n",
       "    <tr>\n",
       "      <th>3</th>\n",
       "      <td>100078</td>\n",
       "      <td>0</td>\n",
       "    </tr>\n",
       "    <tr>\n",
       "      <th>4</th>\n",
       "      <td>100090</td>\n",
       "      <td>4</td>\n",
       "    </tr>\n",
       "  </tbody>\n",
       "</table>\n",
       "</div>"
      ],
      "text/plain": [
       "   GalaxyID  label\n",
       "0    100008      4\n",
       "1    100023      4\n",
       "2    100053      4\n",
       "3    100078      0\n",
       "4    100090      4"
      ]
     },
     "execution_count": 9,
     "metadata": {},
     "output_type": "execute_result"
    }
   ],
   "source": [
    "## Rename the label\n",
    "# rename label=13 to label=3\n",
    "# rename label=14 to label=4\n",
    "df['label'] = df['label'].replace({13 : 3, 14 : 4})\n",
    "df.head()"
   ]
  },
  {
   "cell_type": "code",
   "execution_count": 10,
   "metadata": {},
   "outputs": [
    {
     "data": {
      "text/plain": [
       "4    36706\n",
       "1    15940\n",
       "0     5449\n",
       "3     3470\n",
       "2       13\n",
       "Name: label, dtype: int64"
      ]
     },
     "execution_count": 10,
     "metadata": {},
     "output_type": "execute_result"
    }
   ],
   "source": [
    "## Unique labels\n",
    "df['label'].value_counts()"
   ]
  },
  {
   "cell_type": "markdown",
   "metadata": {},
   "source": [
    "## Data splitting\n",
    "\n",
    "There are 61,578 images in total.\n",
    "\n",
    "We first split the images into 49,262 training+validation sets and 12,316 test data:\n",
    "\n",
    "We then split the 49,262 training+validation data into 39,410 training data and 9,852 validation data "
   ]
  },
  {
   "cell_type": "code",
   "execution_count": 13,
   "metadata": {},
   "outputs": [
    {
     "name": "stdout",
     "output_type": "stream",
     "text": [
      "total number of images = 61578\n"
     ]
    }
   ],
   "source": [
    "num_images = df.shape[0]\n",
    "print(\"total number of images = {}\".format(num_images))"
   ]
  },
  {
   "cell_type": "code",
   "execution_count": 55,
   "metadata": {},
   "outputs": [
    {
     "name": "stdout",
     "output_type": "stream",
     "text": [
      "training indeces: [    0     1     2 ... 61574 61575 61576]\n",
      "validation indeces: [    5     6    10 ... 61564 61569 61577]\n",
      "testing indeces: [    3     9    14 ... 61553 61561 61572]\n",
      "\n",
      "training size: 39410\n",
      "validation size: 9852\n",
      "testing size: 12316\n"
     ]
    }
   ],
   "source": [
    "# random seed\n",
    "np.random.seed(3)\n",
    "\n",
    "# random select 12,316 indeces for the test dataset\n",
    "test_idx = np.sort(np.random.choice(61578, 12316, replace=False))\n",
    "\n",
    "# the remaining set\n",
    "remain_idx = np.setdiff1d(np.arange(61578), test_idx)\n",
    "\n",
    "# random select 9852 validation data\n",
    "valid_idx = np.sort(np.random.choice(remain_idx, 9852, replace=False))\n",
    "\n",
    "# set the remaining indeces for training\n",
    "train_idx = np.setdiff1d(remain_idx, valid_idx)\n",
    "\n",
    "# print\n",
    "print(\"training indeces: {}\".format(train_idx))\n",
    "print(\"validation indeces: {}\".format(valid_idx))\n",
    "print(\"testing indeces: {}\".format(test_idx))\n",
    "\n",
    "print(\"\\ntraining size: {}\".format(len(train_idx)))\n",
    "print(\"validation size: {}\".format(len(valid_idx)))\n",
    "print(\"testing size: {}\".format(len(test_idx)))"
   ]
  },
  {
   "cell_type": "code",
   "execution_count": 79,
   "metadata": {},
   "outputs": [],
   "source": [
    "# split the dataframe and reset the index\n",
    "train_df = df.iloc[train_idx, :].copy().reset_index(drop=True)\n",
    "valid_df = df.iloc[valid_idx, :].copy().reset_index(drop=True)\n",
    "test_df = df.iloc[test_idx, :].copy().reset_index(drop=True)"
   ]
  },
  {
   "cell_type": "code",
   "execution_count": 91,
   "metadata": {},
   "outputs": [
    {
     "name": "stdout",
     "output_type": "stream",
     "text": [
      "training\n",
      "   GalaxyID  label\n",
      "0    100008      4\n",
      "1    100023      4\n",
      "2    100053      4\n",
      "3    100090      4\n",
      "4    100128      0\n",
      "\n",
      "validation\n",
      "   GalaxyID  label\n",
      "0    100122      4\n",
      "1    100123      3\n",
      "2    100150      4\n",
      "3    100157      4\n",
      "4    100322      4\n",
      "\n",
      "testing\n",
      "   GalaxyID  label\n",
      "0    100078      0\n",
      "1    100143      1\n",
      "2    100237      4\n",
      "3    100259      1\n",
      "4    100382      4\n"
     ]
    }
   ],
   "source": [
    "print(\"training\")\n",
    "print(train_df.head())\n",
    "print(\"\\nvalidation\")\n",
    "print(valid_df.head())\n",
    "print(\"\\ntesting\")\n",
    "print(test_df.head())"
   ]
  },
  {
   "cell_type": "markdown",
   "metadata": {},
   "source": [
    "## Save as csv files"
   ]
  },
  {
   "cell_type": "code",
   "execution_count": 83,
   "metadata": {},
   "outputs": [],
   "source": [
    "# save training labels\n",
    "train_df.to_csv('labels_train.csv', index=False)\n",
    "# save validation labels\n",
    "valid_df.to_csv('labels_valid.csv', index=False)\n",
    "# save testing labels\n",
    "test_df.to_csv('labels_test.csv', index=False)"
   ]
  },
  {
   "cell_type": "markdown",
   "metadata": {},
   "source": [
    "## Class distribution"
   ]
  },
  {
   "cell_type": "code",
   "execution_count": 74,
   "metadata": {},
   "outputs": [
    {
     "data": {
      "text/html": [
       "<div>\n",
       "<style scoped>\n",
       "    .dataframe tbody tr th:only-of-type {\n",
       "        vertical-align: middle;\n",
       "    }\n",
       "\n",
       "    .dataframe tbody tr th {\n",
       "        vertical-align: top;\n",
       "    }\n",
       "\n",
       "    .dataframe thead th {\n",
       "        text-align: right;\n",
       "    }\n",
       "</style>\n",
       "<table border=\"1\" class=\"dataframe\">\n",
       "  <thead>\n",
       "    <tr style=\"text-align: right;\">\n",
       "      <th></th>\n",
       "      <th>train</th>\n",
       "      <th>valid</th>\n",
       "      <th>test</th>\n",
       "    </tr>\n",
       "  </thead>\n",
       "  <tbody>\n",
       "    <tr>\n",
       "      <th>0</th>\n",
       "      <td>3501</td>\n",
       "      <td>880</td>\n",
       "      <td>1068</td>\n",
       "    </tr>\n",
       "    <tr>\n",
       "      <th>1</th>\n",
       "      <td>10136</td>\n",
       "      <td>2597</td>\n",
       "      <td>3207</td>\n",
       "    </tr>\n",
       "    <tr>\n",
       "      <th>2</th>\n",
       "      <td>7</td>\n",
       "      <td>3</td>\n",
       "      <td>3</td>\n",
       "    </tr>\n",
       "    <tr>\n",
       "      <th>3</th>\n",
       "      <td>2229</td>\n",
       "      <td>562</td>\n",
       "      <td>679</td>\n",
       "    </tr>\n",
       "    <tr>\n",
       "      <th>4</th>\n",
       "      <td>23537</td>\n",
       "      <td>5810</td>\n",
       "      <td>7359</td>\n",
       "    </tr>\n",
       "  </tbody>\n",
       "</table>\n",
       "</div>"
      ],
      "text/plain": [
       "   train  valid  test\n",
       "0   3501    880  1068\n",
       "1  10136   2597  3207\n",
       "2      7      3     3\n",
       "3   2229    562   679\n",
       "4  23537   5810  7359"
      ]
     },
     "execution_count": 74,
     "metadata": {},
     "output_type": "execute_result"
    }
   ],
   "source": [
    "# compare class distribution\n",
    "train_class_counts_df = pd.DataFrame(train_df['label'].copy().value_counts()).rename(columns={\"label\":\"train\"})\n",
    "valid_class_counts_df = pd.DataFrame(valid_df['label'].copy().value_counts()).rename(columns={\"label\":\"valid\"})\n",
    "test_class_counts_df = pd.DataFrame(test_df['label'].copy().value_counts()).rename(columns={\"label\":\"test\"})\n",
    "\n",
    "class_counts_df = pd.concat([train_class_counts_df, valid_class_counts_df, test_class_counts_df],\n",
    "                           axis=1).sort_index()\n",
    "class_counts_df.head()"
   ]
  },
  {
   "cell_type": "markdown",
   "metadata": {},
   "source": [
    "**Class distributions among training, validation, and testing data**\n",
    "\n",
    "We used the chi-square test to test the null hypothesis that the training, validation, and test datasets are drawn from populations with identitcal galaxy class frequency distribution.\n",
    "\n",
    "Given a chi-square distribution with **8** degrees of freedom, the test statistic we calculated is **3.87294**, with **p-value = 0.8684**.\n",
    "\n",
    "Therfore, the null hypothesis is not rejected."
   ]
  },
  {
   "cell_type": "markdown",
   "metadata": {},
   "source": [
    "## Relocate images (optional) \n",
    "\n",
    "The codes below will create 3 folders for storing training, validation, and testing images"
   ]
  },
  {
   "cell_type": "code",
   "execution_count": 112,
   "metadata": {},
   "outputs": [],
   "source": [
    "import os\n",
    "import shutil"
   ]
  },
  {
   "cell_type": "code",
   "execution_count": 116,
   "metadata": {},
   "outputs": [
    {
     "name": "stdout",
     "output_type": "stream",
     "text": [
      "C:\\Songmao\\ML_datasets\\Kaggle_galaxyZoo\\images_training_rev1\n"
     ]
    }
   ],
   "source": [
    "%cd images_training_rev1"
   ]
  },
  {
   "cell_type": "code",
   "execution_count": 117,
   "metadata": {},
   "outputs": [],
   "source": [
    "# new folder names\n",
    "train_folder = 'images_train'\n",
    "valid_folder = 'images_valid'\n",
    "test_folder = 'images_test'\n",
    "\n",
    "# create folders if not exist\n",
    "if not os.path.exists(train_folder):\n",
    "    os.makedirs(train_folder)\n",
    "    \n",
    "if not os.path.exists(valid_folder):\n",
    "    os.makedirs(valid_folder)\n",
    "\n",
    "if not os.path.exists(test_folder):\n",
    "    os.makedirs(test_folder)"
   ]
  },
  {
   "cell_type": "code",
   "execution_count": 119,
   "metadata": {},
   "outputs": [],
   "source": [
    "# list filenames to zip\n",
    "train_fnames = [str(x)+'.jpg' for x in train_df['GalaxyID'].values]\n",
    "valid_fnames = [str(x)+'.jpg' for x in valid_df['GalaxyID'].values]\n",
    "test_fnames = [str(x)+'.jpg' for x in test_df['GalaxyID'].values]"
   ]
  },
  {
   "cell_type": "code",
   "execution_count": 120,
   "metadata": {},
   "outputs": [],
   "source": [
    "# relocate training images\n",
    "for src_path in train_fnames:\n",
    "    shutil.move(src_path, train_folder)"
   ]
  },
  {
   "cell_type": "code",
   "execution_count": 121,
   "metadata": {},
   "outputs": [],
   "source": [
    "# relocate validation images\n",
    "for src_path in valid_fnames:\n",
    "    shutil.move(src_path, valid_folder)"
   ]
  },
  {
   "cell_type": "code",
   "execution_count": 122,
   "metadata": {},
   "outputs": [],
   "source": [
    "# relocate test images\n",
    "for src_path in test_fnames:\n",
    "    shutil.move(src_path, test_folder)"
   ]
  },
  {
   "cell_type": "code",
   "execution_count": null,
   "metadata": {},
   "outputs": [],
   "source": []
  }
 ],
 "metadata": {
  "kernelspec": {
   "display_name": "mlpy37",
   "language": "python",
   "name": "mlpy37"
  },
  "language_info": {
   "codemirror_mode": {
    "name": "ipython",
    "version": 3
   },
   "file_extension": ".py",
   "mimetype": "text/x-python",
   "name": "python",
   "nbconvert_exporter": "python",
   "pygments_lexer": "ipython3",
   "version": "3.7.9"
  }
 },
 "nbformat": 4,
 "nbformat_minor": 4
}
