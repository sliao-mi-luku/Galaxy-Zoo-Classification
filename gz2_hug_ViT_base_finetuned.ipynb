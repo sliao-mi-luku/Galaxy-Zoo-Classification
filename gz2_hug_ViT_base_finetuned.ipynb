{
  "cells": [
    {
      "cell_type": "markdown",
      "metadata": {
        "id": "TUO9qXMa17F-"
      },
      "source": [
        "# Galaxy Classification with Efficient Vision Transformer (Pytorch)"
      ]
    },
    {
      "cell_type": "markdown",
      "metadata": {
        "id": "S1y8Ta0p2BUj"
      },
      "source": [
        "**Vision Transformer (Linformer) repository on GitHub**:\n",
        "\n",
        "1. https://github.com/lucidrains/vit-pytorch\n",
        "\n",
        "2. https://github.com/lucidrains/linformer\n",
        "\n",
        "\n",
        "Data:\n",
        "\n",
        "https://www.kaggle.com/c/galaxy-zoo-the-galaxy-challenge\n",
        "\n",
        "\n",
        "References:\n",
        "\n",
        "1. https://pytorch.org/tutorials/beginner/transfer_learning_tutorial.html\n",
        "\n",
        "2. https://pytorch.org/vision/stable/models.html\n",
        "\n",
        "3. https://pytorch.org/tutorials/beginner/data_loading_tutorial.html\n",
        "\n",
        "4. https://pytorch.org/tutorials/beginner/finetuning_torchvision_models_tutorial.html\n",
        "\n",
        "5. https://cs231n.github.io/transfer-learning/\n",
        "\n",
        "6. https://github.com/joshualin24/vit-pytorch/blob/main/examples/galaxy_classification.ipynb\n",
        "\n"
      ]
    },
    {
      "cell_type": "markdown",
      "metadata": {
        "id": "xbvsPMIF2NM-"
      },
      "source": [
        "## Check GPU"
      ]
    },
    {
      "cell_type": "code",
      "execution_count": null,
      "metadata": {
        "colab": {
          "base_uri": "https://localhost:8080/"
        },
        "id": "cR4qPHGPzlQZ",
        "outputId": "d09e91e0-419f-4df1-cd63-a7bfbad49871"
      },
      "outputs": [
        {
          "name": "stdout",
          "output_type": "stream",
          "text": [
            "GPU 0: Tesla V100-SXM2-16GB (UUID: GPU-318196b9-0439-3652-21f8-eba6e6188681)\n"
          ]
        }
      ],
      "source": [
        "!nvidia-smi -L"
      ]
    },
    {
      "cell_type": "markdown",
      "metadata": {
        "id": "ApYE1Fx_2HWq"
      },
      "source": [
        "## Install Vision Transformer (ViT)"
      ]
    },
    {
      "cell_type": "code",
      "execution_count": null,
      "metadata": {
        "id": "re2zMtrMzhMF"
      },
      "outputs": [],
      "source": [
        "!pip install transformers"
      ]
    },
    {
      "cell_type": "markdown",
      "metadata": {
        "id": "j_WcSZnp2PRl"
      },
      "source": [
        "## Import Libraries"
      ]
    },
    {
      "cell_type": "code",
      "execution_count": null,
      "metadata": {
        "colab": {
          "base_uri": "https://localhost:8080/"
        },
        "id": "hB7gGvfa0IIn",
        "outputId": "cb975bb1-9034-48d4-ed82-0d7fb027d7ad"
      },
      "outputs": [
        {
          "name": "stdout",
          "output_type": "stream",
          "text": [
            "cuda:0\n"
          ]
        }
      ],
      "source": [
        "import numpy as np\n",
        "import pandas as pd\n",
        "import matplotlib.pyplot as plt\n",
        "\n",
        "from PIL import Image\n",
        "from sklearn.model_selection import train_test_split\n",
        "from sklearn.metrics import confusion_matrix, accuracy_score, recall_score, f1_score\n",
        "import seaborn as sns\n",
        "\n",
        "import torch\n",
        "import torch.nn as nn\n",
        "from torch.utils.data import Dataset, DataLoader\n",
        "from torchvision import models, transforms, utils\n",
        "import torch.optim as optim\n",
        "from torch.optim import lr_scheduler\n",
        "\n",
        "import time\n",
        "import os\n",
        "import zipfile\n",
        "from copy import deepcopy\n",
        "\n",
        "%matplotlib inline\n",
        "\n",
        "device = torch.device(\"cuda:0\" if torch.cuda.is_available() else \"cpu\")\n",
        "print(device)\n",
        "\n",
        "# vision transformer\n",
        "from transformers import ViTModel, ViTConfig, ViTFeatureExtractor, ViTForImageClassification"
      ]
    },
    {
      "cell_type": "code",
      "execution_count": null,
      "metadata": {
        "colab": {
          "base_uri": "https://localhost:8080/"
        },
        "id": "0rDIIJkIxQc9",
        "outputId": "f764eb4d-ac40-42f8-8f0b-1dcc7054b526"
      },
      "outputs": [
        {
          "data": {
            "text/plain": [
              "<torch._C.Generator at 0x7f5806bc2b90>"
            ]
          },
          "execution_count": 4,
          "metadata": {},
          "output_type": "execute_result"
        }
      ],
      "source": [
        "torch.manual_seed(0)"
      ]
    },
    {
      "cell_type": "markdown",
      "metadata": {
        "id": "4t4jV38S2VLk"
      },
      "source": [
        "## Unzip images\n"
      ]
    },
    {
      "cell_type": "code",
      "execution_count": null,
      "metadata": {
        "id": "Drc6IgZJ0JQ1"
      },
      "outputs": [],
      "source": [
        "## The unzipping function\n",
        "def unzipping(zip_file_name, dest_dir):\n",
        "    \"\"\"\n",
        "    Arguments\n",
        "        zip_file_name: (str) the file name of the zip file\n",
        "        dest_dir: (str) the name of the destination folder\n",
        "    \"\"\"\n",
        "    # check if the destination folder exists. Create one if not.\n",
        "    #if not os.path.exists(dest_dir):\n",
        "    #    os.makedirs(dest_dir)\n",
        "    \n",
        "    # unzipping\n",
        "    zip_f = zipfile.ZipFile(zip_file_name, 'r')\n",
        "    zip_f.extractall(path=dest_dir)\n",
        "    zip_f.close()"
      ]
    },
    {
      "cell_type": "markdown",
      "metadata": {
        "id": "3RobhNj3l_UR"
      },
      "source": [
        "#### Unzip from Google Drive"
      ]
    },
    {
      "cell_type": "code",
      "execution_count": null,
      "metadata": {
        "id": "mTPNOjVOmEYN"
      },
      "outputs": [],
      "source": [
        "## directory on Google Drive\n",
        "datasets_dir = 'drive/MyDrive/gz2_datasets'\n",
        "\n",
        "## Unzip training, validation, and test images\n",
        "unzipping(os.path.join(datasets_dir, 'images_train.zip'), './')\n",
        "unzipping(os.path.join(datasets_dir, 'images_valid.zip'), './')\n",
        "unzipping(os.path.join(datasets_dir, 'images_test.zip'), './')"
      ]
    },
    {
      "cell_type": "markdown",
      "metadata": {
        "id": "P_oRGGTk2aUM"
      },
      "source": [
        "## Custom Datasets"
      ]
    },
    {
      "cell_type": "code",
      "execution_count": null,
      "metadata": {
        "id": "Kw-QIg3w0NNZ"
      },
      "outputs": [],
      "source": [
        "## Custom Galaxy Zoo 2 Dataset\n",
        "class GalaxyZooDataset(Dataset):\n",
        "    \"\"\"Galaxy Zoo Dataset\"\"\"\n",
        "\n",
        "    def __init__(self, csv_file, images_dir, transform=None):\n",
        "        \"\"\"\n",
        "        Args:\n",
        "            csv_file (string): path to the label csv\n",
        "            images_dir (string): path to the dir containing all images\n",
        "            transform (callable, optional): transform to apply\n",
        "        \"\"\"\n",
        "        self.labels_df = pd.read_csv(csv_file)\n",
        "        self.labels_df = self.labels_df[['galaxyID', 'label1']].copy()\n",
        "\n",
        "        self.images_dir = images_dir\n",
        "        self.transform = transform\n",
        "    \n",
        "    def __len__(self):\n",
        "        \"\"\"\n",
        "        Returns the size of the dataset\n",
        "        \"\"\"\n",
        "        return len(self.labels_df)\n",
        "\n",
        "    def __getitem__(self, idx):\n",
        "        \"\"\"\n",
        "        Get the idx-th sample.\n",
        "\t\tOutputs the image (channel first) and the true label\n",
        "        \"\"\"\n",
        "        if torch.is_tensor(idx):\n",
        "            idx = idx.tolist()\n",
        "        \n",
        "        # galaxy ID\n",
        "        galaxyid = self.labels_df.iloc[idx, 0].astype(str)\n",
        "\t\t# path of the image\n",
        "        image_path = os.path.join(self.images_dir, galaxyid + '.jpg')\n",
        "\t\t# read the image\n",
        "        image = Image.open(image_path)\n",
        "\t\t# apply transform (optional)\n",
        "        if self.transform is not None:\n",
        "            image = self.transform(image)\n",
        "\t\t# read the true label\n",
        "        label = int(self.labels_df.iloc[idx, 1])\n",
        "\n",
        "        return image, label, int(galaxyid)"
      ]
    },
    {
      "cell_type": "markdown",
      "metadata": {
        "id": "buWKR4As2dQb"
      },
      "source": [
        "## Custom Transforms"
      ]
    },
    {
      "cell_type": "code",
      "execution_count": null,
      "metadata": {
        "id": "IqShZSWU0Npi"
      },
      "outputs": [],
      "source": [
        "def create_data_transforms(is_for_inception=False):\n",
        "    \"\"\"\n",
        "    Create Pytorch data transforms for the GalaxyZoo datasets.\n",
        "    Args:\n",
        "        is_for_inception (bool): True for inception neural networks\n",
        "    Outputs:\n",
        "        train_transform: transform for the training data\n",
        "        test_transform: transform for the testing data\n",
        "    \"\"\"\n",
        "    if is_for_inception:\n",
        "        input_size = 299\n",
        "    else:\n",
        "        input_size = 224\n",
        "\n",
        "    # transforms for training data\n",
        "    train_transform = transforms.Compose([transforms.CenterCrop(input_size),\n",
        "                                          transforms.RandomRotation(90),\n",
        "                                          transforms.RandomHorizontalFlip(),\n",
        "                                          transforms.RandomVerticalFlip(),\n",
        "                                          transforms.RandomResizedCrop(input_size, scale=(0.8, 1.0), ratio=(0.99, 1.01)),\n",
        "                                          transforms.ToTensor(),\n",
        "                                          transforms.Normalize([0.5, 0.5, 0.5], [0.5, 0.5, 0.5])])\n",
        "\n",
        "    # transforms for validation data\n",
        "    valid_transform = transforms.Compose([transforms.CenterCrop(input_size),\n",
        "                                          transforms.ToTensor(),\n",
        "                                          transforms.Normalize([0.5, 0.5, 0.5], [0.5, 0.5, 0.5])])\n",
        "\n",
        "    # transforms for test data\n",
        "    test_transform = transforms.Compose([transforms.CenterCrop(input_size),\n",
        "                                         transforms.ToTensor(),\n",
        "                                         transforms.Normalize([0.5, 0.5, 0.5], [0.5, 0.5, 0.5])])\n",
        "\n",
        "    \n",
        "    return train_transform, valid_transform, test_transform"
      ]
    },
    {
      "cell_type": "markdown",
      "metadata": {
        "id": "6RoYRv692wSk"
      },
      "source": [
        "## Create dataloaders"
      ]
    },
    {
      "cell_type": "code",
      "execution_count": null,
      "metadata": {
        "colab": {
          "base_uri": "https://localhost:8080/"
        },
        "id": "tX-8evCxvDPP",
        "outputId": "5a603a8d-6fad-4e59-8371-8d734dceaf37"
      },
      "outputs": [
        {
          "name": "stdout",
          "output_type": "stream",
          "text": [
            "**Dataloaders**\n",
            "Number of training data: 99808 (1560 batches)\n",
            "Number of validation data: 24952 (390 batches)\n",
            "Number of test data: 31191 (488 batches)\n",
            "===============================\n"
          ]
        }
      ],
      "source": [
        "\"\"\"\n",
        "Data Loader\n",
        "\"\"\"\n",
        "# the batch size\n",
        "BATCH_SIZE = 64\n",
        "\n",
        "# create transforms\n",
        "train_transform, valid_transform, test_transform = create_data_transforms(is_for_inception=False)\n",
        "\n",
        "# create datasets\n",
        "data_train = GalaxyZooDataset('gz2_train.csv', 'images_train', train_transform)\n",
        "data_valid = GalaxyZooDataset('gz2_valid.csv', 'images_valid', valid_transform)\n",
        "data_test = GalaxyZooDataset('gz2_test.csv', 'images_test', test_transform)\n",
        "\n",
        "# dataloaders\n",
        "train_loader = DataLoader(data_train, batch_size=BATCH_SIZE, shuffle=True)\n",
        "valid_loader = DataLoader(data_valid, batch_size=BATCH_SIZE, shuffle=True)\n",
        "test_loader = DataLoader(data_test, batch_size=BATCH_SIZE, shuffle=True)\n",
        "\n",
        "# check the sizes\n",
        "print(\"**Dataloaders**\")\n",
        "print(\"Number of training data: {} ({} batches)\".format(len(data_train), len(train_loader)))\n",
        "print(\"Number of validation data: {} ({} batches)\".format(len(data_valid), len(valid_loader)))\n",
        "print(\"Number of test data: {} ({} batches)\".format(len(data_test), len(test_loader)))\n",
        "print(\"===============================\")"
      ]
    },
    {
      "cell_type": "markdown",
      "metadata": {
        "id": "nvqLzCpDmKsa"
      },
      "source": [
        "## Create ViT model"
      ]
    },
    {
      "cell_type": "code",
      "execution_count": null,
      "metadata": {
        "colab": {
          "base_uri": "https://localhost:8080/",
          "height": 150,
          "referenced_widgets": [
            "90184681950d4ee19c6fd9b199e76b0d",
            "5feff55715ae497ba2e77551ae15dcc1",
            "6db31e68b6f64ad28d3eacede2b91834",
            "d85a078fc4f94aab87388495a84124c5",
            "74cc030f6e1b419a89bf822d90470275",
            "b3dc944c5ab546ffaa86e8f751973563",
            "c3ede4e9cafd4ef6995b0c2480603cc1",
            "c3ce34c14fd14b8dbe3a6a21516a739d",
            "9e62735561a947f3a050ede61276fe97",
            "966250ceed7e4e8ab3c38ac86bdb8e77",
            "7533098bf9ad4c57ac058249a43fb3ad",
            "23c5e42aeecb4d4e93cf2a329f421bb8",
            "0ed035f7b7564bfaa5093303ce9fa46b",
            "0e20a5382cbb467193a14258b9d9416d",
            "183ae5ac954a49e19f335360b9236c3c",
            "6a279e3b2abe4676949b646afe14bd1a",
            "4d2bd60916ad456b93b099479185335f",
            "d7b56e3b63154863a53cd282bd9dc1d3",
            "9ae27870c3fb4e16a5705c263e5bba57",
            "f883603be7094c33bd339ad1ba8a8ca4",
            "cd013916885e4569ac08bf419fd54ae8",
            "fd10dfb6d3ef43ef8883599f29a76e20",
            "349535470839452e807ebc59fd19cb35",
            "95c6657986974865b98c259ba7a81053",
            "a7d3cb294e34427aa4b8c9dd7fc68846",
            "9f83a71ec65c46e7878c624456947583",
            "0aed27d1278d4c729411b2ed5df94ace",
            "d8335daada924b0e9945f6a47b164558",
            "9d21761c7fdc48098431b29b1b030824",
            "e37488553acf4362961b369bc7a936bf",
            "690ab24667d34ffca27d5b7f65d3f43b",
            "7e9fea55ec7444ad98224db8144a5f8b",
            "e32fde54ce8443f7b7d6fb62e1255ce4"
          ]
        },
        "id": "pyM3bV4zmHRw",
        "outputId": "a1fd735b-f9e9-4815-f933-75a91b4dae1b"
      },
      "outputs": [
        {
          "data": {
            "application/vnd.jupyter.widget-view+json": {
              "model_id": "90184681950d4ee19c6fd9b199e76b0d",
              "version_major": 2,
              "version_minor": 0
            },
            "text/plain": [
              "Downloading:   0%|          | 0.00/160 [00:00<?, ?B/s]"
            ]
          },
          "metadata": {},
          "output_type": "display_data"
        },
        {
          "data": {
            "application/vnd.jupyter.widget-view+json": {
              "model_id": "23c5e42aeecb4d4e93cf2a329f421bb8",
              "version_major": 2,
              "version_minor": 0
            },
            "text/plain": [
              "Downloading:   0%|          | 0.00/68.0k [00:00<?, ?B/s]"
            ]
          },
          "metadata": {},
          "output_type": "display_data"
        },
        {
          "data": {
            "application/vnd.jupyter.widget-view+json": {
              "model_id": "349535470839452e807ebc59fd19cb35",
              "version_major": 2,
              "version_minor": 0
            },
            "text/plain": [
              "Downloading:   0%|          | 0.00/330M [00:00<?, ?B/s]"
            ]
          },
          "metadata": {},
          "output_type": "display_data"
        },
        {
          "name": "stdout",
          "output_type": "stream",
          "text": [
            "Number of trainable parameters: 86567656\n",
            "Number of trainable parameters: 85804808\n"
          ]
        }
      ],
      "source": [
        "## hyperparameter\n",
        "LR = 5e-5\n",
        "STEP_SIZE = 5\n",
        "GAMMA = 0.1\n",
        "MAX_EPOCH = 200\n",
        "class_weights = torch.FloatTensor([1., 1., 1., 1., 1., 1., 1., 1.]).to(device)\n",
        "\n",
        "## file name\n",
        "model_name = \"gz2_hug_vit_010822B\"\n",
        "\n",
        "## Vision Transformer\n",
        "feature_extractor = ViTFeatureExtractor.from_pretrained('google/vit-base-patch16-224')\n",
        "model = ViTForImageClassification.from_pretrained('google/vit-base-patch16-224')\n",
        "\n",
        "print(\"Number of trainable parameters: {}\".format(sum(param.numel() for param in model.parameters() if param.requires_grad)))\n",
        "\n",
        "# freeze the weights\n",
        "#for param in model.parameters():\n",
        "#    param.requires_grad = False\n",
        "\n",
        "# change the last layer\n",
        "model.classifier = nn.Linear(in_features=768, out_features=8, bias=True)\n",
        "\n",
        "print(\"Number of trainable parameters: {}\".format(sum(param.numel() for param in model.parameters() if param.requires_grad)))"
      ]
    },
    {
      "cell_type": "markdown",
      "metadata": {
        "id": "hAigxq7N2i-i"
      },
      "source": [
        "## Training Function"
      ]
    },
    {
      "cell_type": "code",
      "execution_count": null,
      "metadata": {
        "id": "z_7lA_8q0Qwi"
      },
      "outputs": [],
      "source": [
        "def train_model(model, num_epochs, criterion, optimizer, scheduler, print_every=1, early_stop_epochs=10):\n",
        "    \"\"\"\n",
        "    Train the model\n",
        "    Args:\n",
        "        model: Pytorch neural model\n",
        "        num_epochs: number of epochs to train\n",
        "        criterion: the loss function object\n",
        "        optimizer: the optimizer\n",
        "        scheduler: the learning rate decay scheduler\n",
        "        print_every: print the information every X epochs\n",
        "        early_stop_epochs: early stopping if the model doesn't improve after X epochs\n",
        "    \"\"\"\n",
        "    # cache the best model\n",
        "    best_model_weights = deepcopy(model.state_dict())\n",
        "    # best train acc\n",
        "    best_train_acc = 0.0\n",
        "    # best valid acc\n",
        "    best_valid_acc = 0.0\n",
        "    # best epoch\n",
        "    best_epoch = -1    \n",
        "\n",
        "    # intiate dict to records the history of loss and acc\n",
        "    history_dic = dict()\n",
        "    history_dic['train_loss'] = []\n",
        "    history_dic['train_acc'] = []\n",
        "    history_dic['valid_loss'] = []\n",
        "    history_dic['valid_acc'] = []\n",
        "    history_dic['lr'] = []\n",
        "\n",
        "    for epoch in range(num_epochs):\n",
        "        # time of start\n",
        "        epoch_start_time = time.time()\n",
        "\n",
        "        \"\"\"\n",
        "        Train\n",
        "        \"\"\"\n",
        "        model.train()\n",
        "\n",
        "        epoch_train_cum_loss = 0.0\n",
        "        epoch_train_cum_corrects = 0\n",
        "        \n",
        "        for images, labels, _ in train_loader:\n",
        "            images = images.to(device)\n",
        "            labels = labels.long().to(device)\n",
        "\n",
        "            optimizer.zero_grad()\n",
        "            \n",
        "            outputs = model(images)\n",
        "            pred_logits = outputs.logits\n",
        "            loss = criterion(pred_logits, labels)\n",
        "\n",
        "            _, pred_classes = torch.max(pred_logits.detach(), dim=1)\n",
        "            pred_classes = pred_classes.long()\n",
        "\n",
        "            epoch_train_cum_loss += loss.item() * images.size(0)\n",
        "            epoch_train_cum_corrects += torch.sum(pred_classes==labels.data).detach().to('cpu').item()\n",
        "\n",
        "            loss.backward()\n",
        "            optimizer.step()\n",
        "            \n",
        "        \"\"\"\n",
        "        Eval\n",
        "        \"\"\"\n",
        "        model.eval()\n",
        "\n",
        "        epoch_valid_cum_loss = 0.0\n",
        "        epoch_valid_cum_corrects = 0\n",
        "\n",
        "        for images, labels, _ in valid_loader:\n",
        "            images = images.to(device)\n",
        "            labels = labels.long().to(device)\n",
        "\n",
        "            with torch.no_grad():\n",
        "                outputs = model(images)\n",
        "                pred_logits = outputs.logits\n",
        "                _, pred_classes = torch.max(pred_logits.detach(), dim=1)\n",
        "                loss = criterion(pred_logits, labels)\n",
        "\n",
        "                epoch_valid_cum_loss += loss.item() * images.size(0)\n",
        "                epoch_valid_cum_corrects += torch.sum(pred_classes==labels.data).detach().to('cpu').item()\n",
        "\n",
        "        ## Calculate metrics\n",
        "        train_loss = epoch_train_cum_loss / len(data_train)\n",
        "        train_acc = epoch_train_cum_corrects / len(data_train)\n",
        "        valid_loss = epoch_valid_cum_loss / len(data_valid)\n",
        "        valid_acc = epoch_valid_cum_corrects / len(data_valid)\n",
        "\n",
        "        # update history_dic\n",
        "        history_dic['train_loss'].append(train_loss)\n",
        "        history_dic['train_acc'].append(train_acc)\n",
        "        history_dic['valid_loss'].append(valid_loss)\n",
        "        history_dic['valid_acc'].append(valid_acc)\n",
        "        history_dic['lr'].append(scheduler.get_last_lr()[0])\n",
        "\n",
        "        # check if is the best acc ever\n",
        "        if valid_acc > best_valid_acc:\n",
        "            best_train_acc = train_acc\n",
        "            best_valid_acc = valid_acc\n",
        "            best_epoch = epoch + 1\n",
        "            # update the best model weights\n",
        "            best_model_weights = deepcopy(model.state_dict())\n",
        "            # save the best model weights to Google drive\n",
        "            torch.save(model.state_dict(), os.path.join('drive/MyDrive/gz2_datasets', model_name + \"_cache.pth\"))\n",
        "\n",
        "        epoch_end_time = time.time()\n",
        "        epoch_time_used = epoch_end_time - epoch_start_time\n",
        "        # convert epoch_time_used into mm:ss\n",
        "        mm = epoch_time_used // 60\n",
        "        ss = epoch_time_used % 60\n",
        "\n",
        "        ## Print metrics\n",
        "        if (epoch+1) % print_every == 0:\n",
        "\n",
        "            # if is best valid acc\n",
        "            if epoch == (best_epoch - 1):\n",
        "                print(\"Epoch {}/{}\\tTrain loss: {:.4f}\\tTrain acc: {:.4f}\\tValid loss: {:.4f}\\tValid acc: {:.4f}\\tTime: {:.0f}m {:.0f}s\\t<--\".format(\n",
        "                    epoch+1, num_epochs, train_loss, train_acc, valid_loss, valid_acc, mm, ss))\n",
        "            # not a better model\n",
        "            else:\n",
        "                print(\"Epoch {}/{}\\tTrain loss: {:.4f}\\tTrain acc: {:.4f}\\tValid loss: {:.4f}\\tValid acc: {:.4f}\\tTime: {:.0f}m {:.0f}s\".format(\n",
        "                    epoch+1, num_epochs, train_loss, train_acc, valid_loss, valid_acc, mm, ss))\n",
        "            \n",
        "        ## Early stopping\n",
        "        if (epoch+1) - best_epoch >= early_stop_epochs:\n",
        "            print(\"Early stopping... (Model did not improve after {} epochs)\".format(early_stop_epochs))\n",
        "            break\n",
        "        \n",
        "        scheduler.step()\n",
        "    \n",
        "    # load the best weights into the model\n",
        "    model.load_state_dict(best_model_weights)\n",
        "    # print the best epoch\n",
        "    print(\"Best epoch = {}, with training accuracy = {:.4f} and validation accuracy = {:.4f}\".format(best_epoch, best_train_acc, best_valid_acc))\n",
        "\n",
        "    # return the best model\n",
        "    return model, history_dic"
      ]
    },
    {
      "cell_type": "markdown",
      "metadata": {
        "id": "Zkn_bVLJloPn"
      },
      "source": [
        "## Train the model"
      ]
    },
    {
      "cell_type": "code",
      "execution_count": null,
      "metadata": {
        "colab": {
          "background_save": true
        },
        "id": "DMKMFnZllpkj",
        "outputId": "b166543e-5488-4365-9e25-149c9060c2b8"
      },
      "outputs": [
        {
          "name": "stdout",
          "output_type": "stream",
          "text": [
            "Epoch 1/200\tTrain loss: 0.6039\tTrain acc: 0.7809\tValid loss: 0.5345\tValid acc: 0.8002\tTime: 28m 11s\t<--\n",
            "Epoch 2/200\tTrain loss: 0.4973\tTrain acc: 0.8168\tValid loss: 0.4742\tValid acc: 0.8255\tTime: 27m 43s\t<--\n",
            "Epoch 3/200\tTrain loss: 0.4640\tTrain acc: 0.8280\tValid loss: 0.5175\tValid acc: 0.8045\tTime: 27m 26s\n",
            "Epoch 4/200\tTrain loss: 0.4438\tTrain acc: 0.8348\tValid loss: 0.4742\tValid acc: 0.8212\tTime: 27m 20s\n",
            "Epoch 5/200\tTrain loss: 0.4262\tTrain acc: 0.8404\tValid loss: 0.4548\tValid acc: 0.8318\tTime: 27m 30s\t<--\n",
            "Epoch 6/200\tTrain loss: 0.3569\tTrain acc: 0.8661\tValid loss: 0.4241\tValid acc: 0.8433\tTime: 27m 30s\t<--\n",
            "Epoch 7/200\tTrain loss: 0.3406\tTrain acc: 0.8721\tValid loss: 0.4238\tValid acc: 0.8441\tTime: 27m 29s\t<--\n",
            "Epoch 8/200\tTrain loss: 0.3332\tTrain acc: 0.8745\tValid loss: 0.4171\tValid acc: 0.8491\tTime: 27m 31s\t<--\n",
            "Epoch 9/200\tTrain loss: 0.3249\tTrain acc: 0.8774\tValid loss: 0.4247\tValid acc: 0.8453\tTime: 27m 29s\n",
            "Epoch 10/200\tTrain loss: 0.3185\tTrain acc: 0.8806\tValid loss: 0.4277\tValid acc: 0.8451\tTime: 27m 31s\n",
            "Epoch 11/200\tTrain loss: 0.3067\tTrain acc: 0.8854\tValid loss: 0.4226\tValid acc: 0.8465\tTime: 27m 14s\n",
            "Epoch 12/200\tTrain loss: 0.3034\tTrain acc: 0.8867\tValid loss: 0.4227\tValid acc: 0.8466\tTime: 26m 58s\n",
            "Epoch 13/200\tTrain loss: 0.3047\tTrain acc: 0.8865\tValid loss: 0.4214\tValid acc: 0.8485\tTime: 27m 5s\n",
            "Epoch 14/200\tTrain loss: 0.3022\tTrain acc: 0.8875\tValid loss: 0.4215\tValid acc: 0.8484\tTime: 27m 7s\n",
            "Epoch 15/200\tTrain loss: 0.3019\tTrain acc: 0.8868\tValid loss: 0.4220\tValid acc: 0.8471\tTime: 27m 28s\n",
            "Epoch 16/200\tTrain loss: 0.3007\tTrain acc: 0.8885\tValid loss: 0.4224\tValid acc: 0.8473\tTime: 27m 29s\n",
            "Epoch 17/200\tTrain loss: 0.3003\tTrain acc: 0.8873\tValid loss: 0.4226\tValid acc: 0.8473\tTime: 27m 28s\n",
            "Epoch 18/200\tTrain loss: 0.2999\tTrain acc: 0.8880\tValid loss: 0.4224\tValid acc: 0.8475\tTime: 27m 27s\n",
            "Early stopping... (Model did not improve after 10 epochs)\n",
            "Best epoch = 8, with training accuracy = 0.8745 and validation accuracy = 0.8491\n"
          ]
        }
      ],
      "source": [
        "# move to gpu\n",
        "model = model.to(device)\n",
        "\n",
        "# loss function\n",
        "criterion = nn.CrossEntropyLoss(weight=class_weights)\n",
        "\n",
        "# optimizer\n",
        "optimizer = optim.Adam(model.parameters(), lr=LR)\n",
        "\n",
        "# scheduler\n",
        "scheduler = lr_scheduler.StepLR(optimizer, step_size=STEP_SIZE, gamma=GAMMA)\n",
        "\n",
        "## train and return the best model\n",
        "model, history_dic = train_model(model, MAX_EPOCH, criterion, optimizer, scheduler, print_every=1, early_stop_epochs=10)\n",
        "\n",
        "## Save the best weights\n",
        "torch.save(model.state_dict(), model_name + '.pth')\n",
        "torch.save(model.state_dict(), os.path.join('drive/MyDrive/gz2_datasets', model_name + '.pth'))\n",
        "\n",
        "## Convert history to dataframe\n",
        "history_df = pd.DataFrame(history_dic)\n",
        "\n",
        "## Save the history\n",
        "history_df.to_csv(model_name + '_history.csv', index=False)\n",
        "history_df.to_csv(os.path.join('drive/MyDrive/gz2_datasets', model_name + '_history.csv'), index=False)"
      ]
    },
    {
      "cell_type": "markdown",
      "metadata": {
        "id": "FLS4yjP4iiGy"
      },
      "source": [
        "## Predict test data"
      ]
    },
    {
      "cell_type": "code",
      "execution_count": null,
      "metadata": {
        "colab": {
          "background_save": true
        },
        "id": "71XJYQoYify8"
      },
      "outputs": [],
      "source": [
        "def predict_model(model):\n",
        "    \"\"\"\n",
        "    Predict test data\n",
        "    \"\"\"\n",
        "    # evaluation\n",
        "    model.eval()\n",
        "\n",
        "    # empty lists for results\n",
        "    y_true = []\n",
        "    y_pred = []\n",
        "    y_label = []\n",
        "\n",
        "    for images, labels, galaxy_id in test_loader:\n",
        "        images = images.to(device)\n",
        "        labels = labels.long().to(device)\n",
        "\n",
        "        with torch.no_grad():\n",
        "            outputs = model(images)\n",
        "            pred_logits = outputs.logits\n",
        "            _, pred_classes = torch.max(pred_logits.detach(), dim=1)\n",
        "\n",
        "            y_true += torch.squeeze(labels.cpu()).tolist()\n",
        "            y_pred += torch.squeeze(pred_classes).tolist()\n",
        "            y_label += torch.squeeze(galaxy_id.cpu()).tolist()\n",
        "    \n",
        "    # create a DataFrame with columns 'GalaxyID', 'class', 'predicted labels'\n",
        "    predict_df = pd.DataFrame(data={'GalaxyID': y_label, 'class': y_true, 'pred': y_pred})\n",
        "\n",
        "    return y_true, y_pred, predict_df"
      ]
    },
    {
      "cell_type": "code",
      "execution_count": null,
      "metadata": {
        "colab": {
          "background_save": true
        },
        "id": "IWQgOZwZi_zA"
      },
      "outputs": [],
      "source": [
        "# move to gpu\n",
        "model = model.to(device)\n",
        "\n",
        "# model evaluation\n",
        "y_true, y_pred, predict_df = predict_model(model)\n",
        "\n",
        "# save predict_df\n",
        "predict_df.to_csv(model_name + '_predictions.csv', index=False)\n",
        "predict_df.to_csv(os.path.join('drive/MyDrive/gz2_datasets', model_name + '_predictions.csv'), index=False)"
      ]
    },
    {
      "cell_type": "code",
      "execution_count": null,
      "metadata": {
        "colab": {
          "background_save": true
        },
        "id": "MmXm1ErYjN3R",
        "outputId": "62763cc2-cb4c-4f3d-969f-020189f97a4d"
      },
      "outputs": [
        {
          "data": {
            "text/html": [
              "\n",
              "  <div id=\"df-dc5c15f5-8313-4d98-9936-0db93d3cf2f7\">\n",
              "    <div class=\"colab-df-container\">\n",
              "      <div>\n",
              "<style scoped>\n",
              "    .dataframe tbody tr th:only-of-type {\n",
              "        vertical-align: middle;\n",
              "    }\n",
              "\n",
              "    .dataframe tbody tr th {\n",
              "        vertical-align: top;\n",
              "    }\n",
              "\n",
              "    .dataframe thead th {\n",
              "        text-align: right;\n",
              "    }\n",
              "</style>\n",
              "<table border=\"1\" class=\"dataframe\">\n",
              "  <thead>\n",
              "    <tr style=\"text-align: right;\">\n",
              "      <th></th>\n",
              "      <th>GalaxyID</th>\n",
              "      <th>class</th>\n",
              "      <th>pred</th>\n",
              "    </tr>\n",
              "  </thead>\n",
              "  <tbody>\n",
              "    <tr>\n",
              "      <th>0</th>\n",
              "      <td>133714</td>\n",
              "      <td>0</td>\n",
              "      <td>0</td>\n",
              "    </tr>\n",
              "    <tr>\n",
              "      <th>1</th>\n",
              "      <td>23743</td>\n",
              "      <td>0</td>\n",
              "      <td>0</td>\n",
              "    </tr>\n",
              "    <tr>\n",
              "      <th>2</th>\n",
              "      <td>231167</td>\n",
              "      <td>0</td>\n",
              "      <td>0</td>\n",
              "    </tr>\n",
              "    <tr>\n",
              "      <th>3</th>\n",
              "      <td>161699</td>\n",
              "      <td>4</td>\n",
              "      <td>4</td>\n",
              "    </tr>\n",
              "    <tr>\n",
              "      <th>4</th>\n",
              "      <td>124258</td>\n",
              "      <td>5</td>\n",
              "      <td>5</td>\n",
              "    </tr>\n",
              "  </tbody>\n",
              "</table>\n",
              "</div>\n",
              "      <button class=\"colab-df-convert\" onclick=\"convertToInteractive('df-dc5c15f5-8313-4d98-9936-0db93d3cf2f7')\"\n",
              "              title=\"Convert this dataframe to an interactive table.\"\n",
              "              style=\"display:none;\">\n",
              "        \n",
              "  <svg xmlns=\"http://www.w3.org/2000/svg\" height=\"24px\"viewBox=\"0 0 24 24\"\n",
              "       width=\"24px\">\n",
              "    <path d=\"M0 0h24v24H0V0z\" fill=\"none\"/>\n",
              "    <path d=\"M18.56 5.44l.94 2.06.94-2.06 2.06-.94-2.06-.94-.94-2.06-.94 2.06-2.06.94zm-11 1L8.5 8.5l.94-2.06 2.06-.94-2.06-.94L8.5 2.5l-.94 2.06-2.06.94zm10 10l.94 2.06.94-2.06 2.06-.94-2.06-.94-.94-2.06-.94 2.06-2.06.94z\"/><path d=\"M17.41 7.96l-1.37-1.37c-.4-.4-.92-.59-1.43-.59-.52 0-1.04.2-1.43.59L10.3 9.45l-7.72 7.72c-.78.78-.78 2.05 0 2.83L4 21.41c.39.39.9.59 1.41.59.51 0 1.02-.2 1.41-.59l7.78-7.78 2.81-2.81c.8-.78.8-2.07 0-2.86zM5.41 20L4 18.59l7.72-7.72 1.47 1.35L5.41 20z\"/>\n",
              "  </svg>\n",
              "      </button>\n",
              "      \n",
              "  <style>\n",
              "    .colab-df-container {\n",
              "      display:flex;\n",
              "      flex-wrap:wrap;\n",
              "      gap: 12px;\n",
              "    }\n",
              "\n",
              "    .colab-df-convert {\n",
              "      background-color: #E8F0FE;\n",
              "      border: none;\n",
              "      border-radius: 50%;\n",
              "      cursor: pointer;\n",
              "      display: none;\n",
              "      fill: #1967D2;\n",
              "      height: 32px;\n",
              "      padding: 0 0 0 0;\n",
              "      width: 32px;\n",
              "    }\n",
              "\n",
              "    .colab-df-convert:hover {\n",
              "      background-color: #E2EBFA;\n",
              "      box-shadow: 0px 1px 2px rgba(60, 64, 67, 0.3), 0px 1px 3px 1px rgba(60, 64, 67, 0.15);\n",
              "      fill: #174EA6;\n",
              "    }\n",
              "\n",
              "    [theme=dark] .colab-df-convert {\n",
              "      background-color: #3B4455;\n",
              "      fill: #D2E3FC;\n",
              "    }\n",
              "\n",
              "    [theme=dark] .colab-df-convert:hover {\n",
              "      background-color: #434B5C;\n",
              "      box-shadow: 0px 1px 3px 1px rgba(0, 0, 0, 0.15);\n",
              "      filter: drop-shadow(0px 1px 2px rgba(0, 0, 0, 0.3));\n",
              "      fill: #FFFFFF;\n",
              "    }\n",
              "  </style>\n",
              "\n",
              "      <script>\n",
              "        const buttonEl =\n",
              "          document.querySelector('#df-dc5c15f5-8313-4d98-9936-0db93d3cf2f7 button.colab-df-convert');\n",
              "        buttonEl.style.display =\n",
              "          google.colab.kernel.accessAllowed ? 'block' : 'none';\n",
              "\n",
              "        async function convertToInteractive(key) {\n",
              "          const element = document.querySelector('#df-dc5c15f5-8313-4d98-9936-0db93d3cf2f7');\n",
              "          const dataTable =\n",
              "            await google.colab.kernel.invokeFunction('convertToInteractive',\n",
              "                                                     [key], {});\n",
              "          if (!dataTable) return;\n",
              "\n",
              "          const docLinkHtml = 'Like what you see? Visit the ' +\n",
              "            '<a target=\"_blank\" href=https://colab.research.google.com/notebooks/data_table.ipynb>data table notebook</a>'\n",
              "            + ' to learn more about interactive tables.';\n",
              "          element.innerHTML = '';\n",
              "          dataTable['output_type'] = 'display_data';\n",
              "          await google.colab.output.renderOutput(dataTable, element);\n",
              "          const docLink = document.createElement('div');\n",
              "          docLink.innerHTML = docLinkHtml;\n",
              "          element.appendChild(docLink);\n",
              "        }\n",
              "      </script>\n",
              "    </div>\n",
              "  </div>\n",
              "  "
            ],
            "text/plain": [
              "   GalaxyID  class  pred\n",
              "0    133714      0     0\n",
              "1     23743      0     0\n",
              "2    231167      0     0\n",
              "3    161699      4     4\n",
              "4    124258      5     5"
            ]
          },
          "execution_count": null,
          "metadata": {},
          "output_type": "execute_result"
        }
      ],
      "source": [
        "predict_df.head()"
      ]
    },
    {
      "cell_type": "markdown",
      "metadata": {
        "id": "0q19rCq1Lzob"
      },
      "source": [
        "## Evaluation metrics\n"
      ]
    },
    {
      "cell_type": "code",
      "execution_count": null,
      "metadata": {
        "colab": {
          "background_save": true
        },
        "id": "JBFME7_ELxxX",
        "outputId": "cb2b9859-9a5c-483a-cfdd-ba96245b1c35"
      },
      "outputs": [
        {
          "name": "stdout",
          "output_type": "stream",
          "text": [
            "Class 0: accuracy = 0.9304 (Round Elliptical)\n",
            "Class 1: accuracy = 0.8846 (In-between Elliptical)\n",
            "Class 2: accuracy = 0.7804 (Cigar-shaped Elliptical)\n",
            "Class 3: accuracy = 0.8980 (Edge-on Spiral)\n",
            "Class 4: accuracy = 0.8515 (Barred Spiral)\n",
            "Class 5: accuracy = 0.7793 (Unbarred Spiral)\n",
            "Class 6: accuracy = 0.5366 (Irregular)\n",
            "Class 7: accuracy = 0.6560 (Merger)\n",
            "================\n",
            "Total Accuracy = 0.8500\n",
            "\n",
            "Recall = 0.7896\n",
            "\n",
            "F1 score = 0.7956\n",
            "\n"
          ]
        },
        {
          "data": {
            "image/png": "[encoded data removed]",
            "text/plain": [
              "<Figure size 720x720 with 1 Axes>"
            ]
          },
          "metadata": {},
          "output_type": "display_data"
        }
      ],
      "source": [
        "# galaxy classes\n",
        "gxy_labels = ['Round Elliptical',\n",
        "              'In-between Elliptical',\n",
        "              'Cigar-shaped Elliptical',\n",
        "              'Edge-on Spiral',\n",
        "              'Barred Spiral',\n",
        "              'Unbarred Spiral',\n",
        "              'Irregular',\n",
        "              'Merger']\n",
        "\n",
        "# confusion matrix\n",
        "cm = confusion_matrix(y_true, y_pred, normalize='true')\n",
        "cm_df = pd.DataFrame(cm, index=gxy_labels, columns=gxy_labels)\n",
        "\n",
        "# accuracy of each class\n",
        "for c in range(8):\n",
        "    print(\"Class {}: accuracy = {:.4f} ({})\".format(c, cm[c,c]/sum(cm[c,:]), gxy_labels[c]))\n",
        "print(\"================\")\n",
        "\n",
        "# accuracy\n",
        "acc = accuracy_score(y_true, y_pred)\n",
        "print(\"Total Accuracy = {:.4f}\\n\".format(acc))\n",
        "\n",
        "# recall\n",
        "recall = recall_score(y_true, y_pred, average='macro')\n",
        "print(\"Recall = {:.4f}\\n\".format(recall))\n",
        "\n",
        "# f1 score\n",
        "F1 = f1_score(y_true, y_pred, average='macro')\n",
        "print(\"F1 score = {:.4f}\\n\".format(F1))\n",
        "\n",
        "# plot confusion matrix\n",
        "sns.set(font_scale=1.6)\n",
        "fig = plt.figure(figsize=(10, 10))\n",
        "sns.heatmap(cm_df, annot=True, fmt=\".1%\", cmap=\"YlGnBu\", cbar=False, annot_kws={\"size\": 16})\n",
        "plt.show()"
      ]
    },
    {
      "cell_type": "code",
      "execution_count": null,
      "metadata": {
        "colab": {
          "background_save": true
        },
        "id": "PGhofCjk3J7W"
      },
      "outputs": [],
      "source": [
        ""
      ]
    }
  ],
  "metadata": {
    "accelerator": "GPU",
    "colab": {
      "collapsed_sections": [],
      "name": "gz2_hug_ViT_base_finetuned.ipynb",
      "provenance": []
    },
    "kernelspec": {
      "display_name": "Python 3",
      "name": "python3"
    },
    "language_info": {
      "name": "python"
    },
    "widgets": {
      "application/vnd.jupyter.widget-state+json": {
        "0aed27d1278d4c729411b2ed5df94ace": {
          "model_module": "@jupyter-widgets/base",
          "model_module_version": "1.2.0",
          "model_name": "LayoutModel",
          "state": {
            "_model_module": "@jupyter-widgets/base",
            "_model_module_version": "1.2.0",
            "_model_name": "LayoutModel",
            "_view_count": null,
            "_view_module": "@jupyter-widgets/base",
            "_view_module_version": "1.2.0",
            "_view_name": "LayoutView",
            "align_content": null,
            "align_items": null,
            "align_self": null,
            "border": null,
            "bottom": null,
            "display": null,
            "flex": null,
            "flex_flow": null,
            "grid_area": null,
            "grid_auto_columns": null,
            "grid_auto_flow": null,
            "grid_auto_rows": null,
            "grid_column": null,
            "grid_gap": null,
            "grid_row": null,
            "grid_template_areas": null,
            "grid_template_columns": null,
            "grid_template_rows": null,
            "height": null,
            "justify_content": null,
            "justify_items": null,
            "left": null,
            "margin": null,
            "max_height": null,
            "max_width": null,
            "min_height": null,
            "min_width": null,
            "object_fit": null,
            "object_position": null,
            "order": null,
            "overflow": null,
            "overflow_x": null,
            "overflow_y": null,
            "padding": null,
            "right": null,
            "top": null,
            "visibility": null,
            "width": null
          }
        },
        "0e20a5382cbb467193a14258b9d9416d": {
          "model_module": "@jupyter-widgets/controls",
          "model_module_version": "1.5.0",
          "model_name": "FloatProgressModel",
          "state": {
            "_dom_classes": [],
            "_model_module": "@jupyter-widgets/controls",
            "_model_module_version": "1.5.0",
            "_model_name": "FloatProgressModel",
            "_view_count": null,
            "_view_module": "@jupyter-widgets/controls",
            "_view_module_version": "1.5.0",
            "_view_name": "ProgressView",
            "bar_style": "success",
            "description": "",
            "description_tooltip": null,
            "layout": "IPY_MODEL_9ae27870c3fb4e16a5705c263e5bba57",
            "max": 69665,
            "min": 0,
            "orientation": "horizontal",
            "style": "IPY_MODEL_f883603be7094c33bd339ad1ba8a8ca4",
            "value": 69665
          }
        },
        "0ed035f7b7564bfaa5093303ce9fa46b": {
          "model_module": "@jupyter-widgets/controls",
          "model_module_version": "1.5.0",
          "model_name": "HTMLModel",
          "state": {
            "_dom_classes": [],
            "_model_module": "@jupyter-widgets/controls",
            "_model_module_version": "1.5.0",
            "_model_name": "HTMLModel",
            "_view_count": null,
            "_view_module": "@jupyter-widgets/controls",
            "_view_module_version": "1.5.0",
            "_view_name": "HTMLView",
            "description": "",
            "description_tooltip": null,
            "layout": "IPY_MODEL_4d2bd60916ad456b93b099479185335f",
            "placeholder": "​",
            "style": "IPY_MODEL_d7b56e3b63154863a53cd282bd9dc1d3",
            "value": "Downloading: 100%"
          }
        },
        "183ae5ac954a49e19f335360b9236c3c": {
          "model_module": "@jupyter-widgets/controls",
          "model_module_version": "1.5.0",
          "model_name": "HTMLModel",
          "state": {
            "_dom_classes": [],
            "_model_module": "@jupyter-widgets/controls",
            "_model_module_version": "1.5.0",
            "_model_name": "HTMLModel",
            "_view_count": null,
            "_view_module": "@jupyter-widgets/controls",
            "_view_module_version": "1.5.0",
            "_view_name": "HTMLView",
            "description": "",
            "description_tooltip": null,
            "layout": "IPY_MODEL_cd013916885e4569ac08bf419fd54ae8",
            "placeholder": "​",
            "style": "IPY_MODEL_fd10dfb6d3ef43ef8883599f29a76e20",
            "value": " 68.0k/68.0k [00:00&lt;00:00, 218kB/s]"
          }
        },
        "23c5e42aeecb4d4e93cf2a329f421bb8": {
          "model_module": "@jupyter-widgets/controls",
          "model_module_version": "1.5.0",
          "model_name": "HBoxModel",
          "state": {
            "_dom_classes": [],
            "_model_module": "@jupyter-widgets/controls",
            "_model_module_version": "1.5.0",
            "_model_name": "HBoxModel",
            "_view_count": null,
            "_view_module": "@jupyter-widgets/controls",
            "_view_module_version": "1.5.0",
            "_view_name": "HBoxView",
            "box_style": "",
            "children": [
              "IPY_MODEL_0ed035f7b7564bfaa5093303ce9fa46b",
              "IPY_MODEL_0e20a5382cbb467193a14258b9d9416d",
              "IPY_MODEL_183ae5ac954a49e19f335360b9236c3c"
            ],
            "layout": "IPY_MODEL_6a279e3b2abe4676949b646afe14bd1a"
          }
        },
        "349535470839452e807ebc59fd19cb35": {
          "model_module": "@jupyter-widgets/controls",
          "model_module_version": "1.5.0",
          "model_name": "HBoxModel",
          "state": {
            "_dom_classes": [],
            "_model_module": "@jupyter-widgets/controls",
            "_model_module_version": "1.5.0",
            "_model_name": "HBoxModel",
            "_view_count": null,
            "_view_module": "@jupyter-widgets/controls",
            "_view_module_version": "1.5.0",
            "_view_name": "HBoxView",
            "box_style": "",
            "children": [
              "IPY_MODEL_95c6657986974865b98c259ba7a81053",
              "IPY_MODEL_a7d3cb294e34427aa4b8c9dd7fc68846",
              "IPY_MODEL_9f83a71ec65c46e7878c624456947583"
            ],
            "layout": "IPY_MODEL_0aed27d1278d4c729411b2ed5df94ace"
          }
        },
        "4d2bd60916ad456b93b099479185335f": {
          "model_module": "@jupyter-widgets/base",
          "model_module_version": "1.2.0",
          "model_name": "LayoutModel",
          "state": {
            "_model_module": "@jupyter-widgets/base",
            "_model_module_version": "1.2.0",
            "_model_name": "LayoutModel",
            "_view_count": null,
            "_view_module": "@jupyter-widgets/base",
            "_view_module_version": "1.2.0",
            "_view_name": "LayoutView",
            "align_content": null,
            "align_items": null,
            "align_self": null,
            "border": null,
            "bottom": null,
            "display": null,
            "flex": null,
            "flex_flow": null,
            "grid_area": null,
            "grid_auto_columns": null,
            "grid_auto_flow": null,
            "grid_auto_rows": null,
            "grid_column": null,
            "grid_gap": null,
            "grid_row": null,
            "grid_template_areas": null,
            "grid_template_columns": null,
            "grid_template_rows": null,
            "height": null,
            "justify_content": null,
            "justify_items": null,
            "left": null,
            "margin": null,
            "max_height": null,
            "max_width": null,
            "min_height": null,
            "min_width": null,
            "object_fit": null,
            "object_position": null,
            "order": null,
            "overflow": null,
            "overflow_x": null,
            "overflow_y": null,
            "padding": null,
            "right": null,
            "top": null,
            "visibility": null,
            "width": null
          }
        },
        "5feff55715ae497ba2e77551ae15dcc1": {
          "model_module": "@jupyter-widgets/controls",
          "model_module_version": "1.5.0",
          "model_name": "HTMLModel",
          "state": {
            "_dom_classes": [],
            "_model_module": "@jupyter-widgets/controls",
            "_model_module_version": "1.5.0",
            "_model_name": "HTMLModel",
            "_view_count": null,
            "_view_module": "@jupyter-widgets/controls",
            "_view_module_version": "1.5.0",
            "_view_name": "HTMLView",
            "description": "",
            "description_tooltip": null,
            "layout": "IPY_MODEL_b3dc944c5ab546ffaa86e8f751973563",
            "placeholder": "​",
            "style": "IPY_MODEL_c3ede4e9cafd4ef6995b0c2480603cc1",
            "value": "Downloading: 100%"
          }
        },
        "690ab24667d34ffca27d5b7f65d3f43b": {
          "model_module": "@jupyter-widgets/controls",
          "model_module_version": "1.5.0",
          "model_name": "ProgressStyleModel",
          "state": {
            "_model_module": "@jupyter-widgets/controls",
            "_model_module_version": "1.5.0",
            "_model_name": "ProgressStyleModel",
            "_view_count": null,
            "_view_module": "@jupyter-widgets/base",
            "_view_module_version": "1.2.0",
            "_view_name": "StyleView",
            "bar_color": null,
            "description_width": ""
          }
        },
        "6a279e3b2abe4676949b646afe14bd1a": {
          "model_module": "@jupyter-widgets/base",
          "model_module_version": "1.2.0",
          "model_name": "LayoutModel",
          "state": {
            "_model_module": "@jupyter-widgets/base",
            "_model_module_version": "1.2.0",
            "_model_name": "LayoutModel",
            "_view_count": null,
            "_view_module": "@jupyter-widgets/base",
            "_view_module_version": "1.2.0",
            "_view_name": "LayoutView",
            "align_content": null,
            "align_items": null,
            "align_self": null,
            "border": null,
            "bottom": null,
            "display": null,
            "flex": null,
            "flex_flow": null,
            "grid_area": null,
            "grid_auto_columns": null,
            "grid_auto_flow": null,
            "grid_auto_rows": null,
            "grid_column": null,
            "grid_gap": null,
            "grid_row": null,
            "grid_template_areas": null,
            "grid_template_columns": null,
            "grid_template_rows": null,
            "height": null,
            "justify_content": null,
            "justify_items": null,
            "left": null,
            "margin": null,
            "max_height": null,
            "max_width": null,
            "min_height": null,
            "min_width": null,
            "object_fit": null,
            "object_position": null,
            "order": null,
            "overflow": null,
            "overflow_x": null,
            "overflow_y": null,
            "padding": null,
            "right": null,
            "top": null,
            "visibility": null,
            "width": null
          }
        },
        "6db31e68b6f64ad28d3eacede2b91834": {
          "model_module": "@jupyter-widgets/controls",
          "model_module_version": "1.5.0",
          "model_name": "FloatProgressModel",
          "state": {
            "_dom_classes": [],
            "_model_module": "@jupyter-widgets/controls",
            "_model_module_version": "1.5.0",
            "_model_name": "FloatProgressModel",
            "_view_count": null,
            "_view_module": "@jupyter-widgets/controls",
            "_view_module_version": "1.5.0",
            "_view_name": "ProgressView",
            "bar_style": "success",
            "description": "",
            "description_tooltip": null,
            "layout": "IPY_MODEL_c3ce34c14fd14b8dbe3a6a21516a739d",
            "max": 160,
            "min": 0,
            "orientation": "horizontal",
            "style": "IPY_MODEL_9e62735561a947f3a050ede61276fe97",
            "value": 160
          }
        },
        "74cc030f6e1b419a89bf822d90470275": {
          "model_module": "@jupyter-widgets/base",
          "model_module_version": "1.2.0",
          "model_name": "LayoutModel",
          "state": {
            "_model_module": "@jupyter-widgets/base",
            "_model_module_version": "1.2.0",
            "_model_name": "LayoutModel",
            "_view_count": null,
            "_view_module": "@jupyter-widgets/base",
            "_view_module_version": "1.2.0",
            "_view_name": "LayoutView",
            "align_content": null,
            "align_items": null,
            "align_self": null,
            "border": null,
            "bottom": null,
            "display": null,
            "flex": null,
            "flex_flow": null,
            "grid_area": null,
            "grid_auto_columns": null,
            "grid_auto_flow": null,
            "grid_auto_rows": null,
            "grid_column": null,
            "grid_gap": null,
            "grid_row": null,
            "grid_template_areas": null,
            "grid_template_columns": null,
            "grid_template_rows": null,
            "height": null,
            "justify_content": null,
            "justify_items": null,
            "left": null,
            "margin": null,
            "max_height": null,
            "max_width": null,
            "min_height": null,
            "min_width": null,
            "object_fit": null,
            "object_position": null,
            "order": null,
            "overflow": null,
            "overflow_x": null,
            "overflow_y": null,
            "padding": null,
            "right": null,
            "top": null,
            "visibility": null,
            "width": null
          }
        },
        "7533098bf9ad4c57ac058249a43fb3ad": {
          "model_module": "@jupyter-widgets/controls",
          "model_module_version": "1.5.0",
          "model_name": "DescriptionStyleModel",
          "state": {
            "_model_module": "@jupyter-widgets/controls",
            "_model_module_version": "1.5.0",
            "_model_name": "DescriptionStyleModel",
            "_view_count": null,
            "_view_module": "@jupyter-widgets/base",
            "_view_module_version": "1.2.0",
            "_view_name": "StyleView",
            "description_width": ""
          }
        },
        "7e9fea55ec7444ad98224db8144a5f8b": {
          "model_module": "@jupyter-widgets/base",
          "model_module_version": "1.2.0",
          "model_name": "LayoutModel",
          "state": {
            "_model_module": "@jupyter-widgets/base",
            "_model_module_version": "1.2.0",
            "_model_name": "LayoutModel",
            "_view_count": null,
            "_view_module": "@jupyter-widgets/base",
            "_view_module_version": "1.2.0",
            "_view_name": "LayoutView",
            "align_content": null,
            "align_items": null,
            "align_self": null,
            "border": null,
            "bottom": null,
            "display": null,
            "flex": null,
            "flex_flow": null,
            "grid_area": null,
            "grid_auto_columns": null,
            "grid_auto_flow": null,
            "grid_auto_rows": null,
            "grid_column": null,
            "grid_gap": null,
            "grid_row": null,
            "grid_template_areas": null,
            "grid_template_columns": null,
            "grid_template_rows": null,
            "height": null,
            "justify_content": null,
            "justify_items": null,
            "left": null,
            "margin": null,
            "max_height": null,
            "max_width": null,
            "min_height": null,
            "min_width": null,
            "object_fit": null,
            "object_position": null,
            "order": null,
            "overflow": null,
            "overflow_x": null,
            "overflow_y": null,
            "padding": null,
            "right": null,
            "top": null,
            "visibility": null,
            "width": null
          }
        },
        "90184681950d4ee19c6fd9b199e76b0d": {
          "model_module": "@jupyter-widgets/controls",
          "model_module_version": "1.5.0",
          "model_name": "HBoxModel",
          "state": {
            "_dom_classes": [],
            "_model_module": "@jupyter-widgets/controls",
            "_model_module_version": "1.5.0",
            "_model_name": "HBoxModel",
            "_view_count": null,
            "_view_module": "@jupyter-widgets/controls",
            "_view_module_version": "1.5.0",
            "_view_name": "HBoxView",
            "box_style": "",
            "children": [
              "IPY_MODEL_5feff55715ae497ba2e77551ae15dcc1",
              "IPY_MODEL_6db31e68b6f64ad28d3eacede2b91834",
              "IPY_MODEL_d85a078fc4f94aab87388495a84124c5"
            ],
            "layout": "IPY_MODEL_74cc030f6e1b419a89bf822d90470275"
          }
        },
        "95c6657986974865b98c259ba7a81053": {
          "model_module": "@jupyter-widgets/controls",
          "model_module_version": "1.5.0",
          "model_name": "HTMLModel",
          "state": {
            "_dom_classes": [],
            "_model_module": "@jupyter-widgets/controls",
            "_model_module_version": "1.5.0",
            "_model_name": "HTMLModel",
            "_view_count": null,
            "_view_module": "@jupyter-widgets/controls",
            "_view_module_version": "1.5.0",
            "_view_name": "HTMLView",
            "description": "",
            "description_tooltip": null,
            "layout": "IPY_MODEL_d8335daada924b0e9945f6a47b164558",
            "placeholder": "​",
            "style": "IPY_MODEL_9d21761c7fdc48098431b29b1b030824",
            "value": "Downloading: 100%"
          }
        },
        "966250ceed7e4e8ab3c38ac86bdb8e77": {
          "model_module": "@jupyter-widgets/base",
          "model_module_version": "1.2.0",
          "model_name": "LayoutModel",
          "state": {
            "_model_module": "@jupyter-widgets/base",
            "_model_module_version": "1.2.0",
            "_model_name": "LayoutModel",
            "_view_count": null,
            "_view_module": "@jupyter-widgets/base",
            "_view_module_version": "1.2.0",
            "_view_name": "LayoutView",
            "align_content": null,
            "align_items": null,
            "align_self": null,
            "border": null,
            "bottom": null,
            "display": null,
            "flex": null,
            "flex_flow": null,
            "grid_area": null,
            "grid_auto_columns": null,
            "grid_auto_flow": null,
            "grid_auto_rows": null,
            "grid_column": null,
            "grid_gap": null,
            "grid_row": null,
            "grid_template_areas": null,
            "grid_template_columns": null,
            "grid_template_rows": null,
            "height": null,
            "justify_content": null,
            "justify_items": null,
            "left": null,
            "margin": null,
            "max_height": null,
            "max_width": null,
            "min_height": null,
            "min_width": null,
            "object_fit": null,
            "object_position": null,
            "order": null,
            "overflow": null,
            "overflow_x": null,
            "overflow_y": null,
            "padding": null,
            "right": null,
            "top": null,
            "visibility": null,
            "width": null
          }
        },
        "9ae27870c3fb4e16a5705c263e5bba57": {
          "model_module": "@jupyter-widgets/base",
          "model_module_version": "1.2.0",
          "model_name": "LayoutModel",
          "state": {
            "_model_module": "@jupyter-widgets/base",
            "_model_module_version": "1.2.0",
            "_model_name": "LayoutModel",
            "_view_count": null,
            "_view_module": "@jupyter-widgets/base",
            "_view_module_version": "1.2.0",
            "_view_name": "LayoutView",
            "align_content": null,
            "align_items": null,
            "align_self": null,
            "border": null,
            "bottom": null,
            "display": null,
            "flex": null,
            "flex_flow": null,
            "grid_area": null,
            "grid_auto_columns": null,
            "grid_auto_flow": null,
            "grid_auto_rows": null,
            "grid_column": null,
            "grid_gap": null,
            "grid_row": null,
            "grid_template_areas": null,
            "grid_template_columns": null,
            "grid_template_rows": null,
            "height": null,
            "justify_content": null,
            "justify_items": null,
            "left": null,
            "margin": null,
            "max_height": null,
            "max_width": null,
            "min_height": null,
            "min_width": null,
            "object_fit": null,
            "object_position": null,
            "order": null,
            "overflow": null,
            "overflow_x": null,
            "overflow_y": null,
            "padding": null,
            "right": null,
            "top": null,
            "visibility": null,
            "width": null
          }
        },
        "9d21761c7fdc48098431b29b1b030824": {
          "model_module": "@jupyter-widgets/controls",
          "model_module_version": "1.5.0",
          "model_name": "DescriptionStyleModel",
          "state": {
            "_model_module": "@jupyter-widgets/controls",
            "_model_module_version": "1.5.0",
            "_model_name": "DescriptionStyleModel",
            "_view_count": null,
            "_view_module": "@jupyter-widgets/base",
            "_view_module_version": "1.2.0",
            "_view_name": "StyleView",
            "description_width": ""
          }
        },
        "9e62735561a947f3a050ede61276fe97": {
          "model_module": "@jupyter-widgets/controls",
          "model_module_version": "1.5.0",
          "model_name": "ProgressStyleModel",
          "state": {
            "_model_module": "@jupyter-widgets/controls",
            "_model_module_version": "1.5.0",
            "_model_name": "ProgressStyleModel",
            "_view_count": null,
            "_view_module": "@jupyter-widgets/base",
            "_view_module_version": "1.2.0",
            "_view_name": "StyleView",
            "bar_color": null,
            "description_width": ""
          }
        },
        "9f83a71ec65c46e7878c624456947583": {
          "model_module": "@jupyter-widgets/controls",
          "model_module_version": "1.5.0",
          "model_name": "HTMLModel",
          "state": {
            "_dom_classes": [],
            "_model_module": "@jupyter-widgets/controls",
            "_model_module_version": "1.5.0",
            "_model_name": "HTMLModel",
            "_view_count": null,
            "_view_module": "@jupyter-widgets/controls",
            "_view_module_version": "1.5.0",
            "_view_name": "HTMLView",
            "description": "",
            "description_tooltip": null,
            "layout": "IPY_MODEL_7e9fea55ec7444ad98224db8144a5f8b",
            "placeholder": "​",
            "style": "IPY_MODEL_e32fde54ce8443f7b7d6fb62e1255ce4",
            "value": " 330M/330M [00:06&lt;00:00, 52.1MB/s]"
          }
        },
        "a7d3cb294e34427aa4b8c9dd7fc68846": {
          "model_module": "@jupyter-widgets/controls",
          "model_module_version": "1.5.0",
          "model_name": "FloatProgressModel",
          "state": {
            "_dom_classes": [],
            "_model_module": "@jupyter-widgets/controls",
            "_model_module_version": "1.5.0",
            "_model_name": "FloatProgressModel",
            "_view_count": null,
            "_view_module": "@jupyter-widgets/controls",
            "_view_module_version": "1.5.0",
            "_view_name": "ProgressView",
            "bar_style": "success",
            "description": "",
            "description_tooltip": null,
            "layout": "IPY_MODEL_e37488553acf4362961b369bc7a936bf",
            "max": 346351599,
            "min": 0,
            "orientation": "horizontal",
            "style": "IPY_MODEL_690ab24667d34ffca27d5b7f65d3f43b",
            "value": 346351599
          }
        },
        "b3dc944c5ab546ffaa86e8f751973563": {
          "model_module": "@jupyter-widgets/base",
          "model_module_version": "1.2.0",
          "model_name": "LayoutModel",
          "state": {
            "_model_module": "@jupyter-widgets/base",
            "_model_module_version": "1.2.0",
            "_model_name": "LayoutModel",
            "_view_count": null,
            "_view_module": "@jupyter-widgets/base",
            "_view_module_version": "1.2.0",
            "_view_name": "LayoutView",
            "align_content": null,
            "align_items": null,
            "align_self": null,
            "border": null,
            "bottom": null,
            "display": null,
            "flex": null,
            "flex_flow": null,
            "grid_area": null,
            "grid_auto_columns": null,
            "grid_auto_flow": null,
            "grid_auto_rows": null,
            "grid_column": null,
            "grid_gap": null,
            "grid_row": null,
            "grid_template_areas": null,
            "grid_template_columns": null,
            "grid_template_rows": null,
            "height": null,
            "justify_content": null,
            "justify_items": null,
            "left": null,
            "margin": null,
            "max_height": null,
            "max_width": null,
            "min_height": null,
            "min_width": null,
            "object_fit": null,
            "object_position": null,
            "order": null,
            "overflow": null,
            "overflow_x": null,
            "overflow_y": null,
            "padding": null,
            "right": null,
            "top": null,
            "visibility": null,
            "width": null
          }
        },
        "c3ce34c14fd14b8dbe3a6a21516a739d": {
          "model_module": "@jupyter-widgets/base",
          "model_module_version": "1.2.0",
          "model_name": "LayoutModel",
          "state": {
            "_model_module": "@jupyter-widgets/base",
            "_model_module_version": "1.2.0",
            "_model_name": "LayoutModel",
            "_view_count": null,
            "_view_module": "@jupyter-widgets/base",
            "_view_module_version": "1.2.0",
            "_view_name": "LayoutView",
            "align_content": null,
            "align_items": null,
            "align_self": null,
            "border": null,
            "bottom": null,
            "display": null,
            "flex": null,
            "flex_flow": null,
            "grid_area": null,
            "grid_auto_columns": null,
            "grid_auto_flow": null,
            "grid_auto_rows": null,
            "grid_column": null,
            "grid_gap": null,
            "grid_row": null,
            "grid_template_areas": null,
            "grid_template_columns": null,
            "grid_template_rows": null,
            "height": null,
            "justify_content": null,
            "justify_items": null,
            "left": null,
            "margin": null,
            "max_height": null,
            "max_width": null,
            "min_height": null,
            "min_width": null,
            "object_fit": null,
            "object_position": null,
            "order": null,
            "overflow": null,
            "overflow_x": null,
            "overflow_y": null,
            "padding": null,
            "right": null,
            "top": null,
            "visibility": null,
            "width": null
          }
        },
        "c3ede4e9cafd4ef6995b0c2480603cc1": {
          "model_module": "@jupyter-widgets/controls",
          "model_module_version": "1.5.0",
          "model_name": "DescriptionStyleModel",
          "state": {
            "_model_module": "@jupyter-widgets/controls",
            "_model_module_version": "1.5.0",
            "_model_name": "DescriptionStyleModel",
            "_view_count": null,
            "_view_module": "@jupyter-widgets/base",
            "_view_module_version": "1.2.0",
            "_view_name": "StyleView",
            "description_width": ""
          }
        },
        "cd013916885e4569ac08bf419fd54ae8": {
          "model_module": "@jupyter-widgets/base",
          "model_module_version": "1.2.0",
          "model_name": "LayoutModel",
          "state": {
            "_model_module": "@jupyter-widgets/base",
            "_model_module_version": "1.2.0",
            "_model_name": "LayoutModel",
            "_view_count": null,
            "_view_module": "@jupyter-widgets/base",
            "_view_module_version": "1.2.0",
            "_view_name": "LayoutView",
            "align_content": null,
            "align_items": null,
            "align_self": null,
            "border": null,
            "bottom": null,
            "display": null,
            "flex": null,
            "flex_flow": null,
            "grid_area": null,
            "grid_auto_columns": null,
            "grid_auto_flow": null,
            "grid_auto_rows": null,
            "grid_column": null,
            "grid_gap": null,
            "grid_row": null,
            "grid_template_areas": null,
            "grid_template_columns": null,
            "grid_template_rows": null,
            "height": null,
            "justify_content": null,
            "justify_items": null,
            "left": null,
            "margin": null,
            "max_height": null,
            "max_width": null,
            "min_height": null,
            "min_width": null,
            "object_fit": null,
            "object_position": null,
            "order": null,
            "overflow": null,
            "overflow_x": null,
            "overflow_y": null,
            "padding": null,
            "right": null,
            "top": null,
            "visibility": null,
            "width": null
          }
        },
        "d7b56e3b63154863a53cd282bd9dc1d3": {
          "model_module": "@jupyter-widgets/controls",
          "model_module_version": "1.5.0",
          "model_name": "DescriptionStyleModel",
          "state": {
            "_model_module": "@jupyter-widgets/controls",
            "_model_module_version": "1.5.0",
            "_model_name": "DescriptionStyleModel",
            "_view_count": null,
            "_view_module": "@jupyter-widgets/base",
            "_view_module_version": "1.2.0",
            "_view_name": "StyleView",
            "description_width": ""
          }
        },
        "d8335daada924b0e9945f6a47b164558": {
          "model_module": "@jupyter-widgets/base",
          "model_module_version": "1.2.0",
          "model_name": "LayoutModel",
          "state": {
            "_model_module": "@jupyter-widgets/base",
            "_model_module_version": "1.2.0",
            "_model_name": "LayoutModel",
            "_view_count": null,
            "_view_module": "@jupyter-widgets/base",
            "_view_module_version": "1.2.0",
            "_view_name": "LayoutView",
            "align_content": null,
            "align_items": null,
            "align_self": null,
            "border": null,
            "bottom": null,
            "display": null,
            "flex": null,
            "flex_flow": null,
            "grid_area": null,
            "grid_auto_columns": null,
            "grid_auto_flow": null,
            "grid_auto_rows": null,
            "grid_column": null,
            "grid_gap": null,
            "grid_row": null,
            "grid_template_areas": null,
            "grid_template_columns": null,
            "grid_template_rows": null,
            "height": null,
            "justify_content": null,
            "justify_items": null,
            "left": null,
            "margin": null,
            "max_height": null,
            "max_width": null,
            "min_height": null,
            "min_width": null,
            "object_fit": null,
            "object_position": null,
            "order": null,
            "overflow": null,
            "overflow_x": null,
            "overflow_y": null,
            "padding": null,
            "right": null,
            "top": null,
            "visibility": null,
            "width": null
          }
        },
        "d85a078fc4f94aab87388495a84124c5": {
          "model_module": "@jupyter-widgets/controls",
          "model_module_version": "1.5.0",
          "model_name": "HTMLModel",
          "state": {
            "_dom_classes": [],
            "_model_module": "@jupyter-widgets/controls",
            "_model_module_version": "1.5.0",
            "_model_name": "HTMLModel",
            "_view_count": null,
            "_view_module": "@jupyter-widgets/controls",
            "_view_module_version": "1.5.0",
            "_view_name": "HTMLView",
            "description": "",
            "description_tooltip": null,
            "layout": "IPY_MODEL_966250ceed7e4e8ab3c38ac86bdb8e77",
            "placeholder": "​",
            "style": "IPY_MODEL_7533098bf9ad4c57ac058249a43fb3ad",
            "value": " 160/160 [00:00&lt;00:00, 4.55kB/s]"
          }
        },
        "e32fde54ce8443f7b7d6fb62e1255ce4": {
          "model_module": "@jupyter-widgets/controls",
          "model_module_version": "1.5.0",
          "model_name": "DescriptionStyleModel",
          "state": {
            "_model_module": "@jupyter-widgets/controls",
            "_model_module_version": "1.5.0",
            "_model_name": "DescriptionStyleModel",
            "_view_count": null,
            "_view_module": "@jupyter-widgets/base",
            "_view_module_version": "1.2.0",
            "_view_name": "StyleView",
            "description_width": ""
          }
        },
        "e37488553acf4362961b369bc7a936bf": {
          "model_module": "@jupyter-widgets/base",
          "model_module_version": "1.2.0",
          "model_name": "LayoutModel",
          "state": {
            "_model_module": "@jupyter-widgets/base",
            "_model_module_version": "1.2.0",
            "_model_name": "LayoutModel",
            "_view_count": null,
            "_view_module": "@jupyter-widgets/base",
            "_view_module_version": "1.2.0",
            "_view_name": "LayoutView",
            "align_content": null,
            "align_items": null,
            "align_self": null,
            "border": null,
            "bottom": null,
            "display": null,
            "flex": null,
            "flex_flow": null,
            "grid_area": null,
            "grid_auto_columns": null,
            "grid_auto_flow": null,
            "grid_auto_rows": null,
            "grid_column": null,
            "grid_gap": null,
            "grid_row": null,
            "grid_template_areas": null,
            "grid_template_columns": null,
            "grid_template_rows": null,
            "height": null,
            "justify_content": null,
            "justify_items": null,
            "left": null,
            "margin": null,
            "max_height": null,
            "max_width": null,
            "min_height": null,
            "min_width": null,
            "object_fit": null,
            "object_position": null,
            "order": null,
            "overflow": null,
            "overflow_x": null,
            "overflow_y": null,
            "padding": null,
            "right": null,
            "top": null,
            "visibility": null,
            "width": null
          }
        },
        "f883603be7094c33bd339ad1ba8a8ca4": {
          "model_module": "@jupyter-widgets/controls",
          "model_module_version": "1.5.0",
          "model_name": "ProgressStyleModel",
          "state": {
            "_model_module": "@jupyter-widgets/controls",
            "_model_module_version": "1.5.0",
            "_model_name": "ProgressStyleModel",
            "_view_count": null,
            "_view_module": "@jupyter-widgets/base",
            "_view_module_version": "1.2.0",
            "_view_name": "StyleView",
            "bar_color": null,
            "description_width": ""
          }
        },
        "fd10dfb6d3ef43ef8883599f29a76e20": {
          "model_module": "@jupyter-widgets/controls",
          "model_module_version": "1.5.0",
          "model_name": "DescriptionStyleModel",
          "state": {
            "_model_module": "@jupyter-widgets/controls",
            "_model_module_version": "1.5.0",
            "_model_name": "DescriptionStyleModel",
            "_view_count": null,
            "_view_module": "@jupyter-widgets/base",
            "_view_module_version": "1.2.0",
            "_view_name": "StyleView",
            "description_width": ""
          }
        }
      }
    }
  },
  "nbformat": 4,
  "nbformat_minor": 0
}