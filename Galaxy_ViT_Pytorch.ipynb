{
  "nbformat": 4,
  "nbformat_minor": 0,
  "metadata": {
    "colab": {
      "name": "Galaxy_ViT_Pytorch.ipynb",
      "provenance": [],
      "collapsed_sections": []
    },
    "kernelspec": {
      "name": "python3",
      "display_name": "Python 3"
    },
    "language_info": {
      "name": "python"
    },
    "accelerator": "GPU"
  },
  "cells": [
    {
      "cell_type": "markdown",
      "metadata": {
        "id": "TUO9qXMa17F-"
      },
      "source": [
        "# Galaxy Classification with Vision Transformer (Pytorch)"
      ]
    },
    {
      "cell_type": "markdown",
      "metadata": {
        "id": "S1y8Ta0p2BUj"
      },
      "source": [
        "Data:\n",
        "\n",
        "https://www.kaggle.com/c/galaxy-zoo-the-galaxy-challenge\n",
        "\n",
        "\n",
        "\n",
        "References:\n",
        "\n",
        "1. https://pytorch.org/tutorials/beginner/transfer_learning_tutorial.html\n",
        "\n",
        "2. https://pytorch.org/vision/stable/models.html\n",
        "\n",
        "3. https://pytorch.org/tutorials/beginner/data_loading_tutorial.html\n",
        "\n",
        "4. https://pytorch.org/tutorials/beginner/finetuning_torchvision_models_tutorial.html\n",
        "\n",
        "5. https://cs231n.github.io/transfer-learning/\n",
        "\n",
        "6. https://github.com/joshualin24/vit-pytorch/blob/main/examples/galaxy_classification.ipynb\n",
        "\n"
      ]
    },
    {
      "cell_type": "markdown",
      "metadata": {
        "id": "xbvsPMIF2NM-"
      },
      "source": [
        "## Check GPU"
      ]
    },
    {
      "cell_type": "code",
      "metadata": {
        "colab": {
          "base_uri": "https://localhost:8080/"
        },
        "id": "cR4qPHGPzlQZ",
        "outputId": "b557a10d-92b0-4414-c945-57d0640a2c8f"
      },
      "source": [
        "!nvidia-smi -L"
      ],
      "execution_count": 1,
      "outputs": [
        {
          "output_type": "stream",
          "name": "stdout",
          "text": [
            "GPU 0: Tesla P100-PCIE-16GB (UUID: GPU-05a55fc1-fe46-4199-3d72-5286c9b0c05c)\n"
          ]
        }
      ]
    },
    {
      "cell_type": "markdown",
      "metadata": {
        "id": "ApYE1Fx_2HWq"
      },
      "source": [
        "## Install Vision Transformer (ViT)"
      ]
    },
    {
      "cell_type": "code",
      "metadata": {
        "id": "re2zMtrMzhMF"
      },
      "source": [
        "! pip -q install vit_pytorch linformer"
      ],
      "execution_count": 2,
      "outputs": []
    },
    {
      "cell_type": "markdown",
      "metadata": {
        "id": "j_WcSZnp2PRl"
      },
      "source": [
        "## Import Libraries"
      ]
    },
    {
      "cell_type": "code",
      "metadata": {
        "colab": {
          "base_uri": "https://localhost:8080/"
        },
        "id": "hB7gGvfa0IIn",
        "outputId": "34a37322-c05d-48b2-cca8-115a73d5bf01"
      },
      "source": [
        "import numpy as np\n",
        "import pandas as pd\n",
        "import matplotlib.pyplot as plt\n",
        "\n",
        "from PIL import Image\n",
        "from sklearn.model_selection import train_test_split\n",
        "\n",
        "import torch\n",
        "import torch.nn as nn\n",
        "from torch.utils.data import Dataset, DataLoader\n",
        "from torchvision import models, transforms, utils\n",
        "import torch.optim as optim\n",
        "from torch.optim import lr_scheduler\n",
        "\n",
        "import time\n",
        "import os\n",
        "import zipfile\n",
        "from copy import deepcopy\n",
        "\n",
        "%matplotlib inline\n",
        "\n",
        "device = torch.device(\"cuda:0\" if torch.cuda.is_available() else \"cpu\")\n",
        "print(device)\n",
        "\n",
        "# vision transformer\n",
        "from linformer import Linformer\n",
        "from vit_pytorch.efficient import ViT"
      ],
      "execution_count": 3,
      "outputs": [
        {
          "output_type": "stream",
          "name": "stdout",
          "text": [
            "cuda:0\n"
          ]
        }
      ]
    },
    {
      "cell_type": "markdown",
      "metadata": {
        "id": "4t4jV38S2VLk"
      },
      "source": [
        "## Unzip images\n",
        "\n",
        "Before running the code, please upload `images_train.zip`, `images_valid.zip` and `images_test.zip` to the workspace.\n",
        "\n",
        "We upzip these 3 files, and place\"\n",
        "\n",
        "- all training images (n=39,410) into the folder `images_train`\n",
        "- all validation images (n=9,852) into the folder `images_valid`, and\n",
        "- all test images (n=12,316) into the folder `images_test`.\n",
        "\n",
        "We create the folders first if they don't exist."
      ]
    },
    {
      "cell_type": "code",
      "metadata": {
        "id": "Drc6IgZJ0JQ1"
      },
      "source": [
        "## The unzipping function\n",
        "def unzipping(zip_file_name, dest_dir):\n",
        "    \"\"\"\n",
        "    Arguments\n",
        "        zip_file_name: (str) the file name of the zip file\n",
        "        dest_dir: (str) the name of the destination folder\n",
        "    \"\"\"\n",
        "    # check if the destination folder exists. Create one if not.\n",
        "    if not os.path.exists(dest_dir):\n",
        "        os.makedirs(dest_dir)\n",
        "    \n",
        "    # unzipping\n",
        "    zip_f = zipfile.ZipFile(zip_file_name, 'r')\n",
        "    zip_f.extractall(path=dest_dir)\n",
        "    zip_f.close()"
      ],
      "execution_count": null,
      "outputs": []
    },
    {
      "cell_type": "code",
      "metadata": {
        "id": "dr1x3ao90LIl"
      },
      "source": [
        "## Unzip training, validation, and test images\n",
        "unzipping('images_train.zip', 'images_train')\n",
        "unzipping('images_valid.zip', 'images_valid')\n",
        "unzipping('images_test.zip', 'images_test')"
      ],
      "execution_count": null,
      "outputs": []
    },
    {
      "cell_type": "markdown",
      "metadata": {
        "id": "P_oRGGTk2aUM"
      },
      "source": [
        "## Custom Datasets"
      ]
    },
    {
      "cell_type": "code",
      "metadata": {
        "id": "Kw-QIg3w0NNZ"
      },
      "source": [
        "## Custom Galaxy Zoo Dataset\n",
        "class GalaxyZooDataset(Dataset):\n",
        "    \"\"\"Galaxy Zoo Dataset\"\"\"\n",
        "\n",
        "    def __init__(self, csv_file, images_dir, transform=None):\n",
        "        \"\"\"\n",
        "        Args:\n",
        "            csv_file (string): path to the label csv\n",
        "            images_dir (string): path to the dir containing all images\n",
        "            transform (callable, optional): transform to apply\n",
        "        \"\"\"\n",
        "        self.labels_df = pd.read_csv(csv_file)\n",
        "        self.images_dir = images_dir\n",
        "        self.transform = transform\n",
        "    \n",
        "    def __len__(self):\n",
        "        \"\"\"\n",
        "        Returns the size of the dataset\n",
        "        \"\"\"\n",
        "        return len(self.labels_df)\n",
        "\n",
        "    def __getitem__(self, idx):\n",
        "        \"\"\"\n",
        "        Get the idx-th sample.\n",
        "\t\tOutputs the image (channel first) and the true label\n",
        "        \"\"\"\n",
        "        if torch.is_tensor(idx):\n",
        "            idx = idx.tolist()\n",
        "        \n",
        "        # galaxy ID\n",
        "        galaxyid = self.labels_df.iloc[idx, 0].astype(str)\n",
        "\t\t# path of the image\n",
        "        image_path = os.path.join(self.images_dir, galaxyid + '.jpg')\n",
        "\t\t# read the image\n",
        "        image = Image.open(image_path)\n",
        "\t\t# apply transform (optional)\n",
        "        if self.transform is not None:\n",
        "            image = self.transform(image)\n",
        "\t\t# read the true label\n",
        "        label = int(self.labels_df.iloc[idx, 1])\n",
        "\n",
        "        return image, label"
      ],
      "execution_count": 4,
      "outputs": []
    },
    {
      "cell_type": "markdown",
      "metadata": {
        "id": "buWKR4As2dQb"
      },
      "source": [
        "## Custom Transforms"
      ]
    },
    {
      "cell_type": "code",
      "metadata": {
        "id": "IqShZSWU0Npi"
      },
      "source": [
        "def create_data_transforms(is_for_inception=False):\n",
        "    \"\"\"\n",
        "    Create Pytorch data transforms for the GalaxyZoo datasets.\n",
        "    Args:\n",
        "        is_for_inception (bool): True for inception neural networks\n",
        "    Outputs:\n",
        "        train_transform: transform for the training data\n",
        "        test_transform: transform for the testing data\n",
        "    \"\"\"\n",
        "    if is_for_inception:\n",
        "        input_size = 299\n",
        "    else:\n",
        "        input_size = 224\n",
        "\n",
        "    # transforms for training data\n",
        "    train_transform = transforms.Compose([transforms.CenterCrop(input_size),\n",
        "                                          transforms.RandomRotation(90),\n",
        "                                          transforms.RandomHorizontalFlip(),\n",
        "                                          transforms.RandomVerticalFlip(),\n",
        "                                          transforms.RandomResizedCrop(input_size, scale=(0.8, 1.0), ratio=(0.99, 1.01)),\n",
        "                                          transforms.ToTensor()])\n",
        "\n",
        "    # transforms for validation data\n",
        "    valid_transform = transforms.Compose([transforms.CenterCrop(input_size),\n",
        "                                          transforms.RandomRotation(90),\n",
        "                                          transforms.RandomHorizontalFlip(),\n",
        "                                          transforms.RandomVerticalFlip(),\n",
        "                                          transforms.RandomResizedCrop(input_size, scale=(0.8, 1.0), ratio=(0.99, 1.01)),\n",
        "                                          transforms.ToTensor()])  \n",
        "\n",
        "    # transforms for test data\n",
        "    test_transform = transforms.Compose([transforms.CenterCrop(input_size),\n",
        "                                         transforms.ToTensor()])\n",
        "\n",
        "    \n",
        "    return train_transform, valid_transform, test_transform"
      ],
      "execution_count": 5,
      "outputs": []
    },
    {
      "cell_type": "markdown",
      "metadata": {
        "id": "hAigxq7N2i-i"
      },
      "source": [
        "## Training Function"
      ]
    },
    {
      "cell_type": "code",
      "metadata": {
        "id": "z_7lA_8q0Qwi"
      },
      "source": [
        "def train_model(model, num_epochs, criterion, optimizer, scheduler, print_every=1, early_stop_epochs=10, is_for_inception=False):\n",
        "    \"\"\"\n",
        "    Train the model\n",
        "    Args:\n",
        "        model: Pytorch neural model\n",
        "        num_epochs: number of epochs to train\n",
        "        criterion: the loss function object\n",
        "        optimizer: the optimizer\n",
        "        scheduler: the learning rate decay scheduler\n",
        "        print_every: print the information every X epochs\n",
        "        early_stop_epochs: early stopping if the model doesn't improve after X epochs\n",
        "        is_for_inception: True if the model is an inception model\n",
        "    \"\"\"\n",
        "    # cache the best model\n",
        "    best_model_weights = deepcopy(model.state_dict())\n",
        "    # best valid acc\n",
        "    best_valid_acc = 0.0\n",
        "    # best epoch\n",
        "    best_epoch = -1    \n",
        "\n",
        "    # intiate dict to records the history of loss and acc\n",
        "    history_dic = dict()\n",
        "    history_dic['train_loss'] = []\n",
        "    history_dic['train_acc'] = []\n",
        "    history_dic['valid_loss'] = []\n",
        "    history_dic['valid_acc'] = []\n",
        "    history_dic['lr'] = []\n",
        "\n",
        "    for epoch in range(num_epochs):\n",
        "        # time of start\n",
        "        epoch_start_time = time.time()\n",
        "\n",
        "        \"\"\"\n",
        "        Train\n",
        "        \"\"\"\n",
        "        model.train()\n",
        "\n",
        "        epoch_train_cum_loss = 0.0\n",
        "        epoch_train_cum_corrects = 0\n",
        "        \n",
        "        for images, labels in train_loader:\n",
        "            images = images.to(device)\n",
        "            labels = labels.long().to(device)\n",
        "\n",
        "            optimizer.zero_grad()\n",
        "            \n",
        "            if is_for_inception:\n",
        "                pred_logits, aux_outputs = model(images)\n",
        "                loss = criterion(pred_logits, labels) + 0.4*criterion(aux_outputs, labels)\n",
        "            else:\n",
        "                pred_logits = model(images)\n",
        "                loss = criterion(pred_logits, labels)\n",
        "\n",
        "            _, pred_classes = torch.max(pred_logits.detach(), dim=1)\n",
        "            pred_classes = pred_classes.long()\n",
        "\n",
        "            epoch_train_cum_loss += loss.item() * images.size(0)\n",
        "            epoch_train_cum_corrects += torch.sum(pred_classes==labels.data)\n",
        "\n",
        "            loss.backward()\n",
        "            optimizer.step()\n",
        "            \n",
        "        \"\"\"\n",
        "        Eval\n",
        "        \"\"\"\n",
        "        model.eval()\n",
        "\n",
        "        epoch_valid_cum_loss = 0.0\n",
        "        epoch_valid_cum_corrects = 0\n",
        "\n",
        "        for images, labels in valid_loader:\n",
        "            images = images.to(device)\n",
        "            labels = labels.long().to(device)\n",
        "\n",
        "            with torch.no_grad():\n",
        "                pred_logits = model(images)\n",
        "                _, pred_classes = torch.max(pred_logits.detach(), dim=1)\n",
        "                loss = criterion(pred_logits, labels)\n",
        "\n",
        "                epoch_valid_cum_loss += loss.item() * images.size(0)\n",
        "                epoch_valid_cum_corrects += torch.sum(pred_classes==labels.data)\n",
        "\n",
        "        ## Calculate metrics\n",
        "        train_loss = epoch_train_cum_loss / len(data_train)\n",
        "        train_acc = epoch_train_cum_corrects / len(data_train)\n",
        "        valid_loss = epoch_valid_cum_loss / len(data_valid)\n",
        "        valid_acc = epoch_valid_cum_corrects / len(data_valid)\n",
        "\n",
        "        # update history_dic\n",
        "        history_dic['train_loss'].append(train_loss)\n",
        "        history_dic['train_acc'].append(train_acc)\n",
        "        history_dic['valid_loss'].append(valid_loss)\n",
        "        history_dic['valid_acc'].append(valid_acc)\n",
        "        history_dic['lr'].append(scheduler.get_last_lr()[0])\n",
        "\n",
        "        # check if is the best acc ever\n",
        "        if valid_acc > best_valid_acc:\n",
        "            best_valid_acc = valid_acc\n",
        "            best_epoch = epoch + 1\n",
        "            # update the best model weights\n",
        "            best_model_weights = deepcopy(model.state_dict())\n",
        "\n",
        "        epoch_end_time = time.time()\n",
        "        epoch_time_used = epoch_end_time - epoch_start_time\n",
        "        # convert epoch_time_used into mm:ss\n",
        "        mm = epoch_time_used // 60\n",
        "        ss = epoch_time_used % 60\n",
        "\n",
        "        ## Print metrics\n",
        "        if (epoch+1) % print_every == 0:\n",
        "            print(\"Epoch {}/{}\\tTrain loss: {:.4f}\\tTrain acc: {:.4f}\\tValid loss: {:.4f}\\tValid acc: {:.4f}\\tTime: {:.0f}m {:.0f}s\".format(\n",
        "                epoch+1, num_epochs, train_loss, train_acc, valid_loss, valid_acc, mm, ss))\n",
        "            \n",
        "        ## Early stopping\n",
        "        if (epoch+1) - best_epoch >= early_stop_epochs:\n",
        "            print(\"Early stopping... (Model did not improve after {} epochs)\".format(early_stop_epochs))\n",
        "            break\n",
        "        \n",
        "        scheduler.step()\n",
        "    \n",
        "    # load the best weights into the model\n",
        "    model.load_state_dict(best_model_weights)\n",
        "    # print the best epoch\n",
        "    print(\"Best epoch = {}, with acc = {:.3f}\".format(best_epoch, best_valid_acc))\n",
        "\n",
        "    # return the best model\n",
        "    return model, history_dic"
      ],
      "execution_count": 15,
      "outputs": []
    },
    {
      "cell_type": "markdown",
      "metadata": {
        "id": "6RoYRv692wSk"
      },
      "source": [
        "## Vision Transformer Model"
      ]
    },
    {
      "cell_type": "markdown",
      "metadata": {
        "id": "cbPlff9P6L_j"
      },
      "source": [
        "### Parameters"
      ]
    },
    {
      "cell_type": "code",
      "metadata": {
        "colab": {
          "base_uri": "https://localhost:8080/"
        },
        "id": "iGS98X6b6Eud",
        "outputId": "be164082-2643-41b5-d24f-a9756f30277c"
      },
      "source": [
        "IMAGE_SIZE = 224                                    # size of the input image\n",
        "NUM_OF_CLASSES = 5                                  # there are 5 classes in total\n",
        "\n",
        "PATCH_SIZE = 32                                     # size of a patch\n",
        "SEQ_LEN = int((IMAGE_SIZE/PATCH_SIZE)**2) + 1       # number of patches + 1 for the class label\n",
        "DEPTH = 12                                           # number of encoder layers\n",
        "HIDDEN_DIM = 256                                    # d_model\n",
        "k_DIM = 64                                          # d_k\n",
        "NUM_HEADS = 8                                       # number of heads\n",
        "\n",
        "BATCH_SIZE = 64                                     # batch zize\n",
        "\n",
        "\n",
        "print(\"Hyperparameters\")\n",
        "print(\"====================\")\n",
        "print(\"Images will be divided into {} patches ({}x{})\".format(SEQ_LEN-1, PATCH_SIZE, PATCH_SIZE))\n",
        "print(\"Number of encoder units: {}\".format(DEPTH))\n",
        "print(\"Number of heads: {}\".format(NUM_HEADS))"
      ],
      "execution_count": 21,
      "outputs": [
        {
          "output_type": "stream",
          "name": "stdout",
          "text": [
            "Hyperparameters\n",
            "====================\n",
            "Images will be divided into 49 patches (32x32)\n",
            "Number of encoder units: 12\n",
            "Number of heads: 8\n"
          ]
        }
      ]
    },
    {
      "cell_type": "markdown",
      "metadata": {
        "id": "-k791v7x4gvL"
      },
      "source": [
        "### Create Model"
      ]
    },
    {
      "cell_type": "code",
      "metadata": {
        "colab": {
          "base_uri": "https://localhost:8080/"
        },
        "id": "5Yw789Rd0TVN",
        "outputId": "6d78a07e-7884-418c-bf24-9e16f73fa9f6"
      },
      "source": [
        "## Linformer\n",
        "lin = Linformer(dim=HIDDEN_DIM, seq_len=SEQ_LEN, depth=DEPTH, k=k_DIM, heads=NUM_HEADS, dim_head=None, one_kv_head=False, share_kv=False, reversible=False, dropout=0.0)\n",
        "\n",
        "## Vision Transformer\n",
        "model = ViT(image_size=IMAGE_SIZE, patch_size=PATCH_SIZE, num_classes=NUM_OF_CLASSES, dim=HIDDEN_DIM, transformer=lin, pool='cls', channels=3)\n",
        "\n",
        "print(\"Number of trainable parameters: {}\".format(sum(param.numel() for param in model.parameters() if param.requires_grad)))"
      ],
      "execution_count": 22,
      "outputs": [
        {
          "output_type": "stream",
          "name": "stdout",
          "text": [
            "Number of trainable parameters: 10346245\n"
          ]
        }
      ]
    },
    {
      "cell_type": "markdown",
      "metadata": {
        "id": "XqL6lMYY4gAU"
      },
      "source": [
        "### Create transforms and dataloaders"
      ]
    },
    {
      "cell_type": "code",
      "metadata": {
        "colab": {
          "base_uri": "https://localhost:8080/"
        },
        "id": "7rJPg-Cm1s1r",
        "outputId": "ba731e4f-8270-4311-f23f-889942645258"
      },
      "source": [
        "# create transforms\n",
        "train_transform, valid_transform, test_transform = create_data_transforms(is_for_inception=False)\n",
        "\n",
        "# create datasets\n",
        "data_train = GalaxyZooDataset('labels_train.csv', 'images_train', train_transform)\n",
        "data_valid = GalaxyZooDataset('labels_valid.csv', 'images_valid', valid_transform)\n",
        "data_test = GalaxyZooDataset('labels_test.csv', 'images_test', test_transform)\n",
        "\n",
        "# dataloaders\n",
        "train_loader = DataLoader(data_train, batch_size=BATCH_SIZE, shuffle=True)\n",
        "valid_loader = DataLoader(data_valid, batch_size=BATCH_SIZE, shuffle=True)\n",
        "test_loader = DataLoader(data_test, batch_size=BATCH_SIZE, shuffle=True)\n",
        "\n",
        "# check the sizes\n",
        "print(\"Number of training data: {} ({} batches)\".format(len(data_train), len(train_loader)))\n",
        "print(\"Number of validation data: {} ({} batches)\".format(len(data_valid), len(valid_loader)))\n",
        "print(\"Number of test data: {} ({} batches)\".format(len(data_test), len(test_loader)))"
      ],
      "execution_count": 23,
      "outputs": [
        {
          "output_type": "stream",
          "name": "stdout",
          "text": [
            "Number of training data: 39410 (616 batches)\n",
            "Number of validation data: 9852 (154 batches)\n",
            "Number of test data: 12316 (193 batches)\n"
          ]
        }
      ]
    },
    {
      "cell_type": "markdown",
      "metadata": {
        "id": "POwwVM914kvv"
      },
      "source": [
        "### Train"
      ]
    },
    {
      "cell_type": "code",
      "metadata": {
        "colab": {
          "base_uri": "https://localhost:8080/"
        },
        "id": "3ejhav9x1uN6",
        "outputId": "e6a27b82-f405-4d23-e733-75335f84f391"
      },
      "source": [
        "# move to gpu\n",
        "model = model.to(device)\n",
        "\n",
        "# loss function\n",
        "criterion = nn.CrossEntropyLoss()\n",
        "\n",
        "# optimizer\n",
        "optimizer = optim.Adam(model.parameters(), lr=3e-4)\n",
        "\n",
        "# scheduler\n",
        "scheduler = lr_scheduler.StepLR(optimizer, step_size=1, gamma=0.9)\n",
        "\n",
        "## train and return the best model\n",
        "model, history_dic = train_model(model, 50, criterion, optimizer, scheduler, print_every=1, early_stop_epochs=10, is_for_inception=False)\n",
        "\n",
        "# filename to save\n",
        "filename_prefix = \"vit_b64_lr00003_ss1_gamma09_E50_e{}\".format(len(history_dic['valid_acc']))\n",
        "\n",
        "## Save the best weights\n",
        "torch.save(model.state_dict(), filename_prefix + \".pth\")\n",
        "\n",
        "## Convert history to dataframe\n",
        "df = pd.DataFrame(history_dic)\n",
        "\n",
        "## Save the history\n",
        "df.to_csv(filename_prefix + \".csv\")"
      ],
      "execution_count": 24,
      "outputs": [
        {
          "output_type": "stream",
          "name": "stdout",
          "text": [
            "Epoch 1/50\tTrain loss: 0.9611\tTrain acc: 0.6086\tValid loss: 0.8959\tValid acc: 0.6287\tTime: 4m 8s\n",
            "Epoch 2/50\tTrain loss: 0.8672\tTrain acc: 0.6354\tValid loss: 0.8611\tValid acc: 0.6433\tTime: 4m 7s\n",
            "Epoch 3/50\tTrain loss: 0.8389\tTrain acc: 0.6534\tValid loss: 0.8411\tValid acc: 0.6468\tTime: 4m 7s\n",
            "Epoch 4/50\tTrain loss: 0.8160\tTrain acc: 0.6610\tValid loss: 0.8256\tValid acc: 0.6546\tTime: 4m 6s\n",
            "Epoch 5/50\tTrain loss: 0.7978\tTrain acc: 0.6708\tValid loss: 0.8188\tValid acc: 0.6621\tTime: 4m 7s\n",
            "Epoch 6/50\tTrain loss: 0.7785\tTrain acc: 0.6788\tValid loss: 0.7705\tValid acc: 0.6817\tTime: 4m 7s\n",
            "Epoch 7/50\tTrain loss: 0.7563\tTrain acc: 0.6912\tValid loss: 0.7671\tValid acc: 0.6802\tTime: 4m 7s\n",
            "Epoch 8/50\tTrain loss: 0.7331\tTrain acc: 0.7031\tValid loss: 0.7459\tValid acc: 0.6957\tTime: 4m 9s\n",
            "Epoch 9/50\tTrain loss: 0.7083\tTrain acc: 0.7134\tValid loss: 0.7187\tValid acc: 0.7006\tTime: 4m 8s\n",
            "Epoch 10/50\tTrain loss: 0.6925\tTrain acc: 0.7177\tValid loss: 0.6952\tValid acc: 0.7129\tTime: 4m 8s\n",
            "Epoch 11/50\tTrain loss: 0.6809\tTrain acc: 0.7246\tValid loss: 0.6891\tValid acc: 0.7210\tTime: 4m 8s\n",
            "Epoch 12/50\tTrain loss: 0.6643\tTrain acc: 0.7323\tValid loss: 0.6714\tValid acc: 0.7229\tTime: 4m 8s\n",
            "Epoch 13/50\tTrain loss: 0.6554\tTrain acc: 0.7353\tValid loss: 0.6651\tValid acc: 0.7279\tTime: 4m 7s\n",
            "Epoch 14/50\tTrain loss: 0.6451\tTrain acc: 0.7409\tValid loss: 0.6597\tValid acc: 0.7332\tTime: 4m 7s\n",
            "Epoch 15/50\tTrain loss: 0.6377\tTrain acc: 0.7417\tValid loss: 0.6476\tValid acc: 0.7359\tTime: 4m 8s\n",
            "Epoch 16/50\tTrain loss: 0.6296\tTrain acc: 0.7465\tValid loss: 0.6545\tValid acc: 0.7347\tTime: 4m 7s\n",
            "Epoch 17/50\tTrain loss: 0.6243\tTrain acc: 0.7462\tValid loss: 0.6378\tValid acc: 0.7365\tTime: 4m 7s\n",
            "Epoch 18/50\tTrain loss: 0.6188\tTrain acc: 0.7517\tValid loss: 0.6340\tValid acc: 0.7403\tTime: 4m 8s\n",
            "Epoch 19/50\tTrain loss: 0.6105\tTrain acc: 0.7549\tValid loss: 0.6374\tValid acc: 0.7408\tTime: 4m 7s\n",
            "Epoch 20/50\tTrain loss: 0.6087\tTrain acc: 0.7552\tValid loss: 0.6365\tValid acc: 0.7384\tTime: 4m 7s\n",
            "Epoch 21/50\tTrain loss: 0.6026\tTrain acc: 0.7589\tValid loss: 0.6284\tValid acc: 0.7432\tTime: 4m 7s\n",
            "Epoch 22/50\tTrain loss: 0.5998\tTrain acc: 0.7589\tValid loss: 0.6224\tValid acc: 0.7467\tTime: 4m 7s\n",
            "Epoch 23/50\tTrain loss: 0.5999\tTrain acc: 0.7592\tValid loss: 0.6264\tValid acc: 0.7422\tTime: 4m 7s\n",
            "Epoch 24/50\tTrain loss: 0.5949\tTrain acc: 0.7616\tValid loss: 0.6293\tValid acc: 0.7465\tTime: 4m 7s\n",
            "Epoch 25/50\tTrain loss: 0.5891\tTrain acc: 0.7632\tValid loss: 0.6186\tValid acc: 0.7465\tTime: 4m 7s\n",
            "Epoch 26/50\tTrain loss: 0.5843\tTrain acc: 0.7659\tValid loss: 0.6191\tValid acc: 0.7461\tTime: 4m 7s\n",
            "Epoch 27/50\tTrain loss: 0.5862\tTrain acc: 0.7635\tValid loss: 0.6124\tValid acc: 0.7477\tTime: 4m 8s\n",
            "Epoch 28/50\tTrain loss: 0.5844\tTrain acc: 0.7641\tValid loss: 0.6133\tValid acc: 0.7460\tTime: 4m 8s\n",
            "Epoch 29/50\tTrain loss: 0.5776\tTrain acc: 0.7665\tValid loss: 0.6059\tValid acc: 0.7533\tTime: 4m 7s\n",
            "Epoch 30/50\tTrain loss: 0.5781\tTrain acc: 0.7672\tValid loss: 0.6122\tValid acc: 0.7508\tTime: 4m 8s\n",
            "Epoch 31/50\tTrain loss: 0.5732\tTrain acc: 0.7709\tValid loss: 0.6048\tValid acc: 0.7572\tTime: 4m 8s\n",
            "Epoch 32/50\tTrain loss: 0.5763\tTrain acc: 0.7697\tValid loss: 0.6065\tValid acc: 0.7579\tTime: 4m 7s\n",
            "Epoch 33/50\tTrain loss: 0.5744\tTrain acc: 0.7677\tValid loss: 0.6097\tValid acc: 0.7529\tTime: 4m 8s\n",
            "Epoch 34/50\tTrain loss: 0.5718\tTrain acc: 0.7700\tValid loss: 0.6017\tValid acc: 0.7493\tTime: 4m 8s\n",
            "Epoch 35/50\tTrain loss: 0.5728\tTrain acc: 0.7684\tValid loss: 0.6036\tValid acc: 0.7529\tTime: 4m 7s\n",
            "Epoch 36/50\tTrain loss: 0.5726\tTrain acc: 0.7692\tValid loss: 0.6031\tValid acc: 0.7532\tTime: 4m 8s\n",
            "Epoch 37/50\tTrain loss: 0.5690\tTrain acc: 0.7710\tValid loss: 0.6080\tValid acc: 0.7542\tTime: 4m 7s\n",
            "Epoch 38/50\tTrain loss: 0.5709\tTrain acc: 0.7718\tValid loss: 0.6094\tValid acc: 0.7535\tTime: 4m 7s\n",
            "Epoch 39/50\tTrain loss: 0.5667\tTrain acc: 0.7718\tValid loss: 0.6053\tValid acc: 0.7558\tTime: 4m 9s\n",
            "Epoch 40/50\tTrain loss: 0.5676\tTrain acc: 0.7701\tValid loss: 0.6065\tValid acc: 0.7545\tTime: 4m 8s\n",
            "Epoch 41/50\tTrain loss: 0.5651\tTrain acc: 0.7753\tValid loss: 0.5999\tValid acc: 0.7560\tTime: 4m 8s\n",
            "Epoch 42/50\tTrain loss: 0.5637\tTrain acc: 0.7734\tValid loss: 0.5991\tValid acc: 0.7533\tTime: 4m 10s\n",
            "Early stopping... (Model did not improve after 10 epochs)\n",
            "Best epoch = 32, with acc = 0.758\n"
          ]
        }
      ]
    },
    {
      "cell_type": "markdown",
      "metadata": {
        "id": "lOIs_P6T4snI"
      },
      "source": [
        "### Training History"
      ]
    },
    {
      "cell_type": "code",
      "metadata": {
        "id": "9deJZmrH12sj",
        "colab": {
          "base_uri": "https://localhost:8080/",
          "height": 367
        },
        "outputId": "6da47af7-9947-4d0b-e99d-a89fe61a5abe"
      },
      "source": [
        "# history filename\n",
        "history_filename = filename_prefix + \".csv\"\n",
        "print(\"history_filename: {}\".format(history_filename))\n",
        "\n",
        "# read csv\n",
        "df = pd.read_csv(history_filename)\n",
        "\n",
        "# number of epochs\n",
        "epochs = len(history_dic['valid_acc'])\n",
        "\n",
        "fig, (ax1, ax2) = plt.subplots(1, 2, figsize=(15, 5))\n",
        "\n",
        "ax1.plot(range(epochs), history_dic['train_loss'], 'b', label='train')\n",
        "ax1.plot(range(epochs), history_dic['valid_loss'], 'r', label='val')\n",
        "ax1.set_title(\"Loss\")\n",
        "ax1.set_xlabel(\"Epochs\")\n",
        "ax1.set_ylabel(\"Loss\")\n",
        "ax1.legend()\n",
        "\n",
        "ax2.plot(range(epochs), history_dic['train_acc'], 'b', label='train')\n",
        "ax2.plot(range(epochs), history_dic['valid_acc'], 'r', label='val')\n",
        "ax2.set_title(\"Accuracy\")\n",
        "ax2.set_xlabel(\"Epochs\")\n",
        "ax2.set_ylabel(\"Acc\")\n",
        "ax2.legend()\n",
        "plt.show()"
      ],
      "execution_count": 25,
      "outputs": [
        {
          "output_type": "stream",
          "name": "stdout",
          "text": [
            "history_filename: vit_b64_lr00003_ss1_gamma09_E50_e42.csv\n"
          ]
        },
        {
          "output_type": "display_data",
          "data": {
            "image/png": "[encoded data removed]",
            "text/plain": [
              "<Figure size 1080x360 with 2 Axes>"
            ]
          },
          "metadata": {
            "needs_background": "light"
          }
        }
      ]
    },
    {
      "cell_type": "markdown",
      "metadata": {
        "id": "fdtKXdBF4uNf"
      },
      "source": [
        "### Predict Test Data"
      ]
    },
    {
      "cell_type": "code",
      "metadata": {
        "id": "x9H7s-5T132N",
        "colab": {
          "base_uri": "https://localhost:8080/"
        },
        "outputId": "d8c84a1f-0341-4ad7-9c1d-b2b9f440146d"
      },
      "source": [
        "print(filename_prefix + \".pth\")\n",
        "\n",
        "# move to gpu\n",
        "model = model.to(device)\n",
        "\n",
        "# evaluation\n",
        "model.eval()\n",
        "\n",
        "# loss and accuracy\n",
        "epoch_test_cum_loss = 0.0\n",
        "epoch_test_cum_corrects = 0\n",
        "\n",
        "for images, labels in test_loader:\n",
        "    images = images.to(device)\n",
        "    labels = labels.long().to(device)\n",
        "\n",
        "    with torch.no_grad():\n",
        "        pred_logits = model(images)\n",
        "        _, pred_classes = torch.max(pred_logits.detach(), dim=1)\n",
        "        loss = criterion(pred_logits, labels)\n",
        "\n",
        "        epoch_test_cum_loss += loss.item() * images.size(0)\n",
        "        epoch_test_cum_corrects += torch.sum(pred_classes==labels.data)\n",
        "\n",
        "# calculate final loss and accuracy\n",
        "test_loss = epoch_test_cum_loss / len(data_test)\n",
        "test_acc = epoch_test_cum_corrects / len(data_test)\n",
        "\n",
        "# display\n",
        "print(\"Test loss: {:.4f}\".format(test_loss))\n",
        "print(\"Test accuracy: {:.4f}\".format(test_acc))"
      ],
      "execution_count": 27,
      "outputs": [
        {
          "output_type": "stream",
          "name": "stdout",
          "text": [
            "vit_b64_lr00003_ss1_gamma09_E50_e42.pth\n",
            "Test loss: 0.5885\n",
            "Test accuracy: 0.7623\n"
          ]
        }
      ]
    },
    {
      "cell_type": "markdown",
      "metadata": {
        "id": "3nRI_6GLXlab"
      },
      "source": [
        "## Best model"
      ]
    },
    {
      "cell_type": "markdown",
      "metadata": {
        "id": "NR5PxeCFXn5A"
      },
      "source": [
        "The current best CNN model is `vit_b64_lr00003_ss1_gamma09_E50_e42.pth`, with the test accuracy = **0.7623**"
      ]
    },
    {
      "cell_type": "code",
      "metadata": {
        "id": "UKeqWgFQ5Y_E"
      },
      "source": [
        ""
      ],
      "execution_count": null,
      "outputs": []
    }
  ]
}