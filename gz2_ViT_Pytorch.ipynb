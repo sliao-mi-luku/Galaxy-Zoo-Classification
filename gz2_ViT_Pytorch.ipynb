{
  "nbformat": 4,
  "nbformat_minor": 0,
  "metadata": {
    "colab": {
      "name": "GalaxyZoo2_ViT_Pytorch_091721A.ipynb",
      "provenance": [],
      "collapsed_sections": []
    },
    "kernelspec": {
      "name": "python3",
      "display_name": "Python 3"
    },
    "language_info": {
      "name": "python"
    },
    "accelerator": "GPU"
  },
  "cells": [
    {
      "cell_type": "markdown",
      "metadata": {
        "id": "TUO9qXMa17F-"
      },
      "source": [
        "# Galaxy Classification with Vision Transformer (Pytorch)"
      ]
    },
    {
      "cell_type": "markdown",
      "metadata": {
        "id": "S1y8Ta0p2BUj"
      },
      "source": [
        "Data:\n",
        "\n",
        "https://www.kaggle.com/c/galaxy-zoo-the-galaxy-challenge\n",
        "\n",
        "\n",
        "\n",
        "References:\n",
        "\n",
        "1. https://pytorch.org/tutorials/beginner/transfer_learning_tutorial.html\n",
        "\n",
        "2. https://pytorch.org/vision/stable/models.html\n",
        "\n",
        "3. https://pytorch.org/tutorials/beginner/data_loading_tutorial.html\n",
        "\n",
        "4. https://pytorch.org/tutorials/beginner/finetuning_torchvision_models_tutorial.html\n",
        "\n",
        "5. https://cs231n.github.io/transfer-learning/\n",
        "\n",
        "6. https://github.com/joshualin24/vit-pytorch/blob/main/examples/galaxy_classification.ipynb\n",
        "\n"
      ]
    },
    {
      "cell_type": "markdown",
      "metadata": {
        "id": "xbvsPMIF2NM-"
      },
      "source": [
        "## Check GPU"
      ]
    },
    {
      "cell_type": "code",
      "metadata": {
        "colab": {
          "base_uri": "https://localhost:8080/"
        },
        "id": "cR4qPHGPzlQZ",
        "outputId": "9c070b84-dbb2-428f-9921-a0840409d26a"
      },
      "source": [
        "!nvidia-smi -L"
      ],
      "execution_count": null,
      "outputs": [
        {
          "output_type": "stream",
          "name": "stdout",
          "text": [
            "GPU 0: Tesla T4 (UUID: GPU-9500162f-6547-1af6-2b92-414cbd803f12)\n"
          ]
        }
      ]
    },
    {
      "cell_type": "markdown",
      "metadata": {
        "id": "ApYE1Fx_2HWq"
      },
      "source": [
        "## Install Vision Transformer (ViT)"
      ]
    },
    {
      "cell_type": "code",
      "metadata": {
        "id": "re2zMtrMzhMF"
      },
      "source": [
        "! pip -q install vit_pytorch linformer"
      ],
      "execution_count": null,
      "outputs": []
    },
    {
      "cell_type": "markdown",
      "metadata": {
        "id": "j_WcSZnp2PRl"
      },
      "source": [
        "## Import Libraries"
      ]
    },
    {
      "cell_type": "code",
      "metadata": {
        "id": "hB7gGvfa0IIn",
        "colab": {
          "base_uri": "https://localhost:8080/"
        },
        "outputId": "5e1c4897-e52b-4bc9-fa65-ddcf30549869"
      },
      "source": [
        "import numpy as np\n",
        "import pandas as pd\n",
        "import matplotlib.pyplot as plt\n",
        "\n",
        "from PIL import Image\n",
        "from sklearn.model_selection import train_test_split\n",
        "from sklearn.metrics import confusion_matrix, accuracy_score, recall_score, f1_score\n",
        "import seaborn as sns\n",
        "\n",
        "import torch\n",
        "import torch.nn as nn\n",
        "from torch.utils.data import Dataset, DataLoader\n",
        "from torchvision import models, transforms, utils\n",
        "import torch.optim as optim\n",
        "from torch.optim import lr_scheduler\n",
        "\n",
        "import time\n",
        "import os\n",
        "import zipfile\n",
        "from copy import deepcopy\n",
        "\n",
        "%matplotlib inline\n",
        "\n",
        "device = torch.device(\"cuda:0\" if torch.cuda.is_available() else \"cpu\")\n",
        "print(device)\n",
        "\n",
        "# vision transformer\n",
        "from linformer import Linformer\n",
        "from vit_pytorch.efficient import ViT"
      ],
      "execution_count": null,
      "outputs": [
        {
          "output_type": "stream",
          "name": "stdout",
          "text": [
            "cuda:0\n"
          ]
        }
      ]
    },
    {
      "cell_type": "code",
      "metadata": {
        "id": "0rDIIJkIxQc9",
        "colab": {
          "base_uri": "https://localhost:8080/"
        },
        "outputId": "0dd21ef0-0625-4868-a3d1-d78c0025bccd"
      },
      "source": [
        "torch.manual_seed(0)"
      ],
      "execution_count": null,
      "outputs": [
        {
          "output_type": "execute_result",
          "data": {
            "text/plain": [
              "<torch._C.Generator at 0x7f8d0fac1790>"
            ]
          },
          "metadata": {},
          "execution_count": 5
        }
      ]
    },
    {
      "cell_type": "markdown",
      "metadata": {
        "id": "4t4jV38S2VLk"
      },
      "source": [
        "## Unzip images\n",
        "\n",
        "Before running the code, please upload `images_train.zip`, `images_valid.zip` and `images_test.zip` to the workspace.\n",
        "\n",
        "We upzip these 3 files, and place:\n",
        "\n",
        "- all training images (n=39,410) into the folder `images_train`\n",
        "- all validation images (n=9,852) into the folder `images_valid`, and\n",
        "- all test images (n=12,316) into the folder `images_test`.\n",
        "\n",
        "We create the folders first if they don't exist."
      ]
    },
    {
      "cell_type": "code",
      "metadata": {
        "id": "Drc6IgZJ0JQ1"
      },
      "source": [
        "## The unzipping function\n",
        "def unzipping(zip_file_name, dest_dir):\n",
        "    \"\"\"\n",
        "    Arguments\n",
        "        zip_file_name: (str) the file name of the zip file\n",
        "        dest_dir: (str) the name of the destination folder\n",
        "    \"\"\"\n",
        "    # check if the destination folder exists. Create one if not.\n",
        "    #if not os.path.exists(dest_dir):\n",
        "    #    os.makedirs(dest_dir)\n",
        "    \n",
        "    # unzipping\n",
        "    zip_f = zipfile.ZipFile(zip_file_name, 'r')\n",
        "    zip_f.extractall(path=dest_dir)\n",
        "    zip_f.close()"
      ],
      "execution_count": null,
      "outputs": []
    },
    {
      "cell_type": "markdown",
      "metadata": {
        "id": "3RobhNj3l_UR"
      },
      "source": [
        "#### Unzip from Google Drive"
      ]
    },
    {
      "cell_type": "code",
      "metadata": {
        "id": "mTPNOjVOmEYN"
      },
      "source": [
        "## directory on Google Drive\n",
        "datasets_dir = 'drive/MyDrive/gz2_datasets'\n",
        "\n",
        "## Unzip training, validation, and test images\n",
        "unzipping(os.path.join(datasets_dir, 'images_train.zip'), './')\n",
        "unzipping(os.path.join(datasets_dir, 'images_valid.zip'), './')\n",
        "unzipping(os.path.join(datasets_dir, 'images_test.zip'), './')"
      ],
      "execution_count": null,
      "outputs": []
    },
    {
      "cell_type": "markdown",
      "metadata": {
        "id": "OxNp3zQKmFNR"
      },
      "source": [
        "#### Unzip from Google Colab workspace"
      ]
    },
    {
      "cell_type": "code",
      "metadata": {
        "id": "dr1x3ao90LIl"
      },
      "source": [
        "## Unzip training, validation, and test images\n",
        "unzipping('images_train.zip', 'images_train')\n",
        "unzipping('images_valid.zip', 'images_valid')\n",
        "unzipping('images_test.zip', 'images_test')"
      ],
      "execution_count": null,
      "outputs": []
    },
    {
      "cell_type": "markdown",
      "metadata": {
        "id": "P_oRGGTk2aUM"
      },
      "source": [
        "## Custom Datasets"
      ]
    },
    {
      "cell_type": "code",
      "metadata": {
        "id": "Kw-QIg3w0NNZ"
      },
      "source": [
        "## Custom Galaxy Zoo 2 Dataset\n",
        "class GalaxyZooDataset(Dataset):\n",
        "    \"\"\"Galaxy Zoo Dataset\"\"\"\n",
        "\n",
        "    def __init__(self, csv_file, images_dir, transform=None):\n",
        "        \"\"\"\n",
        "        Args:\n",
        "            csv_file (string): path to the label csv\n",
        "            images_dir (string): path to the dir containing all images\n",
        "            transform (callable, optional): transform to apply\n",
        "        \"\"\"\n",
        "        self.labels_df = pd.read_csv(csv_file)\n",
        "        self.labels_df = self.labels_df[['galaxyID', 'label1']].copy()\n",
        "\n",
        "        self.images_dir = images_dir\n",
        "        self.transform = transform\n",
        "    \n",
        "    def __len__(self):\n",
        "        \"\"\"\n",
        "        Returns the size of the dataset\n",
        "        \"\"\"\n",
        "        return len(self.labels_df)\n",
        "\n",
        "    def __getitem__(self, idx):\n",
        "        \"\"\"\n",
        "        Get the idx-th sample.\n",
        "\t\tOutputs the image (channel first) and the true label\n",
        "        \"\"\"\n",
        "        if torch.is_tensor(idx):\n",
        "            idx = idx.tolist()\n",
        "        \n",
        "        # galaxy ID\n",
        "        galaxyid = self.labels_df.iloc[idx, 0].astype(str)\n",
        "\t\t# path of the image\n",
        "        image_path = os.path.join(self.images_dir, galaxyid + '.jpg')\n",
        "\t\t# read the image\n",
        "        image = Image.open(image_path)\n",
        "\t\t# apply transform (optional)\n",
        "        if self.transform is not None:\n",
        "            image = self.transform(image)\n",
        "\t\t# read the true label\n",
        "        label = int(self.labels_df.iloc[idx, 1])\n",
        "\n",
        "        return image, label, int(galaxyid)"
      ],
      "execution_count": null,
      "outputs": []
    },
    {
      "cell_type": "markdown",
      "metadata": {
        "id": "buWKR4As2dQb"
      },
      "source": [
        "## Custom Transforms"
      ]
    },
    {
      "cell_type": "code",
      "metadata": {
        "id": "IqShZSWU0Npi"
      },
      "source": [
        "def create_data_transforms(is_for_inception=False):\n",
        "    \"\"\"\n",
        "    Create Pytorch data transforms for the GalaxyZoo datasets.\n",
        "    Args:\n",
        "        is_for_inception (bool): True for inception neural networks\n",
        "    Outputs:\n",
        "        train_transform: transform for the training data\n",
        "        test_transform: transform for the testing data\n",
        "    \"\"\"\n",
        "    if is_for_inception:\n",
        "        input_size = 299\n",
        "    else:\n",
        "        input_size = 224\n",
        "\n",
        "    # transforms for training data\n",
        "    train_transform = transforms.Compose([transforms.CenterCrop(input_size),\n",
        "                                          transforms.RandomRotation(90),\n",
        "                                          transforms.RandomHorizontalFlip(),\n",
        "                                          transforms.RandomVerticalFlip(),\n",
        "                                          transforms.RandomResizedCrop(input_size, scale=(0.8, 1.0), ratio=(0.99, 1.01)),\n",
        "                                          transforms.ToTensor(),\n",
        "                                          transforms.Normalize([0.094, 0.0815, 0.063], [0.1303, 0.11, 0.0913])])\n",
        "\n",
        "    # transforms for validation data\n",
        "    valid_transform = transforms.Compose([transforms.CenterCrop(input_size),\n",
        "                                          transforms.ToTensor(),\n",
        "                                          transforms.Normalize([0.094, 0.0815, 0.063], [0.1303, 0.11, 0.0913])])\n",
        "\n",
        "    # transforms for test data\n",
        "    test_transform = transforms.Compose([transforms.CenterCrop(input_size),\n",
        "                                         transforms.ToTensor(),\n",
        "                                         transforms.Normalize([0.094, 0.0815, 0.063], [0.1303, 0.11, 0.0913])])\n",
        "\n",
        "    \n",
        "    return train_transform, valid_transform, test_transform"
      ],
      "execution_count": null,
      "outputs": []
    },
    {
      "cell_type": "markdown",
      "metadata": {
        "id": "hAigxq7N2i-i"
      },
      "source": [
        "## Training Function"
      ]
    },
    {
      "cell_type": "code",
      "metadata": {
        "id": "z_7lA_8q0Qwi"
      },
      "source": [
        "def train_model(model, num_epochs, criterion, optimizer, scheduler, print_every=1, early_stop_epochs=10):\n",
        "    \"\"\"\n",
        "    Train the model\n",
        "    Args:\n",
        "        model: Pytorch neural model\n",
        "        num_epochs: number of epochs to train\n",
        "        criterion: the loss function object\n",
        "        optimizer: the optimizer\n",
        "        scheduler: the learning rate decay scheduler\n",
        "        print_every: print the information every X epochs\n",
        "        early_stop_epochs: early stopping if the model doesn't improve after X epochs\n",
        "    \"\"\"\n",
        "    # cache the best model\n",
        "    best_model_weights = deepcopy(model.state_dict())\n",
        "    # best train acc\n",
        "    best_train_acc = 0.0\n",
        "    # best valid acc\n",
        "    best_valid_acc = 0.0\n",
        "    # best epoch\n",
        "    best_epoch = -1    \n",
        "\n",
        "    # intiate dict to records the history of loss and acc\n",
        "    history_dic = dict()\n",
        "    history_dic['train_loss'] = []\n",
        "    history_dic['train_acc'] = []\n",
        "    history_dic['valid_loss'] = []\n",
        "    history_dic['valid_acc'] = []\n",
        "    history_dic['lr'] = []\n",
        "\n",
        "    for epoch in range(num_epochs):\n",
        "        # time of start\n",
        "        epoch_start_time = time.time()\n",
        "\n",
        "        \"\"\"\n",
        "        Train\n",
        "        \"\"\"\n",
        "        model.train()\n",
        "\n",
        "        epoch_train_cum_loss = 0.0\n",
        "        epoch_train_cum_corrects = 0\n",
        "        \n",
        "        for images, labels, _ in train_loader:\n",
        "            images = images.to(device)\n",
        "            labels = labels.long().to(device)\n",
        "\n",
        "            optimizer.zero_grad()\n",
        "            \n",
        "            pred_logits = model(images)\n",
        "            loss = criterion(pred_logits, labels)\n",
        "\n",
        "            _, pred_classes = torch.max(pred_logits.detach(), dim=1)\n",
        "            pred_classes = pred_classes.long()\n",
        "\n",
        "            epoch_train_cum_loss += loss.item() * images.size(0)\n",
        "            epoch_train_cum_corrects += torch.sum(pred_classes==labels.data).detach().to('cpu').item()\n",
        "\n",
        "            loss.backward()\n",
        "            optimizer.step()\n",
        "            \n",
        "        \"\"\"\n",
        "        Eval\n",
        "        \"\"\"\n",
        "        model.eval()\n",
        "\n",
        "        epoch_valid_cum_loss = 0.0\n",
        "        epoch_valid_cum_corrects = 0\n",
        "\n",
        "        for images, labels, _ in valid_loader:\n",
        "            images = images.to(device)\n",
        "            labels = labels.long().to(device)\n",
        "\n",
        "            with torch.no_grad():\n",
        "                pred_logits = model(images)\n",
        "                _, pred_classes = torch.max(pred_logits.detach(), dim=1)\n",
        "                loss = criterion(pred_logits, labels)\n",
        "\n",
        "                epoch_valid_cum_loss += loss.item() * images.size(0)\n",
        "                epoch_valid_cum_corrects += torch.sum(pred_classes==labels.data).detach().to('cpu').item()\n",
        "\n",
        "        ## Calculate metrics\n",
        "        train_loss = epoch_train_cum_loss / len(data_train)\n",
        "        train_acc = epoch_train_cum_corrects / len(data_train)\n",
        "        valid_loss = epoch_valid_cum_loss / len(data_valid)\n",
        "        valid_acc = epoch_valid_cum_corrects / len(data_valid)\n",
        "\n",
        "        # update history_dic\n",
        "        history_dic['train_loss'].append(train_loss)\n",
        "        history_dic['train_acc'].append(train_acc)\n",
        "        history_dic['valid_loss'].append(valid_loss)\n",
        "        history_dic['valid_acc'].append(valid_acc)\n",
        "        history_dic['lr'].append(scheduler.get_last_lr()[0])\n",
        "\n",
        "        # check if is the best acc ever\n",
        "        if valid_acc > best_valid_acc:\n",
        "            best_train_acc = train_acc\n",
        "            best_valid_acc = valid_acc\n",
        "            best_epoch = epoch + 1\n",
        "            # update the best model weights\n",
        "            best_model_weights = deepcopy(model.state_dict())\n",
        "            # save the best model weights to Google drive\n",
        "            torch.save(model.state_dict(), os.path.join('drive/MyDrive/gz2_datasets', model_name + \"_cache.pth\"))\n",
        "\n",
        "        epoch_end_time = time.time()\n",
        "        epoch_time_used = epoch_end_time - epoch_start_time\n",
        "        # convert epoch_time_used into mm:ss\n",
        "        mm = epoch_time_used // 60\n",
        "        ss = epoch_time_used % 60\n",
        "\n",
        "        ## Print metrics\n",
        "        if (epoch+1) % print_every == 0:\n",
        "\n",
        "            # if is best valid acc\n",
        "            if epoch == (best_epoch - 1):\n",
        "                print(\"Epoch {}/{}\\tTrain loss: {:.4f}\\tTrain acc: {:.4f}\\tValid loss: {:.4f}\\tValid acc: {:.4f}\\tTime: {:.0f}m {:.0f}s\\t<--\".format(\n",
        "                    epoch+1, num_epochs, train_loss, train_acc, valid_loss, valid_acc, mm, ss))\n",
        "            # not a better model\n",
        "            else:\n",
        "                print(\"Epoch {}/{}\\tTrain loss: {:.4f}\\tTrain acc: {:.4f}\\tValid loss: {:.4f}\\tValid acc: {:.4f}\\tTime: {:.0f}m {:.0f}s\".format(\n",
        "                    epoch+1, num_epochs, train_loss, train_acc, valid_loss, valid_acc, mm, ss))\n",
        "            \n",
        "        ## Early stopping\n",
        "        if (epoch+1) - best_epoch >= early_stop_epochs:\n",
        "            print(\"Early stopping... (Model did not improve after {} epochs)\".format(early_stop_epochs))\n",
        "            break\n",
        "        \n",
        "        scheduler.step()\n",
        "    \n",
        "    # load the best weights into the model\n",
        "    model.load_state_dict(best_model_weights)\n",
        "    # print the best epoch\n",
        "    print(\"Best epoch = {}, with training accuracy = {:.4f} and validation accuracy = {:.4f}\".format(best_epoch, best_train_acc, best_valid_acc))\n",
        "\n",
        "    # return the best model\n",
        "    return model, history_dic"
      ],
      "execution_count": null,
      "outputs": []
    },
    {
      "cell_type": "markdown",
      "metadata": {
        "id": "6RoYRv692wSk"
      },
      "source": [
        "## Create dataloaders"
      ]
    },
    {
      "cell_type": "code",
      "metadata": {
        "id": "tX-8evCxvDPP",
        "colab": {
          "base_uri": "https://localhost:8080/"
        },
        "outputId": "4700dc94-0ee1-43b9-9bee-9a8ab87c7806"
      },
      "source": [
        "\"\"\"\n",
        "Data Loader\n",
        "\"\"\"\n",
        "# the batch size\n",
        "BATCH_SIZE = 64\n",
        "\n",
        "# create transforms\n",
        "train_transform, valid_transform, test_transform = create_data_transforms(is_for_inception=False)\n",
        "\n",
        "# create datasets\n",
        "data_train = GalaxyZooDataset('gz2_train.csv', 'images_train', train_transform)\n",
        "data_valid = GalaxyZooDataset('gz2_valid.csv', 'images_valid', valid_transform)\n",
        "data_test = GalaxyZooDataset('gz2_test.csv', 'images_test', test_transform)\n",
        "\n",
        "# dataloaders\n",
        "train_loader = DataLoader(data_train, batch_size=BATCH_SIZE, shuffle=True)\n",
        "valid_loader = DataLoader(data_valid, batch_size=BATCH_SIZE, shuffle=True)\n",
        "test_loader = DataLoader(data_test, batch_size=BATCH_SIZE, shuffle=True)\n",
        "\n",
        "# check the sizes\n",
        "print(\"**Dataloaders**\")\n",
        "print(\"Number of training data: {} ({} batches)\".format(len(data_train), len(train_loader)))\n",
        "print(\"Number of validation data: {} ({} batches)\".format(len(data_valid), len(valid_loader)))\n",
        "print(\"Number of test data: {} ({} batches)\".format(len(data_test), len(test_loader)))\n",
        "print(\"===============================\")"
      ],
      "execution_count": null,
      "outputs": [
        {
          "output_type": "stream",
          "name": "stdout",
          "text": [
            "**Dataloaders**\n",
            "Number of training data: 99808 (1560 batches)\n",
            "Number of validation data: 24952 (390 batches)\n",
            "Number of test data: 31191 (488 batches)\n",
            "===============================\n"
          ]
        }
      ]
    },
    {
      "cell_type": "markdown",
      "metadata": {
        "id": "sxu6DRCalryD"
      },
      "source": [
        "## Hyperparameters"
      ]
    },
    {
      "cell_type": "code",
      "metadata": {
        "id": "eilr1Qr8eUBV"
      },
      "source": [
        "\"\"\"\n",
        "Parameters\n",
        "\"\"\"\n",
        "PATCH_SIZE = 28\n",
        "DEPTH = 12\n",
        "HIDDEN_DIM = 128\n",
        "K_DIM = 64\n",
        "NUM_HEADS = 8\n",
        "\n",
        "LR = 3e-4\n",
        "STEP_SIZE = 5\n",
        "GAMMA = 0.9\n",
        "MAX_EPOCH = 200\n",
        "\n",
        "LIN_DROPOUT = 0.1\n",
        "\n",
        "# loss calculation for each class\n",
        "#class_weights = torch.FloatTensor([1., 1., 2., 1., 1., 1., 4., 3.]).to(device)\n",
        "#class_weights = torch.FloatTensor([4.6, 4.0, 20.9, 9.6, 7.7, 5.1, 26.5, 73.3]).to(device)\n",
        "class_weights = torch.FloatTensor([1., 1., 1., 1., 1., 1., 1., 1.]).to(device)"
      ],
      "execution_count": null,
      "outputs": []
    },
    {
      "cell_type": "markdown",
      "metadata": {
        "id": "nvqLzCpDmKsa"
      },
      "source": [
        "## Create ViT model"
      ]
    },
    {
      "cell_type": "code",
      "metadata": {
        "colab": {
          "base_uri": "https://localhost:8080/"
        },
        "id": "pyM3bV4zmHRw",
        "outputId": "59be461c-a8ad-4504-9c30-d7f3a0208613"
      },
      "source": [
        "## file name\n",
        "model_name = \"gz2_vit_09172021_0000\"\n",
        "\n",
        "# calculate seq_len\n",
        "seq_len = int((224/PATCH_SIZE)**2) + 1\n",
        "\n",
        "## Linformer\n",
        "lin = Linformer(dim=HIDDEN_DIM, seq_len=seq_len, depth=DEPTH, k=K_DIM, heads=NUM_HEADS,\n",
        "                dim_head=None, one_kv_head=False, share_kv=False, reversible=False, dropout=LIN_DROPOUT)\n",
        "\n",
        "## Vision Transformer\n",
        "model = ViT(image_size=224, patch_size=PATCH_SIZE, num_classes=8, dim=HIDDEN_DIM, transformer=lin, pool='cls', channels=3)\n",
        "\n",
        "# print out model details\n",
        "print(\"*******[ \" + model_name + \" ]*******\")\n",
        "print(\"===============================\")\n",
        "print(\"patch_size = {}\".format(PATCH_SIZE))\n",
        "print(\"depth = {}\".format(DEPTH))\n",
        "print(\"hidden_dim = {}\".format(HIDDEN_DIM))\n",
        "print(\"k_dim = {}\".format(K_DIM))\n",
        "print(\"num_heads = {}\".format(NUM_HEADS))\n",
        "print(\"dropout = {}\".format(LIN_DROPOUT))\n",
        "print(\"batch_size = {}\".format(BATCH_SIZE))\n",
        "print(\"lr = {}\".format(LR))\n",
        "print(\"step_size = {}\".format(STEP_SIZE))\n",
        "print(\"gamma = {}\".format(GAMMA))\n",
        "print(\"max_epoch = {}\".format(MAX_EPOCH))\n",
        "print(\"class weights = {}\".format(class_weights))\n",
        "print(\"===============================\")\n",
        "print(\"Number of trainable parameters: {}\".format(sum(param.numel() for param in model.parameters() if param.requires_grad)))\n",
        "print(\"===============================\")"
      ],
      "execution_count": null,
      "outputs": [
        {
          "output_type": "stream",
          "name": "stdout",
          "text": [
            "*******[ gz2_vit_09172021_0000 ]*******\n",
            "===============================\n",
            "patch_size = 28\n",
            "depth = 12\n",
            "hidden_dim = 128\n",
            "k_dim = 64\n",
            "num_heads = 8\n",
            "dropout = 0.1\n",
            "batch_size = 64\n",
            "lr = 0.0003\n",
            "step_size = 5\n",
            "gamma = 0.9\n",
            "max_epoch = 200\n",
            "class weights = tensor([1., 1., 1., 1., 1., 1., 1., 1.], device='cuda:0')\n",
            "===============================\n",
            "Number of trainable parameters: 2785416\n",
            "===============================\n"
          ]
        }
      ]
    },
    {
      "cell_type": "markdown",
      "metadata": {
        "id": "Zkn_bVLJloPn"
      },
      "source": [
        "## Train the model"
      ]
    },
    {
      "cell_type": "code",
      "metadata": {
        "colab": {
          "base_uri": "https://localhost:8080/"
        },
        "id": "DMKMFnZllpkj",
        "outputId": "9498f78a-d7b1-47ca-ee74-89e0f92aa6ef"
      },
      "source": [
        "# move to gpu\n",
        "model = model.to(device)\n",
        "\n",
        "# loss function\n",
        "criterion = nn.CrossEntropyLoss(weight=class_weights)\n",
        "\n",
        "# optimizer\n",
        "optimizer = optim.Adam(model.parameters(), lr=LR)\n",
        "\n",
        "# scheduler\n",
        "scheduler = lr_scheduler.StepLR(optimizer, step_size=STEP_SIZE, gamma=GAMMA)\n",
        "\n",
        "## train and return the best model\n",
        "model, history_dic = train_model(model, MAX_EPOCH, criterion, optimizer, scheduler, print_every=1, early_stop_epochs=10)\n",
        "\n",
        "## Save the best weights\n",
        "torch.save(model.state_dict(), model_name + '.pth')\n",
        "torch.save(model.state_dict(), os.path.join('drive/MyDrive/gz2_datasets', model_name + '.pth'))\n",
        "\n",
        "## Convert history to dataframe\n",
        "history_df = pd.DataFrame(history_dic)\n",
        "\n",
        "## Save the history\n",
        "history_df.to_csv(model_name + '_history.csv', index=False)\n",
        "history_df.to_csv(os.path.join('drive/MyDrive/gz2_datasets', model_name + '_history.csv'), index=False)"
      ],
      "execution_count": null,
      "outputs": [
        {
          "output_type": "stream",
          "name": "stdout",
          "text": [
            "Epoch 1/200\tTrain loss: 1.1342\tTrain acc: 0.5721\tValid loss: 1.0037\tValid acc: 0.6174\tTime: 11m 16s\t<--\n",
            "Epoch 2/200\tTrain loss: 0.9341\tTrain acc: 0.6509\tValid loss: 0.8703\tValid acc: 0.6765\tTime: 11m 18s\t<--\n",
            "Epoch 3/200\tTrain loss: 0.8612\tTrain acc: 0.6788\tValid loss: 0.8414\tValid acc: 0.6832\tTime: 11m 20s\t<--\n",
            "Epoch 4/200\tTrain loss: 0.8098\tTrain acc: 0.7010\tValid loss: 0.7889\tValid acc: 0.7084\tTime: 11m 21s\t<--\n",
            "Epoch 5/200\tTrain loss: 0.7782\tTrain acc: 0.7135\tValid loss: 0.7379\tValid acc: 0.7280\tTime: 11m 20s\t<--\n",
            "Epoch 6/200\tTrain loss: 0.7544\tTrain acc: 0.7229\tValid loss: 0.7463\tValid acc: 0.7254\tTime: 11m 16s\n",
            "Epoch 7/200\tTrain loss: 0.7378\tTrain acc: 0.7292\tValid loss: 0.7220\tValid acc: 0.7323\tTime: 11m 24s\t<--\n",
            "Epoch 8/200\tTrain loss: 0.7215\tTrain acc: 0.7339\tValid loss: 0.7009\tValid acc: 0.7408\tTime: 11m 25s\t<--\n",
            "Epoch 9/200\tTrain loss: 0.7086\tTrain acc: 0.7383\tValid loss: 0.6813\tValid acc: 0.7495\tTime: 11m 19s\t<--\n",
            "Epoch 10/200\tTrain loss: 0.6996\tTrain acc: 0.7448\tValid loss: 0.6747\tValid acc: 0.7532\tTime: 11m 16s\t<--\n",
            "Epoch 11/200\tTrain loss: 0.6805\tTrain acc: 0.7498\tValid loss: 0.6620\tValid acc: 0.7566\tTime: 11m 19s\t<--\n",
            "Epoch 12/200\tTrain loss: 0.6717\tTrain acc: 0.7538\tValid loss: 0.6478\tValid acc: 0.7619\tTime: 11m 16s\t<--\n",
            "Epoch 13/200\tTrain loss: 0.6608\tTrain acc: 0.7578\tValid loss: 0.6545\tValid acc: 0.7609\tTime: 11m 13s\n",
            "Epoch 14/200\tTrain loss: 0.6554\tTrain acc: 0.7605\tValid loss: 0.6472\tValid acc: 0.7609\tTime: 11m 14s\n",
            "Epoch 15/200\tTrain loss: 0.6453\tTrain acc: 0.7622\tValid loss: 0.6395\tValid acc: 0.7656\tTime: 11m 17s\t<--\n",
            "Epoch 16/200\tTrain loss: 0.6355\tTrain acc: 0.7664\tValid loss: 0.6161\tValid acc: 0.7761\tTime: 11m 15s\t<--\n",
            "Epoch 17/200\tTrain loss: 0.6260\tTrain acc: 0.7718\tValid loss: 0.6249\tValid acc: 0.7696\tTime: 11m 15s\n",
            "Epoch 18/200\tTrain loss: 0.6201\tTrain acc: 0.7709\tValid loss: 0.6105\tValid acc: 0.7744\tTime: 11m 12s\n",
            "Epoch 19/200\tTrain loss: 0.6152\tTrain acc: 0.7742\tValid loss: 0.6213\tValid acc: 0.7703\tTime: 11m 12s\n",
            "Epoch 20/200\tTrain loss: 0.6101\tTrain acc: 0.7764\tValid loss: 0.6151\tValid acc: 0.7726\tTime: 11m 12s\n",
            "Epoch 21/200\tTrain loss: 0.6013\tTrain acc: 0.7784\tValid loss: 0.6002\tValid acc: 0.7790\tTime: 11m 16s\t<--\n",
            "Epoch 22/200\tTrain loss: 0.5941\tTrain acc: 0.7826\tValid loss: 0.5910\tValid acc: 0.7852\tTime: 11m 17s\t<--\n",
            "Epoch 23/200\tTrain loss: 0.5907\tTrain acc: 0.7838\tValid loss: 0.6076\tValid acc: 0.7746\tTime: 11m 7s\n",
            "Epoch 24/200\tTrain loss: 0.5876\tTrain acc: 0.7839\tValid loss: 0.5754\tValid acc: 0.7905\tTime: 11m 13s\t<--\n",
            "Epoch 25/200\tTrain loss: 0.5829\tTrain acc: 0.7855\tValid loss: 0.5874\tValid acc: 0.7851\tTime: 11m 9s\n",
            "Epoch 26/200\tTrain loss: 0.5743\tTrain acc: 0.7889\tValid loss: 0.5910\tValid acc: 0.7861\tTime: 11m 7s\n",
            "Epoch 27/200\tTrain loss: 0.5704\tTrain acc: 0.7894\tValid loss: 0.5742\tValid acc: 0.7916\tTime: 11m 11s\t<--\n",
            "Epoch 28/200\tTrain loss: 0.5669\tTrain acc: 0.7909\tValid loss: 0.5779\tValid acc: 0.7892\tTime: 11m 6s\n",
            "Epoch 29/200\tTrain loss: 0.5644\tTrain acc: 0.7918\tValid loss: 0.5832\tValid acc: 0.7884\tTime: 11m 7s\n",
            "Epoch 30/200\tTrain loss: 0.5591\tTrain acc: 0.7944\tValid loss: 0.5646\tValid acc: 0.7927\tTime: 11m 12s\t<--\n",
            "Epoch 31/200\tTrain loss: 0.5538\tTrain acc: 0.7948\tValid loss: 0.5720\tValid acc: 0.7904\tTime: 11m 8s\n",
            "Epoch 32/200\tTrain loss: 0.5486\tTrain acc: 0.7988\tValid loss: 0.5638\tValid acc: 0.7917\tTime: 11m 9s\n",
            "Epoch 33/200\tTrain loss: 0.5479\tTrain acc: 0.7966\tValid loss: 0.5655\tValid acc: 0.7940\tTime: 11m 15s\t<--\n",
            "Epoch 34/200\tTrain loss: 0.5441\tTrain acc: 0.7988\tValid loss: 0.5571\tValid acc: 0.7987\tTime: 11m 11s\t<--\n",
            "Epoch 35/200\tTrain loss: 0.5401\tTrain acc: 0.7997\tValid loss: 0.5671\tValid acc: 0.7886\tTime: 11m 9s\n",
            "Epoch 36/200\tTrain loss: 0.5318\tTrain acc: 0.8017\tValid loss: 0.5584\tValid acc: 0.7939\tTime: 11m 8s\n",
            "Epoch 37/200\tTrain loss: 0.5270\tTrain acc: 0.8035\tValid loss: 0.5708\tValid acc: 0.7907\tTime: 11m 9s\n",
            "Epoch 38/200\tTrain loss: 0.5280\tTrain acc: 0.8035\tValid loss: 0.5566\tValid acc: 0.7983\tTime: 11m 9s\n",
            "Epoch 39/200\tTrain loss: 0.5263\tTrain acc: 0.8047\tValid loss: 0.5505\tValid acc: 0.7974\tTime: 11m 8s\n",
            "Epoch 40/200\tTrain loss: 0.5237\tTrain acc: 0.8045\tValid loss: 0.5489\tValid acc: 0.7999\tTime: 11m 12s\t<--\n",
            "Epoch 41/200\tTrain loss: 0.5167\tTrain acc: 0.8080\tValid loss: 0.5547\tValid acc: 0.7982\tTime: 11m 9s\n",
            "Epoch 42/200\tTrain loss: 0.5125\tTrain acc: 0.8102\tValid loss: 0.5547\tValid acc: 0.7981\tTime: 11m 8s\n",
            "Epoch 43/200\tTrain loss: 0.5129\tTrain acc: 0.8085\tValid loss: 0.5504\tValid acc: 0.7998\tTime: 11m 11s\n",
            "Epoch 44/200\tTrain loss: 0.5085\tTrain acc: 0.8099\tValid loss: 0.5492\tValid acc: 0.8004\tTime: 11m 7s\t<--\n",
            "Epoch 45/200\tTrain loss: 0.5057\tTrain acc: 0.8116\tValid loss: 0.5572\tValid acc: 0.7986\tTime: 11m 10s\n",
            "Epoch 46/200\tTrain loss: 0.5008\tTrain acc: 0.8139\tValid loss: 0.5525\tValid acc: 0.8001\tTime: 11m 9s\n",
            "Epoch 47/200\tTrain loss: 0.4961\tTrain acc: 0.8161\tValid loss: 0.5446\tValid acc: 0.8016\tTime: 11m 13s\t<--\n",
            "Epoch 48/200\tTrain loss: 0.4953\tTrain acc: 0.8142\tValid loss: 0.5467\tValid acc: 0.8008\tTime: 11m 8s\n",
            "Epoch 49/200\tTrain loss: 0.4917\tTrain acc: 0.8178\tValid loss: 0.5476\tValid acc: 0.8013\tTime: 11m 8s\n",
            "Epoch 50/200\tTrain loss: 0.4909\tTrain acc: 0.8171\tValid loss: 0.5487\tValid acc: 0.7996\tTime: 11m 11s\n",
            "Epoch 51/200\tTrain loss: 0.4828\tTrain acc: 0.8193\tValid loss: 0.5450\tValid acc: 0.8035\tTime: 11m 16s\t<--\n",
            "Epoch 52/200\tTrain loss: 0.4809\tTrain acc: 0.8199\tValid loss: 0.5520\tValid acc: 0.7985\tTime: 11m 9s\n",
            "Epoch 53/200\tTrain loss: 0.4785\tTrain acc: 0.8203\tValid loss: 0.5519\tValid acc: 0.8001\tTime: 11m 11s\n",
            "Epoch 54/200\tTrain loss: 0.4762\tTrain acc: 0.8220\tValid loss: 0.5492\tValid acc: 0.8023\tTime: 11m 7s\n"
          ]
        }
      ]
    },
    {
      "cell_type": "markdown",
      "metadata": {
        "id": "g_xr7svSwfJo"
      },
      "source": [
        "## Load weights (retrieval due to disconnection)"
      ]
    },
    {
      "cell_type": "code",
      "metadata": {
        "colab": {
          "base_uri": "https://localhost:8080/"
        },
        "id": "iEKDhXDKwSk7",
        "outputId": "05c75a2b-15d5-4299-b2a2-b85e411b8c0a"
      },
      "source": [
        "model.load_state_dict(torch.load(os.path.join('drive/MyDrive/gz2_datasets', model_name + '_cache.pth')))"
      ],
      "execution_count": null,
      "outputs": [
        {
          "output_type": "execute_result",
          "data": {
            "text/plain": [
              "<All keys matched successfully>"
            ]
          },
          "metadata": {},
          "execution_count": 13
        }
      ]
    },
    {
      "cell_type": "markdown",
      "metadata": {
        "id": "6bkiUJMfjp3F"
      },
      "source": [
        "## Plot loss and accuracy history\n"
      ]
    },
    {
      "cell_type": "code",
      "metadata": {
        "id": "yYrFawu2jphM"
      },
      "source": [
        "# read csv\n",
        "history_df = pd.read_csv(model_name + '_history.csv')\n",
        "\n",
        "# number of epochs\n",
        "epochs = len(history_df['valid_acc'])\n",
        "\n",
        "fig, (ax1, ax2) = plt.subplots(1, 2, figsize=(15, 5))\n",
        "\n",
        "ax1.plot(range(epochs), history_df['train_loss'], 'b', label='train')\n",
        "ax1.plot(range(epochs), history_df['valid_loss'], 'r', label='val')\n",
        "ax1.set_title(\"Loss\")\n",
        "ax1.set_xlabel(\"Epochs\")\n",
        "ax1.set_ylabel(\"Loss\")\n",
        "ax1.legend()\n",
        "\n",
        "ax2.plot(range(epochs), history_df['train_acc'], 'b', label='train')\n",
        "ax2.plot(range(epochs), history_df['valid_acc'], 'r', label='val')\n",
        "ax2.set_title(\"Accuracy\")\n",
        "ax2.set_xlabel(\"Epochs\")\n",
        "ax2.set_ylabel(\"Acc\")\n",
        "ax2.legend()\n",
        "plt.show()"
      ],
      "execution_count": null,
      "outputs": []
    },
    {
      "cell_type": "markdown",
      "metadata": {
        "id": "FLS4yjP4iiGy"
      },
      "source": [
        "## Predict test data"
      ]
    },
    {
      "cell_type": "code",
      "metadata": {
        "id": "71XJYQoYify8"
      },
      "source": [
        "def predict_model(model):\n",
        "    \"\"\"\n",
        "    Predict test data\n",
        "    \"\"\"\n",
        "    # evaluation\n",
        "    model.eval()\n",
        "\n",
        "    # empty lists for results\n",
        "    y_true = []\n",
        "    y_pred = []\n",
        "    y_label = []\n",
        "\n",
        "    for images, labels, galaxy_id in test_loader:\n",
        "        images = images.to(device)\n",
        "        labels = labels.long().to(device)\n",
        "\n",
        "        with torch.no_grad():\n",
        "            pred_logits = model(images)\n",
        "            _, pred_classes = torch.max(pred_logits.detach(), dim=1)\n",
        "\n",
        "            y_true += torch.squeeze(labels.cpu()).tolist()\n",
        "            y_pred += torch.squeeze(pred_classes).tolist()\n",
        "            y_label += torch.squeeze(galaxy_id.cpu()).tolist()\n",
        "    \n",
        "    # create a DataFrame with columns 'GalaxyID', 'class', 'predicted labels'\n",
        "    predict_df = pd.DataFrame(data={'GalaxyID': y_label, 'class': y_true, 'pred': y_pred})\n",
        "\n",
        "    return y_true, y_pred, predict_df"
      ],
      "execution_count": null,
      "outputs": []
    },
    {
      "cell_type": "code",
      "metadata": {
        "id": "IWQgOZwZi_zA"
      },
      "source": [
        "# move to gpu\n",
        "model = model.to(device)\n",
        "\n",
        "# model evaluation\n",
        "y_true, y_pred, predict_df = predict_model(model)\n",
        "\n",
        "# save predict_df\n",
        "predict_df.to_csv(model_name + '_predictions.csv', index=False)\n",
        "predict_df.to_csv(os.path.join('drive/MyDrive/gz2_datasets', model_name + '_predictions.csv'), index=False)"
      ],
      "execution_count": null,
      "outputs": []
    },
    {
      "cell_type": "code",
      "metadata": {
        "colab": {
          "base_uri": "https://localhost:8080/",
          "height": 204
        },
        "id": "MmXm1ErYjN3R",
        "outputId": "adcfce02-e7da-4be4-a117-03701d7d6377"
      },
      "source": [
        "predict_df.head()"
      ],
      "execution_count": null,
      "outputs": [
        {
          "output_type": "execute_result",
          "data": {
            "text/html": [
              "<div>\n",
              "<style scoped>\n",
              "    .dataframe tbody tr th:only-of-type {\n",
              "        vertical-align: middle;\n",
              "    }\n",
              "\n",
              "    .dataframe tbody tr th {\n",
              "        vertical-align: top;\n",
              "    }\n",
              "\n",
              "    .dataframe thead th {\n",
              "        text-align: right;\n",
              "    }\n",
              "</style>\n",
              "<table border=\"1\" class=\"dataframe\">\n",
              "  <thead>\n",
              "    <tr style=\"text-align: right;\">\n",
              "      <th></th>\n",
              "      <th>GalaxyID</th>\n",
              "      <th>class</th>\n",
              "      <th>pred</th>\n",
              "    </tr>\n",
              "  </thead>\n",
              "  <tbody>\n",
              "    <tr>\n",
              "      <th>0</th>\n",
              "      <td>272777</td>\n",
              "      <td>5</td>\n",
              "      <td>5</td>\n",
              "    </tr>\n",
              "    <tr>\n",
              "      <th>1</th>\n",
              "      <td>207069</td>\n",
              "      <td>3</td>\n",
              "      <td>3</td>\n",
              "    </tr>\n",
              "    <tr>\n",
              "      <th>2</th>\n",
              "      <td>125110</td>\n",
              "      <td>5</td>\n",
              "      <td>5</td>\n",
              "    </tr>\n",
              "    <tr>\n",
              "      <th>3</th>\n",
              "      <td>206851</td>\n",
              "      <td>5</td>\n",
              "      <td>5</td>\n",
              "    </tr>\n",
              "    <tr>\n",
              "      <th>4</th>\n",
              "      <td>122722</td>\n",
              "      <td>0</td>\n",
              "      <td>0</td>\n",
              "    </tr>\n",
              "  </tbody>\n",
              "</table>\n",
              "</div>"
            ],
            "text/plain": [
              "   GalaxyID  class  pred\n",
              "0    272777      5     5\n",
              "1    207069      3     3\n",
              "2    125110      5     5\n",
              "3    206851      5     5\n",
              "4    122722      0     0"
            ]
          },
          "metadata": {},
          "execution_count": 21
        }
      ]
    },
    {
      "cell_type": "markdown",
      "metadata": {
        "id": "0q19rCq1Lzob"
      },
      "source": [
        "## Evaluation metrics\n"
      ]
    },
    {
      "cell_type": "code",
      "metadata": {
        "id": "JBFME7_ELxxX",
        "colab": {
          "base_uri": "https://localhost:8080/",
          "height": 1000
        },
        "outputId": "89caa7a1-6163-47e8-9780-2cf49bfd45fb"
      },
      "source": [
        "# galaxy classes\n",
        "gxy_labels = ['Round Elliptical',\n",
        "              'In-between Elliptical',\n",
        "              'Cigar-shaped Elliptical',\n",
        "              'Edge-on Spiral',\n",
        "              'Barred Spiral',\n",
        "              'Unbarred Spiral',\n",
        "              'Irregular',\n",
        "              'Merger']\n",
        "\n",
        "# confusion matrix\n",
        "cm = confusion_matrix(y_true, y_pred, normalize='true')\n",
        "cm_df = pd.DataFrame(cm, index=gxy_labels, columns=gxy_labels)\n",
        "\n",
        "# accuracy of each class\n",
        "for c in range(8):\n",
        "    print(\"Class {}: accuracy = {:.4f} ({})\".format(c, cm[c,c]/sum(cm[c,:]), gxy_labels[c]))\n",
        "print(\"================\")\n",
        "\n",
        "# accuracy\n",
        "acc = accuracy_score(y_true, y_pred)\n",
        "print(\"Total Accuracy = {:.4f}\\n\".format(acc))\n",
        "\n",
        "# recall\n",
        "recall = recall_score(y_true, y_pred, average='macro')\n",
        "print(\"Recall = {:.4f}\\n\".format(recall))\n",
        "\n",
        "# f1 score\n",
        "F1 = f1_score(y_true, y_pred, average='macro')\n",
        "print(\"F1 score = {:.4f}\\n\".format(F1))\n",
        "\n",
        "# plot confusion matrix\n",
        "sns.set(font_scale=1.6)\n",
        "fig = plt.figure(figsize=(10, 10))\n",
        "sns.heatmap(cm_df, annot=True, fmt=\".1%\", cmap=\"YlGnBu\", cbar=False, annot_kws={\"size\": 16})\n",
        "plt.show()"
      ],
      "execution_count": null,
      "outputs": [
        {
          "output_type": "stream",
          "name": "stdout",
          "text": [
            "Class 0: accuracy = 0.9073 (Round Elliptical)\n",
            "Class 1: accuracy = 0.8637 (In-between Elliptical)\n",
            "Class 2: accuracy = 0.6873 (Cigar-shaped Elliptical)\n",
            "Class 3: accuracy = 0.8917 (Edge-on Spiral)\n",
            "Class 4: accuracy = 0.7833 (Barred Spiral)\n",
            "Class 5: accuracy = 0.7089 (Unbarred Spiral)\n",
            "Class 6: accuracy = 0.4133 (Irregular)\n",
            "Class 7: accuracy = 0.5307 (Merger)\n",
            "================\n",
            "Total Accuracy = 0.8055\n",
            "\n",
            "Recall = 0.7233\n",
            "\n",
            "F1 score = 0.7323\n",
            "\n"
          ]
        },
        {
          "output_type": "display_data",
          "data": {
            "image/png": "[encoded data removed]",
            "text/plain": [
              "<Figure size 720x720 with 1 Axes>"
            ]
          },
          "metadata": {}
        }
      ]
    },
    {
      "cell_type": "code",
      "metadata": {
        "id": "PGhofCjk3J7W"
      },
      "source": [
        ""
      ],
      "execution_count": null,
      "outputs": []
    }
  ]
}