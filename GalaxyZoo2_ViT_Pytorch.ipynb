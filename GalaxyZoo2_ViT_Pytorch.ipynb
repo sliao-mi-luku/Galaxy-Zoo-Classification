{
  "nbformat": 4,
  "nbformat_minor": 0,
  "metadata": {
    "colab": {
      "name": "GalaxyZoo2_ViT_Pytorch.ipynb",
      "provenance": [],
      "collapsed_sections": []
    },
    "kernelspec": {
      "name": "python3",
      "display_name": "Python 3"
    },
    "language_info": {
      "name": "python"
    },
    "accelerator": "GPU"
  },
  "cells": [
    {
      "cell_type": "markdown",
      "metadata": {
        "id": "TUO9qXMa17F-"
      },
      "source": [
        "# Galaxy Classification with Vision Transformer (Pytorch)"
      ]
    },
    {
      "cell_type": "markdown",
      "metadata": {
        "id": "S1y8Ta0p2BUj"
      },
      "source": [
        "Data:\n",
        "\n",
        "https://www.kaggle.com/c/galaxy-zoo-the-galaxy-challenge\n",
        "\n",
        "\n",
        "\n",
        "References:\n",
        "\n",
        "1. https://pytorch.org/tutorials/beginner/transfer_learning_tutorial.html\n",
        "\n",
        "2. https://pytorch.org/vision/stable/models.html\n",
        "\n",
        "3. https://pytorch.org/tutorials/beginner/data_loading_tutorial.html\n",
        "\n",
        "4. https://pytorch.org/tutorials/beginner/finetuning_torchvision_models_tutorial.html\n",
        "\n",
        "5. https://cs231n.github.io/transfer-learning/\n",
        "\n",
        "6. https://github.com/joshualin24/vit-pytorch/blob/main/examples/galaxy_classification.ipynb\n",
        "\n"
      ]
    },
    {
      "cell_type": "markdown",
      "metadata": {
        "id": "xbvsPMIF2NM-"
      },
      "source": [
        "## Check GPU"
      ]
    },
    {
      "cell_type": "code",
      "metadata": {
        "colab": {
          "base_uri": "https://localhost:8080/"
        },
        "id": "cR4qPHGPzlQZ",
        "outputId": "bfdb683e-b944-4a1e-bd9d-c88327c7447d"
      },
      "source": [
        "!nvidia-smi -L"
      ],
      "execution_count": 1,
      "outputs": [
        {
          "output_type": "stream",
          "name": "stdout",
          "text": [
            "GPU 0: Tesla P100-PCIE-16GB (UUID: GPU-df4db386-e5c3-274d-f12a-4cd16587b7ec)\n"
          ]
        }
      ]
    },
    {
      "cell_type": "markdown",
      "metadata": {
        "id": "ApYE1Fx_2HWq"
      },
      "source": [
        "## Install Vision Transformer (ViT)"
      ]
    },
    {
      "cell_type": "code",
      "metadata": {
        "id": "re2zMtrMzhMF"
      },
      "source": [
        "! pip -q install vit_pytorch linformer"
      ],
      "execution_count": 2,
      "outputs": []
    },
    {
      "cell_type": "markdown",
      "metadata": {
        "id": "j_WcSZnp2PRl"
      },
      "source": [
        "## Import Libraries"
      ]
    },
    {
      "cell_type": "code",
      "metadata": {
        "colab": {
          "base_uri": "https://localhost:8080/"
        },
        "id": "hB7gGvfa0IIn",
        "outputId": "df127d4f-da6e-489b-cf96-9cf2a744cfc2"
      },
      "source": [
        "import numpy as np\n",
        "import pandas as pd\n",
        "import matplotlib.pyplot as plt\n",
        "\n",
        "from PIL import Image\n",
        "from sklearn.model_selection import train_test_split\n",
        "\n",
        "import torch\n",
        "import torch.nn as nn\n",
        "from torch.utils.data import Dataset, DataLoader\n",
        "from torchvision import models, transforms, utils\n",
        "import torch.optim as optim\n",
        "from torch.optim import lr_scheduler\n",
        "\n",
        "import time\n",
        "import os\n",
        "import zipfile\n",
        "from copy import deepcopy\n",
        "\n",
        "%matplotlib inline\n",
        "\n",
        "device = torch.device(\"cuda:0\" if torch.cuda.is_available() else \"cpu\")\n",
        "print(device)\n",
        "\n",
        "# vision transformer\n",
        "from linformer import Linformer\n",
        "from vit_pytorch.efficient import ViT"
      ],
      "execution_count": 3,
      "outputs": [
        {
          "output_type": "stream",
          "name": "stdout",
          "text": [
            "cuda:0\n"
          ]
        }
      ]
    },
    {
      "cell_type": "markdown",
      "metadata": {
        "id": "4t4jV38S2VLk"
      },
      "source": [
        "## Unzip images\n",
        "\n",
        "Before running the code, please upload `images_train.zip`, `images_valid.zip` and `images_test.zip` to the workspace.\n",
        "\n",
        "We upzip these 3 files, and place:\n",
        "\n",
        "- all training images (n=39,410) into the folder `images_train`\n",
        "- all validation images (n=9,852) into the folder `images_valid`, and\n",
        "- all test images (n=12,316) into the folder `images_test`.\n",
        "\n",
        "We create the folders first if they don't exist."
      ]
    },
    {
      "cell_type": "code",
      "metadata": {
        "id": "Drc6IgZJ0JQ1"
      },
      "source": [
        "## The unzipping function\n",
        "def unzipping(zip_file_name, dest_dir):\n",
        "    \"\"\"\n",
        "    Arguments\n",
        "        zip_file_name: (str) the file name of the zip file\n",
        "        dest_dir: (str) the name of the destination folder\n",
        "    \"\"\"\n",
        "    # check if the destination folder exists. Create one if not.\n",
        "    #if not os.path.exists(dest_dir):\n",
        "    #    os.makedirs(dest_dir)\n",
        "    \n",
        "    # unzipping\n",
        "    zip_f = zipfile.ZipFile(zip_file_name, 'r')\n",
        "    zip_f.extractall(path=dest_dir)\n",
        "    zip_f.close()"
      ],
      "execution_count": 4,
      "outputs": []
    },
    {
      "cell_type": "markdown",
      "metadata": {
        "id": "3RobhNj3l_UR"
      },
      "source": [
        "#### Unzip from Google Drive"
      ]
    },
    {
      "cell_type": "code",
      "metadata": {
        "id": "mTPNOjVOmEYN"
      },
      "source": [
        "## directory on Google Drive\n",
        "datasets_dir = 'drive/MyDrive/gz2_datasets'\n",
        "\n",
        "## Unzip training, validation, and test images\n",
        "unzipping(os.path.join(datasets_dir, 'images_train.zip'), './')\n",
        "unzipping(os.path.join(datasets_dir, 'images_valid.zip'), './')\n",
        "unzipping(os.path.join(datasets_dir, 'images_test.zip'), './')"
      ],
      "execution_count": 5,
      "outputs": []
    },
    {
      "cell_type": "markdown",
      "metadata": {
        "id": "OxNp3zQKmFNR"
      },
      "source": [
        "#### Unzip from Google Colab workspace"
      ]
    },
    {
      "cell_type": "code",
      "metadata": {
        "id": "dr1x3ao90LIl"
      },
      "source": [
        "## Unzip training, validation, and test images\n",
        "unzipping('images_train.zip', 'images_train')\n",
        "unzipping('images_valid.zip', 'images_valid')\n",
        "unzipping('images_test.zip', 'images_test')"
      ],
      "execution_count": null,
      "outputs": []
    },
    {
      "cell_type": "markdown",
      "metadata": {
        "id": "P_oRGGTk2aUM"
      },
      "source": [
        "## Custom Datasets"
      ]
    },
    {
      "cell_type": "code",
      "metadata": {
        "id": "Kw-QIg3w0NNZ"
      },
      "source": [
        "## Custom Galaxy Zoo 2 Dataset\n",
        "class GalaxyZooDataset(Dataset):\n",
        "    \"\"\"Galaxy Zoo Dataset\"\"\"\n",
        "\n",
        "    def __init__(self, csv_file, images_dir, transform=None):\n",
        "        \"\"\"\n",
        "        Args:\n",
        "            csv_file (string): path to the label csv\n",
        "            images_dir (string): path to the dir containing all images\n",
        "            transform (callable, optional): transform to apply\n",
        "        \"\"\"\n",
        "        self.labels_df = pd.read_csv(csv_file)\n",
        "        self.labels_df = self.labels_df[['galaxyID', 'label1']].copy()\n",
        "\n",
        "        self.images_dir = images_dir\n",
        "        self.transform = transform\n",
        "    \n",
        "    def __len__(self):\n",
        "        \"\"\"\n",
        "        Returns the size of the dataset\n",
        "        \"\"\"\n",
        "        return len(self.labels_df)\n",
        "\n",
        "    def __getitem__(self, idx):\n",
        "        \"\"\"\n",
        "        Get the idx-th sample.\n",
        "\t\tOutputs the image (channel first) and the true label\n",
        "        \"\"\"\n",
        "        if torch.is_tensor(idx):\n",
        "            idx = idx.tolist()\n",
        "        \n",
        "        # galaxy ID\n",
        "        galaxyid = self.labels_df.iloc[idx, 0].astype(str)\n",
        "\t\t# path of the image\n",
        "        image_path = os.path.join(self.images_dir, galaxyid + '.jpg')\n",
        "\t\t# read the image\n",
        "        image = Image.open(image_path)\n",
        "\t\t# apply transform (optional)\n",
        "        if self.transform is not None:\n",
        "            image = self.transform(image)\n",
        "\t\t# read the true label\n",
        "        label = int(self.labels_df.iloc[idx, 1])\n",
        "\n",
        "        return image, label"
      ],
      "execution_count": 6,
      "outputs": []
    },
    {
      "cell_type": "markdown",
      "metadata": {
        "id": "buWKR4As2dQb"
      },
      "source": [
        "## Custom Transforms"
      ]
    },
    {
      "cell_type": "code",
      "metadata": {
        "id": "IqShZSWU0Npi"
      },
      "source": [
        "def create_data_transforms(is_for_inception=False):\n",
        "    \"\"\"\n",
        "    Create Pytorch data transforms for the GalaxyZoo datasets.\n",
        "    Args:\n",
        "        is_for_inception (bool): True for inception neural networks\n",
        "    Outputs:\n",
        "        train_transform: transform for the training data\n",
        "        test_transform: transform for the testing data\n",
        "    \"\"\"\n",
        "    if is_for_inception:\n",
        "        input_size = 299\n",
        "    else:\n",
        "        input_size = 224\n",
        "\n",
        "    # transforms for training data\n",
        "    train_transform = transforms.Compose([transforms.CenterCrop(input_size),\n",
        "                                          transforms.RandomRotation(90),\n",
        "                                          transforms.RandomHorizontalFlip(),\n",
        "                                          transforms.RandomVerticalFlip(),\n",
        "                                          transforms.RandomResizedCrop(input_size, scale=(0.8, 1.0), ratio=(0.99, 1.01)),\n",
        "                                          transforms.ToTensor()])\n",
        "\n",
        "    # transforms for validation data\n",
        "    valid_transform = transforms.Compose([transforms.CenterCrop(input_size),\n",
        "                                          transforms.RandomRotation(90),\n",
        "                                          transforms.RandomHorizontalFlip(),\n",
        "                                          transforms.RandomVerticalFlip(),\n",
        "                                          transforms.RandomResizedCrop(input_size, scale=(0.8, 1.0), ratio=(0.99, 1.01)),\n",
        "                                          transforms.ToTensor()])  \n",
        "\n",
        "    # transforms for test data\n",
        "    test_transform = transforms.Compose([transforms.CenterCrop(input_size),\n",
        "                                         transforms.ToTensor()])\n",
        "\n",
        "    \n",
        "    return train_transform, valid_transform, test_transform"
      ],
      "execution_count": 8,
      "outputs": []
    },
    {
      "cell_type": "markdown",
      "metadata": {
        "id": "hAigxq7N2i-i"
      },
      "source": [
        "## Training Function"
      ]
    },
    {
      "cell_type": "code",
      "metadata": {
        "id": "z_7lA_8q0Qwi"
      },
      "source": [
        "def train_model(model, num_epochs, criterion, optimizer, scheduler, print_every=1, early_stop_epochs=10):\n",
        "    \"\"\"\n",
        "    Train the model\n",
        "    Args:\n",
        "        model: Pytorch neural model\n",
        "        num_epochs: number of epochs to train\n",
        "        criterion: the loss function object\n",
        "        optimizer: the optimizer\n",
        "        scheduler: the learning rate decay scheduler\n",
        "        print_every: print the information every X epochs\n",
        "        early_stop_epochs: early stopping if the model doesn't improve after X epochs\n",
        "    \"\"\"\n",
        "    # cache the best model\n",
        "    best_model_weights = deepcopy(model.state_dict())\n",
        "    # best train acc\n",
        "    best_train_acc = 0.0\n",
        "    # best valid acc\n",
        "    best_valid_acc = 0.0\n",
        "    # best epoch\n",
        "    best_epoch = -1    \n",
        "\n",
        "    # intiate dict to records the history of loss and acc\n",
        "    history_dic = dict()\n",
        "    history_dic['train_loss'] = []\n",
        "    history_dic['train_acc'] = []\n",
        "    history_dic['valid_loss'] = []\n",
        "    history_dic['valid_acc'] = []\n",
        "    history_dic['lr'] = []\n",
        "\n",
        "    for epoch in range(num_epochs):\n",
        "        # time of start\n",
        "        epoch_start_time = time.time()\n",
        "\n",
        "        \"\"\"\n",
        "        Train\n",
        "        \"\"\"\n",
        "        model.train()\n",
        "\n",
        "        epoch_train_cum_loss = 0.0\n",
        "        epoch_train_cum_corrects = 0\n",
        "        \n",
        "        for images, labels in train_loader:\n",
        "            images = images.to(device)\n",
        "            labels = labels.long().to(device)\n",
        "\n",
        "            optimizer.zero_grad()\n",
        "            \n",
        "            pred_logits = model(images)\n",
        "            loss = criterion(pred_logits, labels)\n",
        "\n",
        "            _, pred_classes = torch.max(pred_logits.detach(), dim=1)\n",
        "            pred_classes = pred_classes.long()\n",
        "\n",
        "            epoch_train_cum_loss += loss.item() * images.size(0)\n",
        "            epoch_train_cum_corrects += torch.sum(pred_classes==labels.data).detach().to('cpu')\n",
        "\n",
        "            loss.backward()\n",
        "            optimizer.step()\n",
        "            \n",
        "        \"\"\"\n",
        "        Eval\n",
        "        \"\"\"\n",
        "        model.eval()\n",
        "\n",
        "        epoch_valid_cum_loss = 0.0\n",
        "        epoch_valid_cum_corrects = 0\n",
        "\n",
        "        for images, labels in valid_loader:\n",
        "            images = images.to(device)\n",
        "            labels = labels.long().to(device)\n",
        "\n",
        "            with torch.no_grad():\n",
        "                pred_logits = model(images)\n",
        "                _, pred_classes = torch.max(pred_logits.detach(), dim=1)\n",
        "                loss = criterion(pred_logits, labels)\n",
        "\n",
        "                epoch_valid_cum_loss += loss.item() * images.size(0)\n",
        "                epoch_valid_cum_corrects += torch.sum(pred_classes==labels.data).detach().to('cpu')\n",
        "\n",
        "        ## Calculate metrics\n",
        "        train_loss = epoch_train_cum_loss / len(data_train)\n",
        "        train_acc = epoch_train_cum_corrects / len(data_train)\n",
        "        valid_loss = epoch_valid_cum_loss / len(data_valid)\n",
        "        valid_acc = epoch_valid_cum_corrects / len(data_valid)\n",
        "\n",
        "        # update history_dic\n",
        "        history_dic['train_loss'].append(train_loss)\n",
        "        history_dic['train_acc'].append(train_acc)\n",
        "        history_dic['valid_loss'].append(valid_loss)\n",
        "        history_dic['valid_acc'].append(valid_acc)\n",
        "        history_dic['lr'].append(scheduler.get_last_lr()[0])\n",
        "\n",
        "        # check if is the best acc ever\n",
        "        if valid_acc > best_valid_acc:\n",
        "            best_train_acc = train_acc\n",
        "            best_valid_acc = valid_acc\n",
        "            best_epoch = epoch + 1\n",
        "            # update the best model weights\n",
        "            best_model_weights = deepcopy(model.state_dict())\n",
        "\n",
        "        epoch_end_time = time.time()\n",
        "        epoch_time_used = epoch_end_time - epoch_start_time\n",
        "        # convert epoch_time_used into mm:ss\n",
        "        mm = epoch_time_used // 60\n",
        "        ss = epoch_time_used % 60\n",
        "\n",
        "        ## Print metrics\n",
        "        if (epoch+1) % print_every == 0:\n",
        "\n",
        "            # if is best valid acc\n",
        "            if epoch == (best_epoch - 1):\n",
        "                print(\"Epoch {}/{}\\tTrain loss: {:.4f}\\tTrain acc: {:.4f}\\tValid loss: {:.4f}\\tValid acc: {:.4f}\\tTime: {:.0f}m {:.0f}s\\t<--\".format(\n",
        "                    epoch+1, num_epochs, train_loss, train_acc, valid_loss, valid_acc, mm, ss))\n",
        "            # not a better model\n",
        "            else:\n",
        "                print(\"Epoch {}/{}\\tTrain loss: {:.4f}\\tTrain acc: {:.4f}\\tValid loss: {:.4f}\\tValid acc: {:.4f}\\tTime: {:.0f}m {:.0f}s\".format(\n",
        "                    epoch+1, num_epochs, train_loss, train_acc, valid_loss, valid_acc, mm, ss))\n",
        "            \n",
        "        ## Early stopping\n",
        "        if (epoch+1) - best_epoch >= early_stop_epochs:\n",
        "            print(\"Early stopping... (Model did not improve after {} epochs)\".format(early_stop_epochs))\n",
        "            break\n",
        "        \n",
        "        scheduler.step()\n",
        "    \n",
        "    # load the best weights into the model\n",
        "    model.load_state_dict(best_model_weights)\n",
        "    # print the best epoch\n",
        "    print(\"Best epoch = {}, with training accuracy = {:.4f} and validation accuracy = {:.4f}\".format(best_epoch, best_train_acc, best_valid_acc))\n",
        "\n",
        "    # return the best model\n",
        "    return model, history_dic"
      ],
      "execution_count": 9,
      "outputs": []
    },
    {
      "cell_type": "markdown",
      "metadata": {
        "id": "6RoYRv692wSk"
      },
      "source": [
        "## Tuning Vision Transformer"
      ]
    },
    {
      "cell_type": "code",
      "metadata": {
        "colab": {
          "base_uri": "https://localhost:8080/"
        },
        "id": "tX-8evCxvDPP",
        "outputId": "cece29af-84d3-4444-9428-f297c368c467"
      },
      "source": [
        "\"\"\"\n",
        "Data Loader\n",
        "\"\"\"\n",
        "# the batch size\n",
        "BATCH_SIZE = 64\n",
        "\n",
        "# create transforms\n",
        "train_transform, valid_transform, test_transform = create_data_transforms(is_for_inception=False)\n",
        "\n",
        "# create datasets\n",
        "data_train = GalaxyZooDataset('gz2_train.csv', 'images_train', train_transform)\n",
        "data_valid = GalaxyZooDataset('gz2_valid.csv', 'images_valid', valid_transform)\n",
        "data_test = GalaxyZooDataset('gz2_test.csv', 'images_test', test_transform)\n",
        "\n",
        "# dataloaders\n",
        "train_loader = DataLoader(data_train, batch_size=BATCH_SIZE, shuffle=True)\n",
        "valid_loader = DataLoader(data_valid, batch_size=BATCH_SIZE, shuffle=True)\n",
        "test_loader = DataLoader(data_test, batch_size=BATCH_SIZE, shuffle=True)\n",
        "\n",
        "# check the sizes\n",
        "print(\"**Dataloaders**\")\n",
        "print(\"Number of training data: {} ({} batches)\".format(len(data_train), len(train_loader)))\n",
        "print(\"Number of validation data: {} ({} batches)\".format(len(data_valid), len(valid_loader)))\n",
        "print(\"Number of test data: {} ({} batches)\".format(len(data_test), len(test_loader)))\n",
        "print(\"===============================\")"
      ],
      "execution_count": 10,
      "outputs": [
        {
          "output_type": "stream",
          "name": "stdout",
          "text": [
            "**Dataloaders**\n",
            "Number of training data: 99808 (1560 batches)\n",
            "Number of validation data: 24952 (390 batches)\n",
            "Number of test data: 31191 (488 batches)\n",
            "===============================\n"
          ]
        }
      ]
    },
    {
      "cell_type": "code",
      "metadata": {
        "colab": {
          "base_uri": "https://localhost:8080/",
          "height": 1000
        },
        "id": "eilr1Qr8eUBV",
        "outputId": "29d6981f-9982-4cca-82c7-c500590ce812"
      },
      "source": [
        "\"\"\"\n",
        "Control parameters\n",
        "\"\"\"\n",
        "PATCH_SIZE = 28\n",
        "DEPTH = 12\n",
        "HIDDEN_DIM = 128\n",
        "K_DIM = 64\n",
        "NUM_HEADS = 8\n",
        "\n",
        "LR = 3e-4\n",
        "STEP_SIZE = 5\n",
        "GAMMA = 0.9\n",
        "MAX_EPOCH = 200\n",
        "\n",
        "\n",
        "## file name\n",
        "file_name_to_save = \"gz2_vit\"\n",
        "\n",
        "\"\"\"\n",
        "Print out parameters\n",
        "\"\"\"\n",
        "print(\"*******[ \" + file_name_to_save + \" ]*******\")\n",
        "print(\"===============================\")\n",
        "print(\"patch_size = {}\".format(PATCH_SIZE))\n",
        "print(\"depth = {}\".format(DEPTH))\n",
        "print(\"hidden_dim = {}\".format(HIDDEN_DIM))\n",
        "print(\"k_dim = {}\".format(K_DIM))\n",
        "print(\"num_heads = {}\".format(NUM_HEADS))\n",
        "print(\"batch_size = {}\".format(BATCH_SIZE))\n",
        "print(\"lr = {}\".format(LR))\n",
        "print(\"step_size = {}\".format(STEP_SIZE))\n",
        "print(\"gamma = {}\".format(GAMMA))\n",
        "print(\"max_epoch = {}\".format(MAX_EPOCH))\n",
        "print(\"===============================\")\n",
        "\n",
        "\"\"\"\n",
        "Create the ViT Model\n",
        "\"\"\"\n",
        "# calculate seq_len\n",
        "seq_len = int((224/PATCH_SIZE)**2) + 1\n",
        "## Linformer\n",
        "lin = Linformer(dim=HIDDEN_DIM, seq_len=seq_len, depth=DEPTH, k=K_DIM, heads=NUM_HEADS, dim_head=None, one_kv_head=False, share_kv=False, reversible=False, dropout=0.1)\n",
        "## Vision Transformer\n",
        "model = ViT(image_size=224, patch_size=PATCH_SIZE, num_classes=8, dim=HIDDEN_DIM, transformer=lin, pool='cls', channels=3)\n",
        "# print out number of trainable parameters\n",
        "print(\"Number of trainable parameters: {}\".format(sum(param.numel() for param in model.parameters() if param.requires_grad)))\n",
        "print(\"===============================\")\n",
        "\n",
        "\"\"\"\n",
        "Train\n",
        "\"\"\"\n",
        "# move to gpu\n",
        "model = model.to(device)\n",
        "# loss function\n",
        "criterion = nn.CrossEntropyLoss()\n",
        "# optimizer\n",
        "optimizer = optim.Adam(model.parameters(), lr=LR)\n",
        "# scheduler\n",
        "scheduler = lr_scheduler.StepLR(optimizer, step_size=STEP_SIZE, gamma=GAMMA)\n",
        "## train and return the best model\n",
        "model, history_dic = train_model(model, MAX_EPOCH, criterion, optimizer, scheduler, print_every=1, early_stop_epochs=10)\n",
        "## Save the best weights\n",
        "torch.save(model.state_dict(), file_name_to_save+\".pth\")\n",
        "## Convert history to dataframe\n",
        "df = pd.DataFrame(history_dic)\n",
        "## Save the history\n",
        "df.to_csv(file_name_to_save + \".csv\")\n",
        "print(\"files saved as: \" + file_name_to_save + \".pth\")\n",
        "print(\"files saved as: \" + file_name_to_save + \".csv\")\n",
        "print(\"===============================\")\n",
        "\n",
        "\"\"\"\n",
        "Loss and Acc History\n",
        "\"\"\"\n",
        "# number of epochs\n",
        "epochs = len(history_dic['valid_acc'])\n",
        "# plot\n",
        "fig, (ax1, ax2) = plt.subplots(1, 2, figsize=(15, 5))\n",
        "# loss plot\n",
        "ax1.plot(range(epochs), history_dic['train_loss'], 'b', label='train')\n",
        "ax1.plot(range(epochs), history_dic['valid_loss'], 'r', label='val')\n",
        "ax1.set_title(\"Loss\")\n",
        "ax1.set_xlabel(\"Epochs\")\n",
        "ax1.set_ylabel(\"Loss\")\n",
        "ax1.legend()\n",
        "# acc plot\n",
        "ax2.plot(range(epochs), history_dic['train_acc'], 'b', label='train')\n",
        "ax2.plot(range(epochs), history_dic['valid_acc'], 'r', label='val')\n",
        "ax2.set_title(\"Accuracy\")\n",
        "ax2.set_xlabel(\"Epochs\")\n",
        "ax2.set_ylabel(\"Acc\")\n",
        "ax2.legend()\n",
        "plt.show()\n",
        "print(\"===============================\")\n",
        "\n",
        "\"\"\"\n",
        "Predict Test Data\n",
        "\"\"\"\n",
        "# move to gpu\n",
        "model = model.to(device)\n",
        "# evaluation\n",
        "model.eval()\n",
        "# loss and accuracy\n",
        "epoch_test_cum_loss = 0.0\n",
        "epoch_test_cum_corrects = 0\n",
        "# iterate test data\n",
        "for images, labels in test_loader:\n",
        "    images = images.to(device)\n",
        "    labels = labels.long().to(device)\n",
        "\n",
        "    with torch.no_grad():\n",
        "        pred_logits = model(images)\n",
        "        _, pred_classes = torch.max(pred_logits.detach(), dim=1)\n",
        "        loss = criterion(pred_logits, labels)\n",
        "\n",
        "        epoch_test_cum_loss += loss.item() * images.size(0)\n",
        "        epoch_test_cum_corrects += torch.sum(pred_classes==labels.data)\n",
        "\n",
        "# calculate final loss and accuracy\n",
        "test_loss = epoch_test_cum_loss / len(data_test)\n",
        "test_acc = epoch_test_cum_corrects / len(data_test)\n",
        "\n",
        "# display\n",
        "print(\"Test loss: {:.4f}\".format(test_loss))\n",
        "print(\"Test accuracy: {:.4f}\".format(test_acc))\n",
        "print(\"===============================\")\n",
        "\n",
        "model.to('cpu')\n",
        "del model\n",
        "\n",
        "\n",
        "## "
      ],
      "execution_count": 11,
      "outputs": [
        {
          "output_type": "stream",
          "name": "stdout",
          "text": [
            "*******[ gz2_vit ]*******\n",
            "===============================\n",
            "patch_size = 28\n",
            "depth = 12\n",
            "hidden_dim = 128\n",
            "k_dim = 64\n",
            "num_heads = 8\n",
            "batch_size = 64\n",
            "lr = 0.0003\n",
            "step_size = 5\n",
            "gamma = 0.9\n",
            "max_epoch = 200\n",
            "===============================\n",
            "Number of trainable parameters: 2785416\n",
            "===============================\n",
            "Epoch 1/200\tTrain loss: 1.1671\tTrain acc: 0.5569\tValid loss: 0.9783\tValid acc: 0.6355\tTime: 10m 50s\t<--\n",
            "Epoch 2/200\tTrain loss: 0.9259\tTrain acc: 0.6553\tValid loss: 0.8611\tValid acc: 0.6804\tTime: 10m 20s\t<--\n",
            "Epoch 3/200\tTrain loss: 0.8485\tTrain acc: 0.6874\tValid loss: 0.7950\tValid acc: 0.7082\tTime: 10m 16s\t<--\n",
            "Epoch 4/200\tTrain loss: 0.8037\tTrain acc: 0.7037\tValid loss: 0.7720\tValid acc: 0.7160\tTime: 10m 17s\t<--\n",
            "Epoch 5/200\tTrain loss: 0.7778\tTrain acc: 0.7149\tValid loss: 0.7499\tValid acc: 0.7233\tTime: 10m 17s\t<--\n",
            "Epoch 6/200\tTrain loss: 0.7522\tTrain acc: 0.7238\tValid loss: 0.7452\tValid acc: 0.7246\tTime: 10m 18s\t<--\n",
            "Epoch 7/200\tTrain loss: 0.7348\tTrain acc: 0.7296\tValid loss: 0.7422\tValid acc: 0.7278\tTime: 10m 16s\t<--\n",
            "Epoch 8/200\tTrain loss: 0.7233\tTrain acc: 0.7338\tValid loss: 0.7149\tValid acc: 0.7353\tTime: 10m 16s\t<--\n",
            "Epoch 9/200\tTrain loss: 0.7114\tTrain acc: 0.7395\tValid loss: 0.7037\tValid acc: 0.7387\tTime: 10m 15s\t<--\n",
            "Epoch 10/200\tTrain loss: 0.7017\tTrain acc: 0.7417\tValid loss: 0.7056\tValid acc: 0.7392\tTime: 10m 15s\t<--\n",
            "Epoch 11/200\tTrain loss: 0.6846\tTrain acc: 0.7493\tValid loss: 0.6721\tValid acc: 0.7509\tTime: 10m 14s\t<--\n",
            "Epoch 12/200\tTrain loss: 0.6750\tTrain acc: 0.7511\tValid loss: 0.6655\tValid acc: 0.7554\tTime: 10m 15s\t<--\n",
            "Epoch 13/200\tTrain loss: 0.6665\tTrain acc: 0.7545\tValid loss: 0.6667\tValid acc: 0.7514\tTime: 10m 17s\n",
            "Epoch 14/200\tTrain loss: 0.6595\tTrain acc: 0.7581\tValid loss: 0.6447\tValid acc: 0.7637\tTime: 10m 17s\t<--\n",
            "Epoch 15/200\tTrain loss: 0.6493\tTrain acc: 0.7616\tValid loss: 0.6456\tValid acc: 0.7626\tTime: 10m 17s\n",
            "Epoch 16/200\tTrain loss: 0.6376\tTrain acc: 0.7650\tValid loss: 0.6398\tValid acc: 0.7643\tTime: 10m 16s\t<--\n",
            "Epoch 17/200\tTrain loss: 0.6296\tTrain acc: 0.7692\tValid loss: 0.6197\tValid acc: 0.7718\tTime: 10m 18s\t<--\n",
            "Epoch 18/200\tTrain loss: 0.6250\tTrain acc: 0.7704\tValid loss: 0.6266\tValid acc: 0.7696\tTime: 10m 18s\n",
            "Epoch 19/200\tTrain loss: 0.6187\tTrain acc: 0.7723\tValid loss: 0.6231\tValid acc: 0.7689\tTime: 10m 17s\n",
            "Epoch 20/200\tTrain loss: 0.6114\tTrain acc: 0.7739\tValid loss: 0.6121\tValid acc: 0.7742\tTime: 10m 19s\t<--\n",
            "Epoch 21/200\tTrain loss: 0.6023\tTrain acc: 0.7785\tValid loss: 0.6049\tValid acc: 0.7777\tTime: 10m 15s\t<--\n",
            "Epoch 22/200\tTrain loss: 0.5972\tTrain acc: 0.7794\tValid loss: 0.6138\tValid acc: 0.7754\tTime: 10m 15s\n",
            "Epoch 23/200\tTrain loss: 0.5929\tTrain acc: 0.7801\tValid loss: 0.6048\tValid acc: 0.7771\tTime: 10m 15s\n",
            "Epoch 24/200\tTrain loss: 0.5860\tTrain acc: 0.7849\tValid loss: 0.5930\tValid acc: 0.7821\tTime: 10m 15s\t<--\n",
            "Epoch 25/200\tTrain loss: 0.5803\tTrain acc: 0.7862\tValid loss: 0.5893\tValid acc: 0.7849\tTime: 10m 16s\t<--\n",
            "Epoch 26/200\tTrain loss: 0.5703\tTrain acc: 0.7910\tValid loss: 0.5881\tValid acc: 0.7851\tTime: 10m 17s\t<--\n",
            "Epoch 27/200\tTrain loss: 0.5669\tTrain acc: 0.7903\tValid loss: 0.5854\tValid acc: 0.7830\tTime: 10m 17s\n",
            "Epoch 28/200\tTrain loss: 0.5603\tTrain acc: 0.7926\tValid loss: 0.5814\tValid acc: 0.7885\tTime: 10m 17s\t<--\n",
            "Epoch 29/200\tTrain loss: 0.5571\tTrain acc: 0.7942\tValid loss: 0.5755\tValid acc: 0.7884\tTime: 10m 16s\n",
            "Epoch 30/200\tTrain loss: 0.5524\tTrain acc: 0.7959\tValid loss: 0.5728\tValid acc: 0.7902\tTime: 10m 17s\t<--\n",
            "Epoch 31/200\tTrain loss: 0.5437\tTrain acc: 0.7990\tValid loss: 0.5777\tValid acc: 0.7863\tTime: 10m 17s\n",
            "Epoch 32/200\tTrain loss: 0.5418\tTrain acc: 0.7992\tValid loss: 0.5730\tValid acc: 0.7896\tTime: 10m 15s\n",
            "Epoch 33/200\tTrain loss: 0.5357\tTrain acc: 0.8018\tValid loss: 0.5684\tValid acc: 0.7916\tTime: 10m 16s\t<--\n",
            "Epoch 34/200\tTrain loss: 0.5317\tTrain acc: 0.8029\tValid loss: 0.5557\tValid acc: 0.7947\tTime: 10m 17s\t<--\n",
            "Epoch 35/200\tTrain loss: 0.5273\tTrain acc: 0.8040\tValid loss: 0.5642\tValid acc: 0.7942\tTime: 10m 17s\n",
            "Epoch 36/200\tTrain loss: 0.5234\tTrain acc: 0.8057\tValid loss: 0.5627\tValid acc: 0.7926\tTime: 10m 16s\n",
            "Epoch 37/200\tTrain loss: 0.5188\tTrain acc: 0.8080\tValid loss: 0.5584\tValid acc: 0.7973\tTime: 10m 15s\t<--\n",
            "Epoch 38/200\tTrain loss: 0.5146\tTrain acc: 0.8078\tValid loss: 0.5542\tValid acc: 0.7959\tTime: 10m 15s\n",
            "Epoch 39/200\tTrain loss: 0.5124\tTrain acc: 0.8091\tValid loss: 0.5602\tValid acc: 0.7956\tTime: 10m 15s\n",
            "Epoch 40/200\tTrain loss: 0.5095\tTrain acc: 0.8110\tValid loss: 0.5581\tValid acc: 0.7945\tTime: 10m 15s\n",
            "Epoch 41/200\tTrain loss: 0.5031\tTrain acc: 0.8130\tValid loss: 0.5524\tValid acc: 0.7994\tTime: 10m 16s\t<--\n",
            "Epoch 42/200\tTrain loss: 0.5016\tTrain acc: 0.8132\tValid loss: 0.5557\tValid acc: 0.7989\tTime: 10m 17s\n",
            "Epoch 43/200\tTrain loss: 0.4961\tTrain acc: 0.8156\tValid loss: 0.5573\tValid acc: 0.7970\tTime: 10m 18s\n",
            "Epoch 44/200\tTrain loss: 0.4930\tTrain acc: 0.8175\tValid loss: 0.5481\tValid acc: 0.8010\tTime: 10m 16s\t<--\n",
            "Epoch 45/200\tTrain loss: 0.4885\tTrain acc: 0.8172\tValid loss: 0.5565\tValid acc: 0.7997\tTime: 10m 18s\n",
            "Epoch 46/200\tTrain loss: 0.4843\tTrain acc: 0.8171\tValid loss: 0.5615\tValid acc: 0.7984\tTime: 10m 16s\n",
            "Epoch 47/200\tTrain loss: 0.4798\tTrain acc: 0.8207\tValid loss: 0.5571\tValid acc: 0.7993\tTime: 10m 17s\n",
            "Epoch 48/200\tTrain loss: 0.4763\tTrain acc: 0.8220\tValid loss: 0.5542\tValid acc: 0.8002\tTime: 10m 15s\n",
            "Epoch 49/200\tTrain loss: 0.4726\tTrain acc: 0.8242\tValid loss: 0.5504\tValid acc: 0.8011\tTime: 10m 15s\t<--\n",
            "Epoch 50/200\tTrain loss: 0.4700\tTrain acc: 0.8240\tValid loss: 0.5633\tValid acc: 0.7994\tTime: 10m 17s\n",
            "Epoch 51/200\tTrain loss: 0.4645\tTrain acc: 0.8254\tValid loss: 0.5562\tValid acc: 0.7993\tTime: 10m 15s\n",
            "Epoch 52/200\tTrain loss: 0.4608\tTrain acc: 0.8268\tValid loss: 0.5589\tValid acc: 0.8009\tTime: 10m 16s\n",
            "Epoch 53/200\tTrain loss: 0.4575\tTrain acc: 0.8275\tValid loss: 0.5610\tValid acc: 0.8006\tTime: 10m 18s\n",
            "Epoch 54/200\tTrain loss: 0.4548\tTrain acc: 0.8301\tValid loss: 0.5650\tValid acc: 0.7968\tTime: 10m 19s\n",
            "Epoch 55/200\tTrain loss: 0.4521\tTrain acc: 0.8306\tValid loss: 0.5638\tValid acc: 0.8012\tTime: 10m 15s\t<--\n",
            "Epoch 56/200\tTrain loss: 0.4456\tTrain acc: 0.8318\tValid loss: 0.5664\tValid acc: 0.7973\tTime: 10m 16s\n",
            "Epoch 57/200\tTrain loss: 0.4407\tTrain acc: 0.8340\tValid loss: 0.5650\tValid acc: 0.7989\tTime: 10m 14s\n",
            "Epoch 58/200\tTrain loss: 0.4382\tTrain acc: 0.8347\tValid loss: 0.5595\tValid acc: 0.8013\tTime: 10m 13s\t<--\n",
            "Epoch 59/200\tTrain loss: 0.4382\tTrain acc: 0.8352\tValid loss: 0.5649\tValid acc: 0.8009\tTime: 10m 14s\n",
            "Epoch 60/200\tTrain loss: 0.4331\tTrain acc: 0.8372\tValid loss: 0.5651\tValid acc: 0.7987\tTime: 10m 14s\n",
            "Epoch 61/200\tTrain loss: 0.4272\tTrain acc: 0.8393\tValid loss: 0.5663\tValid acc: 0.8000\tTime: 10m 14s\n",
            "Epoch 62/200\tTrain loss: 0.4249\tTrain acc: 0.8400\tValid loss: 0.5736\tValid acc: 0.7980\tTime: 10m 14s\n",
            "Epoch 63/200\tTrain loss: 0.4197\tTrain acc: 0.8423\tValid loss: 0.5803\tValid acc: 0.7984\tTime: 10m 16s\n",
            "Epoch 64/200\tTrain loss: 0.4147\tTrain acc: 0.8433\tValid loss: 0.5781\tValid acc: 0.7965\tTime: 10m 18s\n",
            "Epoch 65/200\tTrain loss: 0.4142\tTrain acc: 0.8435\tValid loss: 0.5782\tValid acc: 0.7996\tTime: 10m 16s\n",
            "Epoch 66/200\tTrain loss: 0.4074\tTrain acc: 0.8464\tValid loss: 0.5906\tValid acc: 0.7969\tTime: 10m 15s\n",
            "Epoch 67/200\tTrain loss: 0.4043\tTrain acc: 0.8480\tValid loss: 0.5876\tValid acc: 0.7956\tTime: 10m 14s\n",
            "Epoch 68/200\tTrain loss: 0.4009\tTrain acc: 0.8478\tValid loss: 0.5896\tValid acc: 0.7969\tTime: 10m 13s\n",
            "Early stopping... (Model did not improve after 10 epochs)\n",
            "Best epoch = 58, with training accuracy = 0.8347 and validation accuracy = 0.8013\n",
            "files saved as: gz2_vit.pth\n",
            "files saved as: gz2_vit.csv\n",
            "===============================\n"
          ]
        },
        {
          "output_type": "display_data",
          "data": {
            "image/png": "[encoded data removed]",
            "text/plain": [
              "<Figure size 1080x360 with 2 Axes>"
            ]
          },
          "metadata": {
            "needs_background": "light"
          }
        },
        {
          "output_type": "stream",
          "name": "stdout",
          "text": [
            "===============================\n",
            "Test loss: 0.5580\n",
            "Test accuracy: 0.8023\n",
            "===============================\n"
          ]
        }
      ]
    },
    {
      "cell_type": "markdown",
      "metadata": {
        "id": "24SuWB3BnS62"
      },
      "source": [
        "## Copy files to Google Drive"
      ]
    },
    {
      "cell_type": "code",
      "metadata": {
        "colab": {
          "base_uri": "https://localhost:8080/",
          "height": 35
        },
        "id": "OgWXNki2nSMf",
        "outputId": "407aad78-24ea-4b2f-87a5-5d0fa689dfe4"
      },
      "source": [
        "import shutil\n",
        "\n",
        "pth_filename = file_name_to_save + \".pth\"\n",
        "csv_filename = file_name_to_save + \".csv\"\n",
        "\n",
        "shutil.copyfile(pth_filename, os.path.join('drive/MyDrive/gz2_datasets', pth_filename))\n",
        "shutil.copyfile(csv_filename, os.path.join('drive/MyDrive/gz2_datasets', csv_filename))"
      ],
      "execution_count": 12,
      "outputs": [
        {
          "output_type": "execute_result",
          "data": {
            "application/vnd.google.colaboratory.intrinsic+json": {
              "type": "string"
            },
            "text/plain": [
              "'drive/MyDrive/gz2_datasets/gz2_vit.csv'"
            ]
          },
          "metadata": {},
          "execution_count": 12
        }
      ]
    },
    {
      "cell_type": "code",
      "metadata": {
        "id": "FFkWvsfSpgUj"
      },
      "source": [
        ""
      ],
      "execution_count": null,
      "outputs": []
    }
  ]
}